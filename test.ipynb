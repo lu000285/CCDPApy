{
 "cells": [
  {
   "attachments": {},
   "cell_type": "markdown",
   "metadata": {},
   "source": [
    "# Improvements"
   ]
  },
  {
   "attachments": {},
   "cell_type": "markdown",
   "metadata": {},
   "source": [
    "Perfusion<br>\n",
    "Growth rate, and Product, the ratio figure<br>\n",
    "Data export<br>"
   ]
  },
  {
   "attachments": {},
   "cell_type": "markdown",
   "metadata": {},
   "source": [
    "# Import Python Libraries"
   ]
  },
  {
   "cell_type": "code",
   "execution_count": 1,
   "metadata": {},
   "outputs": [],
   "source": [
    "import pandas as pd\n",
    "import numpy as np\n",
    "import plotly.express as px\n",
    "import seaborn as sns\n",
    "import matplotlib.pyplot as plt\n",
    "\n",
    "# from CCDPApy.cell_line import bioprocess_pipeline\n",
    "from CCDPApy import FedBatchParameters, FedBatchCellCulture, FedBatchCellLine, FedBatchExpriment\n",
    "\n",
    "pd.set_option('display.max_columns', 200)\n",
    "\n",
    "from CCDPApy.helper import input_path, split_df"
   ]
  },
  {
   "cell_type": "code",
   "execution_count": 2,
   "metadata": {},
   "outputs": [
    {
     "data": {
      "text/plain": [
       "dict_keys(['Measured Data', 'Feed Concentration', 'Polynomial Degree'])"
      ]
     },
     "execution_count": 2,
     "metadata": {},
     "output_type": "execute_result"
    }
   ],
   "source": [
    "path = input_path('fed_batch_data2.xlsx')\n",
    "sheets = pd.read_excel(path, sheet_name=None)\n",
    "sheets.keys()"
   ]
  },
  {
   "cell_type": "code",
   "execution_count": 3,
   "metadata": {},
   "outputs": [],
   "source": [
    "param_1 = FedBatchParameters(cell_line_name='CL1',\n",
    "                             use_concentration_after_feed=False,\n",
    "                             use_feed_concentration=True,\n",
    "                             regression_method=['polynomial', 'rolling_window_polynomial'],\n",
    "                             rolling_polynomial_degree=3,\n",
    "                             rolling_polynomial_window=6)\n",
    "\n",
    "param_2 = FedBatchParameters(cell_line_name='CL2',\n",
    "                             use_concentration_after_feed=True,\n",
    "                             use_feed_concentration=False,\n",
    "                             regression_method=['polynomial', 'rolling_window_polynomial'],\n",
    "                             rolling_polynomial_degree=3,\n",
    "                             rolling_polynomial_window=6)\n",
    "\n",
    "param_3 = FedBatchParameters(cell_line_name='CL3',\n",
    "                             use_concentration_after_feed=False,\n",
    "                             use_feed_concentration=False,\n",
    "                             regression_method=['polynomial', 'rolling_window_polynomial'],\n",
    "                             rolling_polynomial_degree=3,\n",
    "                             rolling_polynomial_window=6)\n",
    "\n",
    "path = input_path('fed_batch_data2.xlsx')\n",
    "cl_handler = FedBatchCellCulture(parameters=[param_1, param_2,param_3])\n",
    "cl_handler.load_data(file=path)"
   ]
  },
  {
   "cell_type": "code",
   "execution_count": 4,
   "metadata": {},
   "outputs": [
    {
     "data": {
      "text/plain": [
       "dict_keys(['spc_conc_before_feed', 'spc_conc_after_feed', 'spc_feed_conc', 'spc_measured_cumulative_conc', 'exp_data', 'feed_volume', 'conc_before_feed', 'conc_after_feed', 'measured_cumulative_conc', 'feed_conc', 'polynomial_degree_data'])"
      ]
     },
     "execution_count": 4,
     "metadata": {},
     "output_type": "execute_result"
    }
   ],
   "source": [
    "data_set = cl_handler.get_all_data()\n",
    "data_set.keys()"
   ]
  },
  {
   "cell_type": "code",
   "execution_count": 5,
   "metadata": {},
   "outputs": [
    {
     "data": {
      "text/plain": [
       "['11', '12', '13']"
      ]
     },
     "execution_count": 5,
     "metadata": {},
     "output_type": "execute_result"
    }
   ],
   "source": [
    "cl_line_handler = FedBatchCellLine(cell_line_name='CL1', \n",
    "                                              data=data_set,\n",
    "                                              use_feed_conc=True,\n",
    "                                              use_conc_after_feed=False)\n",
    "cl_line_handler.get_experiment_names()"
   ]
  },
  {
   "cell_type": "code",
   "execution_count": 6,
   "metadata": {},
   "outputs": [],
   "source": [
    "#cl_line_handler.in_process()\n",
    "#cl_line_handler.polynomial()"
   ]
  },
  {
   "cell_type": "code",
   "execution_count": 7,
   "metadata": {},
   "outputs": [],
   "source": [
    "data_filtered = cl_line_handler.get_all_data()"
   ]
  },
  {
   "cell_type": "code",
   "execution_count": 8,
   "metadata": {},
   "outputs": [],
   "source": [
    "exp_handler = FedBatchExpriment(cell_line_name='CL1', \n",
    "                                        cell_line_id='13', \n",
    "                                        data=data_filtered,\n",
    "                                        use_feed_conc=True,\n",
    "                                        use_conc_after_feed=False)"
   ]
  },
  {
   "cell_type": "code",
   "execution_count": 9,
   "metadata": {},
   "outputs": [
    {
     "data": {
      "text/plain": [
       "dict_keys(['cell', 'product', 'alanine', 'arginine', 'asparagine', 'aspartate', 'cystine', 'glucose', 'glutamine', 'glutamate', 'glycine', 'histidine', 'isoleucine', 'lactate', 'leucine', 'lysine', 'methionine', 'nh3', 'phenylalanine', 'proline', 'serine', 'threonine', 'tryptophan', 'tyrosine', 'valine', 'ethanolamine'])"
      ]
     },
     "execution_count": 9,
     "metadata": {},
     "output_type": "execute_result"
    }
   ],
   "source": [
    "exp_handler.get_species('all').keys()"
   ]
  },
  {
   "cell_type": "code",
   "execution_count": 10,
   "metadata": {},
   "outputs": [],
   "source": [
    "cell = exp_handler.get_species('cell')\n",
    "igg = exp_handler.get_species('product')\n",
    "spc = exp_handler.get_species('glucose')"
   ]
  },
  {
   "cell_type": "code",
   "execution_count": 11,
   "metadata": {},
   "outputs": [],
   "source": [
    "exp_handler.in_process()"
   ]
  },
  {
   "cell_type": "code",
   "execution_count": 12,
   "metadata": {},
   "outputs": [
    {
     "data": {
      "text/html": [
       "<div>\n",
       "<style scoped>\n",
       "    .dataframe tbody tr th:only-of-type {\n",
       "        vertical-align: middle;\n",
       "    }\n",
       "\n",
       "    .dataframe tbody tr th {\n",
       "        vertical-align: top;\n",
       "    }\n",
       "\n",
       "    .dataframe thead th {\n",
       "        text-align: right;\n",
       "    }\n",
       "</style>\n",
       "<table border=\"1\" class=\"dataframe\">\n",
       "  <thead>\n",
       "    <tr style=\"text-align: right;\">\n",
       "      <th></th>\n",
       "      <th>Run Time (day)</th>\n",
       "      <th>Run Time (hr)</th>\n",
       "      <th>value</th>\n",
       "      <th>unit</th>\n",
       "      <th>method</th>\n",
       "    </tr>\n",
       "  </thead>\n",
       "  <tbody>\n",
       "    <tr>\n",
       "      <th>0</th>\n",
       "      <td>0</td>\n",
       "      <td>0.000000</td>\n",
       "      <td>0.000000</td>\n",
       "      <td>(10^6 cells)</td>\n",
       "      <td>twoPoint</td>\n",
       "    </tr>\n",
       "    <tr>\n",
       "      <th>1</th>\n",
       "      <td>0</td>\n",
       "      <td>23.933333</td>\n",
       "      <td>NaN</td>\n",
       "      <td>(10^6 cells)</td>\n",
       "      <td>twoPoint</td>\n",
       "    </tr>\n",
       "    <tr>\n",
       "      <th>2</th>\n",
       "      <td>1</td>\n",
       "      <td>38.616667</td>\n",
       "      <td>49.769500</td>\n",
       "      <td>(10^6 cells)</td>\n",
       "      <td>twoPoint</td>\n",
       "    </tr>\n",
       "    <tr>\n",
       "      <th>3</th>\n",
       "      <td>1</td>\n",
       "      <td>47.800000</td>\n",
       "      <td>101.079500</td>\n",
       "      <td>(10^6 cells)</td>\n",
       "      <td>twoPoint</td>\n",
       "    </tr>\n",
       "    <tr>\n",
       "      <th>4</th>\n",
       "      <td>2</td>\n",
       "      <td>62.716667</td>\n",
       "      <td>NaN</td>\n",
       "      <td>(10^6 cells)</td>\n",
       "      <td>twoPoint</td>\n",
       "    </tr>\n",
       "    <tr>\n",
       "      <th>5</th>\n",
       "      <td>3</td>\n",
       "      <td>72.283333</td>\n",
       "      <td>NaN</td>\n",
       "      <td>(10^6 cells)</td>\n",
       "      <td>twoPoint</td>\n",
       "    </tr>\n",
       "    <tr>\n",
       "      <th>6</th>\n",
       "      <td>4</td>\n",
       "      <td>96.100000</td>\n",
       "      <td>603.746250</td>\n",
       "      <td>(10^6 cells)</td>\n",
       "      <td>twoPoint</td>\n",
       "    </tr>\n",
       "    <tr>\n",
       "      <th>7</th>\n",
       "      <td>5</td>\n",
       "      <td>121.400000</td>\n",
       "      <td>1185.885238</td>\n",
       "      <td>(10^6 cells)</td>\n",
       "      <td>twoPoint</td>\n",
       "    </tr>\n",
       "    <tr>\n",
       "      <th>8</th>\n",
       "      <td>5</td>\n",
       "      <td>143.966667</td>\n",
       "      <td>1347.088853</td>\n",
       "      <td>(10^6 cells)</td>\n",
       "      <td>twoPoint</td>\n",
       "    </tr>\n",
       "    <tr>\n",
       "      <th>9</th>\n",
       "      <td>6</td>\n",
       "      <td>167.633333</td>\n",
       "      <td>NaN</td>\n",
       "      <td>(10^6 cells)</td>\n",
       "      <td>twoPoint</td>\n",
       "    </tr>\n",
       "    <tr>\n",
       "      <th>10</th>\n",
       "      <td>8</td>\n",
       "      <td>192.466667</td>\n",
       "      <td>1306.401945</td>\n",
       "      <td>(10^6 cells)</td>\n",
       "      <td>twoPoint</td>\n",
       "    </tr>\n",
       "    <tr>\n",
       "      <th>11</th>\n",
       "      <td>8</td>\n",
       "      <td>215.883333</td>\n",
       "      <td>NaN</td>\n",
       "      <td>(10^6 cells)</td>\n",
       "      <td>twoPoint</td>\n",
       "    </tr>\n",
       "    <tr>\n",
       "      <th>12</th>\n",
       "      <td>9</td>\n",
       "      <td>233.733333</td>\n",
       "      <td>1205.398580</td>\n",
       "      <td>(10^6 cells)</td>\n",
       "      <td>twoPoint</td>\n",
       "    </tr>\n",
       "  </tbody>\n",
       "</table>\n",
       "</div>"
      ],
      "text/plain": [
       "    Run Time (day)  Run Time (hr)        value          unit    method\n",
       "0                0       0.000000     0.000000  (10^6 cells)  twoPoint\n",
       "1                0      23.933333          NaN  (10^6 cells)  twoPoint\n",
       "2                1      38.616667    49.769500  (10^6 cells)  twoPoint\n",
       "3                1      47.800000   101.079500  (10^6 cells)  twoPoint\n",
       "4                2      62.716667          NaN  (10^6 cells)  twoPoint\n",
       "5                3      72.283333          NaN  (10^6 cells)  twoPoint\n",
       "6                4      96.100000   603.746250  (10^6 cells)  twoPoint\n",
       "7                5     121.400000  1185.885238  (10^6 cells)  twoPoint\n",
       "8                5     143.966667  1347.088853  (10^6 cells)  twoPoint\n",
       "9                6     167.633333          NaN  (10^6 cells)  twoPoint\n",
       "10               8     192.466667  1306.401945  (10^6 cells)  twoPoint\n",
       "11               8     215.883333          NaN  (10^6 cells)  twoPoint\n",
       "12               9     233.733333  1205.398580  (10^6 cells)  twoPoint"
      ]
     },
     "execution_count": 12,
     "metadata": {},
     "output_type": "execute_result"
    }
   ],
   "source": [
    "cell.cumulative_conc"
   ]
  },
  {
   "cell_type": "code",
   "execution_count": 13,
   "metadata": {},
   "outputs": [],
   "source": [
    "exp_handler.polynomial()"
   ]
  },
  {
   "cell_type": "code",
   "execution_count": 14,
   "metadata": {},
   "outputs": [],
   "source": [
    "exp_handler.rolling_window_polynomial(degree=3, window=6)"
   ]
  },
  {
   "cell_type": "code",
   "execution_count": 18,
   "metadata": {},
   "outputs": [
    {
     "data": {
      "text/html": [
       "<div>\n",
       "<style scoped>\n",
       "    .dataframe tbody tr th:only-of-type {\n",
       "        vertical-align: middle;\n",
       "    }\n",
       "\n",
       "    .dataframe tbody tr th {\n",
       "        vertical-align: top;\n",
       "    }\n",
       "\n",
       "    .dataframe thead th {\n",
       "        text-align: right;\n",
       "    }\n",
       "</style>\n",
       "<table border=\"1\" class=\"dataframe\">\n",
       "  <thead>\n",
       "    <tr style=\"text-align: right;\">\n",
       "      <th></th>\n",
       "      <th>Run Time (day)</th>\n",
       "      <th>Run Time (hr)</th>\n",
       "      <th>value</th>\n",
       "      <th>unit</th>\n",
       "      <th>method</th>\n",
       "      <th>degree</th>\n",
       "      <th>window</th>\n",
       "    </tr>\n",
       "  </thead>\n",
       "  <tbody>\n",
       "    <tr>\n",
       "      <th>0</th>\n",
       "      <td>0.5</td>\n",
       "      <td>19.308333</td>\n",
       "      <td>0.258028</td>\n",
       "      <td>(mmol/10^9 cells/hr)</td>\n",
       "      <td>rollingWindowPolynomial</td>\n",
       "      <td>3</td>\n",
       "      <td>6</td>\n",
       "    </tr>\n",
       "    <tr>\n",
       "      <th>1</th>\n",
       "      <td>1.0</td>\n",
       "      <td>43.208333</td>\n",
       "      <td>0.092963</td>\n",
       "      <td>(mmol/10^9 cells/hr)</td>\n",
       "      <td>rollingWindowPolynomial</td>\n",
       "      <td>3</td>\n",
       "      <td>6</td>\n",
       "    </tr>\n",
       "    <tr>\n",
       "      <th>2</th>\n",
       "      <td>2.5</td>\n",
       "      <td>71.950000</td>\n",
       "      <td>0.033558</td>\n",
       "      <td>(mmol/10^9 cells/hr)</td>\n",
       "      <td>rollingWindowPolynomial</td>\n",
       "      <td>3</td>\n",
       "      <td>6</td>\n",
       "    </tr>\n",
       "    <tr>\n",
       "      <th>3</th>\n",
       "      <td>4.5</td>\n",
       "      <td>108.750000</td>\n",
       "      <td>0.035905</td>\n",
       "      <td>(mmol/10^9 cells/hr)</td>\n",
       "      <td>rollingWindowPolynomial</td>\n",
       "      <td>3</td>\n",
       "      <td>6</td>\n",
       "    </tr>\n",
       "    <tr>\n",
       "      <th>4</th>\n",
       "      <td>5.0</td>\n",
       "      <td>132.683333</td>\n",
       "      <td>0.028672</td>\n",
       "      <td>(mmol/10^9 cells/hr)</td>\n",
       "      <td>rollingWindowPolynomial</td>\n",
       "      <td>3</td>\n",
       "      <td>6</td>\n",
       "    </tr>\n",
       "    <tr>\n",
       "      <th>5</th>\n",
       "      <td>6.5</td>\n",
       "      <td>168.216667</td>\n",
       "      <td>0.024325</td>\n",
       "      <td>(mmol/10^9 cells/hr)</td>\n",
       "      <td>rollingWindowPolynomial</td>\n",
       "      <td>3</td>\n",
       "      <td>6</td>\n",
       "    </tr>\n",
       "    <tr>\n",
       "      <th>6</th>\n",
       "      <td>8.5</td>\n",
       "      <td>213.100000</td>\n",
       "      <td>0.015527</td>\n",
       "      <td>(mmol/10^9 cells/hr)</td>\n",
       "      <td>rollingWindowPolynomial</td>\n",
       "      <td>3</td>\n",
       "      <td>6</td>\n",
       "    </tr>\n",
       "  </tbody>\n",
       "</table>\n",
       "</div>"
      ],
      "text/plain": [
       "   Run Time (day)  Run Time (hr)     value                  unit  \\\n",
       "0             0.5      19.308333  0.258028  (mmol/10^9 cells/hr)   \n",
       "1             1.0      43.208333  0.092963  (mmol/10^9 cells/hr)   \n",
       "2             2.5      71.950000  0.033558  (mmol/10^9 cells/hr)   \n",
       "3             4.5     108.750000  0.035905  (mmol/10^9 cells/hr)   \n",
       "4             5.0     132.683333  0.028672  (mmol/10^9 cells/hr)   \n",
       "5             6.5     168.216667  0.024325  (mmol/10^9 cells/hr)   \n",
       "6             8.5     213.100000  0.015527  (mmol/10^9 cells/hr)   \n",
       "\n",
       "                    method  degree  window  \n",
       "0  rollingWindowPolynomial       3       6  \n",
       "1  rollingWindowPolynomial       3       6  \n",
       "2  rollingWindowPolynomial       3       6  \n",
       "3  rollingWindowPolynomial       3       6  \n",
       "4  rollingWindowPolynomial       3       6  \n",
       "5  rollingWindowPolynomial       3       6  \n",
       "6  rollingWindowPolynomial       3       6  "
      ]
     },
     "execution_count": 18,
     "metadata": {},
     "output_type": "execute_result"
    }
   ],
   "source": [
    "spc.sp_rate_rolling"
   ]
  },
  {
   "cell_type": "code",
   "execution_count": 16,
   "metadata": {},
   "outputs": [
    {
     "data": {
      "text/html": [
       "<div>\n",
       "<style scoped>\n",
       "    .dataframe tbody tr th:only-of-type {\n",
       "        vertical-align: middle;\n",
       "    }\n",
       "\n",
       "    .dataframe tbody tr th {\n",
       "        vertical-align: top;\n",
       "    }\n",
       "\n",
       "    .dataframe thead th {\n",
       "        text-align: right;\n",
       "    }\n",
       "</style>\n",
       "<table border=\"1\" class=\"dataframe\">\n",
       "  <thead>\n",
       "    <tr style=\"text-align: right;\">\n",
       "      <th></th>\n",
       "      <th>Run Time (day)</th>\n",
       "      <th>Run Time (hr)</th>\n",
       "      <th>value</th>\n",
       "      <th>unit</th>\n",
       "      <th>method</th>\n",
       "      <th>degree</th>\n",
       "    </tr>\n",
       "  </thead>\n",
       "  <tbody>\n",
       "    <tr>\n",
       "      <th>0</th>\n",
       "      <td>0</td>\n",
       "      <td>0.000000</td>\n",
       "      <td>NaN</td>\n",
       "      <td>(mmol/10^9 cells/hr)</td>\n",
       "      <td>polynomial</td>\n",
       "      <td>4</td>\n",
       "    </tr>\n",
       "    <tr>\n",
       "      <th>1</th>\n",
       "      <td>0</td>\n",
       "      <td>23.933333</td>\n",
       "      <td>NaN</td>\n",
       "      <td>(mmol/10^9 cells/hr)</td>\n",
       "      <td>polynomial</td>\n",
       "      <td>4</td>\n",
       "    </tr>\n",
       "    <tr>\n",
       "      <th>2</th>\n",
       "      <td>1</td>\n",
       "      <td>38.616667</td>\n",
       "      <td>0.139871</td>\n",
       "      <td>(mmol/10^9 cells/hr)</td>\n",
       "      <td>polynomial</td>\n",
       "      <td>4</td>\n",
       "    </tr>\n",
       "    <tr>\n",
       "      <th>3</th>\n",
       "      <td>1</td>\n",
       "      <td>47.800000</td>\n",
       "      <td>0.088628</td>\n",
       "      <td>(mmol/10^9 cells/hr)</td>\n",
       "      <td>polynomial</td>\n",
       "      <td>4</td>\n",
       "    </tr>\n",
       "    <tr>\n",
       "      <th>4</th>\n",
       "      <td>2</td>\n",
       "      <td>62.716667</td>\n",
       "      <td>NaN</td>\n",
       "      <td>(mmol/10^9 cells/hr)</td>\n",
       "      <td>polynomial</td>\n",
       "      <td>4</td>\n",
       "    </tr>\n",
       "    <tr>\n",
       "      <th>5</th>\n",
       "      <td>3</td>\n",
       "      <td>72.283333</td>\n",
       "      <td>NaN</td>\n",
       "      <td>(mmol/10^9 cells/hr)</td>\n",
       "      <td>polynomial</td>\n",
       "      <td>4</td>\n",
       "    </tr>\n",
       "    <tr>\n",
       "      <th>6</th>\n",
       "      <td>4</td>\n",
       "      <td>96.100000</td>\n",
       "      <td>0.036193</td>\n",
       "      <td>(mmol/10^9 cells/hr)</td>\n",
       "      <td>polynomial</td>\n",
       "      <td>4</td>\n",
       "    </tr>\n",
       "    <tr>\n",
       "      <th>7</th>\n",
       "      <td>5</td>\n",
       "      <td>121.400000</td>\n",
       "      <td>0.024518</td>\n",
       "      <td>(mmol/10^9 cells/hr)</td>\n",
       "      <td>polynomial</td>\n",
       "      <td>4</td>\n",
       "    </tr>\n",
       "    <tr>\n",
       "      <th>8</th>\n",
       "      <td>5</td>\n",
       "      <td>143.966667</td>\n",
       "      <td>0.028084</td>\n",
       "      <td>(mmol/10^9 cells/hr)</td>\n",
       "      <td>polynomial</td>\n",
       "      <td>4</td>\n",
       "    </tr>\n",
       "    <tr>\n",
       "      <th>9</th>\n",
       "      <td>6</td>\n",
       "      <td>167.633333</td>\n",
       "      <td>NaN</td>\n",
       "      <td>(mmol/10^9 cells/hr)</td>\n",
       "      <td>polynomial</td>\n",
       "      <td>4</td>\n",
       "    </tr>\n",
       "    <tr>\n",
       "      <th>10</th>\n",
       "      <td>8</td>\n",
       "      <td>192.466667</td>\n",
       "      <td>0.024032</td>\n",
       "      <td>(mmol/10^9 cells/hr)</td>\n",
       "      <td>polynomial</td>\n",
       "      <td>4</td>\n",
       "    </tr>\n",
       "    <tr>\n",
       "      <th>11</th>\n",
       "      <td>8</td>\n",
       "      <td>215.883333</td>\n",
       "      <td>NaN</td>\n",
       "      <td>(mmol/10^9 cells/hr)</td>\n",
       "      <td>polynomial</td>\n",
       "      <td>4</td>\n",
       "    </tr>\n",
       "    <tr>\n",
       "      <th>12</th>\n",
       "      <td>9</td>\n",
       "      <td>233.733333</td>\n",
       "      <td>-0.004671</td>\n",
       "      <td>(mmol/10^9 cells/hr)</td>\n",
       "      <td>polynomial</td>\n",
       "      <td>4</td>\n",
       "    </tr>\n",
       "  </tbody>\n",
       "</table>\n",
       "</div>"
      ],
      "text/plain": [
       "    Run Time (day)  Run Time (hr)     value                  unit      method  \\\n",
       "0                0       0.000000       NaN  (mmol/10^9 cells/hr)  polynomial   \n",
       "1                0      23.933333       NaN  (mmol/10^9 cells/hr)  polynomial   \n",
       "2                1      38.616667  0.139871  (mmol/10^9 cells/hr)  polynomial   \n",
       "3                1      47.800000  0.088628  (mmol/10^9 cells/hr)  polynomial   \n",
       "4                2      62.716667       NaN  (mmol/10^9 cells/hr)  polynomial   \n",
       "5                3      72.283333       NaN  (mmol/10^9 cells/hr)  polynomial   \n",
       "6                4      96.100000  0.036193  (mmol/10^9 cells/hr)  polynomial   \n",
       "7                5     121.400000  0.024518  (mmol/10^9 cells/hr)  polynomial   \n",
       "8                5     143.966667  0.028084  (mmol/10^9 cells/hr)  polynomial   \n",
       "9                6     167.633333       NaN  (mmol/10^9 cells/hr)  polynomial   \n",
       "10               8     192.466667  0.024032  (mmol/10^9 cells/hr)  polynomial   \n",
       "11               8     215.883333       NaN  (mmol/10^9 cells/hr)  polynomial   \n",
       "12               9     233.733333 -0.004671  (mmol/10^9 cells/hr)  polynomial   \n",
       "\n",
       "    degree  \n",
       "0        4  \n",
       "1        4  \n",
       "2        4  \n",
       "3        4  \n",
       "4        4  \n",
       "5        4  \n",
       "6        4  \n",
       "7        4  \n",
       "8        4  \n",
       "9        4  \n",
       "10       4  \n",
       "11       4  \n",
       "12       4  "
      ]
     },
     "execution_count": 16,
     "metadata": {},
     "output_type": "execute_result"
    }
   ],
   "source": [
    "spc.sp_rate_poly"
   ]
  },
  {
   "cell_type": "code",
   "execution_count": null,
   "metadata": {},
   "outputs": [],
   "source": [
    "exp_handler.in_process()\n",
    "exp_handler.polynomial()\n"
   ]
  },
  {
   "cell_type": "code",
   "execution_count": null,
   "metadata": {},
   "outputs": [],
   "source": [
    "exp_handler.get_conc_before_feed()"
   ]
  },
  {
   "cell_type": "code",
   "execution_count": null,
   "metadata": {},
   "outputs": [],
   "source": [
    "s = exp_handler.get_species('glucose')\n",
    "c = s.cumulative_conc['value'].values\n",
    "t = s.run_time_hour"
   ]
  },
  {
   "cell_type": "code",
   "execution_count": null,
   "metadata": {},
   "outputs": [],
   "source": [
    "s.conc"
   ]
  },
  {
   "cell_type": "code",
   "execution_count": null,
   "metadata": {},
   "outputs": [],
   "source": [
    "s.growth_rate"
   ]
  },
  {
   "cell_type": "code",
   "execution_count": null,
   "metadata": {},
   "outputs": [],
   "source": [
    "s.measurement_index"
   ]
  },
  {
   "cell_type": "code",
   "execution_count": null,
   "metadata": {},
   "outputs": [],
   "source": [
    "s.conc_before_feed"
   ]
  },
  {
   "cell_type": "code",
   "execution_count": null,
   "metadata": {},
   "outputs": [],
   "source": [
    "s.sp_rate"
   ]
  },
  {
   "cell_type": "code",
   "execution_count": null,
   "metadata": {},
   "outputs": [],
   "source": [
    "s.volume_before_sampling"
   ]
  },
  {
   "cell_type": "code",
   "execution_count": null,
   "metadata": {},
   "outputs": [],
   "source": [
    "from CCDPApy.helper import create_col_indices, split_name_unit"
   ]
  },
  {
   "cell_type": "code",
   "execution_count": null,
   "metadata": {},
   "outputs": [],
   "source": [
    "exp_handler.get_conc_after_feed().shape"
   ]
  },
  {
   "cell_type": "code",
   "execution_count": null,
   "metadata": {},
   "outputs": [],
   "source": [
    "a = exp_handler.get_measured_cumulative_conc()\n",
    "create_col_indices(a)"
   ]
  },
  {
   "cell_type": "code",
   "execution_count": null,
   "metadata": {},
   "outputs": [],
   "source": [
    "a.columns"
   ]
  },
  {
   "cell_type": "code",
   "execution_count": null,
   "metadata": {},
   "outputs": [],
   "source": [
    "column_indices = {}\n",
    "for i, col in enumerate(a.columns):\n",
    "    name, unit = split_name_unit(col)\n",
    "    print(i, name)\n",
    "    column_indices[name] = {'index': i, 'unit': unit}"
   ]
  },
  {
   "cell_type": "code",
   "execution_count": null,
   "metadata": {},
   "outputs": [],
   "source": [
    "a.shape"
   ]
  },
  {
   "cell_type": "code",
   "execution_count": null,
   "metadata": {},
   "outputs": [],
   "source": [
    "a.head()"
   ]
  },
  {
   "cell_type": "code",
   "execution_count": null,
   "metadata": {},
   "outputs": [],
   "source": [
    "a.iloc[:, 28]"
   ]
  },
  {
   "cell_type": "code",
   "execution_count": null,
   "metadata": {},
   "outputs": [],
   "source": [
    "exp_handler.cumulative_cell_production"
   ]
  },
  {
   "cell_type": "code",
   "execution_count": null,
   "metadata": {},
   "outputs": [],
   "source": [
    "exp_handler.polynomial()"
   ]
  },
  {
   "cell_type": "code",
   "execution_count": null,
   "metadata": {},
   "outputs": [],
   "source": [
    "exp_handler.integral_viable_cell_conc"
   ]
  },
  {
   "cell_type": "code",
   "execution_count": null,
   "metadata": {},
   "outputs": [],
   "source": [
    "exp_handler.growth_rate"
   ]
  },
  {
   "cell_type": "code",
   "execution_count": null,
   "metadata": {},
   "outputs": [],
   "source": [
    "exp_handler.cumulative_conc"
   ]
  },
  {
   "cell_type": "code",
   "execution_count": null,
   "metadata": {},
   "outputs": [],
   "source": [
    "spc = exp_handler.get_species('glutamine')\n",
    "spc.sp_rate"
   ]
  },
  {
   "cell_type": "code",
   "execution_count": null,
   "metadata": {},
   "outputs": [],
   "source": [
    "exp_handler.conc"
   ]
  },
  {
   "cell_type": "code",
   "execution_count": null,
   "metadata": {},
   "outputs": [],
   "source": [
    "exp_handler.cumulative_conc"
   ]
  },
  {
   "cell_type": "code",
   "execution_count": null,
   "metadata": {},
   "outputs": [],
   "source": [
    "exp_handler.sp_rate"
   ]
  },
  {
   "cell_type": "code",
   "execution_count": null,
   "metadata": {},
   "outputs": [],
   "source": [
    "spc.polynomial(deg=3)"
   ]
  },
  {
   "cell_type": "code",
   "execution_count": null,
   "metadata": {},
   "outputs": [],
   "source": [
    "data1 = spc.cumulative_conc_poly\n",
    "data2 = spc.cumulative_conc\n",
    "sns.lineplot(data=data1, x='Run Time (day)', y='value')\n",
    "sns.scatterplot(data=data2, x='Run Time (day)', y='value')\n",
    "plt.show()"
   ]
  },
  {
   "cell_type": "code",
   "execution_count": null,
   "metadata": {},
   "outputs": [],
   "source": [
    "spc.sp_rate_poly['value']"
   ]
  },
  {
   "cell_type": "code",
   "execution_count": null,
   "metadata": {},
   "outputs": [],
   "source": [
    "idx = spc.measurement_index\n",
    "t = spc.run_time_hour[idx]\n",
    "s = spc.cumulative_conc['value'].values[idx]\n",
    "deg = 4\n",
    "poly_func = np.poly1d(np.polyfit(x=t, y=s, deg=deg))\n",
    "poly_func"
   ]
  },
  {
   "cell_type": "code",
   "execution_count": null,
   "metadata": {},
   "outputs": [],
   "source": [
    "poly_deriv = poly_func.deriv()\n",
    "y = poly_deriv(spc.run_time_hour)\n",
    "xv = spc.viable_cell_conc['value'].values\n",
    "v = spc.volume_before_sampling\n",
    "y / (xv * v) * 1000"
   ]
  },
  {
   "cell_type": "code",
   "execution_count": null,
   "metadata": {},
   "outputs": [],
   "source": [
    "\n",
    "0.044170892\n",
    "0.033420916\n",
    "0.024387564\n",
    "0.018535344\n",
    "0.012786592\n",
    "0.007218002\n",
    "0.005092897\n",
    "0.002941554\n",
    "0.001030772\n",
    "-0.000441458\n",
    "-0.00074635\n",
    "0.000949806\n",
    "0.004161749\n",
    "0.012702173"
   ]
  },
  {
   "cell_type": "code",
   "execution_count": null,
   "metadata": {},
   "outputs": [],
   "source": [
    "poly_func(spc.run_time_hour)"
   ]
  },
  {
   "cell_type": "code",
   "execution_count": null,
   "metadata": {},
   "outputs": [],
   "source": [
    "spc.cumulative_conc_poly['value']"
   ]
  },
  {
   "cell_type": "code",
   "execution_count": null,
   "metadata": {},
   "outputs": [],
   "source": [
    "spc.sp_rate_poly['value']"
   ]
  },
  {
   "cell_type": "code",
   "execution_count": null,
   "metadata": {},
   "outputs": [],
   "source": [
    "\n",
    "0.044170892\n",
    "0.033420916\n",
    "0.024387564\n",
    "0.018535344\n",
    "0.012786592\n",
    "0.007218002\n",
    "0.005092897\n",
    "0.002941554\n",
    "0.001030772\n",
    "-0.000441458\n",
    "-0.00074635\n",
    "0.000949806\n",
    "0.004161749\n",
    "0.012702173"
   ]
  },
  {
   "cell_type": "code",
   "execution_count": null,
   "metadata": {},
   "outputs": [],
   "source": [
    "exp_handler.get_measured_data().head()"
   ]
  },
  {
   "cell_type": "code",
   "execution_count": null,
   "metadata": {},
   "outputs": [],
   "source": [
    "cell = exp_handler.get_species(species='cell')\n",
    "cell.in_process()"
   ]
  },
  {
   "cell_type": "code",
   "execution_count": null,
   "metadata": {},
   "outputs": [],
   "source": [
    "cell.sp_rate"
   ]
  },
  {
   "cell_type": "code",
   "execution_count": null,
   "metadata": {},
   "outputs": [],
   "source": [
    "igg = exp_handler.get_species(species='product')\n",
    "igg.in_process()\n",
    "igg.sp_rate"
   ]
  },
  {
   "cell_type": "code",
   "execution_count": null,
   "metadata": {},
   "outputs": [],
   "source": [
    "glt = exp_handler.get_species(species='glucose')\n",
    "glt.in_process(True, False)"
   ]
  },
  {
   "cell_type": "code",
   "execution_count": null,
   "metadata": {},
   "outputs": [],
   "source": [
    "glt.sp_rate"
   ]
  },
  {
   "attachments": {},
   "cell_type": "markdown",
   "metadata": {},
   "source": [
    "# MeasuredData Class Test"
   ]
  },
  {
   "attachments": {},
   "cell_type": "markdown",
   "metadata": {},
   "source": [
    "## Cell Line 1"
   ]
  },
  {
   "cell_type": "code",
   "execution_count": null,
   "metadata": {},
   "outputs": [],
   "source": [
    "from CCDPApy.MeasuredData.Fed_batch.MeasuredData import MeasuredData\n",
    "from CCDPApy.helper.helper import input_path\n",
    "\n",
    "# Read all sheets into a dictionary\n",
    "file_path = input_path('CL1.xlsx')\n",
    "sheets_dict = pd.read_excel(file_path, sheet_name=None)\n",
    "\n",
    "for sheet_name, df in sheets_dict.items():\n",
    "    md = MeasuredData(data=df)"
   ]
  },
  {
   "cell_type": "code",
   "execution_count": null,
   "metadata": {},
   "outputs": [],
   "source": [
    "from CCDPApy.helper import create_col_indices\n",
    "create_col_indices(md.separate_feed_df)"
   ]
  },
  {
   "cell_type": "code",
   "execution_count": null,
   "metadata": {},
   "outputs": [],
   "source": [
    "md.separate_feed_df.iloc[:, 0]"
   ]
  },
  {
   "cell_type": "code",
   "execution_count": null,
   "metadata": {},
   "outputs": [],
   "source": [
    "\n",
    "\n",
    "a = create_col_indices(md.conc_before_feed_df)\n",
    "b = create_col_indices(md.conc_after_feed_df)\n",
    "c = create_col_indices(md.feed_conc_df)\n",
    "d = create_col_indices(md.measured_cumulative_conc_df)"
   ]
  },
  {
   "cell_type": "code",
   "execution_count": null,
   "metadata": {},
   "outputs": [],
   "source": [
    "a.keys() == b.keys() and a.keys() == c.keys() and a.keys() == d.keys()\n"
   ]
  },
  {
   "cell_type": "code",
   "execution_count": null,
   "metadata": {},
   "outputs": [],
   "source": [
    "from CCDPApy.MeasuredData.MeasuredData import MeasuredData\n",
    "\n",
    "f1 = ['CL1_1.xlsx', 'CL1_2.xlsx', 'CL1_3.xlsx']\n",
    "for file in f1:\n",
    "    print(f'Tesinting MeasuredData Class for {file}.')\n",
    "    md = MeasuredData(file_name=file, \n",
    "                      measurement_sheet='Measured Data',\n",
    "                      feed_sheet='Separate Feed Info')\n",
    "    md.run_time()\n",
    "    print(\"Complete run_time() method.\")\n",
    "    md.culture_volume()\n",
    "    print(\"Complete culture_volume() method.\")\n",
    "    md.get_pre_data()"
   ]
  },
  {
   "cell_type": "code",
   "execution_count": null,
   "metadata": {},
   "outputs": [],
   "source": [
    "md.get_pre_data().head()"
   ]
  },
  {
   "attachments": {},
   "cell_type": "markdown",
   "metadata": {},
   "source": [
    "## Cell Line 2"
   ]
  },
  {
   "cell_type": "code",
   "execution_count": null,
   "metadata": {},
   "outputs": [],
   "source": [
    "from CCDPApy.MeasuredData.MeasuredData import MeasuredData\n",
    "f2 = ['CL2_1.xlsx', 'CL2_2.xlsx', 'CL2_3.xlsx']\n",
    "for file in f2:\n",
    "    print(f'Tesinting MeasuredData Class for {file}.')\n",
    "    md = MeasuredData(file_name=file, \n",
    "                      measurement_sheet='Measured Data',\n",
    "                      feed_sheet='Separate Feed Info')\n",
    "    md.run_time()\n",
    "    print(\"Complete run_time() method.\")\n",
    "    md.culture_volume()\n",
    "    print(\"Complete culture_volume() method.\")\n",
    "    md.get_pre_data()"
   ]
  },
  {
   "cell_type": "code",
   "execution_count": null,
   "metadata": {},
   "outputs": [],
   "source": [
    "md.get_pre_data()"
   ]
  },
  {
   "attachments": {},
   "cell_type": "markdown",
   "metadata": {},
   "source": [
    "## Cell Line 3"
   ]
  },
  {
   "cell_type": "code",
   "execution_count": null,
   "metadata": {},
   "outputs": [],
   "source": [
    "f3 = ['CL3_1.xlsx', 'CL3_2.xlsx', 'CL3_3.xlsx']\n",
    "\n",
    "for file in f3:\n",
    "    print(f'Tesinting MeasuredData Class for {file}.')\n",
    "    md = MeasuredData(file_name=file, \n",
    "                      measurement_sheet='Measured Data',\n",
    "                      feed_sheet='Separate Feed Info')\n",
    "    md.run_time()\n",
    "    print(\"Complete run_time() method.\")\n",
    "    md.culture_volume()\n",
    "    print(\"Complete culture_volume() method.\")\n",
    "    md.get_pre_data()"
   ]
  },
  {
   "cell_type": "code",
   "execution_count": null,
   "metadata": {},
   "outputs": [],
   "source": [
    "md.get_pre_data()"
   ]
  },
  {
   "attachments": {},
   "cell_type": "markdown",
   "metadata": {},
   "source": [
    "# BioProcess Class Test"
   ]
  },
  {
   "attachments": {},
   "cell_type": "markdown",
   "metadata": {},
   "source": [
    "## In-Process"
   ]
  },
  {
   "attachments": {},
   "cell_type": "markdown",
   "metadata": {},
   "source": [
    "In in-process, the cumulative concentration will be calculated, <br>\n",
    "and then specific rate will be calculated using the two-point calculation."
   ]
  },
  {
   "attachments": {},
   "cell_type": "markdown",
   "metadata": {},
   "source": [
    "### Cell Line 1"
   ]
  },
  {
   "attachments": {},
   "cell_type": "markdown",
   "metadata": {},
   "source": [
    "There are the measurements of the feed concentration <br>\n",
    "There are NOT measuremeents of the concentraion after feeding"
   ]
  },
  {
   "cell_type": "code",
   "execution_count": null,
   "metadata": {},
   "outputs": [],
   "source": [
    "from CCDPApy.cell_line.Fed_batch import BioProcess"
   ]
  },
  {
   "cell_type": "code",
   "execution_count": null,
   "metadata": {},
   "outputs": [],
   "source": [
    "from CCDPApy.cell_line.Fed_batch import BioProcess\n",
    "\n",
    "files = ['CL1_1.xlsx', 'CL1_2.xlsx', 'CL1_3.xlsx']\n",
    "#spc = ['Glucose','Lactate','Glutamine','Asparagine','Aspartate']\n",
    "\n",
    "feed_concentration = True\n",
    "concentration_after_feed = False\n",
    "\n",
    "cell_line_1 = {}\n",
    "for input_file in files:\n",
    "    print(f'Tesinting BioProcess Class for {input_file}.')\n",
    "    bio_process = BioProcess(file_name=input_file,\n",
    "                             #spc_list=spc,\n",
    "                             #new_spc_list=['new'],\n",
    "                             )\n",
    "    bio_process.in_process(feed_concentration=feed_concentration, \n",
    "                           concentration_after_feed=concentration_after_feed)\n",
    "    print(f'Complete In-Process.')\n",
    "    cell_line_1[input_file.split('.')[0]] = bio_process\n",
    "    \n",
    "cell_line_1.keys()\n",
    "exp_list = ['CL1_1', 'CL1_2', 'CL1_3']\n",
    "exp = exp_list[0]"
   ]
  },
  {
   "attachments": {},
   "cell_type": "markdown",
   "metadata": {},
   "source": [
    "Display Experiment Information"
   ]
  },
  {
   "cell_type": "code",
   "execution_count": null,
   "metadata": {},
   "outputs": [],
   "source": [
    "cell_line_1[exp].disp_data(exp_info=True)"
   ]
  },
  {
   "attachments": {},
   "cell_type": "markdown",
   "metadata": {},
   "source": [
    "Data about Cell"
   ]
  },
  {
   "cell_type": "code",
   "execution_count": null,
   "metadata": {},
   "outputs": [],
   "source": [
    "cell = cell_line_1[exp].get_species('cell')\n",
    "# DataFrame\n",
    "cell.get_in_process.head()\n",
    "# Display\n",
    "# cell.disp_in_process"
   ]
  },
  {
   "cell_type": "code",
   "execution_count": null,
   "metadata": {},
   "outputs": [],
   "source": [
    "cell."
   ]
  },
  {
   "attachments": {},
   "cell_type": "markdown",
   "metadata": {},
   "source": [
    "Data about Oxygen"
   ]
  },
  {
   "cell_type": "code",
   "execution_count": null,
   "metadata": {},
   "outputs": [],
   "source": [
    "oxy = cell_line_1[exp].get_species('oxygen')\n",
    "# DataFrame\n",
    "oxy.get_in_process\n",
    "# Display\n",
    "# oxy.disp_in_process"
   ]
  },
  {
   "attachments": {},
   "cell_type": "markdown",
   "metadata": {},
   "source": [
    "Data about Product(IgG)"
   ]
  },
  {
   "cell_type": "code",
   "execution_count": null,
   "metadata": {},
   "outputs": [],
   "source": [
    "product = cell_line_1[exp].get_species('product')\n",
    "# DataFrame\n",
    "product.get_in_process\n",
    "# Display\n",
    "# product.disp_in_process"
   ]
  },
  {
   "attachments": {},
   "cell_type": "markdown",
   "metadata": {},
   "source": [
    "Data about other metabolite"
   ]
  },
  {
   "cell_type": "code",
   "execution_count": null,
   "metadata": {},
   "outputs": [],
   "source": [
    "glc = cell_line_1[exp].get_species('glucose')\n",
    "glc.get_in_process"
   ]
  },
  {
   "attachments": {},
   "cell_type": "markdown",
   "metadata": {},
   "source": [
    "In-process data"
   ]
  },
  {
   "cell_type": "code",
   "execution_count": null,
   "metadata": {},
   "outputs": [],
   "source": [
    "bio_process.get_pre_process()"
   ]
  },
  {
   "attachments": {},
   "cell_type": "markdown",
   "metadata": {},
   "source": [
    "### Cell Line 2"
   ]
  },
  {
   "cell_type": "code",
   "execution_count": null,
   "metadata": {},
   "outputs": [],
   "source": [
    "from CCDPApy import BioProcess\n",
    "\n",
    "files = ['CL2_1.xlsx', 'CL2_2.xlsx', 'CL2_3.xlsx']\n",
    "\n",
    "feed_concentration = False\n",
    "concentration_after_feed = True\n",
    "\n",
    "cell_line_2 = {}\n",
    "for input_file in files:\n",
    "    print(f'Tesinting BioProcess Class for {input_file}.')\n",
    "    bio_process = BioProcess(file_name=input_file)\n",
    "    bio_process.in_process(feed_concentration=feed_concentration, \n",
    "                           concentration_after_feed=concentration_after_feed)\n",
    "    print(f'Complete In-Process.')\n",
    "    cell_line_2[input_file.split('.')[0]] = bio_process"
   ]
  },
  {
   "cell_type": "code",
   "execution_count": null,
   "metadata": {},
   "outputs": [],
   "source": [
    "cell = bio_process.get_species('cell')\n",
    "cell.get_in_process"
   ]
  },
  {
   "cell_type": "code",
   "execution_count": null,
   "metadata": {},
   "outputs": [],
   "source": [
    "igg = bio_process.get_species('product')\n",
    "igg.get_in_process"
   ]
  },
  {
   "cell_type": "code",
   "execution_count": null,
   "metadata": {},
   "outputs": [],
   "source": [
    "ala = bio_process.get_species('alanine')\n",
    "ala.get_in_process"
   ]
  },
  {
   "attachments": {},
   "cell_type": "markdown",
   "metadata": {},
   "source": [
    "### Cell Line 3"
   ]
  },
  {
   "cell_type": "code",
   "execution_count": null,
   "metadata": {},
   "outputs": [],
   "source": [
    "from CCDPApy import BioProcess\n",
    "\n",
    "files = ['CL3_1.xlsx', 'CL3_2.xlsx', 'CL3_3.xlsx']\n",
    "\n",
    "feed_concentration = False\n",
    "concentration_after_feed = False\n",
    "\n",
    "cell_line_3 = {}\n",
    "for input_file in files:\n",
    "    print(f'Tesinting BioProcess Class for {input_file}.')\n",
    "    bio_process = BioProcess(file_name=input_file)\n",
    "    bio_process.in_process(feed_concentration=feed_concentration, \n",
    "                           concentration_after_feed=concentration_after_feed)\n",
    "    print(f'Complete In-Process.')\n",
    "    cell_line_3[input_file.split('.')[0]] = bio_process"
   ]
  },
  {
   "cell_type": "code",
   "execution_count": null,
   "metadata": {},
   "outputs": [],
   "source": []
  },
  {
   "attachments": {},
   "cell_type": "markdown",
   "metadata": {},
   "source": [
    "## Display Pre-Process Data"
   ]
  },
  {
   "cell_type": "code",
   "execution_count": null,
   "metadata": {},
   "outputs": [],
   "source": [
    "#bio_process.disp_data(exp_info=False, process='prepro')"
   ]
  },
  {
   "attachments": {},
   "cell_type": "markdown",
   "metadata": {},
   "source": [
    "## Post-Process"
   ]
  },
  {
   "attachments": {},
   "cell_type": "markdown",
   "metadata": {},
   "source": [
    "### Polynomial Regression"
   ]
  },
  {
   "attachments": {},
   "cell_type": "markdown",
   "metadata": {},
   "source": [
    "Cell Line 1"
   ]
  },
  {
   "cell_type": "code",
   "execution_count": null,
   "metadata": {},
   "outputs": [],
   "source": [
    "cell_line_1"
   ]
  },
  {
   "cell_type": "code",
   "execution_count": null,
   "metadata": {},
   "outputs": [],
   "source": [
    "poly_file = 'polynomial_order_1.xlsx'\n",
    "\n",
    "for name, cl in cell_line_1.items():\n",
    "    print(f'polynomial regression method. {name}.')\n",
    "    cl.poly_regression(polyorder_file=poly_file)\n",
    "    print(f'Completed.')"
   ]
  },
  {
   "cell_type": "code",
   "execution_count": null,
   "metadata": {},
   "outputs": [],
   "source": [
    "cell = cell_line_1['CL1_1'].get_species('cell')\n",
    "cell.get_post_process"
   ]
  },
  {
   "attachments": {},
   "cell_type": "markdown",
   "metadata": {},
   "source": [
    "Cell Line 2"
   ]
  },
  {
   "cell_type": "code",
   "execution_count": null,
   "metadata": {},
   "outputs": [],
   "source": [
    "cell_line_2"
   ]
  },
  {
   "cell_type": "code",
   "execution_count": null,
   "metadata": {},
   "outputs": [],
   "source": [
    "poly_file = 'polynomial_order_2.xlsx'\n",
    "\n",
    "for name, cl in cell_line_2.items():\n",
    "    print(f'polynomial regression method. {name}.')\n",
    "    cl.poly_regression(polyorder_file=poly_file)\n",
    "    print(f'Completed.')"
   ]
  },
  {
   "cell_type": "code",
   "execution_count": null,
   "metadata": {},
   "outputs": [],
   "source": [
    "ala = cell_line_2['CL2_1'].get_species('alanine')\n",
    "ala.get_in_process_data"
   ]
  },
  {
   "attachments": {},
   "cell_type": "markdown",
   "metadata": {},
   "source": [
    "Cell Line 3"
   ]
  },
  {
   "cell_type": "code",
   "execution_count": null,
   "metadata": {},
   "outputs": [],
   "source": [
    "cell_line_3"
   ]
  },
  {
   "cell_type": "code",
   "execution_count": null,
   "metadata": {},
   "outputs": [],
   "source": [
    "poly_file = 'polynomial_order_3.xlsx'\n",
    "\n",
    "for name, cl in cell_line_3.items():\n",
    "    print(f'polynomial regression method. {name}.')\n",
    "    cl.poly_regression(polyorder_file=poly_file)\n",
    "    print(f'Completed.')"
   ]
  },
  {
   "attachments": {},
   "cell_type": "markdown",
   "metadata": {},
   "source": [
    "### Rolling Window Polynomial Regression"
   ]
  },
  {
   "attachments": {},
   "cell_type": "markdown",
   "metadata": {},
   "source": [
    "Cell Line 1"
   ]
  },
  {
   "cell_type": "code",
   "execution_count": null,
   "metadata": {},
   "outputs": [],
   "source": [
    "for name, cl in cell_line_1.items():\n",
    "    print(f'rolling polynomial regression method. {name}.')\n",
    "    cl.roll_regression(degree=3, windows=6)\n",
    "    print(f'Completed.')"
   ]
  },
  {
   "cell_type": "code",
   "execution_count": null,
   "metadata": {},
   "outputs": [],
   "source": [
    "cl1_1 = cell_line_1['CL1_1']\n",
    "cl1_1"
   ]
  },
  {
   "cell_type": "code",
   "execution_count": null,
   "metadata": {},
   "outputs": [],
   "source": [
    "cl1_1.get_post_process_data()"
   ]
  },
  {
   "cell_type": "code",
   "execution_count": null,
   "metadata": {},
   "outputs": [],
   "source": [
    "cell = cl1_1.get_species('cell')\n",
    "cell.get_post_process_logistic"
   ]
  },
  {
   "cell_type": "code",
   "execution_count": null,
   "metadata": {},
   "outputs": [],
   "source": [
    "bio_process.get_post_process_data()"
   ]
  },
  {
   "cell_type": "code",
   "execution_count": null,
   "metadata": {},
   "outputs": [],
   "source": [
    "cl1_1 = cell_line_1['CL1_1']\n",
    "ala = cl1_1.get_species('alanine')\n",
    "ala._sp_rate_rollpoly, ala._t_mid"
   ]
  },
  {
   "attachments": {},
   "cell_type": "markdown",
   "metadata": {},
   "source": [
    "Cell Line 2"
   ]
  },
  {
   "cell_type": "code",
   "execution_count": null,
   "metadata": {},
   "outputs": [],
   "source": [
    "for name, cl in cell_line_2.items():\n",
    "    print(f'rolling polynomial regression method. {name}.')\n",
    "    cl.roll_regression(degree=3, windows=6)\n",
    "    print(f'Completed.')"
   ]
  },
  {
   "attachments": {},
   "cell_type": "markdown",
   "metadata": {},
   "source": [
    "Cell Line 3"
   ]
  },
  {
   "cell_type": "code",
   "execution_count": null,
   "metadata": {},
   "outputs": [],
   "source": [
    "for name, cl in cell_line_3.items():\n",
    "    print(f'rolling polynomial regression method. {name}.')\n",
    "    cl.roll_regression(degree=3, windows=6)\n",
    "    print(f'Completed.')"
   ]
  },
  {
   "attachments": {},
   "cell_type": "markdown",
   "metadata": {},
   "source": [
    "# Interactive Plot"
   ]
  },
  {
   "cell_type": "code",
   "execution_count": null,
   "metadata": {},
   "outputs": [],
   "source": [
    "from CCDPApy import bioprocess_pipeline\n",
    "\n",
    "key_cl1 = {'use_feed_conc': False,\n",
    "           'use_conc_after_feed': False,}\n",
    "cell_line = bioprocess_pipeline(cell_culture_type='fed-batch',\n",
    "                                input_file_name='CL1.xlsx',\n",
    "                                **key_cl1)\n",
    "cell_line.interactive_plot()"
   ]
  },
  {
   "cell_type": "code",
   "execution_count": null,
   "metadata": {},
   "outputs": [],
   "source": [
    "from CCDPApy import CellLine    # used to aggregate all cell lines and experiments data\n",
    "from CCDPApy import bioprocess_pipeline\n",
    "from CCDPApy.BioProcess.BioProcess import BioProcess\n",
    "\n",
    "input_files_1 = ['CL1_1.xlsx', 'CL1_2.xlsx', 'CL1_3.xlsx']\n",
    "input_files_2 = ['CL2_1.xlsx', 'CL2_2.xlsx', 'CL2_3.xlsx']\n",
    "input_files_3 = ['CL3_1.xlsx', 'CL3_2.xlsx', 'CL3_3.xlsx']\n",
    "measurement_sheet = 'Measured Data'\n",
    "feed_sheet = 'Separate Feed Info'\n",
    "poly_file = 'polynomial_order_1.xlsx'\n",
    "\n",
    "cell_line = CellLine()\n",
    "\n",
    "# Cell Line 1\n",
    "for input in input_files_1:\n",
    "    bp = BioProcess(file_name=input,)\n",
    "    bp.in_process(feed_concentration=True, concentration_after_feed=False)\n",
    "    bp.polynomial(polyorder_file=poly_file)\n",
    "    bp.roll_regression(degree=3, windows=6)\n",
    "    cell_line.add_bio_process(bio_process=bp)\n",
    "# Cell Line 2\n",
    "for input in input_files_2:\n",
    "    bp = BioProcess(file_name=input,)\n",
    "    bp.in_process(feed_concentration=False, concentration_after_feed=True)\n",
    "    bp.polynomial(polyorder_file=poly_file)\n",
    "    bp.roll_regression(degree=3, windows=6)\n",
    "    cell_line.add_bio_process(bio_process=bp)\n",
    "# Cell Line 3\n",
    "for input in input_files_3:\n",
    "    bp = BioProcess(file_name=input,)\n",
    "    bp.in_process(feed_concentration=False, concentration_after_feed=False)\n",
    "    bp.polynomial(polyorder_file=poly_file)\n",
    "    bp.roll_regression(degree=3, windows=6)\n",
    "    cell_line.add_bio_process(bio_process=bp)\n",
    "\n",
    "cell_line.disp_cell_lines()\n",
    "\n",
    "cell_line.interactive_plot(mode='inline')"
   ]
  },
  {
   "attachments": {},
   "cell_type": "markdown",
   "metadata": {},
   "source": [
    "## Growth rate"
   ]
  },
  {
   "cell_type": "code",
   "execution_count": null,
   "metadata": {},
   "outputs": [],
   "source": [
    "import plotly.express as px\n",
    "df = cell_line.get_plot_data()\n",
    "cell_df = df[(df['species']=='cell')]\n",
    "df1 = cell_df[(cell_df['profile']=='concentration') & (cell_df['kind']!='viability')]\n",
    "df2 = cell_df[cell_df['kind']=='viability']\n",
    "\n",
    "fig1 = px.line(df1, x='runTime', y='value', title='Cell concentration', markers=True,\n",
    "              color='kind', line_dash='cellLine', symbol='runID')\n",
    "fig1.update_layout(yaxis_title='(10^6 cells/mL)')\n",
    "\n",
    "df2 = df2.rename(columns={'value': 'viability'})\n",
    "fig2 = px.line(df2, x='runTime', y='viability', markers=True,\n",
    "               color='cellLine', line_dash='cellLine', symbol='runID',\n",
    "               color_discrete_sequence=px.colors.qualitative.Pastel1,)\n",
    "\n",
    "fig2.update_traces(yaxis='y2')\n",
    "for fig_data in fig2.data:\n",
    "    fig1.add_trace(fig_data)\n",
    "\n",
    "fig1.update_layout(legend_x=1.1, legend_y=1)\n",
    "fig1.update_layout(yaxis2={'side': 'right', 'title': 'viability (%)', 'overlaying': \"y\",})\n",
    "fig1"
   ]
  },
  {
   "cell_type": "code",
   "execution_count": null,
   "metadata": {},
   "outputs": [],
   "source": [
    "df = cell_df[cell_df['profile']=='cumulative']\n",
    "df1 = df[df['method']=='twoPoint']\n",
    "df2 = df[df['method']=='polynomial']\n",
    "fig1 = px.line(df1[df1['kind']=='integral'], x='runTime', y='value', \n",
    "                  title='Cell Cumulative concentration',\n",
    "                  color='cellLine', line_dash='runID', symbol='cellLine')\n",
    "\n",
    "fig2 = px.line(df1[df1['kind']=='cumulative'], x='runTime', y='value',\n",
    "               color='cellLine', line_dash='runID', symbol='cellLine',\n",
    "               color_discrete_sequence=px.colors.qualitative.Pastel1,)\n",
    "fig2.update_traces(yaxis='y2')\n",
    "\n",
    "for fig_data in fig2.data:\n",
    "    fig1.add_trace(fig_data)\n",
    "fig1.update_layout(legend_x=1.1, legend_y=1)\n",
    "fig1.update_layout(yaxis2={'side': 'right', 'title': 'cumulative', 'overlaying': \"y\",})\n",
    "fig1"
   ]
  },
  {
   "cell_type": "code",
   "execution_count": null,
   "metadata": {},
   "outputs": [],
   "source": [
    "df = cell_df[(cell_df['profile']=='spRate') & (cell_df['kind']=='growthRate')]\n",
    "fig = px.line(df, x='runTime', y='value', \n",
    "              title='Specific Growth Rate',\n",
    "              color='cellLine', line_dash='runID', symbol='method')\n",
    "fig"
   ]
  },
  {
   "cell_type": "code",
   "execution_count": null,
   "metadata": {},
   "outputs": [],
   "source": []
  }
 ],
 "metadata": {
  "kernelspec": {
   "display_name": "Python 3.9.12 ('base')",
   "language": "python",
   "name": "python3"
  },
  "language_info": {
   "codemirror_mode": {
    "name": "ipython",
    "version": 3
   },
   "file_extension": ".py",
   "mimetype": "text/x-python",
   "name": "python",
   "nbconvert_exporter": "python",
   "pygments_lexer": "ipython3",
   "version": "3.10.6"
  },
  "orig_nbformat": 4,
  "vscode": {
   "interpreter": {
    "hash": "81f548b77aeac8eb9d6ae57a752d1aa41cabb5b7f0be227db123ac70bb127d77"
   }
  }
 },
 "nbformat": 4,
 "nbformat_minor": 2
}
