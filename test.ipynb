{
 "cells": [
  {
   "attachments": {},
   "cell_type": "markdown",
   "metadata": {},
   "source": [
    "# Improvements"
   ]
  },
  {
   "attachments": {},
   "cell_type": "markdown",
   "metadata": {},
   "source": [
    "Perfusion<br>\n",
    "Growth rate, and Product, the ratio figure<br>\n",
    "Data export<br>\n"
   ]
  },
  {
   "attachments": {},
   "cell_type": "markdown",
   "metadata": {},
   "source": [
    "# Import Python Libraries"
   ]
  },
  {
   "cell_type": "code",
   "execution_count": null,
   "metadata": {},
   "outputs": [],
   "source": [
    "import pandas as pd\n",
    "import numpy as np\n",
    "import plotly.express as px\n",
    "import seaborn as sns\n",
    "import matplotlib.pyplot as plt\n",
    "pd.set_option('display.max_columns', 200)"
   ]
  },
  {
   "attachments": {},
   "cell_type": "markdown",
   "metadata": {},
   "source": [
    "# MeasuredData Class Test"
   ]
  },
  {
   "attachments": {},
   "cell_type": "markdown",
   "metadata": {},
   "source": [
    "## Cell Line 1"
   ]
  },
  {
   "cell_type": "code",
   "execution_count": null,
   "metadata": {},
   "outputs": [],
   "source": [
    "from CCDPApy.MeasuredData.MeasuredData import MeasuredData\n",
    "\n",
    "f1 = ['CL1_1.xlsx', 'CL1_2.xlsx', 'CL1_3.xlsx']\n",
    "for file in f1:\n",
    "    print(f'Tesinting MeasuredData Class for {file}.')\n",
    "    md = MeasuredData(file_name=file, \n",
    "                      measurement_sheet='Measured Data',\n",
    "                      feed_sheet='Separate Feed Info')\n",
    "    md.run_time()\n",
    "    print(\"Complete run_time() method.\")\n",
    "    md.culture_volume()\n",
    "    print(\"Complete culture_volume() method.\")\n",
    "    md.get_pre_data()"
   ]
  },
  {
   "cell_type": "code",
   "execution_count": null,
   "metadata": {},
   "outputs": [],
   "source": [
    "md.get_pre_data()"
   ]
  },
  {
   "attachments": {},
   "cell_type": "markdown",
   "metadata": {},
   "source": [
    "## Cell Line 2"
   ]
  },
  {
   "cell_type": "code",
   "execution_count": null,
   "metadata": {},
   "outputs": [],
   "source": [
    "from CCDPApy.MeasuredData.MeasuredData import MeasuredData\n",
    "f2 = ['CL2_1.xlsx', 'CL2_2.xlsx', 'CL2_3.xlsx']\n",
    "for file in f2:\n",
    "    print(f'Tesinting MeasuredData Class for {file}.')\n",
    "    md = MeasuredData(file_name=file, \n",
    "                      measurement_sheet='Measured Data',\n",
    "                      feed_sheet='Separate Feed Info')\n",
    "    md.run_time()\n",
    "    print(\"Complete run_time() method.\")\n",
    "    md.culture_volume()\n",
    "    print(\"Complete culture_volume() method.\")\n",
    "    md.get_pre_data()"
   ]
  },
  {
   "cell_type": "code",
   "execution_count": null,
   "metadata": {},
   "outputs": [],
   "source": [
    "md.get_pre_data()"
   ]
  },
  {
   "attachments": {},
   "cell_type": "markdown",
   "metadata": {},
   "source": [
    "## Cell Line 3"
   ]
  },
  {
   "cell_type": "code",
   "execution_count": null,
   "metadata": {},
   "outputs": [],
   "source": [
    "f3 = ['CL3_1.xlsx', 'CL3_2.xlsx', 'CL3_3.xlsx']\n",
    "\n",
    "for file in f3:\n",
    "    print(f'Tesinting MeasuredData Class for {file}.')\n",
    "    md = MeasuredData(file_name=file, \n",
    "                      measurement_sheet='Measured Data',\n",
    "                      feed_sheet='Separate Feed Info')\n",
    "    md.run_time()\n",
    "    print(\"Complete run_time() method.\")\n",
    "    md.culture_volume()\n",
    "    print(\"Complete culture_volume() method.\")\n",
    "    md.get_pre_data()"
   ]
  },
  {
   "cell_type": "code",
   "execution_count": null,
   "metadata": {},
   "outputs": [],
   "source": [
    "md.get_pre_data()"
   ]
  },
  {
   "attachments": {},
   "cell_type": "markdown",
   "metadata": {},
   "source": [
    "# BioProcess Class Test"
   ]
  },
  {
   "attachments": {},
   "cell_type": "markdown",
   "metadata": {},
   "source": [
    "## In-Process"
   ]
  },
  {
   "attachments": {},
   "cell_type": "markdown",
   "metadata": {},
   "source": [
    "In in-process, the cumulative concentration will be calculated, <br>\n",
    "and then specific rate will be calculated using the two-point calculation."
   ]
  },
  {
   "attachments": {},
   "cell_type": "markdown",
   "metadata": {},
   "source": [
    "### Cell Line 1"
   ]
  },
  {
   "attachments": {},
   "cell_type": "markdown",
   "metadata": {},
   "source": [
    "There are the measurements of the feed concentration <br>\n",
    "There are NOT measuremeents of the concentraion after feeding"
   ]
  },
  {
   "cell_type": "code",
   "execution_count": null,
   "metadata": {},
   "outputs": [],
   "source": [
    "from CCDPApy import BioProcess\n",
    "\n",
    "files = ['CL1_1.xlsx', 'CL1_2.xlsx', 'CL1_3.xlsx']\n",
    "#spc = ['Glucose','Lactate','Glutamine','Asparagine','Aspartate']\n",
    "\n",
    "feed_concentration = True\n",
    "concentration_after_feed = False\n",
    "\n",
    "cell_line_1 = {}\n",
    "for input_file in files:\n",
    "    print(f'Tesinting BioProcess Class for {input_file}.')\n",
    "    bio_process = BioProcess(file_name=input_file,\n",
    "                             #spc_list=spc,\n",
    "                             #new_spc_list=['new'],\n",
    "                             )\n",
    "    bio_process.in_process(feed_concentration=feed_concentration, \n",
    "                           concentration_after_feed=concentration_after_feed)\n",
    "    print(f'Complete In-Process.')\n",
    "    cell_line_1[input_file.split('.')[0]] = bio_process\n",
    "    \n",
    "cell_line_1.keys()\n",
    "exp_list = ['CL1_1', 'CL1_2', 'CL1_3']\n",
    "exp = exp_list[0]"
   ]
  },
  {
   "attachments": {},
   "cell_type": "markdown",
   "metadata": {},
   "source": [
    "Display Experiment Information"
   ]
  },
  {
   "cell_type": "code",
   "execution_count": null,
   "metadata": {},
   "outputs": [],
   "source": [
    "cell_line_1[exp].disp_data(exp_info=True)"
   ]
  },
  {
   "attachments": {},
   "cell_type": "markdown",
   "metadata": {},
   "source": [
    "Data about Cell"
   ]
  },
  {
   "cell_type": "code",
   "execution_count": null,
   "metadata": {},
   "outputs": [],
   "source": [
    "cell = cell_line_1[exp].get_species('cell')\n",
    "# DataFrame\n",
    "cell.get_in_process\n",
    "# Display\n",
    "# cell.disp_in_process"
   ]
  },
  {
   "attachments": {},
   "cell_type": "markdown",
   "metadata": {},
   "source": [
    "Data about Oxygen"
   ]
  },
  {
   "cell_type": "code",
   "execution_count": null,
   "metadata": {},
   "outputs": [],
   "source": [
    "oxy = cell_line_1[exp].get_species('oxygen')\n",
    "# DataFrame\n",
    "oxy.get_in_process\n",
    "# Display\n",
    "# oxy.disp_in_process"
   ]
  },
  {
   "attachments": {},
   "cell_type": "markdown",
   "metadata": {},
   "source": [
    "Data about Product(IgG)"
   ]
  },
  {
   "cell_type": "code",
   "execution_count": null,
   "metadata": {},
   "outputs": [],
   "source": [
    "product = cell_line_1[exp].get_species('product')\n",
    "# DataFrame\n",
    "product.get_in_process\n",
    "# Display\n",
    "# product.disp_in_process"
   ]
  },
  {
   "cell_type": "code",
   "execution_count": null,
   "metadata": {},
   "outputs": [],
   "source": [
    "product.get_in_process_data"
   ]
  },
  {
   "attachments": {},
   "cell_type": "markdown",
   "metadata": {},
   "source": [
    "Data about other metabolite"
   ]
  },
  {
   "cell_type": "code",
   "execution_count": null,
   "metadata": {},
   "outputs": [],
   "source": [
    "glc = cell_line_1[exp].get_species('glucose')\n",
    "glc.get_in_process"
   ]
  },
  {
   "attachments": {},
   "cell_type": "markdown",
   "metadata": {},
   "source": [
    "In-process data"
   ]
  },
  {
   "cell_type": "code",
   "execution_count": null,
   "metadata": {},
   "outputs": [],
   "source": [
    "bio_process.get_in_process_data()"
   ]
  },
  {
   "attachments": {},
   "cell_type": "markdown",
   "metadata": {},
   "source": [
    "### Cell Line 2"
   ]
  },
  {
   "cell_type": "code",
   "execution_count": null,
   "metadata": {},
   "outputs": [],
   "source": [
    "from CCDPApy import BioProcess\n",
    "\n",
    "files = ['CL2_1.xlsx', 'CL2_2.xlsx', 'CL2_3.xlsx']\n",
    "\n",
    "feed_concentration = False\n",
    "concentration_after_feed = True\n",
    "\n",
    "cell_line_2 = {}\n",
    "for input_file in files:\n",
    "    print(f'Tesinting BioProcess Class for {input_file}.')\n",
    "    bio_process = BioProcess(file_name=input_file)\n",
    "    bio_process.in_process(feed_concentration=feed_concentration, \n",
    "                           concentration_after_feed=concentration_after_feed)\n",
    "    print(f'Complete In-Process.')\n",
    "    cell_line_2[input_file.split('.')[0]] = bio_process"
   ]
  },
  {
   "cell_type": "code",
   "execution_count": null,
   "metadata": {},
   "outputs": [],
   "source": [
    "cell = bio_process.get_species('cell')\n",
    "cell.get_in_process"
   ]
  },
  {
   "cell_type": "code",
   "execution_count": null,
   "metadata": {},
   "outputs": [],
   "source": [
    "igg = bio_process.get_species('product')\n",
    "igg.get_in_process"
   ]
  },
  {
   "cell_type": "code",
   "execution_count": null,
   "metadata": {},
   "outputs": [],
   "source": [
    "ala = bio_process.get_species('alanine')\n",
    "ala.get_in_process"
   ]
  },
  {
   "attachments": {},
   "cell_type": "markdown",
   "metadata": {},
   "source": [
    "### Cell Line 3"
   ]
  },
  {
   "cell_type": "code",
   "execution_count": null,
   "metadata": {},
   "outputs": [],
   "source": [
    "from CCDPApy import BioProcess\n",
    "\n",
    "files = ['CL3_1.xlsx', 'CL3_2.xlsx', 'CL3_3.xlsx']\n",
    "\n",
    "feed_concentration = False\n",
    "concentration_after_feed = False\n",
    "\n",
    "cell_line_3 = {}\n",
    "for input_file in files:\n",
    "    print(f'Tesinting BioProcess Class for {input_file}.')\n",
    "    bio_process = BioProcess(file_name=input_file)\n",
    "    bio_process.in_process(feed_concentration=feed_concentration, \n",
    "                           concentration_after_feed=concentration_after_feed)\n",
    "    print(f'Complete In-Process.')\n",
    "    cell_line_3[input_file.split('.')[0]] = bio_process"
   ]
  },
  {
   "cell_type": "code",
   "execution_count": null,
   "metadata": {},
   "outputs": [],
   "source": []
  },
  {
   "attachments": {},
   "cell_type": "markdown",
   "metadata": {},
   "source": [
    "## Display Pre-Process Data"
   ]
  },
  {
   "cell_type": "code",
   "execution_count": null,
   "metadata": {},
   "outputs": [],
   "source": [
    "#bio_process.disp_data(exp_info=False, process='prepro')"
   ]
  },
  {
   "attachments": {},
   "cell_type": "markdown",
   "metadata": {},
   "source": [
    "## Post-Process"
   ]
  },
  {
   "attachments": {},
   "cell_type": "markdown",
   "metadata": {},
   "source": [
    "### Polynomial Regression"
   ]
  },
  {
   "attachments": {},
   "cell_type": "markdown",
   "metadata": {},
   "source": [
    "Cell Line 1"
   ]
  },
  {
   "cell_type": "code",
   "execution_count": null,
   "metadata": {},
   "outputs": [],
   "source": [
    "cell_line_1"
   ]
  },
  {
   "cell_type": "code",
   "execution_count": null,
   "metadata": {},
   "outputs": [],
   "source": [
    "poly_file = 'polynomial_order_1.xlsx'\n",
    "\n",
    "for name, cl in cell_line_1.items():\n",
    "    print(f'polynomial regression method. {name}.')\n",
    "    cl.poly_regression(polyorder_file=poly_file)\n",
    "    print(f'Completed.')"
   ]
  },
  {
   "cell_type": "code",
   "execution_count": null,
   "metadata": {},
   "outputs": [],
   "source": [
    "cell = cell_line_1['CL1_1'].get_species('cell')\n",
    "cell.get_post_process"
   ]
  },
  {
   "attachments": {},
   "cell_type": "markdown",
   "metadata": {},
   "source": [
    "Cell Line 2"
   ]
  },
  {
   "cell_type": "code",
   "execution_count": null,
   "metadata": {},
   "outputs": [],
   "source": [
    "cell_line_2"
   ]
  },
  {
   "cell_type": "code",
   "execution_count": null,
   "metadata": {},
   "outputs": [],
   "source": [
    "poly_file = 'polynomial_order_2.xlsx'\n",
    "\n",
    "for name, cl in cell_line_2.items():\n",
    "    print(f'polynomial regression method. {name}.')\n",
    "    cl.poly_regression(polyorder_file=poly_file)\n",
    "    print(f'Completed.')"
   ]
  },
  {
   "cell_type": "code",
   "execution_count": null,
   "metadata": {},
   "outputs": [],
   "source": [
    "ala = cell_line_2['CL2_1'].get_species('alanine')\n",
    "ala.get_in_process_data"
   ]
  },
  {
   "attachments": {},
   "cell_type": "markdown",
   "metadata": {},
   "source": [
    "Cell Line 3"
   ]
  },
  {
   "cell_type": "code",
   "execution_count": null,
   "metadata": {},
   "outputs": [],
   "source": [
    "cell_line_3"
   ]
  },
  {
   "cell_type": "code",
   "execution_count": null,
   "metadata": {},
   "outputs": [],
   "source": [
    "poly_file = 'polynomial_order_3.xlsx'\n",
    "\n",
    "for name, cl in cell_line_3.items():\n",
    "    print(f'polynomial regression method. {name}.')\n",
    "    cl.poly_regression(polyorder_file=poly_file)\n",
    "    print(f'Completed.')"
   ]
  },
  {
   "attachments": {},
   "cell_type": "markdown",
   "metadata": {},
   "source": [
    "### Rolling Window Polynomial Regression"
   ]
  },
  {
   "attachments": {},
   "cell_type": "markdown",
   "metadata": {},
   "source": [
    "Cell Line 1"
   ]
  },
  {
   "cell_type": "code",
   "execution_count": null,
   "metadata": {},
   "outputs": [],
   "source": [
    "for name, cl in cell_line_1.items():\n",
    "    print(f'rolling polynomial regression method. {name}.')\n",
    "    cl.roll_regression(degree=3, windows=6)\n",
    "    print(f'Completed.')"
   ]
  },
  {
   "cell_type": "code",
   "execution_count": null,
   "metadata": {},
   "outputs": [],
   "source": [
    "cl1_1 = cell_line_1['CL1_1']\n",
    "cl1_1"
   ]
  },
  {
   "cell_type": "code",
   "execution_count": null,
   "metadata": {},
   "outputs": [],
   "source": [
    "cl1_1.get_post_process_data()"
   ]
  },
  {
   "cell_type": "code",
   "execution_count": null,
   "metadata": {},
   "outputs": [],
   "source": [
    "cell = cl1_1.get_species('cell')\n",
    "cell.get_post_process_logistic"
   ]
  },
  {
   "cell_type": "code",
   "execution_count": null,
   "metadata": {},
   "outputs": [],
   "source": [
    "bio_process.get_post_process_data()"
   ]
  },
  {
   "cell_type": "code",
   "execution_count": null,
   "metadata": {},
   "outputs": [],
   "source": [
    "cl1_1 = cell_line_1['CL1_1']\n",
    "ala = cl1_1.get_species('alanine')\n",
    "ala._sp_rate_rollpoly, ala._t_mid"
   ]
  },
  {
   "attachments": {},
   "cell_type": "markdown",
   "metadata": {},
   "source": [
    "Cell Line 2"
   ]
  },
  {
   "cell_type": "code",
   "execution_count": null,
   "metadata": {},
   "outputs": [],
   "source": [
    "for name, cl in cell_line_2.items():\n",
    "    print(f'rolling polynomial regression method. {name}.')\n",
    "    cl.roll_regression(degree=3, windows=6)\n",
    "    print(f'Completed.')"
   ]
  },
  {
   "attachments": {},
   "cell_type": "markdown",
   "metadata": {},
   "source": [
    "Cell Line 3"
   ]
  },
  {
   "cell_type": "code",
   "execution_count": null,
   "metadata": {},
   "outputs": [],
   "source": [
    "for name, cl in cell_line_3.items():\n",
    "    print(f'rolling polynomial regression method. {name}.')\n",
    "    cl.roll_regression(degree=3, windows=6)\n",
    "    print(f'Completed.')"
   ]
  },
  {
   "attachments": {},
   "cell_type": "markdown",
   "metadata": {},
   "source": [
    "# Interactive Plot"
   ]
  },
  {
   "cell_type": "code",
   "execution_count": null,
   "metadata": {},
   "outputs": [],
   "source": [
    "from CCDPApy import CellLine    # used to aggregate all cell lines and experiments data\n",
    "from CCDPApy import bioprocess_pipeline\n",
    "from CCDPApy.BioProcess.BioProcess import BioProcess\n",
    "\n",
    "input_files_1 = ['CL1_1.xlsx', 'CL1_2.xlsx', 'CL1_3.xlsx']\n",
    "input_files_2 = ['CL2_1.xlsx', 'CL2_2.xlsx', 'CL2_3.xlsx']\n",
    "input_files_3 = ['CL3_1.xlsx', 'CL3_2.xlsx', 'CL3_3.xlsx']\n",
    "measurement_sheet = 'Measured Data'\n",
    "feed_sheet = 'Separate Feed Info'\n",
    "poly_file = 'polynomial_order_1.xlsx'\n",
    "\n",
    "cell_line = CellLine()\n",
    "\n",
    "# Cell Line 1\n",
    "for input in input_files_1:\n",
    "    bp = BioProcess(file_name=input,)\n",
    "    bp.in_process(feed_concentration=True, concentration_after_feed=False)\n",
    "    bp.poly_regression(polyorder_file=poly_file)\n",
    "    bp.roll_regression(degree=3, windows=6)\n",
    "    cell_line.add_bio_process(bio_process=bp)\n",
    "# Cell Line 2\n",
    "for input in input_files_2:\n",
    "    bp = BioProcess(file_name=input,)\n",
    "    bp.in_process(feed_concentration=False, concentration_after_feed=True)\n",
    "    bp.poly_regression(polyorder_file=poly_file)\n",
    "    bp.roll_regression(degree=3, windows=6)\n",
    "    cell_line.add_bio_process(bio_process=bp)\n",
    "# Cell Line 3\n",
    "for input in input_files_3:\n",
    "    bp = BioProcess(file_name=input,)\n",
    "    bp.in_process(feed_concentration=False, concentration_after_feed=False)\n",
    "    bp.poly_regression(polyorder_file=poly_file)\n",
    "    bp.roll_regression(degree=3, windows=6)\n",
    "    cell_line.add_bio_process(bio_process=bp)\n",
    "\n",
    "cell_line.disp_cell_lines()\n",
    "\n",
    "cell_line.interactive_plot(mode='inline')"
   ]
  },
  {
   "attachments": {},
   "cell_type": "markdown",
   "metadata": {},
   "source": [
    "## Growth rate"
   ]
  },
  {
   "cell_type": "code",
   "execution_count": null,
   "metadata": {},
   "outputs": [],
   "source": [
    "import plotly.express as px\n",
    "df = cell_line.get_plot_data()\n",
    "cell_df = df[(df['species']=='cell')]\n",
    "df1 = cell_df[(cell_df['profile']=='concentration') & (cell_df['kind']!='viability')]\n",
    "df2 = cell_df[cell_df['kind']=='viability']\n",
    "\n",
    "fig1 = px.line(df1, x='runTime', y='value', title='Cell concentration', markers=True,\n",
    "              color='kind', line_dash='cellLine', symbol='runID')\n",
    "fig1.update_layout(yaxis_title='(10^6 cells/mL)')\n",
    "\n",
    "df2 = df2.rename(columns={'value': 'viability'})\n",
    "fig2 = px.line(df2, x='runTime', y='viability', markers=True,\n",
    "               color='cellLine', line_dash='cellLine', symbol='runID',\n",
    "               color_discrete_sequence=px.colors.qualitative.Pastel1,)\n",
    "\n",
    "fig2.update_traces(yaxis='y2')\n",
    "for fig_data in fig2.data:\n",
    "    fig1.add_trace(fig_data)\n",
    "\n",
    "fig1.update_layout(legend_x=1.1, legend_y=1)\n",
    "fig1.update_layout(yaxis2={'side': 'right', 'title': 'viability (%)', 'overlaying': \"y\",})\n",
    "fig1"
   ]
  },
  {
   "cell_type": "code",
   "execution_count": null,
   "metadata": {},
   "outputs": [],
   "source": [
    "df = cell_df[cell_df['profile']=='cumulative']\n",
    "df1 = df[df['method']=='twoPoint']\n",
    "df2 = df[df['method']=='polynomial']\n",
    "fig1 = px.line(df1[df1['kind']=='integral'], x='runTime', y='value', \n",
    "                  title='Cell Cumulative concentration',\n",
    "                  color='cellLine', line_dash='runID', symbol='cellLine')\n",
    "\n",
    "fig2 = px.line(df1[df1['kind']=='cumulative'], x='runTime', y='value',\n",
    "               color='cellLine', line_dash='runID', symbol='cellLine',\n",
    "               color_discrete_sequence=px.colors.qualitative.Pastel1,)\n",
    "fig2.update_traces(yaxis='y2')\n",
    "\n",
    "for fig_data in fig2.data:\n",
    "    fig1.add_trace(fig_data)\n",
    "fig1.update_layout(legend_x=1.1, legend_y=1)\n",
    "fig1.update_layout(yaxis2={'side': 'right', 'title': 'cumulative', 'overlaying': \"y\",})\n",
    "fig1"
   ]
  },
  {
   "cell_type": "code",
   "execution_count": null,
   "metadata": {},
   "outputs": [],
   "source": [
    "df = cell_df[(cell_df['profile']=='spRate') & (cell_df['kind']=='growthRate')]\n",
    "fig = px.line(df, x='runTime', y='value', \n",
    "              title='Specific Growth Rate',\n",
    "              color='cellLine', line_dash='runID', symbol='method')\n",
    "fig"
   ]
  },
  {
   "cell_type": "code",
   "execution_count": null,
   "metadata": {},
   "outputs": [],
   "source": []
  }
 ],
 "metadata": {
  "kernelspec": {
   "display_name": "Python 3.9.12 ('base')",
   "language": "python",
   "name": "python3"
  },
  "language_info": {
   "codemirror_mode": {
    "name": "ipython",
    "version": 3
   },
   "file_extension": ".py",
   "mimetype": "text/x-python",
   "name": "python",
   "nbconvert_exporter": "python",
   "pygments_lexer": "ipython3",
   "version": "3.10.6"
  },
  "orig_nbformat": 4,
  "vscode": {
   "interpreter": {
    "hash": "81f548b77aeac8eb9d6ae57a752d1aa41cabb5b7f0be227db123ac70bb127d77"
   }
  }
 },
 "nbformat": 4,
 "nbformat_minor": 2
}
