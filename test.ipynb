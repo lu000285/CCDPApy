{
 "cells": [
  {
   "attachments": {},
   "cell_type": "markdown",
   "metadata": {},
   "source": [
    "# Improvements"
   ]
  },
  {
   "attachments": {},
   "cell_type": "markdown",
   "metadata": {},
   "source": [
    "Perfusion<br>\n",
    "Growth rate, and Product, the ratio figure<br>\n",
    "Data export<br>"
   ]
  },
  {
   "attachments": {},
   "cell_type": "markdown",
   "metadata": {},
   "source": [
    "# Import Python Libraries"
   ]
  },
  {
   "cell_type": "code",
   "execution_count": null,
   "metadata": {},
   "outputs": [],
   "source": [
    "import pandas as pd\n",
    "import numpy as np\n",
    "import plotly.express as px\n",
    "import seaborn as sns\n",
    "import matplotlib.pyplot as plt\n",
    "pd.set_option('display.max_columns', 200)"
   ]
  },
  {
   "attachments": {},
   "cell_type": "markdown",
   "metadata": {},
   "source": [
    "# MeasuredData Class Test"
   ]
  },
  {
   "attachments": {},
   "cell_type": "markdown",
   "metadata": {},
   "source": [
    "## Cell Line 1"
   ]
  },
  {
   "cell_type": "code",
   "execution_count": 15,
   "metadata": {},
   "outputs": [
    {
     "name": "stdout",
     "output_type": "stream",
     "text": [
      "Tesinting MeasuredData Class for CL1_1.xlsx.\n",
      "Complete run_time() method.\n",
      "Complete culture_volume() method.\n",
      "Tesinting MeasuredData Class for CL1_2.xlsx.\n",
      "Complete run_time() method.\n",
      "Complete culture_volume() method.\n",
      "Tesinting MeasuredData Class for CL1_3.xlsx.\n",
      "Complete run_time() method.\n",
      "Complete culture_volume() method.\n"
     ]
    }
   ],
   "source": [
    "from CCDPApy.MeasuredData.MeasuredData import MeasuredData\n",
    "\n",
    "f1 = ['CL1_1.xlsx', 'CL1_2.xlsx', 'CL1_3.xlsx']\n",
    "for file in f1:\n",
    "    print(f'Tesinting MeasuredData Class for {file}.')\n",
    "    md = MeasuredData(file_name=file, \n",
    "                      measurement_sheet='Measured Data',\n",
    "                      feed_sheet='Separate Feed Info')\n",
    "    md.run_time()\n",
    "    print(\"Complete run_time() method.\")\n",
    "    md.culture_volume()\n",
    "    print(\"Complete culture_volume() method.\")\n",
    "    md.get_pre_data()"
   ]
  },
  {
   "cell_type": "code",
   "execution_count": 19,
   "metadata": {},
   "outputs": [
    {
     "data": {
      "text/html": [
       "<div>\n",
       "<style scoped>\n",
       "    .dataframe tbody tr th:only-of-type {\n",
       "        vertical-align: middle;\n",
       "    }\n",
       "\n",
       "    .dataframe tbody tr th {\n",
       "        vertical-align: top;\n",
       "    }\n",
       "\n",
       "    .dataframe thead th {\n",
       "        text-align: right;\n",
       "    }\n",
       "</style>\n",
       "<table border=\"1\" class=\"dataframe\">\n",
       "  <thead>\n",
       "    <tr style=\"text-align: right;\">\n",
       "      <th></th>\n",
       "      <th>run_time_(days)</th>\n",
       "      <th>run_time_(hrs)</th>\n",
       "      <th>volume_before_sampling_(mL)</th>\n",
       "      <th>volume_after_sampling_(mL)</th>\n",
       "    </tr>\n",
       "  </thead>\n",
       "  <tbody>\n",
       "    <tr>\n",
       "      <th>0</th>\n",
       "      <td>0.000000</td>\n",
       "      <td>0.000000</td>\n",
       "      <td>74.0</td>\n",
       "      <td>73.0</td>\n",
       "    </tr>\n",
       "    <tr>\n",
       "      <th>1</th>\n",
       "      <td>0.997222</td>\n",
       "      <td>23.933333</td>\n",
       "      <td>73.0</td>\n",
       "      <td>71.5</td>\n",
       "    </tr>\n",
       "    <tr>\n",
       "      <th>2</th>\n",
       "      <td>1.609028</td>\n",
       "      <td>38.616667</td>\n",
       "      <td>71.5</td>\n",
       "      <td>70.0</td>\n",
       "    </tr>\n",
       "    <tr>\n",
       "      <th>3</th>\n",
       "      <td>1.991667</td>\n",
       "      <td>47.800000</td>\n",
       "      <td>70.0</td>\n",
       "      <td>68.5</td>\n",
       "    </tr>\n",
       "    <tr>\n",
       "      <th>4</th>\n",
       "      <td>2.613194</td>\n",
       "      <td>62.716667</td>\n",
       "      <td>68.5</td>\n",
       "      <td>67.0</td>\n",
       "    </tr>\n",
       "  </tbody>\n",
       "</table>\n",
       "</div>"
      ],
      "text/plain": [
       "   run_time_(days)  run_time_(hrs)  volume_before_sampling_(mL)  \\\n",
       "0         0.000000        0.000000                         74.0   \n",
       "1         0.997222       23.933333                         73.0   \n",
       "2         1.609028       38.616667                         71.5   \n",
       "3         1.991667       47.800000                         70.0   \n",
       "4         2.613194       62.716667                         68.5   \n",
       "\n",
       "   volume_after_sampling_(mL)  \n",
       "0                        73.0  \n",
       "1                        71.5  \n",
       "2                        70.0  \n",
       "3                        68.5  \n",
       "4                        67.0  "
      ]
     },
     "execution_count": 19,
     "metadata": {},
     "output_type": "execute_result"
    }
   ],
   "source": [
    "md.get_pre_data().head()"
   ]
  },
  {
   "attachments": {},
   "cell_type": "markdown",
   "metadata": {},
   "source": [
    "## Cell Line 2"
   ]
  },
  {
   "cell_type": "code",
   "execution_count": null,
   "metadata": {},
   "outputs": [],
   "source": [
    "from CCDPApy.MeasuredData.MeasuredData import MeasuredData\n",
    "f2 = ['CL2_1.xlsx', 'CL2_2.xlsx', 'CL2_3.xlsx']\n",
    "for file in f2:\n",
    "    print(f'Tesinting MeasuredData Class for {file}.')\n",
    "    md = MeasuredData(file_name=file, \n",
    "                      measurement_sheet='Measured Data',\n",
    "                      feed_sheet='Separate Feed Info')\n",
    "    md.run_time()\n",
    "    print(\"Complete run_time() method.\")\n",
    "    md.culture_volume()\n",
    "    print(\"Complete culture_volume() method.\")\n",
    "    md.get_pre_data()"
   ]
  },
  {
   "cell_type": "code",
   "execution_count": null,
   "metadata": {},
   "outputs": [],
   "source": [
    "md.get_pre_data()"
   ]
  },
  {
   "attachments": {},
   "cell_type": "markdown",
   "metadata": {},
   "source": [
    "## Cell Line 3"
   ]
  },
  {
   "cell_type": "code",
   "execution_count": null,
   "metadata": {},
   "outputs": [],
   "source": [
    "f3 = ['CL3_1.xlsx', 'CL3_2.xlsx', 'CL3_3.xlsx']\n",
    "\n",
    "for file in f3:\n",
    "    print(f'Tesinting MeasuredData Class for {file}.')\n",
    "    md = MeasuredData(file_name=file, \n",
    "                      measurement_sheet='Measured Data',\n",
    "                      feed_sheet='Separate Feed Info')\n",
    "    md.run_time()\n",
    "    print(\"Complete run_time() method.\")\n",
    "    md.culture_volume()\n",
    "    print(\"Complete culture_volume() method.\")\n",
    "    md.get_pre_data()"
   ]
  },
  {
   "cell_type": "code",
   "execution_count": null,
   "metadata": {},
   "outputs": [],
   "source": [
    "md.get_pre_data()"
   ]
  },
  {
   "attachments": {},
   "cell_type": "markdown",
   "metadata": {},
   "source": [
    "# BioProcess Class Test"
   ]
  },
  {
   "attachments": {},
   "cell_type": "markdown",
   "metadata": {},
   "source": [
    "## In-Process"
   ]
  },
  {
   "attachments": {},
   "cell_type": "markdown",
   "metadata": {},
   "source": [
    "In in-process, the cumulative concentration will be calculated, <br>\n",
    "and then specific rate will be calculated using the two-point calculation."
   ]
  },
  {
   "attachments": {},
   "cell_type": "markdown",
   "metadata": {},
   "source": [
    "### Cell Line 1"
   ]
  },
  {
   "attachments": {},
   "cell_type": "markdown",
   "metadata": {},
   "source": [
    "There are the measurements of the feed concentration <br>\n",
    "There are NOT measuremeents of the concentraion after feeding"
   ]
  },
  {
   "cell_type": "code",
   "execution_count": 5,
   "metadata": {},
   "outputs": [
    {
     "name": "stdout",
     "output_type": "stream",
     "text": [
      "Tesinting BioProcess Class for CL1_1.xlsx.\n",
      "Complete In-Process.\n",
      "Tesinting BioProcess Class for CL1_2.xlsx.\n",
      "Complete In-Process.\n",
      "Tesinting BioProcess Class for CL1_3.xlsx.\n",
      "Complete In-Process.\n"
     ]
    }
   ],
   "source": [
    "from CCDPApy import BioProcess\n",
    "\n",
    "files = ['CL1_1.xlsx', 'CL1_2.xlsx', 'CL1_3.xlsx']\n",
    "#spc = ['Glucose','Lactate','Glutamine','Asparagine','Aspartate']\n",
    "\n",
    "feed_concentration = True\n",
    "concentration_after_feed = False\n",
    "\n",
    "cell_line_1 = {}\n",
    "for input_file in files:\n",
    "    print(f'Tesinting BioProcess Class for {input_file}.')\n",
    "    bio_process = BioProcess(file_name=input_file,\n",
    "                             #spc_list=spc,\n",
    "                             #new_spc_list=['new'],\n",
    "                             )\n",
    "    bio_process.in_process(feed_concentration=feed_concentration, \n",
    "                           concentration_after_feed=concentration_after_feed)\n",
    "    print(f'Complete In-Process.')\n",
    "    cell_line_1[input_file.split('.')[0]] = bio_process\n",
    "    \n",
    "cell_line_1.keys()\n",
    "exp_list = ['CL1_1', 'CL1_2', 'CL1_3']\n",
    "exp = exp_list[0]"
   ]
  },
  {
   "attachments": {},
   "cell_type": "markdown",
   "metadata": {},
   "source": [
    "Display Experiment Information"
   ]
  },
  {
   "cell_type": "code",
   "execution_count": 6,
   "metadata": {},
   "outputs": [
    {
     "name": "stdout",
     "output_type": "stream",
     "text": [
      "\n",
      "************ Experiment Information ************\n",
      "Cell Line:              Sample CL1\n",
      "Experiment ID:          Sample CL1_1\n",
      "Experimenter Name:      CL1_1\n",
      "Initial Culture Volume: 74.0 (mL)\n",
      "Separate Feed List:\n",
      "['GLUTAMINE']\n",
      "Species List:\n",
      "['ALANINE', 'ARGININE', 'ASPARAGINE', 'ASPARTATE', 'CYSTINE', 'GLUCOSE', 'GLUTAMINE', 'GLUTAMATE', 'GLYCINE', 'HISTIDINE', 'ISOLEUCINE', 'LACTATE', 'LEUCINE', 'LYSINE', 'METHIONINE', 'NH3', 'PHENYLALANINE', 'PROLINE', 'SERINE', 'THREONINE', 'TRYPTOPHAN', 'TYROSINE', 'VALINE', 'ETHANOLAMINE']\n"
     ]
    }
   ],
   "source": [
    "cell_line_1[exp].disp_data(exp_info=True)"
   ]
  },
  {
   "attachments": {},
   "cell_type": "markdown",
   "metadata": {},
   "source": [
    "Data about Cell"
   ]
  },
  {
   "cell_type": "code",
   "execution_count": 20,
   "metadata": {},
   "outputs": [
    {
     "data": {
      "text/html": [
       "<div>\n",
       "<style scoped>\n",
       "    .dataframe tbody tr th:only-of-type {\n",
       "        vertical-align: middle;\n",
       "    }\n",
       "\n",
       "    .dataframe tbody tr th {\n",
       "        vertical-align: top;\n",
       "    }\n",
       "\n",
       "    .dataframe thead th {\n",
       "        text-align: right;\n",
       "    }\n",
       "</style>\n",
       "<table border=\"1\" class=\"dataframe\">\n",
       "  <thead>\n",
       "    <tr style=\"text-align: right;\">\n",
       "      <th></th>\n",
       "      <th>run_time_(hrs)</th>\n",
       "      <th>viable_cell_conc_(10^6_cells/mL)</th>\n",
       "      <th>dead_cell_conc_(10^6_cells/mL)</th>\n",
       "      <th>total_cell_conc_(10^6_cells/mL)</th>\n",
       "      <th>ivcc_(x10^6_cells_hr/mL)</th>\n",
       "      <th>cumCell_(x10^6_cells)</th>\n",
       "      <th>viability_(%)</th>\n",
       "      <th>qCell_(1/hr)</th>\n",
       "      <th>kd</th>\n",
       "      <th>mv</th>\n",
       "    </tr>\n",
       "  </thead>\n",
       "  <tbody>\n",
       "    <tr>\n",
       "      <th>0</th>\n",
       "      <td>0.000000</td>\n",
       "      <td>0.246</td>\n",
       "      <td>0.000000</td>\n",
       "      <td>0.246000</td>\n",
       "      <td>0.000000</td>\n",
       "      <td>0.000</td>\n",
       "      <td>100.0</td>\n",
       "      <td>NaN</td>\n",
       "      <td>NaN</td>\n",
       "      <td>NaN</td>\n",
       "    </tr>\n",
       "    <tr>\n",
       "      <th>1</th>\n",
       "      <td>23.883333</td>\n",
       "      <td>0.542</td>\n",
       "      <td>0.005475</td>\n",
       "      <td>0.547475</td>\n",
       "      <td>9.410033</td>\n",
       "      <td>21.608</td>\n",
       "      <td>99.0</td>\n",
       "      <td>0.031456</td>\n",
       "      <td>0.000582</td>\n",
       "      <td>0.032038</td>\n",
       "    </tr>\n",
       "    <tr>\n",
       "      <th>2</th>\n",
       "      <td>38.550000</td>\n",
       "      <td>0.940</td>\n",
       "      <td>0.005674</td>\n",
       "      <td>0.945674</td>\n",
       "      <td>20.278033</td>\n",
       "      <td>50.065</td>\n",
       "      <td>99.4</td>\n",
       "      <td>0.036621</td>\n",
       "      <td>0.000018</td>\n",
       "      <td>0.036640</td>\n",
       "    </tr>\n",
       "    <tr>\n",
       "      <th>3</th>\n",
       "      <td>47.583333</td>\n",
       "      <td>1.430</td>\n",
       "      <td>0.011532</td>\n",
       "      <td>1.441532</td>\n",
       "      <td>30.982533</td>\n",
       "      <td>84.365</td>\n",
       "      <td>99.2</td>\n",
       "      <td>0.045775</td>\n",
       "      <td>0.000547</td>\n",
       "      <td>0.046322</td>\n",
       "    </tr>\n",
       "    <tr>\n",
       "      <th>4</th>\n",
       "      <td>62.650000</td>\n",
       "      <td>3.110</td>\n",
       "      <td>0.076475</td>\n",
       "      <td>3.186475</td>\n",
       "      <td>65.183867</td>\n",
       "      <td>199.445</td>\n",
       "      <td>97.6</td>\n",
       "      <td>0.049121</td>\n",
       "      <td>0.001899</td>\n",
       "      <td>0.051020</td>\n",
       "    </tr>\n",
       "  </tbody>\n",
       "</table>\n",
       "</div>"
      ],
      "text/plain": [
       "   run_time_(hrs)  viable_cell_conc_(10^6_cells/mL)  \\\n",
       "0        0.000000                             0.246   \n",
       "1       23.883333                             0.542   \n",
       "2       38.550000                             0.940   \n",
       "3       47.583333                             1.430   \n",
       "4       62.650000                             3.110   \n",
       "\n",
       "   dead_cell_conc_(10^6_cells/mL)  total_cell_conc_(10^6_cells/mL)  \\\n",
       "0                        0.000000                         0.246000   \n",
       "1                        0.005475                         0.547475   \n",
       "2                        0.005674                         0.945674   \n",
       "3                        0.011532                         1.441532   \n",
       "4                        0.076475                         3.186475   \n",
       "\n",
       "   ivcc_(x10^6_cells_hr/mL)  cumCell_(x10^6_cells)  viability_(%)  \\\n",
       "0                  0.000000                  0.000          100.0   \n",
       "1                  9.410033                 21.608           99.0   \n",
       "2                 20.278033                 50.065           99.4   \n",
       "3                 30.982533                 84.365           99.2   \n",
       "4                 65.183867                199.445           97.6   \n",
       "\n",
       "   qCell_(1/hr)        kd        mv  \n",
       "0           NaN       NaN       NaN  \n",
       "1      0.031456  0.000582  0.032038  \n",
       "2      0.036621  0.000018  0.036640  \n",
       "3      0.045775  0.000547  0.046322  \n",
       "4      0.049121  0.001899  0.051020  "
      ]
     },
     "execution_count": 20,
     "metadata": {},
     "output_type": "execute_result"
    }
   ],
   "source": [
    "cell = cell_line_1[exp].get_species('cell')\n",
    "# DataFrame\n",
    "cell.get_in_process.head()\n",
    "# Display\n",
    "# cell.disp_in_process"
   ]
  },
  {
   "cell_type": "code",
   "execution_count": null,
   "metadata": {},
   "outputs": [],
   "source": [
    "cell."
   ]
  },
  {
   "attachments": {},
   "cell_type": "markdown",
   "metadata": {},
   "source": [
    "Data about Oxygen"
   ]
  },
  {
   "cell_type": "code",
   "execution_count": 8,
   "metadata": {},
   "outputs": [
    {
     "data": {
      "text/html": [
       "<div>\n",
       "<style scoped>\n",
       "    .dataframe tbody tr th:only-of-type {\n",
       "        vertical-align: middle;\n",
       "    }\n",
       "\n",
       "    .dataframe tbody tr th {\n",
       "        vertical-align: top;\n",
       "    }\n",
       "\n",
       "    .dataframe thead th {\n",
       "        text-align: right;\n",
       "    }\n",
       "</style>\n",
       "<table border=\"1\" class=\"dataframe\">\n",
       "  <thead>\n",
       "    <tr style=\"text-align: right;\">\n",
       "      <th></th>\n",
       "      <th>run_time_(hrs)</th>\n",
       "      <th>cumOxygen_(mmol)</th>\n",
       "      <th>sOUR_(mmol/10^9_cells/hr)</th>\n",
       "      <th>qOxygen_(mmol/109cell/hr)</th>\n",
       "    </tr>\n",
       "  </thead>\n",
       "  <tbody>\n",
       "    <tr>\n",
       "      <th>0</th>\n",
       "      <td>0.000000</td>\n",
       "      <td>0.0</td>\n",
       "      <td>NaN</td>\n",
       "      <td>NaN</td>\n",
       "    </tr>\n",
       "    <tr>\n",
       "      <th>1</th>\n",
       "      <td>23.883333</td>\n",
       "      <td>0.0</td>\n",
       "      <td>NaN</td>\n",
       "      <td>0.419000</td>\n",
       "    </tr>\n",
       "    <tr>\n",
       "      <th>2</th>\n",
       "      <td>38.550000</td>\n",
       "      <td>0.0</td>\n",
       "      <td>NaN</td>\n",
       "      <td>0.359819</td>\n",
       "    </tr>\n",
       "    <tr>\n",
       "      <th>3</th>\n",
       "      <td>47.583333</td>\n",
       "      <td>0.0</td>\n",
       "      <td>NaN</td>\n",
       "      <td>0.333631</td>\n",
       "    </tr>\n",
       "    <tr>\n",
       "      <th>4</th>\n",
       "      <td>62.650000</td>\n",
       "      <td>0.0</td>\n",
       "      <td>NaN</td>\n",
       "      <td>0.328495</td>\n",
       "    </tr>\n",
       "    <tr>\n",
       "      <th>5</th>\n",
       "      <td>71.750000</td>\n",
       "      <td>0.0</td>\n",
       "      <td>NaN</td>\n",
       "      <td>0.320000</td>\n",
       "    </tr>\n",
       "    <tr>\n",
       "      <th>6</th>\n",
       "      <td>95.533333</td>\n",
       "      <td>0.0</td>\n",
       "      <td>NaN</td>\n",
       "      <td>0.152000</td>\n",
       "    </tr>\n",
       "    <tr>\n",
       "      <th>7</th>\n",
       "      <td>121.100000</td>\n",
       "      <td>0.0</td>\n",
       "      <td>NaN</td>\n",
       "      <td>0.136000</td>\n",
       "    </tr>\n",
       "    <tr>\n",
       "      <th>8</th>\n",
       "      <td>143.833333</td>\n",
       "      <td>0.0</td>\n",
       "      <td>NaN</td>\n",
       "      <td>0.135114</td>\n",
       "    </tr>\n",
       "    <tr>\n",
       "      <th>9</th>\n",
       "      <td>167.400000</td>\n",
       "      <td>0.0</td>\n",
       "      <td>NaN</td>\n",
       "      <td>0.110480</td>\n",
       "    </tr>\n",
       "    <tr>\n",
       "      <th>10</th>\n",
       "      <td>192.000000</td>\n",
       "      <td>0.0</td>\n",
       "      <td>NaN</td>\n",
       "      <td>0.077414</td>\n",
       "    </tr>\n",
       "    <tr>\n",
       "      <th>11</th>\n",
       "      <td>215.650000</td>\n",
       "      <td>0.0</td>\n",
       "      <td>NaN</td>\n",
       "      <td>0.104174</td>\n",
       "    </tr>\n",
       "    <tr>\n",
       "      <th>12</th>\n",
       "      <td>233.466667</td>\n",
       "      <td>0.0</td>\n",
       "      <td>NaN</td>\n",
       "      <td>0.132162</td>\n",
       "    </tr>\n",
       "  </tbody>\n",
       "</table>\n",
       "</div>"
      ],
      "text/plain": [
       "    run_time_(hrs)  cumOxygen_(mmol)  sOUR_(mmol/10^9_cells/hr)  \\\n",
       "0         0.000000               0.0                        NaN   \n",
       "1        23.883333               0.0                        NaN   \n",
       "2        38.550000               0.0                        NaN   \n",
       "3        47.583333               0.0                        NaN   \n",
       "4        62.650000               0.0                        NaN   \n",
       "5        71.750000               0.0                        NaN   \n",
       "6        95.533333               0.0                        NaN   \n",
       "7       121.100000               0.0                        NaN   \n",
       "8       143.833333               0.0                        NaN   \n",
       "9       167.400000               0.0                        NaN   \n",
       "10      192.000000               0.0                        NaN   \n",
       "11      215.650000               0.0                        NaN   \n",
       "12      233.466667               0.0                        NaN   \n",
       "\n",
       "    qOxygen_(mmol/109cell/hr)  \n",
       "0                         NaN  \n",
       "1                    0.419000  \n",
       "2                    0.359819  \n",
       "3                    0.333631  \n",
       "4                    0.328495  \n",
       "5                    0.320000  \n",
       "6                    0.152000  \n",
       "7                    0.136000  \n",
       "8                    0.135114  \n",
       "9                    0.110480  \n",
       "10                   0.077414  \n",
       "11                   0.104174  \n",
       "12                   0.132162  "
      ]
     },
     "execution_count": 8,
     "metadata": {},
     "output_type": "execute_result"
    }
   ],
   "source": [
    "oxy = cell_line_1[exp].get_species('oxygen')\n",
    "# DataFrame\n",
    "oxy.get_in_process\n",
    "# Display\n",
    "# oxy.disp_in_process"
   ]
  },
  {
   "attachments": {},
   "cell_type": "markdown",
   "metadata": {},
   "source": [
    "Data about Product(IgG)"
   ]
  },
  {
   "cell_type": "code",
   "execution_count": 9,
   "metadata": {},
   "outputs": [
    {
     "data": {
      "text/html": [
       "<div>\n",
       "<style scoped>\n",
       "    .dataframe tbody tr th:only-of-type {\n",
       "        vertical-align: middle;\n",
       "    }\n",
       "\n",
       "    .dataframe tbody tr th {\n",
       "        vertical-align: top;\n",
       "    }\n",
       "\n",
       "    .dataframe thead th {\n",
       "        text-align: right;\n",
       "    }\n",
       "</style>\n",
       "<table border=\"1\" class=\"dataframe\">\n",
       "  <thead>\n",
       "    <tr style=\"text-align: right;\">\n",
       "      <th></th>\n",
       "      <th>run_time_(hrs)</th>\n",
       "      <th>cumProduct_(mg)</th>\n",
       "      <th>qProduct_(mg/10^9_cell/hr)</th>\n",
       "    </tr>\n",
       "  </thead>\n",
       "  <tbody>\n",
       "    <tr>\n",
       "      <th>0</th>\n",
       "      <td>0.000000</td>\n",
       "      <td>0.000000</td>\n",
       "      <td>NaN</td>\n",
       "    </tr>\n",
       "    <tr>\n",
       "      <th>1</th>\n",
       "      <td>23.883333</td>\n",
       "      <td>0.079116</td>\n",
       "      <td>0.115173</td>\n",
       "    </tr>\n",
       "    <tr>\n",
       "      <th>2</th>\n",
       "      <td>38.550000</td>\n",
       "      <td>0.128232</td>\n",
       "      <td>0.063207</td>\n",
       "    </tr>\n",
       "    <tr>\n",
       "      <th>3</th>\n",
       "      <td>47.583333</td>\n",
       "      <td>0.194380</td>\n",
       "      <td>0.088278</td>\n",
       "    </tr>\n",
       "    <tr>\n",
       "      <th>4</th>\n",
       "      <td>62.650000</td>\n",
       "      <td>0.306660</td>\n",
       "      <td>0.047926</td>\n",
       "    </tr>\n",
       "    <tr>\n",
       "      <th>5</th>\n",
       "      <td>71.750000</td>\n",
       "      <td>0.583638</td>\n",
       "      <td>0.121224</td>\n",
       "    </tr>\n",
       "    <tr>\n",
       "      <th>6</th>\n",
       "      <td>95.533333</td>\n",
       "      <td>1.643073</td>\n",
       "      <td>0.096033</td>\n",
       "    </tr>\n",
       "    <tr>\n",
       "      <th>7</th>\n",
       "      <td>121.100000</td>\n",
       "      <td>3.910237</td>\n",
       "      <td>0.102711</td>\n",
       "    </tr>\n",
       "    <tr>\n",
       "      <th>8</th>\n",
       "      <td>143.833333</td>\n",
       "      <td>4.337747</td>\n",
       "      <td>0.018206</td>\n",
       "    </tr>\n",
       "    <tr>\n",
       "      <th>9</th>\n",
       "      <td>167.400000</td>\n",
       "      <td>7.571374</td>\n",
       "      <td>0.117909</td>\n",
       "    </tr>\n",
       "    <tr>\n",
       "      <th>10</th>\n",
       "      <td>192.000000</td>\n",
       "      <td>9.444070</td>\n",
       "      <td>0.065066</td>\n",
       "    </tr>\n",
       "    <tr>\n",
       "      <th>11</th>\n",
       "      <td>215.650000</td>\n",
       "      <td>11.640536</td>\n",
       "      <td>0.083756</td>\n",
       "    </tr>\n",
       "    <tr>\n",
       "      <th>12</th>\n",
       "      <td>233.466667</td>\n",
       "      <td>13.059868</td>\n",
       "      <td>0.081247</td>\n",
       "    </tr>\n",
       "  </tbody>\n",
       "</table>\n",
       "</div>"
      ],
      "text/plain": [
       "    run_time_(hrs)  cumProduct_(mg)  qProduct_(mg/10^9_cell/hr)\n",
       "0         0.000000         0.000000                         NaN\n",
       "1        23.883333         0.079116                    0.115173\n",
       "2        38.550000         0.128232                    0.063207\n",
       "3        47.583333         0.194380                    0.088278\n",
       "4        62.650000         0.306660                    0.047926\n",
       "5        71.750000         0.583638                    0.121224\n",
       "6        95.533333         1.643073                    0.096033\n",
       "7       121.100000         3.910237                    0.102711\n",
       "8       143.833333         4.337747                    0.018206\n",
       "9       167.400000         7.571374                    0.117909\n",
       "10      192.000000         9.444070                    0.065066\n",
       "11      215.650000        11.640536                    0.083756\n",
       "12      233.466667        13.059868                    0.081247"
      ]
     },
     "execution_count": 9,
     "metadata": {},
     "output_type": "execute_result"
    }
   ],
   "source": [
    "product = cell_line_1[exp].get_species('product')\n",
    "# DataFrame\n",
    "product.get_in_process\n",
    "# Display\n",
    "# product.disp_in_process"
   ]
  },
  {
   "attachments": {},
   "cell_type": "markdown",
   "metadata": {},
   "source": [
    "Data about other metabolite"
   ]
  },
  {
   "cell_type": "code",
   "execution_count": 11,
   "metadata": {},
   "outputs": [
    {
     "data": {
      "text/html": [
       "<div>\n",
       "<style scoped>\n",
       "    .dataframe tbody tr th:only-of-type {\n",
       "        vertical-align: middle;\n",
       "    }\n",
       "\n",
       "    .dataframe tbody tr th {\n",
       "        vertical-align: top;\n",
       "    }\n",
       "\n",
       "    .dataframe thead th {\n",
       "        text-align: right;\n",
       "    }\n",
       "</style>\n",
       "<table border=\"1\" class=\"dataframe\">\n",
       "  <thead>\n",
       "    <tr style=\"text-align: right;\">\n",
       "      <th></th>\n",
       "      <th>run_time_(hrs)</th>\n",
       "      <th>cumGlucose_(mmol)</th>\n",
       "      <th>qGlucose_(mmol/10^9_cell/hr)</th>\n",
       "    </tr>\n",
       "  </thead>\n",
       "  <tbody>\n",
       "    <tr>\n",
       "      <th>0</th>\n",
       "      <td>0.000000</td>\n",
       "      <td>0.000000</td>\n",
       "      <td>NaN</td>\n",
       "    </tr>\n",
       "    <tr>\n",
       "      <th>1</th>\n",
       "      <td>23.883333</td>\n",
       "      <td>0.151536</td>\n",
       "      <td>0.220599</td>\n",
       "    </tr>\n",
       "    <tr>\n",
       "      <th>2</th>\n",
       "      <td>38.550000</td>\n",
       "      <td>0.255331</td>\n",
       "      <td>0.133573</td>\n",
       "    </tr>\n",
       "    <tr>\n",
       "      <th>3</th>\n",
       "      <td>47.583333</td>\n",
       "      <td>0.430951</td>\n",
       "      <td>0.234375</td>\n",
       "    </tr>\n",
       "    <tr>\n",
       "      <th>4</th>\n",
       "      <td>62.650000</td>\n",
       "      <td>0.711053</td>\n",
       "      <td>0.119559</td>\n",
       "    </tr>\n",
       "    <tr>\n",
       "      <th>5</th>\n",
       "      <td>71.750000</td>\n",
       "      <td>0.869542</td>\n",
       "      <td>0.069365</td>\n",
       "    </tr>\n",
       "    <tr>\n",
       "      <th>6</th>\n",
       "      <td>95.533333</td>\n",
       "      <td>1.333046</td>\n",
       "      <td>0.042014</td>\n",
       "    </tr>\n",
       "    <tr>\n",
       "      <th>7</th>\n",
       "      <td>121.100000</td>\n",
       "      <td>2.214421</td>\n",
       "      <td>0.039929</td>\n",
       "    </tr>\n",
       "    <tr>\n",
       "      <th>8</th>\n",
       "      <td>143.833333</td>\n",
       "      <td>3.013392</td>\n",
       "      <td>0.034025</td>\n",
       "    </tr>\n",
       "    <tr>\n",
       "      <th>9</th>\n",
       "      <td>167.400000</td>\n",
       "      <td>3.950865</td>\n",
       "      <td>0.034183</td>\n",
       "    </tr>\n",
       "    <tr>\n",
       "      <th>10</th>\n",
       "      <td>192.000000</td>\n",
       "      <td>4.980034</td>\n",
       "      <td>0.035758</td>\n",
       "    </tr>\n",
       "    <tr>\n",
       "      <th>11</th>\n",
       "      <td>215.650000</td>\n",
       "      <td>5.745724</td>\n",
       "      <td>0.029197</td>\n",
       "    </tr>\n",
       "    <tr>\n",
       "      <th>12</th>\n",
       "      <td>233.466667</td>\n",
       "      <td>6.155640</td>\n",
       "      <td>0.023465</td>\n",
       "    </tr>\n",
       "  </tbody>\n",
       "</table>\n",
       "</div>"
      ],
      "text/plain": [
       "    run_time_(hrs)  cumGlucose_(mmol)  qGlucose_(mmol/10^9_cell/hr)\n",
       "0         0.000000           0.000000                           NaN\n",
       "1        23.883333           0.151536                      0.220599\n",
       "2        38.550000           0.255331                      0.133573\n",
       "3        47.583333           0.430951                      0.234375\n",
       "4        62.650000           0.711053                      0.119559\n",
       "5        71.750000           0.869542                      0.069365\n",
       "6        95.533333           1.333046                      0.042014\n",
       "7       121.100000           2.214421                      0.039929\n",
       "8       143.833333           3.013392                      0.034025\n",
       "9       167.400000           3.950865                      0.034183\n",
       "10      192.000000           4.980034                      0.035758\n",
       "11      215.650000           5.745724                      0.029197\n",
       "12      233.466667           6.155640                      0.023465"
      ]
     },
     "execution_count": 11,
     "metadata": {},
     "output_type": "execute_result"
    }
   ],
   "source": [
    "glc = cell_line_1[exp].get_species('glucose')\n",
    "glc.get_in_process"
   ]
  },
  {
   "attachments": {},
   "cell_type": "markdown",
   "metadata": {},
   "source": [
    "In-process data"
   ]
  },
  {
   "cell_type": "code",
   "execution_count": 14,
   "metadata": {},
   "outputs": [
    {
     "ename": "AttributeError",
     "evalue": "'BioProcess' object has no attribute '_pre_process'",
     "output_type": "error",
     "traceback": [
      "\u001b[0;31m---------------------------------------------------------------------------\u001b[0m",
      "\u001b[0;31mAttributeError\u001b[0m                            Traceback (most recent call last)",
      "\u001b[1;32m/Users/galileo/development/Reserch/UMN_Research/CCDPA_git/CCDPApy/test.ipynb Cell 32\u001b[0m in \u001b[0;36m<cell line: 1>\u001b[0;34m()\u001b[0m\n\u001b[0;32m----> <a href='vscode-notebook-cell:/Users/galileo/development/Reserch/UMN_Research/CCDPA_git/CCDPApy/test.ipynb#X44sZmlsZQ%3D%3D?line=0'>1</a>\u001b[0m bio_process\u001b[39m.\u001b[39;49mget_pre_process()\n",
      "File \u001b[0;32m~/development/Reserch/UMN_Research/CCDPA_git/CCDPApy/CCDPApy/BioProcess/GetterMixin.py:99\u001b[0m, in \u001b[0;36mGetterMixin.get_pre_process\u001b[0;34m(self)\u001b[0m\n\u001b[1;32m     98\u001b[0m \u001b[39mdef\u001b[39;00m \u001b[39mget_pre_process\u001b[39m(\u001b[39mself\u001b[39m):\n\u001b[0;32m---> 99\u001b[0m     \u001b[39mreturn\u001b[39;00m \u001b[39mself\u001b[39;49m\u001b[39m.\u001b[39;49m_pre_process\n",
      "\u001b[0;31mAttributeError\u001b[0m: 'BioProcess' object has no attribute '_pre_process'"
     ]
    }
   ],
   "source": [
    "bio_process.get_pre_process()"
   ]
  },
  {
   "attachments": {},
   "cell_type": "markdown",
   "metadata": {},
   "source": [
    "### Cell Line 2"
   ]
  },
  {
   "cell_type": "code",
   "execution_count": null,
   "metadata": {},
   "outputs": [],
   "source": [
    "from CCDPApy import BioProcess\n",
    "\n",
    "files = ['CL2_1.xlsx', 'CL2_2.xlsx', 'CL2_3.xlsx']\n",
    "\n",
    "feed_concentration = False\n",
    "concentration_after_feed = True\n",
    "\n",
    "cell_line_2 = {}\n",
    "for input_file in files:\n",
    "    print(f'Tesinting BioProcess Class for {input_file}.')\n",
    "    bio_process = BioProcess(file_name=input_file)\n",
    "    bio_process.in_process(feed_concentration=feed_concentration, \n",
    "                           concentration_after_feed=concentration_after_feed)\n",
    "    print(f'Complete In-Process.')\n",
    "    cell_line_2[input_file.split('.')[0]] = bio_process"
   ]
  },
  {
   "cell_type": "code",
   "execution_count": null,
   "metadata": {},
   "outputs": [],
   "source": [
    "cell = bio_process.get_species('cell')\n",
    "cell.get_in_process"
   ]
  },
  {
   "cell_type": "code",
   "execution_count": null,
   "metadata": {},
   "outputs": [],
   "source": [
    "igg = bio_process.get_species('product')\n",
    "igg.get_in_process"
   ]
  },
  {
   "cell_type": "code",
   "execution_count": null,
   "metadata": {},
   "outputs": [],
   "source": [
    "ala = bio_process.get_species('alanine')\n",
    "ala.get_in_process"
   ]
  },
  {
   "attachments": {},
   "cell_type": "markdown",
   "metadata": {},
   "source": [
    "### Cell Line 3"
   ]
  },
  {
   "cell_type": "code",
   "execution_count": null,
   "metadata": {},
   "outputs": [],
   "source": [
    "from CCDPApy import BioProcess\n",
    "\n",
    "files = ['CL3_1.xlsx', 'CL3_2.xlsx', 'CL3_3.xlsx']\n",
    "\n",
    "feed_concentration = False\n",
    "concentration_after_feed = False\n",
    "\n",
    "cell_line_3 = {}\n",
    "for input_file in files:\n",
    "    print(f'Tesinting BioProcess Class for {input_file}.')\n",
    "    bio_process = BioProcess(file_name=input_file)\n",
    "    bio_process.in_process(feed_concentration=feed_concentration, \n",
    "                           concentration_after_feed=concentration_after_feed)\n",
    "    print(f'Complete In-Process.')\n",
    "    cell_line_3[input_file.split('.')[0]] = bio_process"
   ]
  },
  {
   "cell_type": "code",
   "execution_count": null,
   "metadata": {},
   "outputs": [],
   "source": []
  },
  {
   "attachments": {},
   "cell_type": "markdown",
   "metadata": {},
   "source": [
    "## Display Pre-Process Data"
   ]
  },
  {
   "cell_type": "code",
   "execution_count": null,
   "metadata": {},
   "outputs": [],
   "source": [
    "#bio_process.disp_data(exp_info=False, process='prepro')"
   ]
  },
  {
   "attachments": {},
   "cell_type": "markdown",
   "metadata": {},
   "source": [
    "## Post-Process"
   ]
  },
  {
   "attachments": {},
   "cell_type": "markdown",
   "metadata": {},
   "source": [
    "### Polynomial Regression"
   ]
  },
  {
   "attachments": {},
   "cell_type": "markdown",
   "metadata": {},
   "source": [
    "Cell Line 1"
   ]
  },
  {
   "cell_type": "code",
   "execution_count": null,
   "metadata": {},
   "outputs": [],
   "source": [
    "cell_line_1"
   ]
  },
  {
   "cell_type": "code",
   "execution_count": null,
   "metadata": {},
   "outputs": [],
   "source": [
    "poly_file = 'polynomial_order_1.xlsx'\n",
    "\n",
    "for name, cl in cell_line_1.items():\n",
    "    print(f'polynomial regression method. {name}.')\n",
    "    cl.poly_regression(polyorder_file=poly_file)\n",
    "    print(f'Completed.')"
   ]
  },
  {
   "cell_type": "code",
   "execution_count": null,
   "metadata": {},
   "outputs": [],
   "source": [
    "cell = cell_line_1['CL1_1'].get_species('cell')\n",
    "cell.get_post_process"
   ]
  },
  {
   "attachments": {},
   "cell_type": "markdown",
   "metadata": {},
   "source": [
    "Cell Line 2"
   ]
  },
  {
   "cell_type": "code",
   "execution_count": null,
   "metadata": {},
   "outputs": [],
   "source": [
    "cell_line_2"
   ]
  },
  {
   "cell_type": "code",
   "execution_count": null,
   "metadata": {},
   "outputs": [],
   "source": [
    "poly_file = 'polynomial_order_2.xlsx'\n",
    "\n",
    "for name, cl in cell_line_2.items():\n",
    "    print(f'polynomial regression method. {name}.')\n",
    "    cl.poly_regression(polyorder_file=poly_file)\n",
    "    print(f'Completed.')"
   ]
  },
  {
   "cell_type": "code",
   "execution_count": null,
   "metadata": {},
   "outputs": [],
   "source": [
    "ala = cell_line_2['CL2_1'].get_species('alanine')\n",
    "ala.get_in_process_data"
   ]
  },
  {
   "attachments": {},
   "cell_type": "markdown",
   "metadata": {},
   "source": [
    "Cell Line 3"
   ]
  },
  {
   "cell_type": "code",
   "execution_count": null,
   "metadata": {},
   "outputs": [],
   "source": [
    "cell_line_3"
   ]
  },
  {
   "cell_type": "code",
   "execution_count": null,
   "metadata": {},
   "outputs": [],
   "source": [
    "poly_file = 'polynomial_order_3.xlsx'\n",
    "\n",
    "for name, cl in cell_line_3.items():\n",
    "    print(f'polynomial regression method. {name}.')\n",
    "    cl.poly_regression(polyorder_file=poly_file)\n",
    "    print(f'Completed.')"
   ]
  },
  {
   "attachments": {},
   "cell_type": "markdown",
   "metadata": {},
   "source": [
    "### Rolling Window Polynomial Regression"
   ]
  },
  {
   "attachments": {},
   "cell_type": "markdown",
   "metadata": {},
   "source": [
    "Cell Line 1"
   ]
  },
  {
   "cell_type": "code",
   "execution_count": null,
   "metadata": {},
   "outputs": [],
   "source": [
    "for name, cl in cell_line_1.items():\n",
    "    print(f'rolling polynomial regression method. {name}.')\n",
    "    cl.roll_regression(degree=3, windows=6)\n",
    "    print(f'Completed.')"
   ]
  },
  {
   "cell_type": "code",
   "execution_count": null,
   "metadata": {},
   "outputs": [],
   "source": [
    "cl1_1 = cell_line_1['CL1_1']\n",
    "cl1_1"
   ]
  },
  {
   "cell_type": "code",
   "execution_count": null,
   "metadata": {},
   "outputs": [],
   "source": [
    "cl1_1.get_post_process_data()"
   ]
  },
  {
   "cell_type": "code",
   "execution_count": null,
   "metadata": {},
   "outputs": [],
   "source": [
    "cell = cl1_1.get_species('cell')\n",
    "cell.get_post_process_logistic"
   ]
  },
  {
   "cell_type": "code",
   "execution_count": null,
   "metadata": {},
   "outputs": [],
   "source": [
    "bio_process.get_post_process_data()"
   ]
  },
  {
   "cell_type": "code",
   "execution_count": null,
   "metadata": {},
   "outputs": [],
   "source": [
    "cl1_1 = cell_line_1['CL1_1']\n",
    "ala = cl1_1.get_species('alanine')\n",
    "ala._sp_rate_rollpoly, ala._t_mid"
   ]
  },
  {
   "attachments": {},
   "cell_type": "markdown",
   "metadata": {},
   "source": [
    "Cell Line 2"
   ]
  },
  {
   "cell_type": "code",
   "execution_count": null,
   "metadata": {},
   "outputs": [],
   "source": [
    "for name, cl in cell_line_2.items():\n",
    "    print(f'rolling polynomial regression method. {name}.')\n",
    "    cl.roll_regression(degree=3, windows=6)\n",
    "    print(f'Completed.')"
   ]
  },
  {
   "attachments": {},
   "cell_type": "markdown",
   "metadata": {},
   "source": [
    "Cell Line 3"
   ]
  },
  {
   "cell_type": "code",
   "execution_count": null,
   "metadata": {},
   "outputs": [],
   "source": [
    "for name, cl in cell_line_3.items():\n",
    "    print(f'rolling polynomial regression method. {name}.')\n",
    "    cl.roll_regression(degree=3, windows=6)\n",
    "    print(f'Completed.')"
   ]
  },
  {
   "attachments": {},
   "cell_type": "markdown",
   "metadata": {},
   "source": [
    "# Interactive Plot"
   ]
  },
  {
   "cell_type": "code",
   "execution_count": 1,
   "metadata": {},
   "outputs": [
    {
     "name": "stdout",
     "output_type": "stream",
     "text": [
      "Cell Line: Sample CL1\n",
      "Experiment 1: Sample CL1_1\n",
      "Experiment 2: Sample CL1_2\n",
      "Experiment 3: Sample CL1_3\n",
      "Cell Line: Sample CL2\n",
      "Experiment 1: Sample CL2_1\n",
      "Experiment 2: Sample CL2_2\n",
      "Experiment 3: Sample CL2_3\n",
      "Cell Line: Sample CL3\n",
      "Experiment 1: Sample CL3_1\n",
      "Experiment 2: Sample CL3_2\n",
      "Experiment 3: Sample CL3_3\n",
      "Dash is running on http://127.0.0.1:8050/\n",
      "\n"
     ]
    },
    {
     "data": {
      "text/html": [
       "\n",
       "        <iframe\n",
       "            width=\"100%\"\n",
       "            height=\"650\"\n",
       "            src=\"http://127.0.0.1:8050/\"\n",
       "            frameborder=\"0\"\n",
       "            allowfullscreen\n",
       "            \n",
       "        ></iframe>\n",
       "        "
      ],
      "text/plain": [
       "<IPython.lib.display.IFrame at 0x7f7abb558dc0>"
      ]
     },
     "metadata": {},
     "output_type": "display_data"
    }
   ],
   "source": [
    "from CCDPApy import CellLine    # used to aggregate all cell lines and experiments data\n",
    "from CCDPApy import bioprocess_pipeline\n",
    "from CCDPApy.BioProcess.BioProcess import BioProcess\n",
    "\n",
    "input_files_1 = ['CL1_1.xlsx', 'CL1_2.xlsx', 'CL1_3.xlsx']\n",
    "input_files_2 = ['CL2_1.xlsx', 'CL2_2.xlsx', 'CL2_3.xlsx']\n",
    "input_files_3 = ['CL3_1.xlsx', 'CL3_2.xlsx', 'CL3_3.xlsx']\n",
    "measurement_sheet = 'Measured Data'\n",
    "feed_sheet = 'Separate Feed Info'\n",
    "poly_file = 'polynomial_order_1.xlsx'\n",
    "\n",
    "cell_line = CellLine()\n",
    "\n",
    "# Cell Line 1\n",
    "for input in input_files_1:\n",
    "    bp = BioProcess(file_name=input,)\n",
    "    bp.in_process(feed_concentration=True, concentration_after_feed=False)\n",
    "    bp.polynomial(polyorder_file=poly_file)\n",
    "    bp.roll_regression(degree=3, windows=6)\n",
    "    cell_line.add_bio_process(bio_process=bp)\n",
    "# Cell Line 2\n",
    "for input in input_files_2:\n",
    "    bp = BioProcess(file_name=input,)\n",
    "    bp.in_process(feed_concentration=False, concentration_after_feed=True)\n",
    "    bp.polynomial(polyorder_file=poly_file)\n",
    "    bp.roll_regression(degree=3, windows=6)\n",
    "    cell_line.add_bio_process(bio_process=bp)\n",
    "# Cell Line 3\n",
    "for input in input_files_3:\n",
    "    bp = BioProcess(file_name=input,)\n",
    "    bp.in_process(feed_concentration=False, concentration_after_feed=False)\n",
    "    bp.polynomial(polyorder_file=poly_file)\n",
    "    bp.roll_regression(degree=3, windows=6)\n",
    "    cell_line.add_bio_process(bio_process=bp)\n",
    "\n",
    "cell_line.disp_cell_lines()\n",
    "\n",
    "cell_line.interactive_plot(mode='inline')"
   ]
  },
  {
   "attachments": {},
   "cell_type": "markdown",
   "metadata": {},
   "source": [
    "## Growth rate"
   ]
  },
  {
   "cell_type": "code",
   "execution_count": 2,
   "metadata": {},
   "outputs": [
    {
     "data": {
      "application/vnd.plotly.v1+json": {
       "config": {
        "plotlyServerURL": "https://plot.ly"
       },
       "data": [
        {
         "hovertemplate": "kind=viable<br>cellLine=Sample CL1<br>runID=Sample CL1_1<br>runTime=%{x}<br>value=%{y}<extra></extra>",
         "legendgroup": "viable, Sample CL1, Sample CL1_1",
         "line": {
          "color": "#636efa",
          "dash": "solid"
         },
         "marker": {
          "symbol": "circle"
         },
         "mode": "lines+markers",
         "name": "viable, Sample CL1, Sample CL1_1",
         "orientation": "v",
         "showlegend": true,
         "type": "scatter",
         "x": [
          0,
          23.883333333333333,
          38.55,
          47.583333333333336,
          62.65,
          71.75,
          95.53333333333333,
          121.1,
          143.83333333333334,
          167.4,
          192,
          215.65,
          233.46666666666667
         ],
         "xaxis": "x",
         "y": [
          0.246,
          0.542,
          0.94,
          1.43,
          3.11,
          4.385,
          9.54,
          16.200000000000003,
          18.8,
          20.3,
          18.7,
          17.9,
          14.2
         ],
         "yaxis": "y"
        },
        {
         "hovertemplate": "kind=viable<br>cellLine=Sample CL1<br>runID=Sample CL1_2<br>runTime=%{x}<br>value=%{y}<extra></extra>",
         "legendgroup": "viable, Sample CL1, Sample CL1_2",
         "line": {
          "color": "#636efa",
          "dash": "solid"
         },
         "marker": {
          "symbol": "diamond"
         },
         "mode": "lines+markers",
         "name": "viable, Sample CL1, Sample CL1_2",
         "orientation": "v",
         "showlegend": true,
         "type": "scatter",
         "x": [
          0,
          23.933333333333334,
          38.61666666666667,
          47.8,
          62.71666666666667,
          72.28333333333333,
          96.1,
          121.4,
          143.96666666666667,
          167.63333333333333,
          192.46666666666667,
          215.88333333333333,
          233.73333333333332
         ],
         "xaxis": "x",
         "y": [
          0.236,
          0.548,
          1.04,
          1.57,
          3.05,
          4.875,
          9.12,
          16.9,
          20,
          20.8,
          17.9,
          15.6,
          15.1
         ],
         "yaxis": "y"
        },
        {
         "hovertemplate": "kind=viable<br>cellLine=Sample CL1<br>runID=Sample CL1_3<br>runTime=%{x}<br>value=%{y}<extra></extra>",
         "legendgroup": "viable, Sample CL1, Sample CL1_3",
         "line": {
          "color": "#636efa",
          "dash": "solid"
         },
         "marker": {
          "symbol": "square"
         },
         "mode": "lines+markers",
         "name": "viable, Sample CL1, Sample CL1_3",
         "orientation": "v",
         "showlegend": true,
         "type": "scatter",
         "x": [
          0,
          23.933333333333334,
          38.61666666666667,
          47.8,
          62.71666666666667,
          72.28333333333333,
          96.1,
          121.4,
          143.96666666666667,
          167.63333333333333,
          192.46666666666667,
          215.88333333333333,
          233.73333333333332
         ],
         "xaxis": "x",
         "y": [
          0.187,
          0.403,
          0.887,
          1.62,
          3.26,
          5.17,
          9.14,
          17.4,
          19.5,
          20.299999999999997,
          18,
          16.4,
          15.6
         ],
         "yaxis": "y"
        },
        {
         "hovertemplate": "kind=viable<br>cellLine=Sample CL2<br>runID=Sample CL2_1<br>runTime=%{x}<br>value=%{y}<extra></extra>",
         "legendgroup": "viable, Sample CL2, Sample CL2_1",
         "line": {
          "color": "#636efa",
          "dash": "dot"
         },
         "marker": {
          "symbol": "x"
         },
         "mode": "lines+markers",
         "name": "viable, Sample CL2, Sample CL2_1",
         "orientation": "v",
         "showlegend": true,
         "type": "scatter",
         "x": [
          0,
          21.35,
          43.483333333333334,
          71.76666666666667,
          96.06666666666666,
          114.98333333333333,
          144.81666666666666,
          165.43333333333334,
          188.56666666666666,
          212.81666666666666,
          238.76666666666668,
          261.23333333333335,
          288.5833333333333,
          307.0833333333333,
          336.1666666666667
         ],
         "xaxis": "x",
         "y": [
          0.392931414937973,
          0.7161195708274841,
          1.1426844430923462,
          1.798854334449768,
          2.116601569747925,
          2.75,
          3.598696811294556,
          3.7216607166290285,
          3.7151316238403322,
          3.68,
          3.1373103691101076,
          3.033933742141724,
          2.8532966209411623,
          2.5866933895111086,
          2.595399005508423
         ],
         "yaxis": "y"
        },
        {
         "hovertemplate": "kind=viable<br>cellLine=Sample CL2<br>runID=Sample CL2_2<br>runTime=%{x}<br>value=%{y}<extra></extra>",
         "legendgroup": "viable, Sample CL2, Sample CL2_2",
         "line": {
          "color": "#636efa",
          "dash": "dot"
         },
         "marker": {
          "symbol": "cross"
         },
         "mode": "lines+markers",
         "name": "viable, Sample CL2, Sample CL2_2",
         "orientation": "v",
         "showlegend": true,
         "type": "scatter",
         "x": [
          0,
          21.089166666666667,
          43.23916666666667,
          71.5225,
          95.8225,
          114.6725,
          144.6225,
          165.2225,
          188.3225,
          212.50583333333333,
          238.48916666666668,
          261.1225,
          288.3225,
          306.8225,
          335.9058333333333
         ],
         "xaxis": "x",
         "y": [
          0.44516382942199706,
          0.7139432264328003,
          1.1002455783843994,
          1.7651208473205566,
          2.3549121452331545,
          2.7423025203704836,
          3.521436317062378,
          3.806538446044922,
          4.057906968688965,
          4.027438027954101,
          3.5421117378234865,
          3.7434242797851565,
          3.784774882888794,
          3.46158681640625,
          3.596520526504517
         ],
         "yaxis": "y"
        },
        {
         "hovertemplate": "kind=viable<br>cellLine=Sample CL2<br>runID=Sample CL2_3<br>runTime=%{x}<br>value=%{y}<extra></extra>",
         "legendgroup": "viable, Sample CL2, Sample CL2_3",
         "line": {
          "color": "#636efa",
          "dash": "dot"
         },
         "marker": {
          "symbol": "circle"
         },
         "mode": "lines+markers",
         "name": "viable, Sample CL2, Sample CL2_3",
         "orientation": "v",
         "showlegend": true,
         "type": "scatter",
         "x": [
          0,
          21.15,
          43.31666666666667,
          71.6,
          95.88333333333334,
          114.73333333333333,
          144.7,
          165.26666666666668,
          188.41666666666666,
          212.58333333333334,
          238.53333333333333,
          261.2,
          288.3833333333333,
          306.8833333333333,
          335.93333333333334
         ],
         "xaxis": "x",
         "y": [
          0.48869086632728576,
          0.6769452525138855,
          1.0469249320983887,
          1.4952533079147339,
          2.1176897121429445,
          2.567106349563599,
          3.485526664352417,
          3.814155681228638,
          3.9654120040893557,
          4.08293519744873,
          4.179782731628418,
          4.079670293426513,
          4.004586560821533,
          3.811979396438599,
          3.598696811294556
         ],
         "yaxis": "y"
        },
        {
         "hovertemplate": "kind=viable<br>cellLine=Sample CL3<br>runID=Sample CL3_1<br>runTime=%{x}<br>value=%{y}<extra></extra>",
         "legendgroup": "viable, Sample CL3, Sample CL3_1",
         "line": {
          "color": "#636efa",
          "dash": "dash"
         },
         "marker": {
          "symbol": "diamond"
         },
         "mode": "lines+markers",
         "name": "viable, Sample CL3, Sample CL3_1",
         "orientation": "v",
         "showlegend": true,
         "type": "scatter",
         "x": [
          0.6166666667559184,
          21.28333333338378,
          48.550000000046566,
          71.05000000004657,
          95.53333333338378,
          115.96666666679084,
          141.16666666668607,
          164.81666666676756,
          189.19999999995343,
          213.14999999996508,
          238.2666666667792,
          261.91666666668607,
          284.9166666667443,
          308.7500000000582,
          333.0999999999767
         ],
         "xaxis": "x",
         "y": [
          0.26,
          0.4324999881744384,
          0.84,
          1.4873000217437744,
          2.707300050354004,
          4.023599965667724,
          6.555300099945069,
          9.435000283813476,
          12.014300210571289,
          14.453400476074219,
          15.10840020904541,
          15.682599885559082,
          14.457500321960449,
          13.934400422668457,
          13.162699563598633
         ],
         "yaxis": "y"
        },
        {
         "hovertemplate": "kind=viable<br>cellLine=Sample CL3<br>runID=Sample CL3_2<br>runTime=%{x}<br>value=%{y}<extra></extra>",
         "legendgroup": "viable, Sample CL3, Sample CL3_2",
         "line": {
          "color": "#636efa",
          "dash": "dash"
         },
         "marker": {
          "symbol": "square"
         },
         "mode": "lines+markers",
         "name": "viable, Sample CL3, Sample CL3_2",
         "orientation": "v",
         "showlegend": true,
         "type": "scatter",
         "x": [
          0.5333333333255723,
          21.199999999953434,
          48.46666666661622,
          70.96666666661622,
          95.44999999995343,
          115.8833333333605,
          141.08333333325572,
          164.7333333333372,
          189.1166666665231,
          213.06666666653473,
          238.18333333334886,
          261.8333333332557,
          284.83333333331393,
          308.66666666662786,
          333.01666666654637
         ],
         "xaxis": "x",
         "y": [
          0.25,
          0.40849999914169305,
          0.79,
          1.343000037765503,
          2.6090999675750735,
          3.9289001060485846,
          6.475499971008301,
          9.810600144958496,
          12.582400186157226,
          15.96819959411621,
          16.75330053100586,
          16.191300256347656,
          16.12990079650879,
          15.486100061035156,
          12.88430009613037
         ],
         "yaxis": "y"
        },
        {
         "hovertemplate": "kind=viable<br>cellLine=Sample CL3<br>runID=Sample CL3_3<br>runTime=%{x}<br>value=%{y}<extra></extra>",
         "legendgroup": "viable, Sample CL3, Sample CL3_3",
         "line": {
          "color": "#636efa",
          "dash": "dash"
         },
         "marker": {
          "symbol": "x"
         },
         "mode": "lines+markers",
         "name": "viable, Sample CL3, Sample CL3_3",
         "orientation": "v",
         "showlegend": true,
         "type": "scatter",
         "x": [
          0.4500000000698492,
          21.11666666669771,
          48.3833333333605,
          70.8833333333605,
          95.36666666669771,
          115.80000000010477,
          141,
          164.6500000000815,
          189.03333333326736,
          212.983333333279,
          238.10000000009313,
          261.75,
          284.7500000000582,
          308.58333333337214,
          332.93333333329065
         ],
         "xaxis": "x",
         "y": [
          0.26,
          0.4631999863147735,
          0.8199999999999998,
          1.4616999460220337,
          2.734999997711182,
          4.044100148773193,
          6.726700170135499,
          9.945699555969238,
          12.50359998474121,
          15.666299684143066,
          16.470799310302734,
          15.796199662780761,
          16.0040005279541,
          15.927300317382812,
          13.334700448608398
         ],
         "yaxis": "y"
        },
        {
         "hovertemplate": "kind=dead<br>cellLine=Sample CL1<br>runID=Sample CL1_1<br>runTime=%{x}<br>value=%{y}<extra></extra>",
         "legendgroup": "dead, Sample CL1, Sample CL1_1",
         "line": {
          "color": "#EF553B",
          "dash": "solid"
         },
         "marker": {
          "symbol": "circle"
         },
         "mode": "lines+markers",
         "name": "dead, Sample CL1, Sample CL1_1",
         "orientation": "v",
         "showlegend": true,
         "type": "scatter",
         "x": [
          0,
          23.883333333333333,
          38.55,
          47.583333333333336,
          62.65,
          71.75,
          95.53333333333333,
          121.1,
          143.83333333333334,
          167.4,
          192,
          215.65,
          233.46666666666667
         ],
         "xaxis": "x",
         "y": [
          0,
          0.005474747474747521,
          0.005674044265593481,
          0.011532258064516077,
          0.07647540983606582,
          0.15433747412008358,
          0.3255635987590484,
          0.5182662538699674,
          1.1787460148777917,
          1.434475374732333,
          3.4563981042654035,
          6.857952973720607,
          7.250151057401812
         ],
         "yaxis": "y"
        },
        {
         "hovertemplate": "kind=dead<br>cellLine=Sample CL1<br>runID=Sample CL1_2<br>runTime=%{x}<br>value=%{y}<extra></extra>",
         "legendgroup": "dead, Sample CL1, Sample CL1_2",
         "line": {
          "color": "#EF553B",
          "dash": "solid"
         },
         "marker": {
          "symbol": "diamond"
         },
         "mode": "lines+markers",
         "name": "dead, Sample CL1, Sample CL1_2",
         "orientation": "v",
         "showlegend": true,
         "type": "scatter",
         "x": [
          0,
          23.933333333333334,
          38.61666666666667,
          47.8,
          62.71666666666667,
          72.28333333333333,
          96.1,
          121.4,
          143.96666666666667,
          167.63333333333333,
          192.46666666666667,
          215.88333333333333,
          233.73333333333332
         ],
         "xaxis": "x",
         "y": [
          0.005555783009211834,
          0.005535353535353504,
          0,
          0.004724172517552416,
          0.0975748194014443,
          0.1559597523219809,
          0.33077720207253947,
          0.7593521421107603,
          1.4362272240085758,
          1.2105820105820086,
          3.3085308056872016,
          6.590611664295876,
          8.45694227769111
         ],
         "yaxis": "y"
        },
        {
         "hovertemplate": "kind=dead<br>cellLine=Sample CL1<br>runID=Sample CL1_3<br>runTime=%{x}<br>value=%{y}<extra></extra>",
         "legendgroup": "dead, Sample CL1, Sample CL1_3",
         "line": {
          "color": "#EF553B",
          "dash": "solid"
         },
         "marker": {
          "symbol": "square"
         },
         "mode": "lines+markers",
         "name": "dead, Sample CL1, Sample CL1_3",
         "orientation": "v",
         "showlegend": true,
         "type": "scatter",
         "x": [
          0,
          23.933333333333334,
          38.61666666666667,
          47.8,
          62.71666666666667,
          72.28333333333333,
          96.1,
          121.4,
          143.96666666666667,
          167.63333333333333,
          192.46666666666667,
          215.88333333333333,
          233.73333333333332
         ],
         "xaxis": "x",
         "y": [
          0,
          0,
          0.010773279352226717,
          0.01141993957703935,
          0.03959514170040457,
          0.2835864978902958,
          0.4407127882599582,
          0.5566563467492252,
          1.026315789473685,
          1.765217391304347,
          4.113022113022112,
          6.065753424657537,
          8.326380368098159
         ],
         "yaxis": "y"
        },
        {
         "hovertemplate": "kind=dead<br>cellLine=Sample CL2<br>runID=Sample CL2_1<br>runTime=%{x}<br>value=%{y}<extra></extra>",
         "legendgroup": "dead, Sample CL2, Sample CL2_1",
         "line": {
          "color": "#EF553B",
          "dash": "dot"
         },
         "marker": {
          "symbol": "x"
         },
         "mode": "lines+markers",
         "name": "dead, Sample CL2, Sample CL2_1",
         "orientation": "v",
         "showlegend": true,
         "type": "scatter",
         "x": [
          0,
          21.35,
          43.483333333333334,
          71.76666666666667,
          96.06666666666666,
          114.98333333333333,
          144.81666666666666,
          165.43333333333334,
          188.56666666666666,
          212.81666666666666,
          238.76666666666668,
          261.23333333333335,
          288.5833333333333,
          307.0833333333333,
          336.1666666666667
         ],
         "xaxis": "x",
         "y": [
          0.021769053634453583,
          0.03373816311493927,
          0.03482470364988277,
          0.06420587154617419,
          0.09032290324141945,
          0.13986969314838182,
          0.09358569347003076,
          0.10120299010249001,
          0.09358573444843676,
          0.15333333333333377,
          0.10120356029387434,
          0.10555659603911804,
          0.15017350636532445,
          0.20567306894066917,
          0.20132016703516298
         ],
         "yaxis": "y"
        },
        {
         "hovertemplate": "kind=dead<br>cellLine=Sample CL2<br>runID=Sample CL2_2<br>runTime=%{x}<br>value=%{y}<extra></extra>",
         "legendgroup": "dead, Sample CL2, Sample CL2_2",
         "line": {
          "color": "#EF553B",
          "dash": "dot"
         },
         "marker": {
          "symbol": "cross"
         },
         "mode": "lines+markers",
         "name": "dead, Sample CL2, Sample CL2_2",
         "orientation": "v",
         "showlegend": true,
         "type": "scatter",
         "x": [
          0,
          21.089166666666667,
          43.23916666666667,
          71.5225,
          95.8225,
          114.6725,
          144.6225,
          165.2225,
          188.3225,
          212.50583333333333,
          238.48916666666668,
          261.1225,
          288.3225,
          306.8225,
          335.9058333333333
         ],
         "xaxis": "x",
         "y": [
          0.020679994113942612,
          0.038091495012565035,
          0.03917785133638563,
          0.06638249431646859,
          0.08488125216579512,
          0.09249826582659448,
          0.11317336898397246,
          0.11208490954389472,
          0.12731969640814444,
          0.14473102680149008,
          0.12623197464046187,
          0.11752610186149592,
          0.1762889797803613,
          0.16540745320683925,
          0.20131801060102106
         ],
         "yaxis": "y"
        },
        {
         "hovertemplate": "kind=dead<br>cellLine=Sample CL2<br>runID=Sample CL2_3<br>runTime=%{x}<br>value=%{y}<extra></extra>",
         "legendgroup": "dead, Sample CL2, Sample CL2_3",
         "line": {
          "color": "#EF553B",
          "dash": "dot"
         },
         "marker": {
          "symbol": "circle"
         },
         "mode": "lines+markers",
         "name": "dead, Sample CL2, Sample CL2_3",
         "orientation": "v",
         "showlegend": true,
         "type": "scatter",
         "x": [
          0,
          21.15,
          43.31666666666667,
          71.6,
          95.88333333333334,
          114.73333333333333,
          144.7,
          165.26666666666668,
          188.41666666666666,
          212.58333333333334,
          238.53333333333333,
          261.2,
          288.3833333333333,
          306.8833333333333,
          335.93333333333334
         ],
         "xaxis": "x",
         "y": [
          0.020679572415798764,
          0.020678394781625475,
          0.055502288527817356,
          0.07508918909579121,
          0.11644025197186902,
          0.10338072561781297,
          0.12949649971484023,
          0.09902644862902532,
          0.12623153610157312,
          0.15670112729679797,
          0.1284078907684254,
          0.16975965589714104,
          0.14690749931112101,
          0.18934745618324156,
          0.16431900820069156
         ],
         "yaxis": "y"
        },
        {
         "hovertemplate": "kind=dead<br>cellLine=Sample CL3<br>runID=Sample CL3_1<br>runTime=%{x}<br>value=%{y}<extra></extra>",
         "legendgroup": "dead, Sample CL3, Sample CL3_1",
         "line": {
          "color": "#EF553B",
          "dash": "dash"
         },
         "marker": {
          "symbol": "diamond"
         },
         "mode": "lines+markers",
         "name": "dead, Sample CL3, Sample CL3_1",
         "orientation": "v",
         "showlegend": true,
         "type": "scatter",
         "x": [
          0.6166666667559184,
          21.28333333338378,
          48.550000000046566,
          71.05000000004657,
          95.53333333338378,
          115.96666666679084,
          141.16666666668607,
          164.81666666676756,
          189.19999999995343,
          213.14999999996508,
          238.2666666667792,
          261.91666666668607,
          284.9166666667443,
          308.7500000000582,
          333.0999999999767
         ],
         "xaxis": "x",
         "y": [
          0.0010441767068273267,
          0.0025590320804282363,
          0.01106382978723408,
          0.017401904409480418,
          0.02558809138632201,
          0.03531265124853622,
          0.05424463937018498,
          0.07062644689919928,
          0.10234978773979186,
          0.12589256020654993,
          0.3019498382450294,
          0.3060386333322178,
          0.7379677102165463,
          1.1412409589211983,
          1.918113984665073
         ],
         "yaxis": "y"
        },
        {
         "hovertemplate": "kind=dead<br>cellLine=Sample CL3<br>runID=Sample CL3_2<br>runTime=%{x}<br>value=%{y}<extra></extra>",
         "legendgroup": "dead, Sample CL3, Sample CL3_2",
         "line": {
          "color": "#EF553B",
          "dash": "dash"
         },
         "marker": {
          "symbol": "square"
         },
         "mode": "lines+markers",
         "name": "dead, Sample CL3, Sample CL3_2",
         "orientation": "v",
         "showlegend": true,
         "type": "scatter",
         "x": [
          0.5333333333255723,
          21.199999999953434,
          48.46666666661622,
          70.96666666661622,
          95.44999999995343,
          115.8833333333605,
          141.08333333325572,
          164.7333333333372,
          189.1166666665231,
          213.06666666653473,
          238.18333333334886,
          261.8333333332557,
          284.83333333331393,
          308.66666666662786,
          333.01666666654637
         ],
         "xaxis": "x",
         "y": [
          0.004582484725050906,
          0.00307155747195359,
          0.007979797979798087,
          0.019448929908496337,
          0.023031147254761297,
          0.041964126657235035,
          0.047592416766580214,
          0.09211492380746122,
          0.08598072029549542,
          0.11873738334253403,
          0.3101273327629528,
          0.3879202658218368,
          0.6560801791317594,
          1.1402165897147682,
          2.8270155407675173
         ],
         "yaxis": "y"
        },
        {
         "hovertemplate": "kind=dead<br>cellLine=Sample CL3<br>runID=Sample CL3_3<br>runTime=%{x}<br>value=%{y}<extra></extra>",
         "legendgroup": "dead, Sample CL3, Sample CL3_3",
         "line": {
          "color": "#EF553B",
          "dash": "dash"
         },
         "marker": {
          "symbol": "x"
         },
         "mode": "lines+markers",
         "name": "dead, Sample CL3, Sample CL3_3",
         "orientation": "v",
         "showlegend": true,
         "type": "scatter",
         "x": [
          0.4500000000698492,
          21.11666666669771,
          48.3833333333605,
          70.8833333333605,
          95.36666666669771,
          115.80000000010477,
          141,
          164.6500000000815,
          189.03333333326736,
          212.983333333279,
          238.10000000009313,
          261.75,
          284.7500000000582,
          308.58333333337214,
          332.93333333329065
         ],
         "xaxis": "x",
         "y": [
          0.002096774193548423,
          0.002047098531896774,
          0.010800405268490354,
          0.010747341887436646,
          0.030707600483526498,
          0.030194454565775963,
          0.04810779391833009,
          0.08085377355325463,
          0.09724043324266418,
          0.13919889284012044,
          0.3019431472250709,
          0.34595935503624275,
          0.569086624144024,
          1.12588604453218,
          2.8771689708698567
         ],
         "yaxis": "y"
        },
        {
         "hovertemplate": "kind=total<br>cellLine=Sample CL1<br>runID=Sample CL1_1<br>runTime=%{x}<br>value=%{y}<extra></extra>",
         "legendgroup": "total, Sample CL1, Sample CL1_1",
         "line": {
          "color": "#00cc96",
          "dash": "solid"
         },
         "marker": {
          "symbol": "circle"
         },
         "mode": "lines+markers",
         "name": "total, Sample CL1, Sample CL1_1",
         "orientation": "v",
         "showlegend": true,
         "type": "scatter",
         "x": [
          0,
          23.883333333333333,
          38.55,
          47.583333333333336,
          62.65,
          71.75,
          95.53333333333333,
          121.1,
          143.83333333333334,
          167.4,
          192,
          215.65,
          233.46666666666667
         ],
         "xaxis": "x",
         "y": [
          0.246,
          0.5474747474747476,
          0.9456740442655934,
          1.441532258064516,
          3.1864754098360657,
          4.539337474120083,
          9.865563598759048,
          16.71826625386997,
          19.978746014877792,
          21.734475374732334,
          22.156398104265403,
          24.757952973720606,
          21.45015105740181
         ],
         "yaxis": "y"
        },
        {
         "hovertemplate": "kind=total<br>cellLine=Sample CL1<br>runID=Sample CL1_2<br>runTime=%{x}<br>value=%{y}<extra></extra>",
         "legendgroup": "total, Sample CL1, Sample CL1_2",
         "line": {
          "color": "#00cc96",
          "dash": "solid"
         },
         "marker": {
          "symbol": "diamond"
         },
         "mode": "lines+markers",
         "name": "total, Sample CL1, Sample CL1_2",
         "orientation": "v",
         "showlegend": true,
         "type": "scatter",
         "x": [
          0,
          23.933333333333334,
          38.61666666666667,
          47.8,
          62.71666666666667,
          72.28333333333333,
          96.1,
          121.4,
          143.96666666666667,
          167.63333333333333,
          192.46666666666667,
          215.88333333333333,
          233.73333333333332
         ],
         "xaxis": "x",
         "y": [
          0.24155578300921182,
          0.5535353535353535,
          1.04,
          1.5747241725175525,
          3.147574819401444,
          5.030959752321981,
          9.450777202072539,
          17.65935214211076,
          21.436227224008576,
          22.01058201058201,
          21.2085308056872,
          22.190611664295876,
          23.55694227769111
         ],
         "yaxis": "y"
        },
        {
         "hovertemplate": "kind=total<br>cellLine=Sample CL1<br>runID=Sample CL1_3<br>runTime=%{x}<br>value=%{y}<extra></extra>",
         "legendgroup": "total, Sample CL1, Sample CL1_3",
         "line": {
          "color": "#00cc96",
          "dash": "solid"
         },
         "marker": {
          "symbol": "square"
         },
         "mode": "lines+markers",
         "name": "total, Sample CL1, Sample CL1_3",
         "orientation": "v",
         "showlegend": true,
         "type": "scatter",
         "x": [
          0,
          23.933333333333334,
          38.61666666666667,
          47.8,
          62.71666666666667,
          72.28333333333333,
          96.1,
          121.4,
          143.96666666666667,
          167.63333333333333,
          192.46666666666667,
          215.88333333333333,
          233.73333333333332
         ],
         "xaxis": "x",
         "y": [
          0.187,
          0.4030000000000001,
          0.8977732793522267,
          1.6314199395770395,
          3.2995951417004044,
          5.453586497890296,
          9.580712788259959,
          17.956656346749224,
          20.526315789473685,
          22.065217391304344,
          22.11302211302211,
          22.465753424657535,
          23.926380368098158
         ],
         "yaxis": "y"
        },
        {
         "hovertemplate": "kind=total<br>cellLine=Sample CL2<br>runID=Sample CL2_1<br>runTime=%{x}<br>value=%{y}<extra></extra>",
         "legendgroup": "total, Sample CL2, Sample CL2_1",
         "line": {
          "color": "#00cc96",
          "dash": "dot"
         },
         "marker": {
          "symbol": "x"
         },
         "mode": "lines+markers",
         "name": "total, Sample CL2, Sample CL2_1",
         "orientation": "v",
         "showlegend": true,
         "type": "scatter",
         "x": [
          0,
          21.35,
          43.483333333333334,
          71.76666666666667,
          96.06666666666666,
          114.98333333333333,
          144.81666666666666,
          165.43333333333334,
          188.56666666666666,
          212.81666666666666,
          238.76666666666668,
          261.23333333333335,
          288.5833333333333,
          307.0833333333333,
          336.1666666666667
         ],
         "xaxis": "x",
         "y": [
          0.4147004685724266,
          0.7498577339424234,
          1.177509146742229,
          1.8630602059959422,
          2.2069244729893445,
          2.889869693148382,
          3.6922825047645866,
          3.8228637067315185,
          3.808717358288769,
          3.833333333333334,
          3.238513929403982,
          3.139490338180842,
          3.0034701273064868,
          2.7923664584517778,
          2.796719172543586
         ],
         "yaxis": "y"
        },
        {
         "hovertemplate": "kind=total<br>cellLine=Sample CL2<br>runID=Sample CL2_2<br>runTime=%{x}<br>value=%{y}<extra></extra>",
         "legendgroup": "total, Sample CL2, Sample CL2_2",
         "line": {
          "color": "#00cc96",
          "dash": "dot"
         },
         "marker": {
          "symbol": "cross"
         },
         "mode": "lines+markers",
         "name": "total, Sample CL2, Sample CL2_2",
         "orientation": "v",
         "showlegend": true,
         "type": "scatter",
         "x": [
          0,
          21.089166666666667,
          43.23916666666667,
          71.5225,
          95.8225,
          114.6725,
          144.6225,
          165.2225,
          188.3225,
          212.50583333333333,
          238.48916666666668,
          261.1225,
          288.3225,
          306.8225,
          335.9058333333333
         ],
         "xaxis": "x",
         "y": [
          0.46584382353593967,
          0.7520347214453653,
          1.139423429720785,
          1.8315033416370252,
          2.4397933973989496,
          2.834800786197078,
          3.6346096860463506,
          3.918623355588817,
          4.185226665097109,
          4.172169054755591,
          3.6683437124639484,
          3.8609503816466524,
          3.9610638626691554,
          3.6269942696130895,
          3.797838537105538
         ],
         "yaxis": "y"
        },
        {
         "hovertemplate": "kind=total<br>cellLine=Sample CL2<br>runID=Sample CL2_3<br>runTime=%{x}<br>value=%{y}<extra></extra>",
         "legendgroup": "total, Sample CL2, Sample CL2_3",
         "line": {
          "color": "#00cc96",
          "dash": "dot"
         },
         "marker": {
          "symbol": "circle"
         },
         "mode": "lines+markers",
         "name": "total, Sample CL2, Sample CL2_3",
         "orientation": "v",
         "showlegend": true,
         "type": "scatter",
         "x": [
          0,
          21.15,
          43.31666666666667,
          71.6,
          95.88333333333334,
          114.73333333333333,
          144.7,
          165.26666666666668,
          188.41666666666666,
          212.58333333333334,
          238.53333333333333,
          261.2,
          288.3833333333333,
          306.8833333333333,
          335.93333333333334
         ],
         "xaxis": "x",
         "y": [
          0.5093704387430845,
          0.697623647295511,
          1.102427220626206,
          1.570342497010525,
          2.2341299641148136,
          2.670487075181412,
          3.6150231640672574,
          3.9131821298576632,
          4.091643540190929,
          4.239636324745528,
          4.308190622396843,
          4.2494299493236545,
          4.151494060132654,
          4.00132685262184,
          3.7630158194952474
         ],
         "yaxis": "y"
        },
        {
         "hovertemplate": "kind=total<br>cellLine=Sample CL3<br>runID=Sample CL3_1<br>runTime=%{x}<br>value=%{y}<extra></extra>",
         "legendgroup": "total, Sample CL3, Sample CL3_1",
         "line": {
          "color": "#00cc96",
          "dash": "dash"
         },
         "marker": {
          "symbol": "diamond"
         },
         "mode": "lines+markers",
         "name": "total, Sample CL3, Sample CL3_1",
         "orientation": "v",
         "showlegend": true,
         "type": "scatter",
         "x": [
          0.6166666667559184,
          21.28333333338378,
          48.550000000046566,
          71.05000000004657,
          95.53333333338378,
          115.96666666679084,
          141.16666666668607,
          164.81666666676756,
          189.19999999995343,
          213.14999999996508,
          238.2666666667792,
          261.91666666668607,
          284.9166666667443,
          308.7500000000582,
          333.0999999999767
         ],
         "xaxis": "x",
         "y": [
          0.26104417670682734,
          0.43505902025486665,
          0.851063829787234,
          1.5047019261532548,
          2.732888141740326,
          4.058912616916261,
          6.609544739315254,
          9.505626730712676,
          12.11664999831108,
          14.579293036280768,
          15.41035004729044,
          15.9886385188913,
          15.195468032176995,
          15.075641381589655,
          15.080813548263706
         ],
         "yaxis": "y"
        },
        {
         "hovertemplate": "kind=total<br>cellLine=Sample CL3<br>runID=Sample CL3_2<br>runTime=%{x}<br>value=%{y}<extra></extra>",
         "legendgroup": "total, Sample CL3, Sample CL3_2",
         "line": {
          "color": "#00cc96",
          "dash": "dash"
         },
         "marker": {
          "symbol": "square"
         },
         "mode": "lines+markers",
         "name": "total, Sample CL3, Sample CL3_2",
         "orientation": "v",
         "showlegend": true,
         "type": "scatter",
         "x": [
          0.5333333333255723,
          21.199999999953434,
          48.46666666661622,
          70.96666666661622,
          95.44999999995343,
          115.8833333333605,
          141.08333333325572,
          164.7333333333372,
          189.1166666665231,
          213.06666666653473,
          238.18333333334886,
          261.8333333332557,
          284.83333333331393,
          308.66666666662786,
          333.01666666654637
         ],
         "xaxis": "x",
         "y": [
          0.2545824847250509,
          0.41157155661364664,
          0.7979797979797981,
          1.3624489676739993,
          2.6321311148298348,
          3.9708642327058197,
          6.523092387774882,
          9.902715068765957,
          12.668380906452722,
          16.086936977458745,
          17.063427863768812,
          16.579220522169493,
          16.78598097564055,
          16.626316650749924,
          15.711315636897888
         ],
         "yaxis": "y"
        },
        {
         "hovertemplate": "kind=total<br>cellLine=Sample CL3<br>runID=Sample CL3_3<br>runTime=%{x}<br>value=%{y}<extra></extra>",
         "legendgroup": "total, Sample CL3, Sample CL3_3",
         "line": {
          "color": "#00cc96",
          "dash": "dash"
         },
         "marker": {
          "symbol": "x"
         },
         "mode": "lines+markers",
         "name": "total, Sample CL3, Sample CL3_3",
         "orientation": "v",
         "showlegend": true,
         "type": "scatter",
         "x": [
          0.4500000000698492,
          21.11666666669771,
          48.3833333333605,
          70.8833333333605,
          95.36666666669771,
          115.80000000010477,
          141,
          164.6500000000815,
          189.03333333326736,
          212.983333333279,
          238.10000000009313,
          261.75,
          284.7500000000582,
          308.58333333337214,
          332.93333333329065
         ],
         "xaxis": "x",
         "y": [
          0.26209677419354843,
          0.46524708484667027,
          0.8308004052684902,
          1.4724472879094703,
          2.7657075981947083,
          4.074294603338969,
          6.774807964053829,
          10.026553329522493,
          12.600840417983875,
          15.805498576983187,
          16.772742457527805,
          16.142159017817004,
          16.573087152098125,
          17.053186361914992,
          16.211869419478255
         ],
         "yaxis": "y"
        },
        {
         "hovertemplate": "cellLine=Sample CL1<br>runID=Sample CL1_1<br>runTime=%{x}<br>viability=%{y}<extra></extra>",
         "legendgroup": "Sample CL1, Sample CL1_1",
         "line": {
          "color": "rgb(251,180,174)",
          "dash": "solid"
         },
         "marker": {
          "symbol": "circle"
         },
         "mode": "lines+markers",
         "name": "Sample CL1, Sample CL1_1",
         "orientation": "v",
         "showlegend": true,
         "type": "scatter",
         "x": [
          0,
          23.883333333333333,
          38.55,
          47.583333333333336,
          62.65,
          71.75,
          95.53333333333333,
          121.1,
          143.83333333333334,
          167.4,
          192,
          215.65,
          233.46666666666667
         ],
         "xaxis": "x",
         "y": [
          100,
          99,
          99.4,
          99.2,
          97.6,
          96.6,
          96.7,
          96.9,
          94.1,
          93.4,
          84.4,
          72.3,
          66.2
         ],
         "yaxis": "y2"
        },
        {
         "hovertemplate": "cellLine=Sample CL1<br>runID=Sample CL1_2<br>runTime=%{x}<br>viability=%{y}<extra></extra>",
         "legendgroup": "Sample CL1, Sample CL1_2",
         "line": {
          "color": "rgb(251,180,174)",
          "dash": "solid"
         },
         "marker": {
          "symbol": "diamond"
         },
         "mode": "lines+markers",
         "name": "Sample CL1, Sample CL1_2",
         "orientation": "v",
         "showlegend": true,
         "type": "scatter",
         "x": [
          0,
          23.933333333333334,
          38.61666666666667,
          47.8,
          62.71666666666667,
          72.28333333333333,
          96.1,
          121.4,
          143.96666666666667,
          167.63333333333333,
          192.46666666666667,
          215.88333333333333,
          233.73333333333332
         ],
         "xaxis": "x",
         "y": [
          97.7,
          99,
          100,
          99.7,
          96.9,
          96.9,
          96.5,
          95.7,
          93.3,
          94.5,
          84.4,
          70.3,
          64.1
         ],
         "yaxis": "y2"
        },
        {
         "hovertemplate": "cellLine=Sample CL1<br>runID=Sample CL1_3<br>runTime=%{x}<br>viability=%{y}<extra></extra>",
         "legendgroup": "Sample CL1, Sample CL1_3",
         "line": {
          "color": "rgb(251,180,174)",
          "dash": "solid"
         },
         "marker": {
          "symbol": "square"
         },
         "mode": "lines+markers",
         "name": "Sample CL1, Sample CL1_3",
         "orientation": "v",
         "showlegend": true,
         "type": "scatter",
         "x": [
          0,
          23.933333333333334,
          38.61666666666667,
          47.8,
          62.71666666666667,
          72.28333333333333,
          96.1,
          121.4,
          143.96666666666667,
          167.63333333333333,
          192.46666666666667,
          215.88333333333333,
          233.73333333333332
         ],
         "xaxis": "x",
         "y": [
          100,
          100,
          98.8,
          99.3,
          98.8,
          94.8,
          95.4,
          96.9,
          95,
          92,
          81.4,
          73,
          65.2
         ],
         "yaxis": "y2"
        },
        {
         "hovertemplate": "cellLine=Sample CL2<br>runID=Sample CL2_1<br>runTime=%{x}<br>viability=%{y}<extra></extra>",
         "legendgroup": "Sample CL2, Sample CL2_1",
         "line": {
          "color": "rgb(179,205,227)",
          "dash": "dot"
         },
         "marker": {
          "symbol": "x"
         },
         "mode": "lines+markers",
         "name": "Sample CL2, Sample CL2_1",
         "orientation": "v",
         "showlegend": true,
         "type": "scatter",
         "x": [
          0,
          21.35,
          43.483333333333334,
          71.76666666666667,
          96.06666666666666,
          114.98333333333333,
          144.81666666666666,
          165.43333333333334,
          188.56666666666666,
          212.81666666666666,
          238.76666666666668,
          261.23333333333335,
          288.5833333333333,
          307.0833333333333,
          336.1666666666667
         ],
         "xaxis": "x",
         "y": [
          94.75065612792969,
          95.50072479248047,
          97.04251098632812,
          96.55374145507812,
          95.90729522705078,
          95.16,
          97.46537017822266,
          97.35269165039062,
          97.54285430908203,
          96,
          96.875,
          96.63777923583984,
          95,
          92.63445281982422,
          92.80155944824219
         ],
         "yaxis": "y2"
        },
        {
         "hovertemplate": "cellLine=Sample CL2<br>runID=Sample CL2_2<br>runTime=%{x}<br>viability=%{y}<extra></extra>",
         "legendgroup": "Sample CL2, Sample CL2_2",
         "line": {
          "color": "rgb(179,205,227)",
          "dash": "dot"
         },
         "marker": {
          "symbol": "cross"
         },
         "mode": "lines+markers",
         "name": "Sample CL2, Sample CL2_2",
         "orientation": "v",
         "showlegend": true,
         "type": "scatter",
         "x": [
          0,
          21.089166666666667,
          43.23916666666667,
          71.5225,
          95.8225,
          114.6725,
          144.6225,
          165.2225,
          188.3225,
          212.50583333333333,
          238.48916666666668,
          261.1225,
          288.3225,
          306.8225,
          335.9058333333333
         ],
         "xaxis": "x",
         "y": [
          95.56074523925781,
          94.93487548828125,
          96.56160736083984,
          96.37551879882812,
          96.52096557617188,
          96.73704528808594,
          96.88623046875,
          97.13968658447266,
          96.95787811279297,
          96.53103637695312,
          96.55888366699219,
          96.9560317993164,
          95.54945373535156,
          95.43954467773438,
          94.69914245605469
         ],
         "yaxis": "y2"
        },
        {
         "hovertemplate": "cellLine=Sample CL2<br>runID=Sample CL2_3<br>runTime=%{x}<br>viability=%{y}<extra></extra>",
         "legendgroup": "Sample CL2, Sample CL2_3",
         "line": {
          "color": "rgb(179,205,227)",
          "dash": "dot"
         },
         "marker": {
          "symbol": "circle"
         },
         "mode": "lines+markers",
         "name": "Sample CL2, Sample CL2_3",
         "orientation": "v",
         "showlegend": true,
         "type": "scatter",
         "x": [
          0,
          21.15,
          43.31666666666667,
          71.6,
          95.88333333333334,
          114.73333333333333,
          144.7,
          165.26666666666668,
          188.41666666666666,
          212.58333333333334,
          238.53333333333333,
          261.2,
          288.3833333333333,
          306.8833333333333,
          335.93333333333334
         ],
         "xaxis": "x",
         "y": [
          95.94017028808594,
          97.03588104248047,
          94.96544647216797,
          95.21829223632812,
          94.78811645507812,
          96.12876892089844,
          96.4178237915039,
          97.46941375732422,
          96.9148941040039,
          96.30390167236328,
          97.01944732666016,
          96.00511932373047,
          96.46133422851562,
          95.26788330078125,
          95.63331604003906
         ],
         "yaxis": "y2"
        },
        {
         "hovertemplate": "cellLine=Sample CL3<br>runID=Sample CL3_1<br>runTime=%{x}<br>viability=%{y}<extra></extra>",
         "legendgroup": "Sample CL3, Sample CL3_1",
         "line": {
          "color": "rgb(204,235,197)",
          "dash": "dash"
         },
         "marker": {
          "symbol": "diamond"
         },
         "mode": "lines+markers",
         "name": "Sample CL3, Sample CL3_1",
         "orientation": "v",
         "showlegend": true,
         "type": "scatter",
         "x": [
          0.6166666667559184,
          21.28333333338378,
          48.550000000046566,
          71.05000000004657,
          95.53333333338378,
          115.96666666679084,
          141.16666666668607,
          164.81666666676756,
          189.19999999995343,
          213.14999999996508,
          238.2666666667792,
          261.91666666668607,
          284.9166666667443,
          308.7500000000582,
          333.0999999999767
         ],
         "xaxis": "x",
         "y": [
          99.6,
          99.41179656982422,
          98.7,
          98.84349822998047,
          99.0636978149414,
          99.12999725341797,
          99.1792984008789,
          99.25700378417969,
          99.1552963256836,
          99.1364974975586,
          98.04060363769531,
          98.08589935302734,
          95.14350128173828,
          92.42990112304688,
          87.28109741210938
         ],
         "yaxis": "y2"
        },
        {
         "hovertemplate": "cellLine=Sample CL3<br>runID=Sample CL3_2<br>runTime=%{x}<br>viability=%{y}<extra></extra>",
         "legendgroup": "Sample CL3, Sample CL3_2",
         "line": {
          "color": "rgb(204,235,197)",
          "dash": "dash"
         },
         "marker": {
          "symbol": "square"
         },
         "mode": "lines+markers",
         "name": "Sample CL3, Sample CL3_2",
         "orientation": "v",
         "showlegend": true,
         "type": "scatter",
         "x": [
          0.5333333333255723,
          21.199999999953434,
          48.46666666661622,
          70.96666666661622,
          95.44999999995343,
          115.8833333333605,
          141.08333333325572,
          164.7333333333372,
          189.1166666665231,
          213.06666666653473,
          238.18333333334886,
          261.8333333332557,
          284.83333333331393,
          308.66666666662786,
          333.01666666654637
         ],
         "xaxis": "x",
         "y": [
          98.2,
          99.25370025634766,
          99,
          98.57250213623047,
          99.125,
          98.94319915771484,
          99.27040100097656,
          99.0698013305664,
          99.32129669189453,
          99.26190185546875,
          98.18250274658203,
          97.66020202636719,
          96.09149932861328,
          93.14209747314453,
          82.00650024414062
         ],
         "yaxis": "y2"
        },
        {
         "hovertemplate": "cellLine=Sample CL3<br>runID=Sample CL3_3<br>runTime=%{x}<br>viability=%{y}<extra></extra>",
         "legendgroup": "Sample CL3, Sample CL3_3",
         "line": {
          "color": "rgb(204,235,197)",
          "dash": "dash"
         },
         "marker": {
          "symbol": "x"
         },
         "mode": "lines+markers",
         "name": "Sample CL3, Sample CL3_3",
         "orientation": "v",
         "showlegend": true,
         "type": "scatter",
         "x": [
          0.4500000000698492,
          21.11666666669771,
          48.3833333333605,
          70.8833333333605,
          95.36666666669771,
          115.80000000010477,
          141,
          164.6500000000815,
          189.03333333326736,
          212.983333333279,
          238.10000000009313,
          261.75,
          284.7500000000582,
          308.58333333337214,
          332.93333333329065
         ],
         "xaxis": "x",
         "y": [
          99.2,
          99.55999755859375,
          98.7,
          99.27010345458984,
          98.88970184326172,
          99.25890350341797,
          99.28990173339844,
          99.193603515625,
          99.22830200195312,
          99.11930084228516,
          98.19979858398438,
          97.85679626464844,
          96.56620025634766,
          93.39779663085938,
          82.25270080566406
         ],
         "yaxis": "y2"
        }
       ],
       "layout": {
        "legend": {
         "title": {
          "text": "kind, cellLine, runID"
         },
         "tracegroupgap": 0,
         "x": 1.1,
         "y": 1
        },
        "template": {
         "data": {
          "bar": [
           {
            "error_x": {
             "color": "#2a3f5f"
            },
            "error_y": {
             "color": "#2a3f5f"
            },
            "marker": {
             "line": {
              "color": "#E5ECF6",
              "width": 0.5
             },
             "pattern": {
              "fillmode": "overlay",
              "size": 10,
              "solidity": 0.2
             }
            },
            "type": "bar"
           }
          ],
          "barpolar": [
           {
            "marker": {
             "line": {
              "color": "#E5ECF6",
              "width": 0.5
             },
             "pattern": {
              "fillmode": "overlay",
              "size": 10,
              "solidity": 0.2
             }
            },
            "type": "barpolar"
           }
          ],
          "carpet": [
           {
            "aaxis": {
             "endlinecolor": "#2a3f5f",
             "gridcolor": "white",
             "linecolor": "white",
             "minorgridcolor": "white",
             "startlinecolor": "#2a3f5f"
            },
            "baxis": {
             "endlinecolor": "#2a3f5f",
             "gridcolor": "white",
             "linecolor": "white",
             "minorgridcolor": "white",
             "startlinecolor": "#2a3f5f"
            },
            "type": "carpet"
           }
          ],
          "choropleth": [
           {
            "colorbar": {
             "outlinewidth": 0,
             "ticks": ""
            },
            "type": "choropleth"
           }
          ],
          "contour": [
           {
            "colorbar": {
             "outlinewidth": 0,
             "ticks": ""
            },
            "colorscale": [
             [
              0,
              "#0d0887"
             ],
             [
              0.1111111111111111,
              "#46039f"
             ],
             [
              0.2222222222222222,
              "#7201a8"
             ],
             [
              0.3333333333333333,
              "#9c179e"
             ],
             [
              0.4444444444444444,
              "#bd3786"
             ],
             [
              0.5555555555555556,
              "#d8576b"
             ],
             [
              0.6666666666666666,
              "#ed7953"
             ],
             [
              0.7777777777777778,
              "#fb9f3a"
             ],
             [
              0.8888888888888888,
              "#fdca26"
             ],
             [
              1,
              "#f0f921"
             ]
            ],
            "type": "contour"
           }
          ],
          "contourcarpet": [
           {
            "colorbar": {
             "outlinewidth": 0,
             "ticks": ""
            },
            "type": "contourcarpet"
           }
          ],
          "heatmap": [
           {
            "colorbar": {
             "outlinewidth": 0,
             "ticks": ""
            },
            "colorscale": [
             [
              0,
              "#0d0887"
             ],
             [
              0.1111111111111111,
              "#46039f"
             ],
             [
              0.2222222222222222,
              "#7201a8"
             ],
             [
              0.3333333333333333,
              "#9c179e"
             ],
             [
              0.4444444444444444,
              "#bd3786"
             ],
             [
              0.5555555555555556,
              "#d8576b"
             ],
             [
              0.6666666666666666,
              "#ed7953"
             ],
             [
              0.7777777777777778,
              "#fb9f3a"
             ],
             [
              0.8888888888888888,
              "#fdca26"
             ],
             [
              1,
              "#f0f921"
             ]
            ],
            "type": "heatmap"
           }
          ],
          "heatmapgl": [
           {
            "colorbar": {
             "outlinewidth": 0,
             "ticks": ""
            },
            "colorscale": [
             [
              0,
              "#0d0887"
             ],
             [
              0.1111111111111111,
              "#46039f"
             ],
             [
              0.2222222222222222,
              "#7201a8"
             ],
             [
              0.3333333333333333,
              "#9c179e"
             ],
             [
              0.4444444444444444,
              "#bd3786"
             ],
             [
              0.5555555555555556,
              "#d8576b"
             ],
             [
              0.6666666666666666,
              "#ed7953"
             ],
             [
              0.7777777777777778,
              "#fb9f3a"
             ],
             [
              0.8888888888888888,
              "#fdca26"
             ],
             [
              1,
              "#f0f921"
             ]
            ],
            "type": "heatmapgl"
           }
          ],
          "histogram": [
           {
            "marker": {
             "pattern": {
              "fillmode": "overlay",
              "size": 10,
              "solidity": 0.2
             }
            },
            "type": "histogram"
           }
          ],
          "histogram2d": [
           {
            "colorbar": {
             "outlinewidth": 0,
             "ticks": ""
            },
            "colorscale": [
             [
              0,
              "#0d0887"
             ],
             [
              0.1111111111111111,
              "#46039f"
             ],
             [
              0.2222222222222222,
              "#7201a8"
             ],
             [
              0.3333333333333333,
              "#9c179e"
             ],
             [
              0.4444444444444444,
              "#bd3786"
             ],
             [
              0.5555555555555556,
              "#d8576b"
             ],
             [
              0.6666666666666666,
              "#ed7953"
             ],
             [
              0.7777777777777778,
              "#fb9f3a"
             ],
             [
              0.8888888888888888,
              "#fdca26"
             ],
             [
              1,
              "#f0f921"
             ]
            ],
            "type": "histogram2d"
           }
          ],
          "histogram2dcontour": [
           {
            "colorbar": {
             "outlinewidth": 0,
             "ticks": ""
            },
            "colorscale": [
             [
              0,
              "#0d0887"
             ],
             [
              0.1111111111111111,
              "#46039f"
             ],
             [
              0.2222222222222222,
              "#7201a8"
             ],
             [
              0.3333333333333333,
              "#9c179e"
             ],
             [
              0.4444444444444444,
              "#bd3786"
             ],
             [
              0.5555555555555556,
              "#d8576b"
             ],
             [
              0.6666666666666666,
              "#ed7953"
             ],
             [
              0.7777777777777778,
              "#fb9f3a"
             ],
             [
              0.8888888888888888,
              "#fdca26"
             ],
             [
              1,
              "#f0f921"
             ]
            ],
            "type": "histogram2dcontour"
           }
          ],
          "mesh3d": [
           {
            "colorbar": {
             "outlinewidth": 0,
             "ticks": ""
            },
            "type": "mesh3d"
           }
          ],
          "parcoords": [
           {
            "line": {
             "colorbar": {
              "outlinewidth": 0,
              "ticks": ""
             }
            },
            "type": "parcoords"
           }
          ],
          "pie": [
           {
            "automargin": true,
            "type": "pie"
           }
          ],
          "scatter": [
           {
            "fillpattern": {
             "fillmode": "overlay",
             "size": 10,
             "solidity": 0.2
            },
            "type": "scatter"
           }
          ],
          "scatter3d": [
           {
            "line": {
             "colorbar": {
              "outlinewidth": 0,
              "ticks": ""
             }
            },
            "marker": {
             "colorbar": {
              "outlinewidth": 0,
              "ticks": ""
             }
            },
            "type": "scatter3d"
           }
          ],
          "scattercarpet": [
           {
            "marker": {
             "colorbar": {
              "outlinewidth": 0,
              "ticks": ""
             }
            },
            "type": "scattercarpet"
           }
          ],
          "scattergeo": [
           {
            "marker": {
             "colorbar": {
              "outlinewidth": 0,
              "ticks": ""
             }
            },
            "type": "scattergeo"
           }
          ],
          "scattergl": [
           {
            "marker": {
             "colorbar": {
              "outlinewidth": 0,
              "ticks": ""
             }
            },
            "type": "scattergl"
           }
          ],
          "scattermapbox": [
           {
            "marker": {
             "colorbar": {
              "outlinewidth": 0,
              "ticks": ""
             }
            },
            "type": "scattermapbox"
           }
          ],
          "scatterpolar": [
           {
            "marker": {
             "colorbar": {
              "outlinewidth": 0,
              "ticks": ""
             }
            },
            "type": "scatterpolar"
           }
          ],
          "scatterpolargl": [
           {
            "marker": {
             "colorbar": {
              "outlinewidth": 0,
              "ticks": ""
             }
            },
            "type": "scatterpolargl"
           }
          ],
          "scatterternary": [
           {
            "marker": {
             "colorbar": {
              "outlinewidth": 0,
              "ticks": ""
             }
            },
            "type": "scatterternary"
           }
          ],
          "surface": [
           {
            "colorbar": {
             "outlinewidth": 0,
             "ticks": ""
            },
            "colorscale": [
             [
              0,
              "#0d0887"
             ],
             [
              0.1111111111111111,
              "#46039f"
             ],
             [
              0.2222222222222222,
              "#7201a8"
             ],
             [
              0.3333333333333333,
              "#9c179e"
             ],
             [
              0.4444444444444444,
              "#bd3786"
             ],
             [
              0.5555555555555556,
              "#d8576b"
             ],
             [
              0.6666666666666666,
              "#ed7953"
             ],
             [
              0.7777777777777778,
              "#fb9f3a"
             ],
             [
              0.8888888888888888,
              "#fdca26"
             ],
             [
              1,
              "#f0f921"
             ]
            ],
            "type": "surface"
           }
          ],
          "table": [
           {
            "cells": {
             "fill": {
              "color": "#EBF0F8"
             },
             "line": {
              "color": "white"
             }
            },
            "header": {
             "fill": {
              "color": "#C8D4E3"
             },
             "line": {
              "color": "white"
             }
            },
            "type": "table"
           }
          ]
         },
         "layout": {
          "annotationdefaults": {
           "arrowcolor": "#2a3f5f",
           "arrowhead": 0,
           "arrowwidth": 1
          },
          "autotypenumbers": "strict",
          "coloraxis": {
           "colorbar": {
            "outlinewidth": 0,
            "ticks": ""
           }
          },
          "colorscale": {
           "diverging": [
            [
             0,
             "#8e0152"
            ],
            [
             0.1,
             "#c51b7d"
            ],
            [
             0.2,
             "#de77ae"
            ],
            [
             0.3,
             "#f1b6da"
            ],
            [
             0.4,
             "#fde0ef"
            ],
            [
             0.5,
             "#f7f7f7"
            ],
            [
             0.6,
             "#e6f5d0"
            ],
            [
             0.7,
             "#b8e186"
            ],
            [
             0.8,
             "#7fbc41"
            ],
            [
             0.9,
             "#4d9221"
            ],
            [
             1,
             "#276419"
            ]
           ],
           "sequential": [
            [
             0,
             "#0d0887"
            ],
            [
             0.1111111111111111,
             "#46039f"
            ],
            [
             0.2222222222222222,
             "#7201a8"
            ],
            [
             0.3333333333333333,
             "#9c179e"
            ],
            [
             0.4444444444444444,
             "#bd3786"
            ],
            [
             0.5555555555555556,
             "#d8576b"
            ],
            [
             0.6666666666666666,
             "#ed7953"
            ],
            [
             0.7777777777777778,
             "#fb9f3a"
            ],
            [
             0.8888888888888888,
             "#fdca26"
            ],
            [
             1,
             "#f0f921"
            ]
           ],
           "sequentialminus": [
            [
             0,
             "#0d0887"
            ],
            [
             0.1111111111111111,
             "#46039f"
            ],
            [
             0.2222222222222222,
             "#7201a8"
            ],
            [
             0.3333333333333333,
             "#9c179e"
            ],
            [
             0.4444444444444444,
             "#bd3786"
            ],
            [
             0.5555555555555556,
             "#d8576b"
            ],
            [
             0.6666666666666666,
             "#ed7953"
            ],
            [
             0.7777777777777778,
             "#fb9f3a"
            ],
            [
             0.8888888888888888,
             "#fdca26"
            ],
            [
             1,
             "#f0f921"
            ]
           ]
          },
          "colorway": [
           "#636efa",
           "#EF553B",
           "#00cc96",
           "#ab63fa",
           "#FFA15A",
           "#19d3f3",
           "#FF6692",
           "#B6E880",
           "#FF97FF",
           "#FECB52"
          ],
          "font": {
           "color": "#2a3f5f"
          },
          "geo": {
           "bgcolor": "white",
           "lakecolor": "white",
           "landcolor": "#E5ECF6",
           "showlakes": true,
           "showland": true,
           "subunitcolor": "white"
          },
          "hoverlabel": {
           "align": "left"
          },
          "hovermode": "closest",
          "mapbox": {
           "style": "light"
          },
          "paper_bgcolor": "white",
          "plot_bgcolor": "#E5ECF6",
          "polar": {
           "angularaxis": {
            "gridcolor": "white",
            "linecolor": "white",
            "ticks": ""
           },
           "bgcolor": "#E5ECF6",
           "radialaxis": {
            "gridcolor": "white",
            "linecolor": "white",
            "ticks": ""
           }
          },
          "scene": {
           "xaxis": {
            "backgroundcolor": "#E5ECF6",
            "gridcolor": "white",
            "gridwidth": 2,
            "linecolor": "white",
            "showbackground": true,
            "ticks": "",
            "zerolinecolor": "white"
           },
           "yaxis": {
            "backgroundcolor": "#E5ECF6",
            "gridcolor": "white",
            "gridwidth": 2,
            "linecolor": "white",
            "showbackground": true,
            "ticks": "",
            "zerolinecolor": "white"
           },
           "zaxis": {
            "backgroundcolor": "#E5ECF6",
            "gridcolor": "white",
            "gridwidth": 2,
            "linecolor": "white",
            "showbackground": true,
            "ticks": "",
            "zerolinecolor": "white"
           }
          },
          "shapedefaults": {
           "line": {
            "color": "#2a3f5f"
           }
          },
          "ternary": {
           "aaxis": {
            "gridcolor": "white",
            "linecolor": "white",
            "ticks": ""
           },
           "baxis": {
            "gridcolor": "white",
            "linecolor": "white",
            "ticks": ""
           },
           "bgcolor": "#E5ECF6",
           "caxis": {
            "gridcolor": "white",
            "linecolor": "white",
            "ticks": ""
           }
          },
          "title": {
           "x": 0.05
          },
          "xaxis": {
           "automargin": true,
           "gridcolor": "white",
           "linecolor": "white",
           "ticks": "",
           "title": {
            "standoff": 15
           },
           "zerolinecolor": "white",
           "zerolinewidth": 2
          },
          "yaxis": {
           "automargin": true,
           "gridcolor": "white",
           "linecolor": "white",
           "ticks": "",
           "title": {
            "standoff": 15
           },
           "zerolinecolor": "white",
           "zerolinewidth": 2
          }
         }
        },
        "title": {
         "text": "Cell concentration"
        },
        "xaxis": {
         "anchor": "y",
         "domain": [
          0,
          1
         ],
         "title": {
          "text": "runTime"
         }
        },
        "yaxis": {
         "anchor": "x",
         "domain": [
          0,
          1
         ],
         "title": {
          "text": "(10^6 cells/mL)"
         }
        },
        "yaxis2": {
         "overlaying": "y",
         "side": "right",
         "title": {
          "text": "viability (%)"
         }
        }
       }
      }
     },
     "metadata": {},
     "output_type": "display_data"
    }
   ],
   "source": [
    "import plotly.express as px\n",
    "df = cell_line.get_plot_data()\n",
    "cell_df = df[(df['species']=='cell')]\n",
    "df1 = cell_df[(cell_df['profile']=='concentration') & (cell_df['kind']!='viability')]\n",
    "df2 = cell_df[cell_df['kind']=='viability']\n",
    "\n",
    "fig1 = px.line(df1, x='runTime', y='value', title='Cell concentration', markers=True,\n",
    "              color='kind', line_dash='cellLine', symbol='runID')\n",
    "fig1.update_layout(yaxis_title='(10^6 cells/mL)')\n",
    "\n",
    "df2 = df2.rename(columns={'value': 'viability'})\n",
    "fig2 = px.line(df2, x='runTime', y='viability', markers=True,\n",
    "               color='cellLine', line_dash='cellLine', symbol='runID',\n",
    "               color_discrete_sequence=px.colors.qualitative.Pastel1,)\n",
    "\n",
    "fig2.update_traces(yaxis='y2')\n",
    "for fig_data in fig2.data:\n",
    "    fig1.add_trace(fig_data)\n",
    "\n",
    "fig1.update_layout(legend_x=1.1, legend_y=1)\n",
    "fig1.update_layout(yaxis2={'side': 'right', 'title': 'viability (%)', 'overlaying': \"y\",})\n",
    "fig1"
   ]
  },
  {
   "cell_type": "code",
   "execution_count": 3,
   "metadata": {},
   "outputs": [
    {
     "data": {
      "application/vnd.plotly.v1+json": {
       "config": {
        "plotlyServerURL": "https://plot.ly"
       },
       "data": [
        {
         "hovertemplate": "cellLine=Sample CL1<br>runID=Sample CL1_1<br>runTime=%{x}<br>value=%{y}<extra></extra>",
         "legendgroup": "Sample CL1, Sample CL1_1",
         "line": {
          "color": "#636efa",
          "dash": "solid"
         },
         "marker": {
          "symbol": "circle"
         },
         "mode": "lines+markers",
         "name": "Sample CL1, Sample CL1_1",
         "orientation": "v",
         "showlegend": true,
         "type": "scatter",
         "x": [
          0,
          23.883333333333333,
          38.55,
          47.583333333333336,
          62.65,
          71.75,
          95.53333333333333,
          121.1,
          143.83333333333334,
          167.4,
          192,
          215.65,
          233.46666666666667
         ],
         "xaxis": "x",
         "y": [
          0,
          9.410033333333333,
          20.278033333333333,
          30.98253333333334,
          65.18386666666666,
          99.28611666666666,
          264.877575,
          593.9205749999999,
          991.7539083333335,
          1452.4822416666668,
          1932.1822416666666,
          2364.9772416666665,
          2650.9347416666665
         ],
         "yaxis": "y"
        },
        {
         "hovertemplate": "cellLine=Sample CL1<br>runID=Sample CL1_2<br>runTime=%{x}<br>value=%{y}<extra></extra>",
         "legendgroup": "Sample CL1, Sample CL1_2",
         "line": {
          "color": "#636efa",
          "dash": "dot"
         },
         "marker": {
          "symbol": "circle"
         },
         "mode": "lines+markers",
         "name": "Sample CL1, Sample CL1_2",
         "orientation": "v",
         "showlegend": true,
         "type": "scatter",
         "x": [
          0,
          23.933333333333334,
          38.61666666666667,
          47.8,
          62.71666666666667,
          72.28333333333333,
          96.1,
          121.4,
          143.96666666666667,
          167.63333333333333,
          192.46666666666667,
          215.88333333333333,
          233.73333333333332
         ],
         "xaxis": "x",
         "y": [
          0,
          9.381866666666667,
          21.040433333333333,
          33.02468333333333,
          67.48218333333334,
          105.39009999999999,
          272.0472249999999,
          601.200225,
          1017.555225,
          1500.3552249999998,
          1980.8802249999999,
          2373.1093916666664,
          2647.1068916666663
         ],
         "yaxis": "y"
        },
        {
         "hovertemplate": "cellLine=Sample CL1<br>runID=Sample CL1_3<br>runTime=%{x}<br>value=%{y}<extra></extra>",
         "legendgroup": "Sample CL1, Sample CL1_3",
         "line": {
          "color": "#636efa",
          "dash": "dash"
         },
         "marker": {
          "symbol": "circle"
         },
         "mode": "lines+markers",
         "name": "Sample CL1, Sample CL1_3",
         "orientation": "v",
         "showlegend": true,
         "type": "scatter",
         "x": [
          0,
          23.933333333333334,
          38.61666666666667,
          47.8,
          62.71666666666667,
          72.28333333333333,
          96.1,
          121.4,
          143.96666666666667,
          167.63333333333333,
          192.46666666666667,
          215.88333333333333,
          233.73333333333332
         ],
         "xaxis": "x",
         "y": [
          0,
          7.060333333333334,
          16.531083333333335,
          28.042391666666667,
          64.43905833333335,
          104.76255833333333,
          275.1708083333333,
          610.9018083333335,
          1027.2568083333335,
          1498.223475,
          1973.7818083333336,
          2376.548475,
          2662.148475
         ],
         "yaxis": "y"
        },
        {
         "hovertemplate": "cellLine=Sample CL2<br>runID=Sample CL2_1<br>runTime=%{x}<br>value=%{y}<extra></extra>",
         "legendgroup": "Sample CL2, Sample CL2_1",
         "line": {
          "color": "#EF553B",
          "dash": "longdash"
         },
         "marker": {
          "symbol": "diamond"
         },
         "mode": "lines+markers",
         "name": "Sample CL2, Sample CL2_1",
         "orientation": "v",
         "showlegend": true,
         "type": "scatter",
         "x": [
          0,
          21.35,
          43.483333333333334,
          71.76666666666667,
          96.06666666666666,
          114.98333333333333,
          144.81666666666666,
          165.43333333333334,
          188.56666666666666,
          212.81666666666666,
          238.76666666666668,
          261.23333333333335,
          288.5833333333333,
          307.0833333333333,
          336.1666666666667
         ],
         "xaxis": "x",
         "y": [
          0,
          11.839119273046256,
          32.40988369375904,
          74.00814457283377,
          121.58093380883574,
          167.61087365603487,
          262.3122677578453,
          337.7729532748576,
          423.79185134628653,
          513.4578222853505,
          601.9124243245542,
          671.2360665076164,
          751.7439417227748,
          802.0638493194583,
          877.4201095637007
         ],
         "yaxis": "y"
        },
        {
         "hovertemplate": "cellLine=Sample CL2<br>runID=Sample CL2_2<br>runTime=%{x}<br>value=%{y}<extra></extra>",
         "legendgroup": "Sample CL2, Sample CL2_2",
         "line": {
          "color": "#EF553B",
          "dash": "dashdot"
         },
         "marker": {
          "symbol": "diamond"
         },
         "mode": "lines+markers",
         "name": "Sample CL2, Sample CL2_2",
         "orientation": "v",
         "showlegend": true,
         "type": "scatter",
         "x": [
          0,
          21.089166666666667,
          43.23916666666667,
          71.5225,
          95.8225,
          114.6725,
          144.6225,
          165.2225,
          188.3225,
          212.50583333333333,
          238.48916666666668,
          261.1225,
          288.3225,
          306.8225,
          335.9058333333333
         ],
         "xaxis": "x",
         "y": [
          0,
          12.222300942715565,
          32.314441956066055,
          72.83549882624362,
          122.89389968577123,
          170.93514790908552,
          264.73463699964265,
          340.2127770596478,
          431.04712159982415,
          528.8124181842333,
          627.1534855579605,
          709.6014681572316,
          811.9849767695973,
          879.0138224880765,
          981.6504667662372
         ],
         "yaxis": "y"
        },
        {
         "hovertemplate": "cellLine=Sample CL2<br>runID=Sample CL2_3<br>runTime=%{x}<br>value=%{y}<extra></extra>",
         "legendgroup": "Sample CL2, Sample CL2_3",
         "line": {
          "color": "#EF553B",
          "dash": "longdashdot"
         },
         "marker": {
          "symbol": "diamond"
         },
         "mode": "lines+markers",
         "name": "Sample CL2, Sample CL2_3",
         "orientation": "v",
         "showlegend": true,
         "type": "scatter",
         "x": [
          0,
          21.15,
          43.31666666666667,
          71.6,
          95.88333333333334,
          114.73333333333333,
          144.7,
          165.26666666666668,
          188.41666666666666,
          212.58333333333334,
          238.53333333333333,
          261.2,
          288.3833333333333,
          306.8833333333333,
          335.93333333333334
         ],
         "xaxis": "x",
         "y": [
          0,
          12.326601956745385,
          31.432829836198096,
          67.38346711371699,
          111.25061694891733,
          155.40481983050148,
          246.09343782234308,
          321.1585046094017,
          411.2070005669574,
          508.45786258554267,
          615.6666277153187,
          709.2737619992745,
          819.1522864099292,
          891.4555215145854,
          999.0955934319095
         ],
         "yaxis": "y"
        },
        {
         "hovertemplate": "cellLine=Sample CL3<br>runID=Sample CL3_1<br>runTime=%{x}<br>value=%{y}<extra></extra>",
         "legendgroup": "Sample CL3, Sample CL3_1",
         "line": {
          "color": "#00cc96",
          "dash": "solid"
         },
         "marker": {
          "symbol": "square"
         },
         "mode": "lines+markers",
         "name": "Sample CL3, Sample CL3_1",
         "orientation": "v",
         "showlegend": true,
         "type": "scatter",
         "x": [
          0.6166666667559184,
          21.28333333338378,
          48.550000000046566,
          71.05000000004657,
          95.53333333338378,
          115.96666666679084,
          141.16666666668607,
          164.81666666676756,
          189.19999999995343,
          213.14999999996508,
          238.2666666667792,
          261.91666666668607,
          284.9166666667443,
          308.7500000000582,
          333.0999999999767
         ],
         "xaxis": "x",
         "y": [
          0,
          7.155833211122428,
          24.5042497165648,
          50.68637496118227,
          102.03527084378737,
          170.80263267439082,
          304.0967735005578,
          493.1820755391541,
          754.6847973982802,
          1071.6355131210144,
          1442.882460060488,
          1806.9860361777523,
          2153.5971885651043,
          2491.9340057716568,
          2821.8411981033546
         ],
         "yaxis": "y"
        },
        {
         "hovertemplate": "cellLine=Sample CL3<br>runID=Sample CL3_2<br>runTime=%{x}<br>value=%{y}<extra></extra>",
         "legendgroup": "Sample CL3, Sample CL3_2",
         "line": {
          "color": "#00cc96",
          "dash": "dot"
         },
         "marker": {
          "symbol": "square"
         },
         "mode": "lines+markers",
         "name": "Sample CL3, Sample CL3_2",
         "orientation": "v",
         "showlegend": true,
         "type": "scatter",
         "x": [
          0.5333333333255723,
          21.199999999953434,
          48.46666666661622,
          70.96666666661622,
          95.44999999995343,
          115.8833333333605,
          141.08333333325572,
          164.7333333333372,
          189.1166666665231,
          213.06666666653473,
          238.18333333334886,
          261.8333333332557,
          284.83333333331393,
          308.66666666662786,
          333.01666666654637
         ],
         "xaxis": "x",
         "y": [
          0,
          6.804499991118052,
          23.144049979414145,
          47.14030040427605,
          95.5205913029946,
          162.31715872209065,
          293.4125996924623,
          485.9957335644333,
          759.0037292663014,
          1100.897161635242,
          1511.8246673756457,
          1901.394571684567,
          2273.0883837933566,
          2649.8457273454487,
          2995.255349257783
         ],
         "yaxis": "y"
        },
        {
         "hovertemplate": "cellLine=Sample CL3<br>runID=Sample CL3_3<br>runTime=%{x}<br>value=%{y}<extra></extra>",
         "legendgroup": "Sample CL3, Sample CL3_3",
         "line": {
          "color": "#00cc96",
          "dash": "dash"
         },
         "marker": {
          "symbol": "square"
         },
         "mode": "lines+markers",
         "name": "Sample CL3, Sample CL3_3",
         "orientation": "v",
         "showlegend": true,
         "type": "scatter",
         "x": [
          0.4500000000698492,
          21.11666666669771,
          48.3833333333605,
          70.8833333333605,
          95.36666666669771,
          115.80000000010477,
          141,
          164.6500000000815,
          189.03333333326736,
          212.983333333279,
          238.10000000009313,
          261.75,
          284.7500000000582,
          308.58333333337214,
          332.93333333329065
         ],
         "xaxis": "x",
         "y": [
          0,
          7.473066525238628,
          24.967359671994217,
          50.63648406474209,
          102.01108587595101,
          171.27089237278295,
          306.98297639046825,
          504.1341031523361,
          777.8284800511758,
          1115.1630285862288,
          1518.7514301271801,
          1900.3086929823899,
          2266.0109951767663,
          2646.525663583388,
          3002.790522908139
         ],
         "yaxis": "y"
        },
        {
         "hovertemplate": "cellLine=Sample CL1<br>runID=Sample CL1_1<br>runTime=%{x}<br>value=%{y}<extra></extra>",
         "legendgroup": "Sample CL1, Sample CL1_1",
         "line": {
          "color": "rgb(251,180,174)",
          "dash": "solid"
         },
         "marker": {
          "symbol": "circle"
         },
         "mode": "lines+markers",
         "name": "Sample CL1, Sample CL1_1",
         "orientation": "v",
         "showlegend": true,
         "type": "scatter",
         "x": [
          0,
          23.883333333333333,
          38.55,
          47.583333333333336,
          62.65,
          71.75,
          95.53333333333333,
          121.1,
          143.83333333333334,
          167.4,
          192,
          215.65,
          233.46666666666667
         ],
         "xaxis": "x",
         "y": [
          0,
          21.608000000000004,
          50.065,
          84.365,
          199.445,
          284.86999999999995,
          638.14425,
          1112.5064625000005,
          1301.2580816250002,
          1430.489506262344,
          1374.6967619558886,
          1364.3606686698272,
          1171.6710215050534
         ],
         "yaxis": "y2"
        },
        {
         "hovertemplate": "cellLine=Sample CL1<br>runID=Sample CL1_2<br>runTime=%{x}<br>value=%{y}<extra></extra>",
         "legendgroup": "Sample CL1, Sample CL1_2",
         "line": {
          "color": "rgb(251,180,174)",
          "dash": "dot"
         },
         "marker": {
          "symbol": "circle"
         },
         "mode": "lines+markers",
         "name": "Sample CL1, Sample CL1_2",
         "orientation": "v",
         "showlegend": true,
         "type": "scatter",
         "x": [
          0,
          23.933333333333334,
          38.61666666666667,
          47.8,
          62.71666666666667,
          72.28333333333333,
          96.1,
          121.4,
          143.96666666666667,
          167.63333333333333,
          192.46666666666667,
          215.88333333333333,
          233.73333333333332
         ],
         "xaxis": "x",
         "y": [
          0,
          22.776000000000007,
          57.95400000000001,
          95.05400000000002,
          196.43399999999997,
          318.70899999999995,
          611.6904999999999,
          1161.17483125,
          1381.3271187499997,
          1470.6578660224998,
          1336.5015421930693,
          1232.0087028630892,
          1233.723237656781
         ],
         "yaxis": "y2"
        },
        {
         "hovertemplate": "cellLine=Sample CL1<br>runID=Sample CL1_3<br>runTime=%{x}<br>value=%{y}<extra></extra>",
         "legendgroup": "Sample CL1, Sample CL1_3",
         "line": {
          "color": "rgb(251,180,174)",
          "dash": "dash"
         },
         "marker": {
          "symbol": "circle"
         },
         "mode": "lines+markers",
         "name": "Sample CL1, Sample CL1_3",
         "orientation": "v",
         "showlegend": true,
         "type": "scatter",
         "x": [
          0,
          23.933333333333334,
          38.61666666666667,
          47.8,
          62.71666666666667,
          72.28333333333333,
          96.1,
          121.4,
          143.96666666666667,
          167.63333333333333,
          192.46666666666667,
          215.88333333333333,
          233.73333333333332
         ],
         "xaxis": "x",
         "y": [
          0,
          15.768,
          50.374,
          101.684,
          214.02399999999994,
          341.994,
          616.9957500000002,
          1199.1347375,
          1360.33835328125,
          1448.6460062598062,
          1350.1014446682032,
          1288.9784953202293,
          1273.6980799650996
         ],
         "yaxis": "y2"
        },
        {
         "hovertemplate": "cellLine=Sample CL2<br>runID=Sample CL2_1<br>runTime=%{x}<br>value=%{y}<extra></extra>",
         "legendgroup": "Sample CL2, Sample CL2_1",
         "line": {
          "color": "rgb(179,205,227)",
          "dash": "longdash"
         },
         "marker": {
          "symbol": "diamond"
         },
         "mode": "lines+markers",
         "name": "Sample CL2, Sample CL2_1",
         "orientation": "v",
         "showlegend": true,
         "type": "scatter",
         "x": [
          0,
          21.35,
          43.483333333333334,
          71.76666666666667,
          96.06666666666666,
          114.98333333333333,
          144.81666666666666,
          165.43333333333334,
          188.56666666666666,
          212.81666666666666,
          238.76666666666668,
          261.23333333333335,
          288.5833333333333,
          307.0833333333333,
          336.1666666666667
         ],
         "xaxis": "x",
         "y": [
          0,
          290.86934030056005,
          664.8297231031419,
          1182.5477673841478,
          1512.302577666283,
          2023.4551108797075,
          2699.866469481469,
          2956.4769356746297,
          2951.4456167716603,
          2925.6730575223933,
          2649.7248413146604,
          2573.060734754907,
          2441.087254005777,
          2267.9930957426664,
          2274.225010954344
         ],
         "yaxis": "y2"
        },
        {
         "hovertemplate": "cellLine=Sample CL2<br>runID=Sample CL2_2<br>runTime=%{x}<br>value=%{y}<extra></extra>",
         "legendgroup": "Sample CL2, Sample CL2_2",
         "line": {
          "color": "rgb(179,205,227)",
          "dash": "dashdot"
         },
         "marker": {
          "symbol": "diamond"
         },
         "mode": "lines+markers",
         "name": "Sample CL2, Sample CL2_2",
         "orientation": "v",
         "showlegend": true,
         "type": "scatter",
         "x": [
          0,
          21.089166666666667,
          43.23916666666667,
          71.5225,
          95.8225,
          114.6725,
          144.6225,
          165.2225,
          188.3225,
          212.50583333333333,
          238.48916666666668,
          261.1225,
          288.3225,
          306.8225,
          335.9058333333333
         ],
         "xaxis": "x",
         "y": [
          0,
          241.90145730972296,
          580.629958493805,
          1105.2165456844332,
          1655.9157491245273,
          1968.5397818603517,
          2589.5094178237914,
          2973.2078400235746,
          3167.163792095718,
          3144.7813082318876,
          2928.539949313889,
          3077.833330432663,
          3108.044081060181,
          2903.793728577545,
          3000.51151330178
         ],
         "yaxis": "y2"
        },
        {
         "hovertemplate": "cellLine=Sample CL2<br>runID=Sample CL2_3<br>runTime=%{x}<br>value=%{y}<extra></extra>",
         "legendgroup": "Sample CL2, Sample CL2_3",
         "line": {
          "color": "rgb(179,205,227)",
          "dash": "longdashdot"
         },
         "marker": {
          "symbol": "diamond"
         },
         "mode": "lines+markers",
         "name": "Sample CL2, Sample CL2_3",
         "orientation": "v",
         "showlegend": true,
         "type": "scatter",
         "x": [
          0,
          21.15,
          43.31666666666667,
          71.6,
          95.88333333333334,
          114.73333333333333,
          144.7,
          165.26666666666668,
          188.41666666666666,
          212.58333333333334,
          238.53333333333333,
          261.2,
          288.3833333333333,
          306.8833333333333,
          335.93333333333334
         ],
         "xaxis": "x",
         "y": [
          0,
          169.42894756793982,
          493.838112456894,
          848.9141861034392,
          1418.2493529834746,
          1782.7262459316255,
          2518.380918077469,
          2935.8205186467744,
          3053.1349226575476,
          3139.9375532727813,
          3364.280999938736,
          3289.6371660153955,
          3234.480656043777,
          3124.0811553092194,
          2970.4750374884793
         ],
         "yaxis": "y2"
        },
        {
         "hovertemplate": "cellLine=Sample CL3<br>runID=Sample CL3_1<br>runTime=%{x}<br>value=%{y}<extra></extra>",
         "legendgroup": "Sample CL3, Sample CL3_1",
         "line": {
          "color": "rgb(204,235,197)",
          "dash": "solid"
         },
         "marker": {
          "symbol": "square"
         },
         "mode": "lines+markers",
         "name": "Sample CL3, Sample CL3_1",
         "orientation": "v",
         "showlegend": true,
         "type": "scatter",
         "x": [
          0.6166666667559184,
          21.28333333338378,
          48.550000000046566,
          71.05000000004657,
          95.53333333338378,
          115.96666666679084,
          141.16666666668607,
          164.81666666676756,
          189.19999999995343,
          213.14999999996508,
          238.2666666667792,
          261.91666666668607,
          284.9166666667443,
          308.7500000000582,
          333.0999999999767
         ],
         "xaxis": "x",
         "y": [
          0,
          327.29997729492175,
          1097.1,
          2287.0748407913206,
          4535.185393708802,
          7031.01642460234,
          11845.628654940967,
          17383.91331583557,
          22575.925730425577,
          27230.16513016052,
          27640.91184496651,
          28557.62884349018,
          25639.27335995382,
          24612.10849514627,
          23192.684258825007
         ],
         "yaxis": "y2"
        },
        {
         "hovertemplate": "cellLine=Sample CL3<br>runID=Sample CL3_2<br>runTime=%{x}<br>value=%{y}<extra></extra>",
         "legendgroup": "Sample CL3, Sample CL3_2",
         "line": {
          "color": "rgb(204,235,197)",
          "dash": "dot"
         },
         "marker": {
          "symbol": "square"
         },
         "mode": "lines+markers",
         "name": "Sample CL3, Sample CL3_2",
         "orientation": "v",
         "showlegend": true,
         "type": "scatter",
         "x": [
          0.5333333333255723,
          21.199999999953434,
          48.46666666661622,
          70.96666666661622,
          95.44999999995343,
          115.8833333333605,
          141.08333333325572,
          164.7333333333372,
          189.1166666665231,
          213.06666666653473,
          238.18333333334886,
          261.8333333332557,
          284.83333333331393,
          308.66666666662786,
          333.01666666654637
         ],
         "xaxis": "x",
         "y": [
          0,
          303.7544428003065,
          1045.1447222050115,
          2165.5809486679045,
          4811.279566876894,
          7841.461077789634,
          13892.528596784847,
          22604.28761590283,
          31213.16427773433,
          42794.48329041884,
          48735.24461928791,
          51327.4297484465,
          55716.18451858957,
          58355.78118047453,
          53262.409038781996
         ],
         "yaxis": "y2"
        },
        {
         "hovertemplate": "cellLine=Sample CL3<br>runID=Sample CL3_3<br>runTime=%{x}<br>value=%{y}<extra></extra>",
         "legendgroup": "Sample CL3, Sample CL3_3",
         "line": {
          "color": "rgb(204,235,197)",
          "dash": "dash"
         },
         "marker": {
          "symbol": "square"
         },
         "mode": "lines+markers",
         "name": "Sample CL3, Sample CL3_3",
         "orientation": "v",
         "showlegend": true,
         "type": "scatter",
         "x": [
          0.4500000000698492,
          21.11666666669771,
          48.3833333333605,
          70.8833333333605,
          95.36666666669771,
          115.80000000010477,
          141,
          164.6500000000815,
          189.03333333326736,
          212.983333333279,
          238.10000000009313,
          261.75,
          284.7500000000582,
          308.58333333337214,
          332.93333333329065
         ],
         "xaxis": "x",
         "y": [
          0,
          389.34509878641,
          1084.5055275041593,
          2379.3426558811216,
          5048.061292663026,
          8068.079913859356,
          14428.659041655672,
          22907.511533652716,
          31008.74348976586,
          41977.18769286928,
          47901.83681865076,
          50073.31241690213,
          55248.99244953931,
          59909.40001689014,
          55001.718806680234
         ],
         "yaxis": "y2"
        }
       ],
       "layout": {
        "legend": {
         "title": {
          "text": "cellLine, runID"
         },
         "tracegroupgap": 0,
         "x": 1.1,
         "y": 1
        },
        "template": {
         "data": {
          "bar": [
           {
            "error_x": {
             "color": "#2a3f5f"
            },
            "error_y": {
             "color": "#2a3f5f"
            },
            "marker": {
             "line": {
              "color": "#E5ECF6",
              "width": 0.5
             },
             "pattern": {
              "fillmode": "overlay",
              "size": 10,
              "solidity": 0.2
             }
            },
            "type": "bar"
           }
          ],
          "barpolar": [
           {
            "marker": {
             "line": {
              "color": "#E5ECF6",
              "width": 0.5
             },
             "pattern": {
              "fillmode": "overlay",
              "size": 10,
              "solidity": 0.2
             }
            },
            "type": "barpolar"
           }
          ],
          "carpet": [
           {
            "aaxis": {
             "endlinecolor": "#2a3f5f",
             "gridcolor": "white",
             "linecolor": "white",
             "minorgridcolor": "white",
             "startlinecolor": "#2a3f5f"
            },
            "baxis": {
             "endlinecolor": "#2a3f5f",
             "gridcolor": "white",
             "linecolor": "white",
             "minorgridcolor": "white",
             "startlinecolor": "#2a3f5f"
            },
            "type": "carpet"
           }
          ],
          "choropleth": [
           {
            "colorbar": {
             "outlinewidth": 0,
             "ticks": ""
            },
            "type": "choropleth"
           }
          ],
          "contour": [
           {
            "colorbar": {
             "outlinewidth": 0,
             "ticks": ""
            },
            "colorscale": [
             [
              0,
              "#0d0887"
             ],
             [
              0.1111111111111111,
              "#46039f"
             ],
             [
              0.2222222222222222,
              "#7201a8"
             ],
             [
              0.3333333333333333,
              "#9c179e"
             ],
             [
              0.4444444444444444,
              "#bd3786"
             ],
             [
              0.5555555555555556,
              "#d8576b"
             ],
             [
              0.6666666666666666,
              "#ed7953"
             ],
             [
              0.7777777777777778,
              "#fb9f3a"
             ],
             [
              0.8888888888888888,
              "#fdca26"
             ],
             [
              1,
              "#f0f921"
             ]
            ],
            "type": "contour"
           }
          ],
          "contourcarpet": [
           {
            "colorbar": {
             "outlinewidth": 0,
             "ticks": ""
            },
            "type": "contourcarpet"
           }
          ],
          "heatmap": [
           {
            "colorbar": {
             "outlinewidth": 0,
             "ticks": ""
            },
            "colorscale": [
             [
              0,
              "#0d0887"
             ],
             [
              0.1111111111111111,
              "#46039f"
             ],
             [
              0.2222222222222222,
              "#7201a8"
             ],
             [
              0.3333333333333333,
              "#9c179e"
             ],
             [
              0.4444444444444444,
              "#bd3786"
             ],
             [
              0.5555555555555556,
              "#d8576b"
             ],
             [
              0.6666666666666666,
              "#ed7953"
             ],
             [
              0.7777777777777778,
              "#fb9f3a"
             ],
             [
              0.8888888888888888,
              "#fdca26"
             ],
             [
              1,
              "#f0f921"
             ]
            ],
            "type": "heatmap"
           }
          ],
          "heatmapgl": [
           {
            "colorbar": {
             "outlinewidth": 0,
             "ticks": ""
            },
            "colorscale": [
             [
              0,
              "#0d0887"
             ],
             [
              0.1111111111111111,
              "#46039f"
             ],
             [
              0.2222222222222222,
              "#7201a8"
             ],
             [
              0.3333333333333333,
              "#9c179e"
             ],
             [
              0.4444444444444444,
              "#bd3786"
             ],
             [
              0.5555555555555556,
              "#d8576b"
             ],
             [
              0.6666666666666666,
              "#ed7953"
             ],
             [
              0.7777777777777778,
              "#fb9f3a"
             ],
             [
              0.8888888888888888,
              "#fdca26"
             ],
             [
              1,
              "#f0f921"
             ]
            ],
            "type": "heatmapgl"
           }
          ],
          "histogram": [
           {
            "marker": {
             "pattern": {
              "fillmode": "overlay",
              "size": 10,
              "solidity": 0.2
             }
            },
            "type": "histogram"
           }
          ],
          "histogram2d": [
           {
            "colorbar": {
             "outlinewidth": 0,
             "ticks": ""
            },
            "colorscale": [
             [
              0,
              "#0d0887"
             ],
             [
              0.1111111111111111,
              "#46039f"
             ],
             [
              0.2222222222222222,
              "#7201a8"
             ],
             [
              0.3333333333333333,
              "#9c179e"
             ],
             [
              0.4444444444444444,
              "#bd3786"
             ],
             [
              0.5555555555555556,
              "#d8576b"
             ],
             [
              0.6666666666666666,
              "#ed7953"
             ],
             [
              0.7777777777777778,
              "#fb9f3a"
             ],
             [
              0.8888888888888888,
              "#fdca26"
             ],
             [
              1,
              "#f0f921"
             ]
            ],
            "type": "histogram2d"
           }
          ],
          "histogram2dcontour": [
           {
            "colorbar": {
             "outlinewidth": 0,
             "ticks": ""
            },
            "colorscale": [
             [
              0,
              "#0d0887"
             ],
             [
              0.1111111111111111,
              "#46039f"
             ],
             [
              0.2222222222222222,
              "#7201a8"
             ],
             [
              0.3333333333333333,
              "#9c179e"
             ],
             [
              0.4444444444444444,
              "#bd3786"
             ],
             [
              0.5555555555555556,
              "#d8576b"
             ],
             [
              0.6666666666666666,
              "#ed7953"
             ],
             [
              0.7777777777777778,
              "#fb9f3a"
             ],
             [
              0.8888888888888888,
              "#fdca26"
             ],
             [
              1,
              "#f0f921"
             ]
            ],
            "type": "histogram2dcontour"
           }
          ],
          "mesh3d": [
           {
            "colorbar": {
             "outlinewidth": 0,
             "ticks": ""
            },
            "type": "mesh3d"
           }
          ],
          "parcoords": [
           {
            "line": {
             "colorbar": {
              "outlinewidth": 0,
              "ticks": ""
             }
            },
            "type": "parcoords"
           }
          ],
          "pie": [
           {
            "automargin": true,
            "type": "pie"
           }
          ],
          "scatter": [
           {
            "fillpattern": {
             "fillmode": "overlay",
             "size": 10,
             "solidity": 0.2
            },
            "type": "scatter"
           }
          ],
          "scatter3d": [
           {
            "line": {
             "colorbar": {
              "outlinewidth": 0,
              "ticks": ""
             }
            },
            "marker": {
             "colorbar": {
              "outlinewidth": 0,
              "ticks": ""
             }
            },
            "type": "scatter3d"
           }
          ],
          "scattercarpet": [
           {
            "marker": {
             "colorbar": {
              "outlinewidth": 0,
              "ticks": ""
             }
            },
            "type": "scattercarpet"
           }
          ],
          "scattergeo": [
           {
            "marker": {
             "colorbar": {
              "outlinewidth": 0,
              "ticks": ""
             }
            },
            "type": "scattergeo"
           }
          ],
          "scattergl": [
           {
            "marker": {
             "colorbar": {
              "outlinewidth": 0,
              "ticks": ""
             }
            },
            "type": "scattergl"
           }
          ],
          "scattermapbox": [
           {
            "marker": {
             "colorbar": {
              "outlinewidth": 0,
              "ticks": ""
             }
            },
            "type": "scattermapbox"
           }
          ],
          "scatterpolar": [
           {
            "marker": {
             "colorbar": {
              "outlinewidth": 0,
              "ticks": ""
             }
            },
            "type": "scatterpolar"
           }
          ],
          "scatterpolargl": [
           {
            "marker": {
             "colorbar": {
              "outlinewidth": 0,
              "ticks": ""
             }
            },
            "type": "scatterpolargl"
           }
          ],
          "scatterternary": [
           {
            "marker": {
             "colorbar": {
              "outlinewidth": 0,
              "ticks": ""
             }
            },
            "type": "scatterternary"
           }
          ],
          "surface": [
           {
            "colorbar": {
             "outlinewidth": 0,
             "ticks": ""
            },
            "colorscale": [
             [
              0,
              "#0d0887"
             ],
             [
              0.1111111111111111,
              "#46039f"
             ],
             [
              0.2222222222222222,
              "#7201a8"
             ],
             [
              0.3333333333333333,
              "#9c179e"
             ],
             [
              0.4444444444444444,
              "#bd3786"
             ],
             [
              0.5555555555555556,
              "#d8576b"
             ],
             [
              0.6666666666666666,
              "#ed7953"
             ],
             [
              0.7777777777777778,
              "#fb9f3a"
             ],
             [
              0.8888888888888888,
              "#fdca26"
             ],
             [
              1,
              "#f0f921"
             ]
            ],
            "type": "surface"
           }
          ],
          "table": [
           {
            "cells": {
             "fill": {
              "color": "#EBF0F8"
             },
             "line": {
              "color": "white"
             }
            },
            "header": {
             "fill": {
              "color": "#C8D4E3"
             },
             "line": {
              "color": "white"
             }
            },
            "type": "table"
           }
          ]
         },
         "layout": {
          "annotationdefaults": {
           "arrowcolor": "#2a3f5f",
           "arrowhead": 0,
           "arrowwidth": 1
          },
          "autotypenumbers": "strict",
          "coloraxis": {
           "colorbar": {
            "outlinewidth": 0,
            "ticks": ""
           }
          },
          "colorscale": {
           "diverging": [
            [
             0,
             "#8e0152"
            ],
            [
             0.1,
             "#c51b7d"
            ],
            [
             0.2,
             "#de77ae"
            ],
            [
             0.3,
             "#f1b6da"
            ],
            [
             0.4,
             "#fde0ef"
            ],
            [
             0.5,
             "#f7f7f7"
            ],
            [
             0.6,
             "#e6f5d0"
            ],
            [
             0.7,
             "#b8e186"
            ],
            [
             0.8,
             "#7fbc41"
            ],
            [
             0.9,
             "#4d9221"
            ],
            [
             1,
             "#276419"
            ]
           ],
           "sequential": [
            [
             0,
             "#0d0887"
            ],
            [
             0.1111111111111111,
             "#46039f"
            ],
            [
             0.2222222222222222,
             "#7201a8"
            ],
            [
             0.3333333333333333,
             "#9c179e"
            ],
            [
             0.4444444444444444,
             "#bd3786"
            ],
            [
             0.5555555555555556,
             "#d8576b"
            ],
            [
             0.6666666666666666,
             "#ed7953"
            ],
            [
             0.7777777777777778,
             "#fb9f3a"
            ],
            [
             0.8888888888888888,
             "#fdca26"
            ],
            [
             1,
             "#f0f921"
            ]
           ],
           "sequentialminus": [
            [
             0,
             "#0d0887"
            ],
            [
             0.1111111111111111,
             "#46039f"
            ],
            [
             0.2222222222222222,
             "#7201a8"
            ],
            [
             0.3333333333333333,
             "#9c179e"
            ],
            [
             0.4444444444444444,
             "#bd3786"
            ],
            [
             0.5555555555555556,
             "#d8576b"
            ],
            [
             0.6666666666666666,
             "#ed7953"
            ],
            [
             0.7777777777777778,
             "#fb9f3a"
            ],
            [
             0.8888888888888888,
             "#fdca26"
            ],
            [
             1,
             "#f0f921"
            ]
           ]
          },
          "colorway": [
           "#636efa",
           "#EF553B",
           "#00cc96",
           "#ab63fa",
           "#FFA15A",
           "#19d3f3",
           "#FF6692",
           "#B6E880",
           "#FF97FF",
           "#FECB52"
          ],
          "font": {
           "color": "#2a3f5f"
          },
          "geo": {
           "bgcolor": "white",
           "lakecolor": "white",
           "landcolor": "#E5ECF6",
           "showlakes": true,
           "showland": true,
           "subunitcolor": "white"
          },
          "hoverlabel": {
           "align": "left"
          },
          "hovermode": "closest",
          "mapbox": {
           "style": "light"
          },
          "paper_bgcolor": "white",
          "plot_bgcolor": "#E5ECF6",
          "polar": {
           "angularaxis": {
            "gridcolor": "white",
            "linecolor": "white",
            "ticks": ""
           },
           "bgcolor": "#E5ECF6",
           "radialaxis": {
            "gridcolor": "white",
            "linecolor": "white",
            "ticks": ""
           }
          },
          "scene": {
           "xaxis": {
            "backgroundcolor": "#E5ECF6",
            "gridcolor": "white",
            "gridwidth": 2,
            "linecolor": "white",
            "showbackground": true,
            "ticks": "",
            "zerolinecolor": "white"
           },
           "yaxis": {
            "backgroundcolor": "#E5ECF6",
            "gridcolor": "white",
            "gridwidth": 2,
            "linecolor": "white",
            "showbackground": true,
            "ticks": "",
            "zerolinecolor": "white"
           },
           "zaxis": {
            "backgroundcolor": "#E5ECF6",
            "gridcolor": "white",
            "gridwidth": 2,
            "linecolor": "white",
            "showbackground": true,
            "ticks": "",
            "zerolinecolor": "white"
           }
          },
          "shapedefaults": {
           "line": {
            "color": "#2a3f5f"
           }
          },
          "ternary": {
           "aaxis": {
            "gridcolor": "white",
            "linecolor": "white",
            "ticks": ""
           },
           "baxis": {
            "gridcolor": "white",
            "linecolor": "white",
            "ticks": ""
           },
           "bgcolor": "#E5ECF6",
           "caxis": {
            "gridcolor": "white",
            "linecolor": "white",
            "ticks": ""
           }
          },
          "title": {
           "x": 0.05
          },
          "xaxis": {
           "automargin": true,
           "gridcolor": "white",
           "linecolor": "white",
           "ticks": "",
           "title": {
            "standoff": 15
           },
           "zerolinecolor": "white",
           "zerolinewidth": 2
          },
          "yaxis": {
           "automargin": true,
           "gridcolor": "white",
           "linecolor": "white",
           "ticks": "",
           "title": {
            "standoff": 15
           },
           "zerolinecolor": "white",
           "zerolinewidth": 2
          }
         }
        },
        "title": {
         "text": "Cell Cumulative concentration"
        },
        "xaxis": {
         "anchor": "y",
         "domain": [
          0,
          1
         ],
         "title": {
          "text": "runTime"
         }
        },
        "yaxis": {
         "anchor": "x",
         "domain": [
          0,
          1
         ],
         "title": {
          "text": "value"
         }
        },
        "yaxis2": {
         "overlaying": "y",
         "side": "right",
         "title": {
          "text": "cumulative"
         }
        }
       }
      }
     },
     "metadata": {},
     "output_type": "display_data"
    }
   ],
   "source": [
    "df = cell_df[cell_df['profile']=='cumulative']\n",
    "df1 = df[df['method']=='twoPoint']\n",
    "df2 = df[df['method']=='polynomial']\n",
    "fig1 = px.line(df1[df1['kind']=='integral'], x='runTime', y='value', \n",
    "                  title='Cell Cumulative concentration',\n",
    "                  color='cellLine', line_dash='runID', symbol='cellLine')\n",
    "\n",
    "fig2 = px.line(df1[df1['kind']=='cumulative'], x='runTime', y='value',\n",
    "               color='cellLine', line_dash='runID', symbol='cellLine',\n",
    "               color_discrete_sequence=px.colors.qualitative.Pastel1,)\n",
    "fig2.update_traces(yaxis='y2')\n",
    "\n",
    "for fig_data in fig2.data:\n",
    "    fig1.add_trace(fig_data)\n",
    "fig1.update_layout(legend_x=1.1, legend_y=1)\n",
    "fig1.update_layout(yaxis2={'side': 'right', 'title': 'cumulative', 'overlaying': \"y\",})\n",
    "fig1"
   ]
  },
  {
   "cell_type": "code",
   "execution_count": 4,
   "metadata": {},
   "outputs": [
    {
     "data": {
      "application/vnd.plotly.v1+json": {
       "config": {
        "plotlyServerURL": "https://plot.ly"
       },
       "data": [
        {
         "hovertemplate": "cellLine=Sample CL1<br>runID=Sample CL1_1<br>method=twoPoint<br>runTime=%{x}<br>value=%{y}<extra></extra>",
         "legendgroup": "Sample CL1, Sample CL1_1, twoPoint",
         "line": {
          "color": "#636efa",
          "dash": "solid"
         },
         "marker": {
          "symbol": "circle"
         },
         "mode": "lines+markers",
         "name": "Sample CL1, Sample CL1_1, twoPoint",
         "orientation": "v",
         "showlegend": true,
         "type": "scatter",
         "x": [
          0,
          23.883333333333333,
          38.55,
          47.583333333333336,
          62.65,
          71.75,
          95.53333333333333,
          121.1,
          143.83333333333334,
          167.4,
          192,
          215.65,
          233.46666666666667
         ],
         "xaxis": "x",
         "y": [
          null,
          0.03145578655406819,
          0.03662127346337873,
          0.045775141295716734,
          0.04912089197302251,
          0.03738756240424017,
          0.032022657408057265,
          0.021490306836799023,
          0.008038240113926861,
          0.0047122109451802376,
          -0.0019384916894472754,
          -0.0003941360170777934,
          -0.011030186281755354
         ],
         "yaxis": "y"
        },
        {
         "hovertemplate": "cellLine=Sample CL1<br>runID=Sample CL1_1<br>method=midPoint<br>runTime=%{x}<br>value=%{y}<extra></extra>",
         "legendgroup": "Sample CL1, Sample CL1_1, midPoint",
         "line": {
          "color": "#636efa",
          "dash": "solid"
         },
         "marker": {
          "symbol": "diamond"
         },
         "mode": "lines+markers",
         "name": "Sample CL1, Sample CL1_1, midPoint",
         "orientation": "v",
         "showlegend": true,
         "type": "scatter",
         "x": [
          11.941666666666666,
          31.216666666666665,
          43.06666666666666,
          55.11666666666667,
          67.2,
          83.64166666666667,
          108.31666666666666,
          132.46666666666667,
          155.61666666666667,
          179.7,
          203.825,
          224.55833333333334
         ],
         "xaxis": "x",
         "y": [
          0.04394406957217239,
          0.04287186115226366,
          0.041642002259489476,
          0.03966574665568444,
          0.03667052682460685,
          0.03064650032770702,
          0.018729774643358538,
          0.008782411740088534,
          0.003567551714932859,
          0.0012813200839085226,
          0.00044357304397711015,
          0.00017641171022813007
         ],
         "yaxis": "y"
        },
        {
         "hovertemplate": "cellLine=Sample CL1<br>runID=Sample CL1_2<br>method=twoPoint<br>runTime=%{x}<br>value=%{y}<extra></extra>",
         "legendgroup": "Sample CL1, Sample CL1_2, twoPoint",
         "line": {
          "color": "#636efa",
          "dash": "dot"
         },
         "marker": {
          "symbol": "circle"
         },
         "mode": "lines+markers",
         "name": "Sample CL1, Sample CL1_2, twoPoint",
         "orientation": "v",
         "showlegend": true,
         "type": "scatter",
         "x": [
          0,
          23.933333333333334,
          38.61666666666667,
          47.8,
          62.71666666666667,
          72.28333333333333,
          96.1,
          121.4,
          143.96666666666667,
          167.63333333333333,
          192.46666666666667,
          215.88333333333333,
          233.73333333333332
         ],
         "xaxis": "x",
         "y": [
          null,
          0.033255642089704975,
          0.04220072793396558,
          0.044224711600642536,
          0.042951461945875326,
          0.04814297804987965,
          0.026409288772111253,
          0.02486814558091359,
          0.008956912536534769,
          0.0031093903044543537,
          -0.004655910674505472,
          -0.0044001594660604704,
          0.00010225522554473674
         ],
         "yaxis": "y"
        },
        {
         "hovertemplate": "cellLine=Sample CL1<br>runID=Sample CL1_2<br>method=midPoint<br>runTime=%{x}<br>value=%{y}<extra></extra>",
         "legendgroup": "Sample CL1, Sample CL1_2, midPoint",
         "line": {
          "color": "#636efa",
          "dash": "dot"
         },
         "marker": {
          "symbol": "diamond"
         },
         "mode": "lines+markers",
         "name": "Sample CL1, Sample CL1_2, midPoint",
         "orientation": "v",
         "showlegend": true,
         "type": "scatter",
         "x": [
          11.966666666666667,
          31.275,
          43.20833333333333,
          55.25833333333333,
          67.5,
          84.19166666666666,
          108.75,
          132.68333333333334,
          155.8,
          180.05,
          204.175,
          224.80833333333334
         ],
         "xaxis": "x",
         "y": [
          0.04493930625021484,
          0.043809839267260904,
          0.04248740177528522,
          0.04035718812494822,
          0.03706427657467494,
          0.03042702720823747,
          0.017936759742166502,
          0.00811455429849694,
          0.003185513008352371,
          0.0011012723540291811,
          0.0003710097893812097,
          0.0001450095720218679
         ],
         "yaxis": "y"
        },
        {
         "hovertemplate": "cellLine=Sample CL1<br>runID=Sample CL1_3<br>method=twoPoint<br>runTime=%{x}<br>value=%{y}<extra></extra>",
         "legendgroup": "Sample CL1, Sample CL1_3, twoPoint",
         "line": {
          "color": "#636efa",
          "dash": "dash"
         },
         "marker": {
          "symbol": "circle"
         },
         "mode": "lines+markers",
         "name": "Sample CL1, Sample CL1_3, twoPoint",
         "orientation": "v",
         "showlegend": true,
         "type": "scatter",
         "x": [
          0,
          23.933333333333334,
          38.61666666666667,
          47.8,
          62.71666666666667,
          72.28333333333333,
          96.1,
          121.4,
          143.96666666666667,
          167.63333333333333,
          192.46666666666667,
          215.88333333333333,
          233.73333333333332
         ],
         "xaxis": "x",
         "y": [
          null,
          0.030593456399603414,
          0.051104717155452305,
          0.06367651519484104,
          0.0450590713435296,
          0.04736692003422327,
          0.0242506606273784,
          0.025824403085476018,
          0.006561635303366566,
          0.0031509827654660526,
          -0.0034548328868528543,
          -0.0025055725179052393,
          -0.0008744356834930573
         ],
         "yaxis": "y"
        },
        {
         "hovertemplate": "cellLine=Sample CL1<br>runID=Sample CL1_3<br>method=midPoint<br>runTime=%{x}<br>value=%{y}<extra></extra>",
         "legendgroup": "Sample CL1, Sample CL1_3, midPoint",
         "line": {
          "color": "#636efa",
          "dash": "dash"
         },
         "marker": {
          "symbol": "diamond"
         },
         "mode": "lines+markers",
         "name": "Sample CL1, Sample CL1_3, midPoint",
         "orientation": "v",
         "showlegend": true,
         "type": "scatter",
         "x": [
          11.966666666666667,
          31.275,
          43.20833333333333,
          55.25833333333333,
          67.5,
          84.19166666666666,
          108.75,
          132.68333333333334,
          155.8,
          180.05,
          204.175,
          224.80833333333334
         ],
         "xaxis": "x",
         "y": [
          0.047814201444161944,
          0.046755738651670056,
          0.04545795571875192,
          0.04328644912022025,
          0.03980259227981757,
          0.03251279955271416,
          0.018511591360178336,
          0.007853864587635479,
          0.0028717024274595693,
          0.0009231585990397621,
          0.0002901563028483061,
          0.00010702256338926229
         ],
         "yaxis": "y"
        },
        {
         "hovertemplate": "cellLine=Sample CL2<br>runID=Sample CL2_1<br>method=twoPoint<br>runTime=%{x}<br>value=%{y}<extra></extra>",
         "legendgroup": "Sample CL2, Sample CL2_1, twoPoint",
         "line": {
          "color": "#EF553B",
          "dash": "longdash"
         },
         "marker": {
          "symbol": "circle"
         },
         "mode": "lines+markers",
         "name": "Sample CL2, Sample CL2_1, twoPoint",
         "orientation": "v",
         "showlegend": true,
         "type": "scatter",
         "x": [
          0,
          21.35,
          43.483333333333334,
          71.76666666666667,
          96.06666666666666,
          114.98333333333333,
          144.81666666666666,
          165.43333333333334,
          188.56666666666666,
          212.81666666666666,
          238.76666666666668,
          261.23333333333335,
          288.5833333333333,
          307.0833333333333,
          336.1666666666667
         ],
         "xaxis": "x",
         "y": [
          null,
          0.027298327555944406,
          0.02078539929590066,
          0.015773974139565453,
          0.008674429540297386,
          0.013760574798809266,
          0.008961819615687488,
          0.004476370471831859,
          -0.0000759030042825545,
          -0.0003918055363969274,
          -0.004255045223393509,
          -0.0014912174795345852,
          -0.002243719893461429,
          -0.004757467607556284,
          0.00011552611513758702
         ],
         "yaxis": "y"
        },
        {
         "hovertemplate": "cellLine=Sample CL2<br>runID=Sample CL2_1<br>method=midPoint<br>runTime=%{x}<br>value=%{y}<extra></extra>",
         "legendgroup": "Sample CL2, Sample CL2_1, midPoint",
         "line": {
          "color": "#EF553B",
          "dash": "longdash"
         },
         "marker": {
          "symbol": "diamond"
         },
         "mode": "lines+markers",
         "name": "Sample CL2, Sample CL2_1, midPoint",
         "orientation": "v",
         "showlegend": true,
         "type": "scatter",
         "x": [
          10.675,
          32.41666666666667,
          57.625,
          83.91666666666666,
          105.525,
          129.9,
          155.125,
          177,
          200.69166666666666,
          225.79166666666669,
          250,
          274.9083333333333,
          297.8333333333333,
          321.625
         ],
         "xaxis": "x",
         "y": [
          0.02470564375048384,
          0.021977869967748212,
          0.017537697786700966,
          0.012150896439935902,
          0.008103523031462943,
          0.004678872620454603,
          0.0024691944548413465,
          0.0013696145024535442,
          0.0007087365629518282,
          0.0003482963197341305,
          0.0001744535740466672,
          0.00008538001531940315,
          0.000044169597368257525,
          0.000022271738562146513
         ],
         "yaxis": "y"
        },
        {
         "hovertemplate": "cellLine=Sample CL2<br>runID=Sample CL2_2<br>method=twoPoint<br>runTime=%{x}<br>value=%{y}<extra></extra>",
         "legendgroup": "Sample CL2, Sample CL2_2, twoPoint",
         "line": {
          "color": "#EF553B",
          "dash": "dashdot"
         },
         "marker": {
          "symbol": "circle"
         },
         "mode": "lines+markers",
         "name": "Sample CL2, Sample CL2_2, twoPoint",
         "orientation": "v",
         "showlegend": true,
         "type": "scatter",
         "x": [
          0,
          21.089166666666667,
          43.23916666666667,
          71.5225,
          95.8225,
          114.6725,
          144.6225,
          165.2225,
          188.3225,
          212.50583333333333,
          238.48916666666668,
          261.1225,
          288.3225,
          306.8225,
          335.9058333333333
         ],
         "xaxis": "x",
         "y": [
          null,
          0.02199089993533456,
          0.019275818957762286,
          0.016408142341062384,
          0.013746409936384745,
          0.008063703368750721,
          0.008306375698269452,
          0.006682866676535762,
          0.0027673290748837986,
          -0.0003116539487869948,
          -0.003000204850321198,
          0.0024416915443537988,
          0.0004038795277098337,
          -0.00421170539540642,
          0.0013146738287017144
         ],
         "yaxis": "y"
        },
        {
         "hovertemplate": "cellLine=Sample CL2<br>runID=Sample CL2_2<br>method=midPoint<br>runTime=%{x}<br>value=%{y}<extra></extra>",
         "legendgroup": "Sample CL2, Sample CL2_2, midPoint",
         "line": {
          "color": "#EF553B",
          "dash": "dashdot"
         },
         "marker": {
          "symbol": "diamond"
         },
         "mode": "lines+markers",
         "name": "Sample CL2, Sample CL2_2, midPoint",
         "orientation": "v",
         "showlegend": true,
         "type": "scatter",
         "x": [
          10.544583333333334,
          32.16416666666667,
          57.38083333333333,
          83.6725,
          105.2475,
          129.6475,
          154.9225,
          176.77249999999998,
          200.41416666666666,
          225.4975,
          249.80583333333334,
          274.72249999999997,
          297.5725,
          321.3641666666666
         ],
         "xaxis": "x",
         "y": [
          0.022318846341298475,
          0.020162768079242437,
          0.016689106697979534,
          0.012348806480347703,
          0.008851219326268403,
          0.005586189008421527,
          0.0032293469581141745,
          0.0019336683133326382,
          0.0010826172153342985,
          0.0005753700501006678,
          0.0003089918619491534,
          0.00016256189878970282,
          0.00008998714049897257,
          0.00004854934244905523
         ],
         "yaxis": "y"
        },
        {
         "hovertemplate": "cellLine=Sample CL2<br>runID=Sample CL2_3<br>method=twoPoint<br>runTime=%{x}<br>value=%{y}<extra></extra>",
         "legendgroup": "Sample CL2, Sample CL2_3, twoPoint",
         "line": {
          "color": "#EF553B",
          "dash": "longdashdot"
         },
         "marker": {
          "symbol": "circle"
         },
         "mode": "lines+markers",
         "name": "Sample CL2, Sample CL2_3, twoPoint",
         "orientation": "v",
         "showlegend": true,
         "type": "scatter",
         "x": [
          0,
          21.15,
          43.31666666666667,
          71.6,
          95.88333333333334,
          114.73333333333333,
          144.7,
          165.26666666666668,
          188.41666666666666,
          212.58333333333334,
          238.53333333333333,
          261.2,
          288.3833333333333,
          306.8833333333333,
          335.93333333333334
         ],
         "xaxis": "x",
         "y": [
          null,
          0.01527220452539906,
          0.019413554464017976,
          0.012470665606161571,
          0.016125327486585694,
          0.010178343353314105,
          0.010127183930307988,
          0.0072709787179784015,
          0.0016797207021871075,
          0.001208454001537947,
          0.002834264130456195,
          -0.0010694958131953443,
          -0.0006833340091496497,
          -0.0020993845253832986,
          -0.0019814422393535833
         ],
         "yaxis": "y"
        },
        {
         "hovertemplate": "cellLine=Sample CL2<br>runID=Sample CL2_3<br>method=midPoint<br>runTime=%{x}<br>value=%{y}<extra></extra>",
         "legendgroup": "Sample CL2, Sample CL2_3, midPoint",
         "line": {
          "color": "#EF553B",
          "dash": "longdashdot"
         },
         "marker": {
          "symbol": "diamond"
         },
         "mode": "lines+markers",
         "name": "Sample CL2, Sample CL2_3, midPoint",
         "orientation": "v",
         "showlegend": true,
         "type": "scatter",
         "x": [
          10.575,
          32.233333333333334,
          57.45833333333333,
          83.74166666666667,
          105.30833333333334,
          129.71666666666667,
          154.98333333333335,
          176.84166666666667,
          200.5,
          225.55833333333334,
          249.86666666666667,
          274.79166666666663,
          297.6333333333333,
          321.4083333333333
         ],
         "xaxis": "x",
         "y": [
          0.01881086058184458,
          0.01739825942992298,
          0.015180503846720988,
          0.012314036982227945,
          0.009776675213923662,
          0.007056774099593724,
          0.00472133757348039,
          0.0031978294974822083,
          0.0020318874330783688,
          0.0012264147209641234,
          0.000740016161708577,
          0.00043659130668741224,
          0.00026778277792458195,
          0.00016047714843356648
         ],
         "yaxis": "y"
        },
        {
         "hovertemplate": "cellLine=Sample CL3<br>runID=Sample CL3_1<br>method=twoPoint<br>runTime=%{x}<br>value=%{y}<extra></extra>",
         "legendgroup": "Sample CL3, Sample CL3_1, twoPoint",
         "line": {
          "color": "#00cc96",
          "dash": "solid"
         },
         "marker": {
          "symbol": "circle"
         },
         "mode": "lines+markers",
         "name": "Sample CL3, Sample CL3_1, twoPoint",
         "orientation": "v",
         "showlegend": true,
         "type": "scatter",
         "x": [
          0.6166666667559184,
          21.28333333338378,
          48.550000000046566,
          71.05000000004657,
          95.53333333338378,
          115.96666666679084,
          141.16666666668607,
          164.81666666676756,
          189.19999999995343,
          213.14999999996508,
          238.2666666667792,
          261.91666666668607,
          284.9166666667443,
          308.7500000000582,
          333.0999999999767
         ],
         "xaxis": "x",
         "y": [
          null,
          0.023752674833511265,
          0.023230704299404988,
          0.024092599206086918,
          0.023458528408698717,
          0.01943066673911754,
          0.01921817930209777,
          0.015490074064633326,
          0.010395578626986469,
          0.0076489957706565624,
          0.0005853381875909149,
          0.0013551960083395115,
          -0.004597025020636716,
          -0.001681617623605026,
          -0.002388501980867849
         ],
         "yaxis": "y"
        },
        {
         "hovertemplate": "cellLine=Sample CL3<br>runID=Sample CL3_1<br>method=midPoint<br>runTime=%{x}<br>value=%{y}<extra></extra>",
         "legendgroup": "Sample CL3, Sample CL3_1, midPoint",
         "line": {
          "color": "#00cc96",
          "dash": "solid"
         },
         "marker": {
          "symbol": "diamond"
         },
         "mode": "lines+markers",
         "name": "Sample CL3, Sample CL3_1, midPoint",
         "orientation": "v",
         "showlegend": true,
         "type": "scatter",
         "x": [
          10.95000000006985,
          34.91666666671517,
          59.800000000046566,
          83.29166666671517,
          105.75000000008731,
          128.56666666673846,
          152.99166666672681,
          177.0083333333605,
          201.17499999995925,
          225.70833333337214,
          250.09166666673264,
          273.4166666667152,
          296.83333333340124,
          320.92500000001746
         ],
         "xaxis": "x",
         "y": [
          0.025779536838707207,
          0.025344092138701705,
          0.02452552915432918,
          0.023192330773337794,
          0.021181114352814893,
          0.018262032293307303,
          0.01432154692852939,
          0.010223212676566557,
          0.006627027306358032,
          0.003949916614040534,
          0.0022396312969643183,
          0.0012621702197821401,
          0.0006972776029560515,
          0.00037474158304414307
         ],
         "yaxis": "y"
        },
        {
         "hovertemplate": "cellLine=Sample CL3<br>runID=Sample CL3_2<br>method=twoPoint<br>runTime=%{x}<br>value=%{y}<extra></extra>",
         "legendgroup": "Sample CL3, Sample CL3_2, twoPoint",
         "line": {
          "color": "#00cc96",
          "dash": "dot"
         },
         "marker": {
          "symbol": "circle"
         },
         "mode": "lines+markers",
         "name": "Sample CL3, Sample CL3_2, twoPoint",
         "orientation": "v",
         "showlegend": true,
         "type": "scatter",
         "x": [
          0.5333333333255723,
          21.199999999953434,
          48.46666666661622,
          70.96666666661622,
          95.44999999995343,
          115.8833333333605,
          141.08333333325572,
          164.7333333333372,
          189.1166666665231,
          213.06666666653473,
          238.18333333334886,
          261.8333333332557,
          284.83333333331393,
          308.66666666662786,
          333.01666666654637
         ],
         "xaxis": "x",
         "y": [
          null,
          0.02330663047935738,
          0.023746419272043497,
          0.024171705361200436,
          0.027592325159203013,
          0.022126767952613806,
          0.021622417035598095,
          0.0200664271512796,
          0.013163601077571828,
          0.013188779415798546,
          0.0052437545539623966,
          0.0022551692407855517,
          0.0036859139950543547,
          0.002015129229311489,
          -0.003915360457298897
         ],
         "yaxis": "y"
        },
        {
         "hovertemplate": "cellLine=Sample CL3<br>runID=Sample CL3_2<br>method=midPoint<br>runTime=%{x}<br>value=%{y}<extra></extra>",
         "legendgroup": "Sample CL3, Sample CL3_2, midPoint",
         "line": {
          "color": "#00cc96",
          "dash": "dot"
         },
         "marker": {
          "symbol": "diamond"
         },
         "mode": "lines+markers",
         "name": "Sample CL3, Sample CL3_2, midPoint",
         "orientation": "v",
         "showlegend": true,
         "type": "scatter",
         "x": [
          10.866666666639503,
          34.83333333328483,
          59.71666666661622,
          83.20833333328483,
          105.66666666665697,
          128.4833333333081,
          152.90833333329647,
          176.92499999993015,
          201.0916666665289,
          225.6249999999418,
          250.0083333333023,
          273.3333333332848,
          296.7499999999709,
          320.8416666665871
         ],
         "xaxis": "x",
         "y": [
          0.0255636013598145,
          0.025201933514544927,
          0.024521437822004385,
          0.023404709089654,
          0.021690971926500296,
          0.01912693130032752,
          0.015495856242525195,
          0.01147703077580706,
          0.007711665280701269,
          0.004738263693682729,
          0.00274911097230377,
          0.0015749415854715268,
          0.0008811853053694403,
          0.00047861911125187317
         ],
         "yaxis": "y"
        },
        {
         "hovertemplate": "cellLine=Sample CL3<br>runID=Sample CL3_3<br>method=twoPoint<br>runTime=%{x}<br>value=%{y}<extra></extra>",
         "legendgroup": "Sample CL3, Sample CL3_3, twoPoint",
         "line": {
          "color": "#00cc96",
          "dash": "dash"
         },
         "marker": {
          "symbol": "circle"
         },
         "mode": "lines+markers",
         "name": "Sample CL3, Sample CL3_3, twoPoint",
         "orientation": "v",
         "showlegend": true,
         "type": "scatter",
         "x": [
          0.4500000000698492,
          21.11666666669771,
          48.3833333333605,
          70.8833333333605,
          95.36666666669771,
          115.80000000010477,
          141,
          164.6500000000815,
          189.03333333326736,
          212.983333333279,
          238.10000000009313,
          261.75,
          284.7500000000582,
          308.58333333337214,
          332.93333333329065
         ],
         "xaxis": "x",
         "y": [
          null,
          0.027201885188890766,
          0.020802615886835497,
          0.026108955073864293,
          0.026223046571792304,
          0.021277094661616265,
          0.021957470522795713,
          0.019089879327434316,
          0.012364230229149271,
          0.012666501630031081,
          0.005325993029663672,
          0.0019297494199049894,
          0.004417759735457417,
          0.003521022759379203,
          -0.003658296208220889
         ],
         "yaxis": "y"
        },
        {
         "hovertemplate": "cellLine=Sample CL3<br>runID=Sample CL3_3<br>method=midPoint<br>runTime=%{x}<br>value=%{y}<extra></extra>",
         "legendgroup": "Sample CL3, Sample CL3_3, midPoint",
         "line": {
          "color": "#00cc96",
          "dash": "dash"
         },
         "marker": {
          "symbol": "diamond"
         },
         "mode": "lines+markers",
         "name": "Sample CL3, Sample CL3_3, midPoint",
         "orientation": "v",
         "showlegend": true,
         "type": "scatter",
         "x": [
          10.78333333338378,
          34.750000000029104,
          59.6333333333605,
          83.1250000000291,
          105.58333333340124,
          128.4000000000524,
          152.82500000004075,
          176.84166666667443,
          201.00833333327319,
          225.54166666668607,
          249.92500000004657,
          273.2500000000291,
          296.6666666667152,
          320.7583333333314
         ],
         "xaxis": "x",
         "y": [
          0.025704648353565788,
          0.025314070628144583,
          0.02457841032464412,
          0.02337313681349034,
          0.021533927142726495,
          0.018813045259366612,
          0.015032375333152858,
          0.01095478441502734,
          0.007241347883850516,
          0.004385742265701595,
          0.0025159791704254387,
          0.0014293554049969296,
          0.0007943836915049124,
          0.0004289950280691797
         ],
         "yaxis": "y"
        }
       ],
       "layout": {
        "legend": {
         "title": {
          "text": "cellLine, runID, method"
         },
         "tracegroupgap": 0
        },
        "template": {
         "data": {
          "bar": [
           {
            "error_x": {
             "color": "#2a3f5f"
            },
            "error_y": {
             "color": "#2a3f5f"
            },
            "marker": {
             "line": {
              "color": "#E5ECF6",
              "width": 0.5
             },
             "pattern": {
              "fillmode": "overlay",
              "size": 10,
              "solidity": 0.2
             }
            },
            "type": "bar"
           }
          ],
          "barpolar": [
           {
            "marker": {
             "line": {
              "color": "#E5ECF6",
              "width": 0.5
             },
             "pattern": {
              "fillmode": "overlay",
              "size": 10,
              "solidity": 0.2
             }
            },
            "type": "barpolar"
           }
          ],
          "carpet": [
           {
            "aaxis": {
             "endlinecolor": "#2a3f5f",
             "gridcolor": "white",
             "linecolor": "white",
             "minorgridcolor": "white",
             "startlinecolor": "#2a3f5f"
            },
            "baxis": {
             "endlinecolor": "#2a3f5f",
             "gridcolor": "white",
             "linecolor": "white",
             "minorgridcolor": "white",
             "startlinecolor": "#2a3f5f"
            },
            "type": "carpet"
           }
          ],
          "choropleth": [
           {
            "colorbar": {
             "outlinewidth": 0,
             "ticks": ""
            },
            "type": "choropleth"
           }
          ],
          "contour": [
           {
            "colorbar": {
             "outlinewidth": 0,
             "ticks": ""
            },
            "colorscale": [
             [
              0,
              "#0d0887"
             ],
             [
              0.1111111111111111,
              "#46039f"
             ],
             [
              0.2222222222222222,
              "#7201a8"
             ],
             [
              0.3333333333333333,
              "#9c179e"
             ],
             [
              0.4444444444444444,
              "#bd3786"
             ],
             [
              0.5555555555555556,
              "#d8576b"
             ],
             [
              0.6666666666666666,
              "#ed7953"
             ],
             [
              0.7777777777777778,
              "#fb9f3a"
             ],
             [
              0.8888888888888888,
              "#fdca26"
             ],
             [
              1,
              "#f0f921"
             ]
            ],
            "type": "contour"
           }
          ],
          "contourcarpet": [
           {
            "colorbar": {
             "outlinewidth": 0,
             "ticks": ""
            },
            "type": "contourcarpet"
           }
          ],
          "heatmap": [
           {
            "colorbar": {
             "outlinewidth": 0,
             "ticks": ""
            },
            "colorscale": [
             [
              0,
              "#0d0887"
             ],
             [
              0.1111111111111111,
              "#46039f"
             ],
             [
              0.2222222222222222,
              "#7201a8"
             ],
             [
              0.3333333333333333,
              "#9c179e"
             ],
             [
              0.4444444444444444,
              "#bd3786"
             ],
             [
              0.5555555555555556,
              "#d8576b"
             ],
             [
              0.6666666666666666,
              "#ed7953"
             ],
             [
              0.7777777777777778,
              "#fb9f3a"
             ],
             [
              0.8888888888888888,
              "#fdca26"
             ],
             [
              1,
              "#f0f921"
             ]
            ],
            "type": "heatmap"
           }
          ],
          "heatmapgl": [
           {
            "colorbar": {
             "outlinewidth": 0,
             "ticks": ""
            },
            "colorscale": [
             [
              0,
              "#0d0887"
             ],
             [
              0.1111111111111111,
              "#46039f"
             ],
             [
              0.2222222222222222,
              "#7201a8"
             ],
             [
              0.3333333333333333,
              "#9c179e"
             ],
             [
              0.4444444444444444,
              "#bd3786"
             ],
             [
              0.5555555555555556,
              "#d8576b"
             ],
             [
              0.6666666666666666,
              "#ed7953"
             ],
             [
              0.7777777777777778,
              "#fb9f3a"
             ],
             [
              0.8888888888888888,
              "#fdca26"
             ],
             [
              1,
              "#f0f921"
             ]
            ],
            "type": "heatmapgl"
           }
          ],
          "histogram": [
           {
            "marker": {
             "pattern": {
              "fillmode": "overlay",
              "size": 10,
              "solidity": 0.2
             }
            },
            "type": "histogram"
           }
          ],
          "histogram2d": [
           {
            "colorbar": {
             "outlinewidth": 0,
             "ticks": ""
            },
            "colorscale": [
             [
              0,
              "#0d0887"
             ],
             [
              0.1111111111111111,
              "#46039f"
             ],
             [
              0.2222222222222222,
              "#7201a8"
             ],
             [
              0.3333333333333333,
              "#9c179e"
             ],
             [
              0.4444444444444444,
              "#bd3786"
             ],
             [
              0.5555555555555556,
              "#d8576b"
             ],
             [
              0.6666666666666666,
              "#ed7953"
             ],
             [
              0.7777777777777778,
              "#fb9f3a"
             ],
             [
              0.8888888888888888,
              "#fdca26"
             ],
             [
              1,
              "#f0f921"
             ]
            ],
            "type": "histogram2d"
           }
          ],
          "histogram2dcontour": [
           {
            "colorbar": {
             "outlinewidth": 0,
             "ticks": ""
            },
            "colorscale": [
             [
              0,
              "#0d0887"
             ],
             [
              0.1111111111111111,
              "#46039f"
             ],
             [
              0.2222222222222222,
              "#7201a8"
             ],
             [
              0.3333333333333333,
              "#9c179e"
             ],
             [
              0.4444444444444444,
              "#bd3786"
             ],
             [
              0.5555555555555556,
              "#d8576b"
             ],
             [
              0.6666666666666666,
              "#ed7953"
             ],
             [
              0.7777777777777778,
              "#fb9f3a"
             ],
             [
              0.8888888888888888,
              "#fdca26"
             ],
             [
              1,
              "#f0f921"
             ]
            ],
            "type": "histogram2dcontour"
           }
          ],
          "mesh3d": [
           {
            "colorbar": {
             "outlinewidth": 0,
             "ticks": ""
            },
            "type": "mesh3d"
           }
          ],
          "parcoords": [
           {
            "line": {
             "colorbar": {
              "outlinewidth": 0,
              "ticks": ""
             }
            },
            "type": "parcoords"
           }
          ],
          "pie": [
           {
            "automargin": true,
            "type": "pie"
           }
          ],
          "scatter": [
           {
            "fillpattern": {
             "fillmode": "overlay",
             "size": 10,
             "solidity": 0.2
            },
            "type": "scatter"
           }
          ],
          "scatter3d": [
           {
            "line": {
             "colorbar": {
              "outlinewidth": 0,
              "ticks": ""
             }
            },
            "marker": {
             "colorbar": {
              "outlinewidth": 0,
              "ticks": ""
             }
            },
            "type": "scatter3d"
           }
          ],
          "scattercarpet": [
           {
            "marker": {
             "colorbar": {
              "outlinewidth": 0,
              "ticks": ""
             }
            },
            "type": "scattercarpet"
           }
          ],
          "scattergeo": [
           {
            "marker": {
             "colorbar": {
              "outlinewidth": 0,
              "ticks": ""
             }
            },
            "type": "scattergeo"
           }
          ],
          "scattergl": [
           {
            "marker": {
             "colorbar": {
              "outlinewidth": 0,
              "ticks": ""
             }
            },
            "type": "scattergl"
           }
          ],
          "scattermapbox": [
           {
            "marker": {
             "colorbar": {
              "outlinewidth": 0,
              "ticks": ""
             }
            },
            "type": "scattermapbox"
           }
          ],
          "scatterpolar": [
           {
            "marker": {
             "colorbar": {
              "outlinewidth": 0,
              "ticks": ""
             }
            },
            "type": "scatterpolar"
           }
          ],
          "scatterpolargl": [
           {
            "marker": {
             "colorbar": {
              "outlinewidth": 0,
              "ticks": ""
             }
            },
            "type": "scatterpolargl"
           }
          ],
          "scatterternary": [
           {
            "marker": {
             "colorbar": {
              "outlinewidth": 0,
              "ticks": ""
             }
            },
            "type": "scatterternary"
           }
          ],
          "surface": [
           {
            "colorbar": {
             "outlinewidth": 0,
             "ticks": ""
            },
            "colorscale": [
             [
              0,
              "#0d0887"
             ],
             [
              0.1111111111111111,
              "#46039f"
             ],
             [
              0.2222222222222222,
              "#7201a8"
             ],
             [
              0.3333333333333333,
              "#9c179e"
             ],
             [
              0.4444444444444444,
              "#bd3786"
             ],
             [
              0.5555555555555556,
              "#d8576b"
             ],
             [
              0.6666666666666666,
              "#ed7953"
             ],
             [
              0.7777777777777778,
              "#fb9f3a"
             ],
             [
              0.8888888888888888,
              "#fdca26"
             ],
             [
              1,
              "#f0f921"
             ]
            ],
            "type": "surface"
           }
          ],
          "table": [
           {
            "cells": {
             "fill": {
              "color": "#EBF0F8"
             },
             "line": {
              "color": "white"
             }
            },
            "header": {
             "fill": {
              "color": "#C8D4E3"
             },
             "line": {
              "color": "white"
             }
            },
            "type": "table"
           }
          ]
         },
         "layout": {
          "annotationdefaults": {
           "arrowcolor": "#2a3f5f",
           "arrowhead": 0,
           "arrowwidth": 1
          },
          "autotypenumbers": "strict",
          "coloraxis": {
           "colorbar": {
            "outlinewidth": 0,
            "ticks": ""
           }
          },
          "colorscale": {
           "diverging": [
            [
             0,
             "#8e0152"
            ],
            [
             0.1,
             "#c51b7d"
            ],
            [
             0.2,
             "#de77ae"
            ],
            [
             0.3,
             "#f1b6da"
            ],
            [
             0.4,
             "#fde0ef"
            ],
            [
             0.5,
             "#f7f7f7"
            ],
            [
             0.6,
             "#e6f5d0"
            ],
            [
             0.7,
             "#b8e186"
            ],
            [
             0.8,
             "#7fbc41"
            ],
            [
             0.9,
             "#4d9221"
            ],
            [
             1,
             "#276419"
            ]
           ],
           "sequential": [
            [
             0,
             "#0d0887"
            ],
            [
             0.1111111111111111,
             "#46039f"
            ],
            [
             0.2222222222222222,
             "#7201a8"
            ],
            [
             0.3333333333333333,
             "#9c179e"
            ],
            [
             0.4444444444444444,
             "#bd3786"
            ],
            [
             0.5555555555555556,
             "#d8576b"
            ],
            [
             0.6666666666666666,
             "#ed7953"
            ],
            [
             0.7777777777777778,
             "#fb9f3a"
            ],
            [
             0.8888888888888888,
             "#fdca26"
            ],
            [
             1,
             "#f0f921"
            ]
           ],
           "sequentialminus": [
            [
             0,
             "#0d0887"
            ],
            [
             0.1111111111111111,
             "#46039f"
            ],
            [
             0.2222222222222222,
             "#7201a8"
            ],
            [
             0.3333333333333333,
             "#9c179e"
            ],
            [
             0.4444444444444444,
             "#bd3786"
            ],
            [
             0.5555555555555556,
             "#d8576b"
            ],
            [
             0.6666666666666666,
             "#ed7953"
            ],
            [
             0.7777777777777778,
             "#fb9f3a"
            ],
            [
             0.8888888888888888,
             "#fdca26"
            ],
            [
             1,
             "#f0f921"
            ]
           ]
          },
          "colorway": [
           "#636efa",
           "#EF553B",
           "#00cc96",
           "#ab63fa",
           "#FFA15A",
           "#19d3f3",
           "#FF6692",
           "#B6E880",
           "#FF97FF",
           "#FECB52"
          ],
          "font": {
           "color": "#2a3f5f"
          },
          "geo": {
           "bgcolor": "white",
           "lakecolor": "white",
           "landcolor": "#E5ECF6",
           "showlakes": true,
           "showland": true,
           "subunitcolor": "white"
          },
          "hoverlabel": {
           "align": "left"
          },
          "hovermode": "closest",
          "mapbox": {
           "style": "light"
          },
          "paper_bgcolor": "white",
          "plot_bgcolor": "#E5ECF6",
          "polar": {
           "angularaxis": {
            "gridcolor": "white",
            "linecolor": "white",
            "ticks": ""
           },
           "bgcolor": "#E5ECF6",
           "radialaxis": {
            "gridcolor": "white",
            "linecolor": "white",
            "ticks": ""
           }
          },
          "scene": {
           "xaxis": {
            "backgroundcolor": "#E5ECF6",
            "gridcolor": "white",
            "gridwidth": 2,
            "linecolor": "white",
            "showbackground": true,
            "ticks": "",
            "zerolinecolor": "white"
           },
           "yaxis": {
            "backgroundcolor": "#E5ECF6",
            "gridcolor": "white",
            "gridwidth": 2,
            "linecolor": "white",
            "showbackground": true,
            "ticks": "",
            "zerolinecolor": "white"
           },
           "zaxis": {
            "backgroundcolor": "#E5ECF6",
            "gridcolor": "white",
            "gridwidth": 2,
            "linecolor": "white",
            "showbackground": true,
            "ticks": "",
            "zerolinecolor": "white"
           }
          },
          "shapedefaults": {
           "line": {
            "color": "#2a3f5f"
           }
          },
          "ternary": {
           "aaxis": {
            "gridcolor": "white",
            "linecolor": "white",
            "ticks": ""
           },
           "baxis": {
            "gridcolor": "white",
            "linecolor": "white",
            "ticks": ""
           },
           "bgcolor": "#E5ECF6",
           "caxis": {
            "gridcolor": "white",
            "linecolor": "white",
            "ticks": ""
           }
          },
          "title": {
           "x": 0.05
          },
          "xaxis": {
           "automargin": true,
           "gridcolor": "white",
           "linecolor": "white",
           "ticks": "",
           "title": {
            "standoff": 15
           },
           "zerolinecolor": "white",
           "zerolinewidth": 2
          },
          "yaxis": {
           "automargin": true,
           "gridcolor": "white",
           "linecolor": "white",
           "ticks": "",
           "title": {
            "standoff": 15
           },
           "zerolinecolor": "white",
           "zerolinewidth": 2
          }
         }
        },
        "title": {
         "text": "Specific Growth Rate"
        },
        "xaxis": {
         "anchor": "y",
         "domain": [
          0,
          1
         ],
         "title": {
          "text": "runTime"
         }
        },
        "yaxis": {
         "anchor": "x",
         "domain": [
          0,
          1
         ],
         "title": {
          "text": "value"
         }
        }
       }
      }
     },
     "metadata": {},
     "output_type": "display_data"
    }
   ],
   "source": [
    "df = cell_df[(cell_df['profile']=='spRate') & (cell_df['kind']=='growthRate')]\n",
    "fig = px.line(df, x='runTime', y='value', \n",
    "              title='Specific Growth Rate',\n",
    "              color='cellLine', line_dash='runID', symbol='method')\n",
    "fig"
   ]
  },
  {
   "cell_type": "code",
   "execution_count": null,
   "metadata": {},
   "outputs": [],
   "source": []
  }
 ],
 "metadata": {
  "kernelspec": {
   "display_name": "Python 3.9.12 ('base')",
   "language": "python",
   "name": "python3"
  },
  "language_info": {
   "codemirror_mode": {
    "name": "ipython",
    "version": 3
   },
   "file_extension": ".py",
   "mimetype": "text/x-python",
   "name": "python",
   "nbconvert_exporter": "python",
   "pygments_lexer": "ipython3",
   "version": "3.10.6"
  },
  "orig_nbformat": 4,
  "vscode": {
   "interpreter": {
    "hash": "81f548b77aeac8eb9d6ae57a752d1aa41cabb5b7f0be227db123ac70bb127d77"
   }
  }
 },
 "nbformat": 4,
 "nbformat_minor": 2
}
