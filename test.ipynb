{
 "cells": [
  {
   "cell_type": "code",
   "execution_count": null,
   "metadata": {},
   "outputs": [],
   "source": [
    "'''\n",
    "save Polynomial Cumulative for plotting\n",
    "polynomial regression using run time (days)\n",
    "\n",
    "Cell Line 2:\n",
    "    in the case of use_feed_conc, use_conc_after_feed = True, False\n",
    "    check feed concentration species\n",
    "    also CL1 and 3\n",
    "\n",
    "Rolling Regression: add \"run time middle\" & \"Conc Mid\" for each speceis\n",
    "'''"
   ]
  },
  {
   "attachments": {},
   "cell_type": "markdown",
   "metadata": {},
   "source": [
    "# Test"
   ]
  },
  {
   "cell_type": "code",
   "execution_count": 14,
   "metadata": {},
   "outputs": [],
   "source": [
    "import pandas as pd\n",
    "pd.set_option('display.max_columns', 200)\n",
    "from CCDPApy.helper import input_path, output_path\n",
    "from CCDPApy import FedBatchParameters, FedBatchCellCulture, FedBatchCellLine, FedBatchExpriment\n",
    "import pandas as pd\n",
    "import numpy as np\n",
    "import seaborn as sns\n",
    "import matplotlib.pyplot as plt\n",
    "from ipywidgets import interactive, widgets\n",
    "import seaborn as sns\n",
    "\n",
    "culture_handler = FedBatchCellCulture()\n",
    "culture_handler.load_data(file=input_path('fed_batch_data.xlsx'))\n",
    "culture_data = culture_handler.get_pre_process_data()\n",
    "\n",
    "cl_name, cl_id = 'CL2', '21'\n",
    "use_feed_conc, use_conc_after_feed = False, True\n",
    "\n",
    "cell_line_handler = FedBatchCellLine(\n",
    "    cell_line_name=cl_name, \n",
    "    data=culture_data)\n",
    "cell_line_data = cell_line_handler.get_pre_process_data()\n",
    "\n",
    "exp_handler = FedBatchExpriment(\n",
    "    cell_line_name=cl_name, \n",
    "    cell_line_id=cl_id, \n",
    "    data=cell_line_data,\n",
    "    use_feed_conc=use_feed_conc,\n",
    "    use_conc_after_feed=use_conc_after_feed)\n",
    "\n",
    "exp_handler.in_process()\n",
    "exp_handler.polynomial()\n",
    "exp_handler.rolling_window_polynomial(degree=3, window=6)"
   ]
  },
  {
   "cell_type": "code",
   "execution_count": 13,
   "metadata": {},
   "outputs": [
    {
     "data": {
      "application/vnd.jupyter.widget-view+json": {
       "model_id": "77d0cba69c3b4546b73ce60e4a45598d",
       "version_major": 2,
       "version_minor": 0
      },
      "text/plain": [
       "interactive(children=(SelectMultiple(description='Species', options=(('ALANINE', 'Alanine'), ('ARGININE', 'Arg…"
      ]
     },
     "execution_count": 13,
     "metadata": {},
     "output_type": "execute_result"
    }
   ],
   "source": [
    "# Get data\n",
    "df1 = exp_handler.conc\n",
    "df2 = exp_handler.cumulative_conc\n",
    "df3 = exp_handler.sp_rate\n",
    "\n",
    "# Options\n",
    "spc_list = list(exp_handler.get_species().keys())\n",
    "spc_list.remove('cell')\n",
    "spc_list.remove('product')\n",
    "spc_list = [(s.upper(), s.capitalize()) for s in spc_list]\n",
    "date_list = ['Run Time (day)', 'Run Time (hr)']\n",
    "profile_list = [\n",
    "    ('Concentration', 1), \n",
    "    ('Cumulative Production/Consumption', 2), \n",
    "    ('SP. Rate', 3), \n",
    "    ('All Profiles', 4)]\n",
    "method_list = df3['method'].unique()\n",
    "\n",
    "df = {1: df1, 2: df2, 3: df3}\n",
    "titles = {1: 'Concentration Profile', 2: 'Cumulative Profile', 3: 'SP. Rate Profile'}\n",
    "\n",
    "sns.set_style(\"whitegrid\", {'grid.linestyle': ':'})\n",
    "\n",
    "spc_btn = widgets.Dropdown(\n",
    "    options=spc_list, \n",
    "    description=\"Species\")\n",
    "\n",
    "spc_btn = widgets.SelectMultiple(\n",
    "    options=spc_list,\n",
    "    # value=[spc_list[0][1]],\n",
    "    rows=3,\n",
    "    description='Species',\n",
    "    disabled=False\n",
    ")\n",
    "\n",
    "profile_btn = widgets.ToggleButtons(\n",
    "    options=profile_list,\n",
    "    description='Profiles:',\n",
    "    disabled=False,\n",
    "    button_style=''\n",
    ")\n",
    "\n",
    "date_btn = widgets.ToggleButtons(\n",
    "    options=date_list, \n",
    "    description=\"Run Time:\")\n",
    "\n",
    "height_bar = widgets.IntSlider(\n",
    "    value=3,\n",
    "    min=1,\n",
    "    max=20,\n",
    "    step=1,\n",
    "    description='Height:',\n",
    "    disabled=False,\n",
    "    continuous_update=False,\n",
    "    orientation='horizontal',\n",
    "    readout=True,\n",
    "    readout_format='d'\n",
    ")\n",
    "\n",
    "width_bar = widgets.IntSlider(\n",
    "    value=5,\n",
    "    min=1,\n",
    "    max=20,\n",
    "    step=1,\n",
    "    description='Width:',\n",
    "    disabled=False,\n",
    "    continuous_update=False,\n",
    "    orientation='horizontal',\n",
    "    readout=True,\n",
    "    readout_format='d'\n",
    ")\n",
    "\n",
    "def save_fig(btn):\n",
    "    path = file_path_input.value.strip()\n",
    "    fig.savefig(path)\n",
    "    print(f\"Plot exported to {path}\")\n",
    "\n",
    "file_path_input = widgets.Text(\n",
    "    placeholder=\"Enter file path\",\n",
    "    value=output_path('fig.png'),\n",
    "    description='File Path:',\n",
    "    disabled=False)\n",
    "\n",
    "export_btn = widgets.Button(description=\"Export Graph\")\n",
    "export_btn.on_click(save_fig)\n",
    "\n",
    "def plot_profile(spc, profiles, date, height, width):\n",
    "    n_spc = len(spc)\n",
    "    fig_size = (width*3, height*n_spc)\n",
    "\n",
    "    if n_spc!=0:\n",
    "\n",
    "        if profiles==4:\n",
    "            # Create multiple subplots\n",
    "            fig, axes = plt.subplots(n_spc, 3, figsize=fig_size, tight_layout=True, squeeze=False)\n",
    "            for i, s in enumerate(spc):\n",
    "                # Concentration\n",
    "                ax = axes[i, 0]\n",
    "                mask = df[1]['species']==s\n",
    "                sns.lineplot(ax=ax, data=df1[mask], x=date, y='value', estimator=None, marker='o')\n",
    "                ax.set_title(f\"{s} {titles[1]}\")\n",
    "                ax.set_ylabel(f\"{s} {df1[mask]['unit'].values[0]}\")\n",
    "\n",
    "                # Cumulative\n",
    "                ax = axes[i, 1]\n",
    "                mask = df[2]['species']==s\n",
    "                data = df2[mask]\n",
    "                # two-point\n",
    "                data1 = data[data['method']=='twoPoint']\n",
    "                sns.scatterplot(ax=ax, data=data1, x=date, y='value', estimator=None)\n",
    "                # polynomial\n",
    "                if 'polynomial' in data['method'].unique():\n",
    "                    data2 = data[data['method']=='polynomial']\n",
    "                    sns.lineplot(ax=ax, data=data2, x=date, y='value', estimator=None)\n",
    "\n",
    "                ax.set_title(f\"{s} {titles[2]}\")\n",
    "                ax.set_ylabel(f\"{s} {df2[mask]['state'].values[0]} {df2[mask]['unit'].values[0]}\")\n",
    "                ax.legend(data['method'].unique())\n",
    "\n",
    "                # SP. rate\n",
    "                ax = axes[i, 2]\n",
    "                mask = df[3]['species']==s\n",
    "                sns.lineplot(ax=ax, data=df3[mask], x=date, y='value', estimator=None, hue='method', style='method', marker='o')\n",
    "                ax.set_title(f\"{s} {titles[3]}\")\n",
    "                ax.set_ylabel(f\"{s} {df3[mask]['unit'].values[0]}\")\n",
    "            \n",
    "        else:\n",
    "            # Create plots\n",
    "            fig, axes = plt.subplots(n_spc, 1, figsize=(width, height*n_spc), tight_layout=True, squeeze=False)\n",
    "            axes = axes.flatten()\n",
    "            df_profile = df[profiles]\n",
    "            for i, s in enumerate(spc):\n",
    "                ax = axes[i]\n",
    "                data = df_profile[df_profile['species']==s]\n",
    "                ylabel = f\"{s} {data['unit'].values[0]}\"\n",
    "                if profiles==1: # Concentration\n",
    "                    sns.lineplot(ax=ax, data=data, x=date, y='value', estimator=None, marker='o')\n",
    "                elif profiles==2:\n",
    "                    # two-point\n",
    "                    data1 = data[data['method']=='twoPoint']\n",
    "                    sns.scatterplot(ax=ax, data=data1, x=date, y='value', estimator=None)\n",
    "                    # polynomial\n",
    "                    if 'polynomial' in data['method'].unique():\n",
    "                        data2 = data[data['method']=='polynomial']\n",
    "                        sns.lineplot(ax=ax, data=data2, x=date, y='value', estimator=None)\n",
    "                    ax.legend(data['method'].unique())\n",
    "                    ylabel = f\"{s} {data['state'].values[0]} {data['unit'].values[0]}\"\n",
    "\n",
    "                elif profiles==3:\n",
    "                    sns.lineplot(ax=ax, data=data, x=date, y='value', estimator=None, hue='method', style='method', marker='o')\n",
    "            \n",
    "                # layout\n",
    "                ax.set_ylabel(ylabel)\n",
    "                ax.set_title(f\"{s} {titles[profiles]}\")\n",
    "        #plt.savefig('/Users/galileo/Desktop/test.png')\n",
    "        plt.show()\n",
    "\n",
    "interactive_plot = interactive(\n",
    "    plot_profile, \n",
    "    spc=spc_btn, \n",
    "    profiles=profile_btn,\n",
    "    date=date_btn, \n",
    "    height=height_bar, \n",
    "    width=width_bar)\n",
    "\n",
    "export_box = widgets.HBox([export_btn, file_path_input])\n",
    "# plot = widgets.VBox([export_box, interactive_plot])\n",
    "\n",
    "interactive_plot"
   ]
  },
  {
   "cell_type": "code",
   "execution_count": null,
   "metadata": {},
   "outputs": [],
   "source": []
  },
  {
   "cell_type": "code",
   "execution_count": null,
   "metadata": {},
   "outputs": [],
   "source": []
  },
  {
   "cell_type": "code",
   "execution_count": null,
   "metadata": {},
   "outputs": [],
   "source": []
  },
  {
   "cell_type": "code",
   "execution_count": null,
   "metadata": {},
   "outputs": [],
   "source": []
  },
  {
   "cell_type": "code",
   "execution_count": null,
   "metadata": {},
   "outputs": [],
   "source": []
  },
  {
   "cell_type": "code",
   "execution_count": 3,
   "metadata": {},
   "outputs": [
    {
     "data": {
      "text/html": [
       "<div>\n",
       "<style scoped>\n",
       "    .dataframe tbody tr th:only-of-type {\n",
       "        vertical-align: middle;\n",
       "    }\n",
       "\n",
       "    .dataframe tbody tr th {\n",
       "        vertical-align: top;\n",
       "    }\n",
       "\n",
       "    .dataframe thead th {\n",
       "        text-align: right;\n",
       "    }\n",
       "</style>\n",
       "<table border=\"1\" class=\"dataframe\">\n",
       "  <thead>\n",
       "    <tr style=\"text-align: right;\">\n",
       "      <th></th>\n",
       "      <th>Run Time (day)</th>\n",
       "      <th>Run Time (hr)</th>\n",
       "      <th>value</th>\n",
       "      <th>unit</th>\n",
       "      <th>state</th>\n",
       "      <th>method</th>\n",
       "      <th>species</th>\n",
       "      <th>ID</th>\n",
       "      <th>degree</th>\n",
       "    </tr>\n",
       "  </thead>\n",
       "  <tbody>\n",
       "    <tr>\n",
       "      <th>425</th>\n",
       "      <td>0</td>\n",
       "      <td>0.000000</td>\n",
       "      <td>-0.024572</td>\n",
       "      <td>(mmol)</td>\n",
       "      <td>Consumed</td>\n",
       "      <td>polynomial</td>\n",
       "      <td>Alanine</td>\n",
       "      <td>11</td>\n",
       "      <td>3.0</td>\n",
       "    </tr>\n",
       "    <tr>\n",
       "      <th>426</th>\n",
       "      <td>0</td>\n",
       "      <td>2.358249</td>\n",
       "      <td>-0.016124</td>\n",
       "      <td>(mmol)</td>\n",
       "      <td>Consumed</td>\n",
       "      <td>polynomial</td>\n",
       "      <td>Alanine</td>\n",
       "      <td>11</td>\n",
       "      <td>3.0</td>\n",
       "    </tr>\n",
       "    <tr>\n",
       "      <th>427</th>\n",
       "      <td>0</td>\n",
       "      <td>4.716498</td>\n",
       "      <td>-0.008585</td>\n",
       "      <td>(mmol)</td>\n",
       "      <td>Consumed</td>\n",
       "      <td>polynomial</td>\n",
       "      <td>Alanine</td>\n",
       "      <td>11</td>\n",
       "      <td>3.0</td>\n",
       "    </tr>\n",
       "    <tr>\n",
       "      <th>428</th>\n",
       "      <td>0</td>\n",
       "      <td>7.074747</td>\n",
       "      <td>-0.001935</td>\n",
       "      <td>(mmol)</td>\n",
       "      <td>Consumed</td>\n",
       "      <td>polynomial</td>\n",
       "      <td>Alanine</td>\n",
       "      <td>11</td>\n",
       "      <td>3.0</td>\n",
       "    </tr>\n",
       "    <tr>\n",
       "      <th>429</th>\n",
       "      <td>0</td>\n",
       "      <td>9.432997</td>\n",
       "      <td>0.003844</td>\n",
       "      <td>(mmol)</td>\n",
       "      <td>Consumed</td>\n",
       "      <td>polynomial</td>\n",
       "      <td>Alanine</td>\n",
       "      <td>11</td>\n",
       "      <td>3.0</td>\n",
       "    </tr>\n",
       "    <tr>\n",
       "      <th>...</th>\n",
       "      <td>...</td>\n",
       "      <td>...</td>\n",
       "      <td>...</td>\n",
       "      <td>...</td>\n",
       "      <td>...</td>\n",
       "      <td>...</td>\n",
       "      <td>...</td>\n",
       "      <td>...</td>\n",
       "      <td>...</td>\n",
       "    </tr>\n",
       "    <tr>\n",
       "      <th>520</th>\n",
       "      <td>9</td>\n",
       "      <td>224.033670</td>\n",
       "      <td>-0.545403</td>\n",
       "      <td>(mmol)</td>\n",
       "      <td>Consumed</td>\n",
       "      <td>polynomial</td>\n",
       "      <td>Alanine</td>\n",
       "      <td>11</td>\n",
       "      <td>3.0</td>\n",
       "    </tr>\n",
       "    <tr>\n",
       "      <th>521</th>\n",
       "      <td>9</td>\n",
       "      <td>226.391919</td>\n",
       "      <td>-0.535065</td>\n",
       "      <td>(mmol)</td>\n",
       "      <td>Consumed</td>\n",
       "      <td>polynomial</td>\n",
       "      <td>Alanine</td>\n",
       "      <td>11</td>\n",
       "      <td>3.0</td>\n",
       "    </tr>\n",
       "    <tr>\n",
       "      <th>522</th>\n",
       "      <td>9</td>\n",
       "      <td>228.750168</td>\n",
       "      <td>-0.523757</td>\n",
       "      <td>(mmol)</td>\n",
       "      <td>Consumed</td>\n",
       "      <td>polynomial</td>\n",
       "      <td>Alanine</td>\n",
       "      <td>11</td>\n",
       "      <td>3.0</td>\n",
       "    </tr>\n",
       "    <tr>\n",
       "      <th>523</th>\n",
       "      <td>9</td>\n",
       "      <td>231.108418</td>\n",
       "      <td>-0.511461</td>\n",
       "      <td>(mmol)</td>\n",
       "      <td>Consumed</td>\n",
       "      <td>polynomial</td>\n",
       "      <td>Alanine</td>\n",
       "      <td>11</td>\n",
       "      <td>3.0</td>\n",
       "    </tr>\n",
       "    <tr>\n",
       "      <th>524</th>\n",
       "      <td>9</td>\n",
       "      <td>233.466667</td>\n",
       "      <td>-0.498157</td>\n",
       "      <td>(mmol)</td>\n",
       "      <td>Consumed</td>\n",
       "      <td>polynomial</td>\n",
       "      <td>Alanine</td>\n",
       "      <td>11</td>\n",
       "      <td>3.0</td>\n",
       "    </tr>\n",
       "  </tbody>\n",
       "</table>\n",
       "<p>100 rows × 9 columns</p>\n",
       "</div>"
      ],
      "text/plain": [
       "     Run Time (day)  Run Time (hr)     value    unit     state      method  \\\n",
       "425               0       0.000000 -0.024572  (mmol)  Consumed  polynomial   \n",
       "426               0       2.358249 -0.016124  (mmol)  Consumed  polynomial   \n",
       "427               0       4.716498 -0.008585  (mmol)  Consumed  polynomial   \n",
       "428               0       7.074747 -0.001935  (mmol)  Consumed  polynomial   \n",
       "429               0       9.432997  0.003844  (mmol)  Consumed  polynomial   \n",
       "..              ...            ...       ...     ...       ...         ...   \n",
       "520               9     224.033670 -0.545403  (mmol)  Consumed  polynomial   \n",
       "521               9     226.391919 -0.535065  (mmol)  Consumed  polynomial   \n",
       "522               9     228.750168 -0.523757  (mmol)  Consumed  polynomial   \n",
       "523               9     231.108418 -0.511461  (mmol)  Consumed  polynomial   \n",
       "524               9     233.466667 -0.498157  (mmol)  Consumed  polynomial   \n",
       "\n",
       "     species  ID  degree  \n",
       "425  Alanine  11     3.0  \n",
       "426  Alanine  11     3.0  \n",
       "427  Alanine  11     3.0  \n",
       "428  Alanine  11     3.0  \n",
       "429  Alanine  11     3.0  \n",
       "..       ...  ..     ...  \n",
       "520  Alanine  11     3.0  \n",
       "521  Alanine  11     3.0  \n",
       "522  Alanine  11     3.0  \n",
       "523  Alanine  11     3.0  \n",
       "524  Alanine  11     3.0  \n",
       "\n",
       "[100 rows x 9 columns]"
      ]
     },
     "execution_count": 3,
     "metadata": {},
     "output_type": "execute_result"
    }
   ],
   "source": [
    "df = exp_handler.cumulative_conc\n",
    "mask = (df['species']=='Alanine') & (df['method']=='polynomial')\n",
    "df[mask]"
   ]
  },
  {
   "cell_type": "code",
   "execution_count": null,
   "metadata": {},
   "outputs": [],
   "source": []
  },
  {
   "cell_type": "code",
   "execution_count": null,
   "metadata": {},
   "outputs": [],
   "source": []
  },
  {
   "cell_type": "code",
   "execution_count": null,
   "metadata": {},
   "outputs": [],
   "source": []
  },
  {
   "cell_type": "code",
   "execution_count": null,
   "metadata": {},
   "outputs": [],
   "source": []
  },
  {
   "cell_type": "code",
   "execution_count": null,
   "metadata": {},
   "outputs": [],
   "source": [
    "exp_handler.get_processed_data()"
   ]
  },
  {
   "cell_type": "code",
   "execution_count": null,
   "metadata": {},
   "outputs": [],
   "source": [
    "import pandas as pd\n",
    "import numpy as np\n",
    "import seaborn as sns\n",
    "import matplotlib.pyplot as plt\n",
    "from ipywidgets import interactive, widgets\n",
    "import seaborn as sns\n",
    "\n",
    "# from CCDPApy.cell_line import bioprocess_pipeline\n",
    "from CCDPApy import FedBatchParameters, FedBatchCellCulture, FedBatchCellLine, FedBatchExpriment\n",
    "from CCDPApy.helper import input_path, output_path\n",
    "\n",
    "pd.set_option('display.max_columns', 200)\n",
    "\n",
    "from CCDPApy.helper import input_path, split_df"
   ]
  },
  {
   "cell_type": "code",
   "execution_count": null,
   "metadata": {},
   "outputs": [],
   "source": [
    "\n"
   ]
  },
  {
   "cell_type": "code",
   "execution_count": null,
   "metadata": {},
   "outputs": [],
   "source": [
    "path = input_path('fed_batch_data2.xlsx')\n",
    "sheets = pd.read_excel(path, sheet_name=None)\n",
    "sheets.keys()"
   ]
  },
  {
   "cell_type": "code",
   "execution_count": null,
   "metadata": {},
   "outputs": [],
   "source": [
    "param_1 = FedBatchParameters(cell_line_name='CL1',\n",
    "                             use_concentration_after_feed=False,\n",
    "                             use_feed_concentration=True,\n",
    "                             regression_method=['polynomial', 'rolling_window_polynomial'],\n",
    "                             rolling_polynomial_degree=3,\n",
    "                             rolling_polynomial_window=6)\n",
    "\n",
    "param_2 = FedBatchParameters(cell_line_name='CL2',\n",
    "                             use_concentration_after_feed=True,\n",
    "                             use_feed_concentration=False,\n",
    "                             regression_method=['polynomial', 'rolling_window_polynomial'],\n",
    "                             rolling_polynomial_degree=3,\n",
    "                             rolling_polynomial_window=6)\n",
    "\n",
    "param_3 = FedBatchParameters(cell_line_name='CL3',\n",
    "                             use_concentration_after_feed=False,\n",
    "                             use_feed_concentration=False,\n",
    "                             regression_method=['polynomial', 'rolling_window_polynomial'],\n",
    "                             rolling_polynomial_degree=3,\n",
    "                             rolling_polynomial_window=6)\n",
    "\n",
    "path = input_path('fed_batch_data.xlsx')\n",
    "cl_handler = FedBatchCellCulture()\n",
    "cl_handler.load_data(file=path)\n",
    "\n",
    "data_set = cl_handler.get_all_data()\n",
    "cl_line_handler = FedBatchCellLine(cell_line_name='CL1', \n",
    "                                              data=data_set,\n",
    "                                              use_feed_conc=True,\n",
    "                                              use_conc_after_feed=False)\n",
    "data_filtered = cl_line_handler.get_all_data()\n",
    "exp_handler = FedBatchExpriment(cell_line_name='CL1', \n",
    "                                        cell_line_id='11', \n",
    "                                        data=data_filtered,\n",
    "                                        use_feed_conc=True,\n",
    "                                        use_conc_after_feed=False)\n",
    "exp_handler.in_process()\n",
    "exp_handler.polynomial()\n",
    "exp_handler.rolling_window_polynomial(degree=3, window=6)"
   ]
  },
  {
   "cell_type": "code",
   "execution_count": 5,
   "metadata": {},
   "outputs": [],
   "source": [
    "# Get data\n",
    "df1 = exp_handler.conc\n",
    "df2 = exp_handler.cumulative_conc\n",
    "df3 = exp_handler.sp_rate\n",
    "\n",
    "# Options\n",
    "spc_list = list(exp_handler.get_species().keys())\n",
    "spc_list.remove('cell')\n",
    "spc_list.remove('product')\n",
    "spc_list = [(s.upper(), s.capitalize()) for s in spc_list]\n",
    "date_list = ['Run Time (day)', 'Run Time (hr)']\n",
    "profile_list = [\n",
    "    ('Concentration', 1), \n",
    "    ('Cumulative Production/Consumption', 2), \n",
    "    ('SP. Rate', 3), \n",
    "    ('All Profiles', 4)]\n",
    "method_list = df3['method'].unique()\n",
    "\n",
    "df = {1: df1, 2: df2, 3: df3}\n",
    "titles = {1: 'Concentration Profile', 2: 'Cumulative Profile', 3: 'SP. Rate Profile'}"
   ]
  },
  {
   "cell_type": "code",
   "execution_count": 8,
   "metadata": {},
   "outputs": [
    {
     "data": {
      "application/vnd.jupyter.widget-view+json": {
       "model_id": "e258e633fb654664b44a72325cefbfcb",
       "version_major": 2,
       "version_minor": 0
      },
      "text/plain": [
       "interactive(children=(SelectMultiple(description='Species', options=(('ALANINE', 'Alanine'), ('ARGININE', 'Arg…"
      ]
     },
     "execution_count": 8,
     "metadata": {},
     "output_type": "execute_result"
    }
   ],
   "source": [
    "import pandas as pd\n",
    "import numpy as np\n",
    "import seaborn as sns\n",
    "import matplotlib.pyplot as plt\n",
    "from ipywidgets import interactive, widgets\n",
    "import seaborn as sns\n",
    "\n",
    "spc_btn = widgets.Dropdown(\n",
    "    options=spc_list, \n",
    "    description=\"Species\")\n",
    "\n",
    "spc_btn = widgets.SelectMultiple(\n",
    "    options=spc_list,\n",
    "    # value=[spc_list[0][1]],\n",
    "    rows=3,\n",
    "    description='Species',\n",
    "    disabled=False\n",
    ")\n",
    "\n",
    "profile_btn = widgets.ToggleButtons(\n",
    "    options=profile_list,\n",
    "    description='Profiles:',\n",
    "    disabled=False,\n",
    "    button_style=''\n",
    ")\n",
    "\n",
    "date_btn = widgets.ToggleButtons(\n",
    "    options=date_list, \n",
    "    description=\"Run Time:\")\n",
    "\n",
    "height_bar = widgets.IntSlider(\n",
    "    value=3,\n",
    "    min=1,\n",
    "    max=20,\n",
    "    step=1,\n",
    "    description='Height:',\n",
    "    disabled=False,\n",
    "    continuous_update=False,\n",
    "    orientation='horizontal',\n",
    "    readout=True,\n",
    "    readout_format='d'\n",
    ")\n",
    "\n",
    "width_bar = widgets.IntSlider(\n",
    "    value=5,\n",
    "    min=1,\n",
    "    max=20,\n",
    "    step=1,\n",
    "    description='Width:',\n",
    "    disabled=False,\n",
    "    continuous_update=False,\n",
    "    orientation='horizontal',\n",
    "    readout=True,\n",
    "    readout_format='d'\n",
    ")\n",
    "\n",
    "def save_fig(btn):\n",
    "    path = file_path_input.value.strip()\n",
    "    fig.savefig(path)\n",
    "    print(f\"Plot exported to {path}\")\n",
    "\n",
    "file_path_input = widgets.Text(\n",
    "    placeholder=\"Enter file path\",\n",
    "    value=output_path('fig.png'),\n",
    "    description='File Path:',\n",
    "    disabled=False)\n",
    "\n",
    "export_btn = widgets.Button(description=\"Export Graph\")\n",
    "export_btn.on_click(save_fig)\n",
    "\n",
    "def plot_profile(spc, profiles, date, height, width):\n",
    "    n_spc = len(spc)\n",
    "    fig_size = (width*3, height*n_spc)\n",
    "\n",
    "    if n_spc!=0:\n",
    "\n",
    "        if profiles==4:\n",
    "            # Create multiple subplots\n",
    "            fig, axes = plt.subplots(n_spc, 3, figsize=fig_size, tight_layout=True, squeeze=False)\n",
    "            for i, s in enumerate(spc):\n",
    "                # Concentration\n",
    "                ax = axes[i, 0]\n",
    "                mask = df[1]['species']==s\n",
    "                sns.lineplot(ax=ax, data=df1[mask], x=date, y='value', estimator=None)\n",
    "                ax.set_title(f\"{s} {titles[1]}\")\n",
    "                ax.set_ylabel(f\"{s} {df1[mask]['unit'].values[0]}\")\n",
    "\n",
    "                # Cumulative\n",
    "                ax = axes[i, 1]\n",
    "                mask = df[2]['species']==s\n",
    "                data = df2[mask]\n",
    "                # two-point\n",
    "                data1 = data[data['method']=='twoPoint']\n",
    "                sns.scatterplot(ax=ax, data=data1, x=date, y='value', estimator=None)\n",
    "                # polynomial\n",
    "                if 'polynomial' in data['method'].unique():\n",
    "                    data2 = data[data['method']=='polynomial']\n",
    "                    sns.lineplot(ax=ax, data=data2, x=date, y='value', estimator=None)\n",
    "\n",
    "                ax.set_title(f\"{s} {titles[2]}\")\n",
    "                ax.set_ylabel(f\"{s} {df2[mask]['unit'].values[0]}\")\n",
    "                ax.legend(data['method'].unique())\n",
    "\n",
    "                # SP. rate\n",
    "                ax = axes[i, 2]\n",
    "                mask = df[3]['species']==s\n",
    "                sns.lineplot(ax=ax, data=df3[mask], x=date, y='value', estimator=None, hue='method', style='method')\n",
    "                ax.set_title(f\"{s} {titles[3]}\")\n",
    "                ax.set_ylabel(f\"{s} {df3[mask]['unit'].values[0]}\")\n",
    "            \n",
    "        else:\n",
    "            # Create plots\n",
    "            fig, axes = plt.subplots(n_spc, 1, figsize=(width, height*n_spc), tight_layout=True, squeeze=False)\n",
    "            axes = axes.flatten()\n",
    "            df_profile = df[profiles]\n",
    "            for i, s in enumerate(spc):\n",
    "                ax = axes[i]\n",
    "                data = df_profile[df_profile['species']==s]\n",
    "                if profiles==1:\n",
    "                    sns.lineplot(ax=ax, data=data, x=date, y='value', estimator=None)\n",
    "                elif profiles==2:\n",
    "                    # two-point\n",
    "                    data1 = data[data['method']=='twoPoint']\n",
    "                    sns.scatterplot(ax=ax, data=data1, x=date, y='value', estimator=None)\n",
    "                    # polynomial\n",
    "                    if 'polynomial' in data['method'].unique():\n",
    "                        data2 = data[data['method']=='polynomial']\n",
    "                        sns.lineplot(ax=ax, data=data2, x=date, y='value', estimator=None)\n",
    "                    ax.legend(data['method'].unique())\n",
    "\n",
    "                elif profiles==3:\n",
    "                    sns.lineplot(ax=ax, data=data, x=date, y='value', estimator=None, hue='method', style='method')\n",
    "            \n",
    "                # layout\n",
    "                ax.set_ylabel(f\"{s} {data['unit'].values[0]}\")\n",
    "                ax.set_title(f\"{s} {titles[profiles]}\")\n",
    "        #plt.savefig('/Users/galileo/Desktop/test.png')\n",
    "        plt.show()\n",
    "\n",
    "interactive_plot = interactive(\n",
    "    plot_profile, \n",
    "    spc=spc_btn, \n",
    "    profiles=profile_btn,\n",
    "    date=date_btn, \n",
    "    height=height_bar, \n",
    "    width=width_bar)\n",
    "\n",
    "export_box = widgets.HBox([export_btn, file_path_input])\n",
    "# plot = widgets.VBox([export_box, interactive_plot])\n",
    "\n",
    "interactive_plot"
   ]
  },
  {
   "cell_type": "code",
   "execution_count": null,
   "metadata": {},
   "outputs": [],
   "source": [
    "plt.savefig('/Users/galileo/Desktop/b.png')"
   ]
  },
  {
   "cell_type": "code",
   "execution_count": null,
   "metadata": {},
   "outputs": [],
   "source": []
  },
  {
   "cell_type": "code",
   "execution_count": null,
   "metadata": {},
   "outputs": [],
   "source": [
    "output_path('fig.png')"
   ]
  },
  {
   "cell_type": "code",
   "execution_count": null,
   "metadata": {},
   "outputs": [],
   "source": [
    "def save_fig(btn):\n",
    "    interactive_plot\n",
    "    # plt.savefig(\"exported_plot.png\")\n",
    "\n",
    "    path = file_path_input.value.strip()\n",
    "    print(f\"Plot exported to {path}\")\n",
    "\n",
    "file_path_input = widgets.Text(\n",
    "    placeholder=\"Enter file path\",\n",
    "    value=output_path('fig.png'),\n",
    "    description='File Path:',\n",
    "    disabled=False)\n",
    "\n",
    "export_btn = widgets.Button(description=\"Export Graph\")\n",
    "export_btn.on_click(save_fig)\n",
    "\n",
    "export_box = widgets.HBox([file_path_input, export_btn])\n",
    "\n",
    "export_box"
   ]
  },
  {
   "cell_type": "code",
   "execution_count": null,
   "metadata": {},
   "outputs": [],
   "source": []
  },
  {
   "cell_type": "code",
   "execution_count": null,
   "metadata": {},
   "outputs": [],
   "source": []
  },
  {
   "cell_type": "code",
   "execution_count": null,
   "metadata": {},
   "outputs": [],
   "source": []
  },
  {
   "cell_type": "code",
   "execution_count": null,
   "metadata": {},
   "outputs": [],
   "source": []
  },
  {
   "cell_type": "code",
   "execution_count": null,
   "metadata": {},
   "outputs": [],
   "source": [
    "if n_spc!=0\n",
    "    if profiles==4:\n",
    "        # Create multiple subplots\n",
    "        fig, axes = plt.subplots(n_spc, 3, figsize=fig_size, tight_layout=True)\n",
    "        ax = axes.flatten()\n",
    "\n",
    "        # Concentration\n",
    "        mask = df[1]['species']==spc\n",
    "        sns.lineplot(ax=ax[0], data=df1[mask], x=date, y='value', estimator=None)\n",
    "        ax[0].set_title(titles[1])\n",
    "        ax[0].set_ylabel(f\"{spc} {df1[mask]['unit'].values[0]}\")\n",
    "\n",
    "        # Cumulative\n",
    "        mask = df[2]['species']==spc\n",
    "        data = df2[mask]\n",
    "        # two-point\n",
    "        data1 = data[data['method']=='twoPoint']\n",
    "        sns.scatterplot(ax=ax[1], data=data1, x=date, y='value', estimator=None)\n",
    "        # polynomial\n",
    "        if 'polynomial' in data['method'].unique():\n",
    "            data2 = data[data['method']=='polynomial']\n",
    "            sns.lineplot(ax=ax[1], data=data2, x=date, y='value', estimator=None)\n",
    "\n",
    "        ax[1].set_title(titles[2])\n",
    "        ax[1].set_ylabel(f\"{spc} {df2[mask]['unit'].values[0]}\")\n",
    "        ax[1].legend(data['method'].unique())\n",
    "        \n",
    "        # SP. rate\n",
    "        mask = df[3]['species']==spc\n",
    "        sns.lineplot(ax=ax[2], data=df3[mask], x=date, y='value', estimator=None, hue='method', style='method')\n",
    "        ax[2].set_title(titles[3])\n",
    "        ax[2].set_ylabel(f\"{spc} {df3[mask]['unit'].values[0]}\")\n",
    "            \n"
   ]
  },
  {
   "cell_type": "code",
   "execution_count": null,
   "metadata": {},
   "outputs": [],
   "source": [
    "fig, axes = plt.subplots(1, 1, figsize=(5, 5), squeeze=False)\n",
    "axes.flatten()"
   ]
  },
  {
   "cell_type": "code",
   "execution_count": null,
   "metadata": {},
   "outputs": [],
   "source": [
    "msk = df3['species']=='Glucose'\n",
    "fig, ax = plt.subplots(figsize=(5, 3))\n",
    "sns.lineplot(ax=ax, data=df3[msk], x='Run Time (hr)', y='value', estimator=None,\n",
    "hue='method', style='method')\n",
    "plt.show()"
   ]
  },
  {
   "cell_type": "code",
   "execution_count": null,
   "metadata": {},
   "outputs": [],
   "source": [
    "df3[msk]['unit'].values[0]"
   ]
  },
  {
   "cell_type": "code",
   "execution_count": null,
   "metadata": {},
   "outputs": [],
   "source": [
    "df3.head()"
   ]
  },
  {
   "cell_type": "code",
   "execution_count": null,
   "metadata": {},
   "outputs": [],
   "source": [
    "widgets.ToggleButtons(\n",
    "    options=profile_list,\n",
    "    description='Profiles:',\n",
    "    disabled=False,\n",
    "    button_style=''\n",
    ")"
   ]
  },
  {
   "cell_type": "code",
   "execution_count": null,
   "metadata": {},
   "outputs": [],
   "source": [
    "widgets.SelectMultiple(\n",
    "    options=spc_list,\n",
    "    #value=['Oranges'],\n",
    "    #rows=10,\n",
    "    description='Fruits',\n",
    "    disabled=False\n",
    ")"
   ]
  },
  {
   "cell_type": "code",
   "execution_count": null,
   "metadata": {},
   "outputs": [],
   "source": [
    "#cl_line_handler.in_process()\n",
    "#cl_line_handler.polynomial()"
   ]
  },
  {
   "cell_type": "code",
   "execution_count": null,
   "metadata": {},
   "outputs": [],
   "source": [
    "exp_handler.get_species('all').keys()"
   ]
  },
  {
   "cell_type": "code",
   "execution_count": null,
   "metadata": {},
   "outputs": [],
   "source": [
    "cell = exp_handler.get_species('cell')\n",
    "igg = exp_handler.get_species('product')\n",
    "spc = exp_handler.get_species('glucose')"
   ]
  },
  {
   "cell_type": "code",
   "execution_count": null,
   "metadata": {},
   "outputs": [],
   "source": []
  },
  {
   "cell_type": "code",
   "execution_count": null,
   "metadata": {},
   "outputs": [],
   "source": [
    "cell.cumulative_conc"
   ]
  },
  {
   "cell_type": "code",
   "execution_count": null,
   "metadata": {},
   "outputs": [],
   "source": []
  },
  {
   "cell_type": "code",
   "execution_count": null,
   "metadata": {},
   "outputs": [],
   "source": []
  },
  {
   "cell_type": "code",
   "execution_count": null,
   "metadata": {},
   "outputs": [],
   "source": [
    "spc.sp_rate_rolling"
   ]
  },
  {
   "cell_type": "code",
   "execution_count": null,
   "metadata": {},
   "outputs": [],
   "source": [
    "spc.sp_rate_poly"
   ]
  },
  {
   "cell_type": "code",
   "execution_count": null,
   "metadata": {},
   "outputs": [],
   "source": [
    "exp_handler.in_process()\n",
    "exp_handler.polynomial()\n"
   ]
  },
  {
   "cell_type": "code",
   "execution_count": null,
   "metadata": {},
   "outputs": [],
   "source": [
    "exp_handler.get_conc_before_feed()"
   ]
  },
  {
   "cell_type": "code",
   "execution_count": null,
   "metadata": {},
   "outputs": [],
   "source": [
    "s = exp_handler.get_species('glucose')\n",
    "c = s.cumulative_conc['value'].values\n",
    "t = s.run_time_hour"
   ]
  },
  {
   "cell_type": "code",
   "execution_count": null,
   "metadata": {},
   "outputs": [],
   "source": [
    "s.conc"
   ]
  },
  {
   "cell_type": "code",
   "execution_count": null,
   "metadata": {},
   "outputs": [],
   "source": [
    "s.growth_rate"
   ]
  },
  {
   "cell_type": "code",
   "execution_count": null,
   "metadata": {},
   "outputs": [],
   "source": [
    "s.measurement_index"
   ]
  },
  {
   "cell_type": "code",
   "execution_count": null,
   "metadata": {},
   "outputs": [],
   "source": [
    "s.conc_before_feed"
   ]
  },
  {
   "cell_type": "code",
   "execution_count": null,
   "metadata": {},
   "outputs": [],
   "source": [
    "s.sp_rate"
   ]
  },
  {
   "cell_type": "code",
   "execution_count": null,
   "metadata": {},
   "outputs": [],
   "source": [
    "s.volume_before_sampling"
   ]
  },
  {
   "cell_type": "code",
   "execution_count": null,
   "metadata": {},
   "outputs": [],
   "source": [
    "from CCDPApy.helper import create_col_indices, split_name_unit"
   ]
  },
  {
   "cell_type": "code",
   "execution_count": null,
   "metadata": {},
   "outputs": [],
   "source": [
    "exp_handler.get_conc_after_feed().shape"
   ]
  },
  {
   "cell_type": "code",
   "execution_count": null,
   "metadata": {},
   "outputs": [],
   "source": [
    "a = exp_handler.get_measured_cumulative_conc()\n",
    "create_col_indices(a)"
   ]
  },
  {
   "cell_type": "code",
   "execution_count": null,
   "metadata": {},
   "outputs": [],
   "source": [
    "a.columns"
   ]
  },
  {
   "cell_type": "code",
   "execution_count": null,
   "metadata": {},
   "outputs": [],
   "source": [
    "column_indices = {}\n",
    "for i, col in enumerate(a.columns):\n",
    "    name, unit = split_name_unit(col)\n",
    "    print(i, name)\n",
    "    column_indices[name] = {'index': i, 'unit': unit}"
   ]
  },
  {
   "cell_type": "code",
   "execution_count": null,
   "metadata": {},
   "outputs": [],
   "source": [
    "a.shape"
   ]
  },
  {
   "cell_type": "code",
   "execution_count": null,
   "metadata": {},
   "outputs": [],
   "source": [
    "a.head()"
   ]
  },
  {
   "cell_type": "code",
   "execution_count": null,
   "metadata": {},
   "outputs": [],
   "source": [
    "a.iloc[:, 28]"
   ]
  },
  {
   "cell_type": "code",
   "execution_count": null,
   "metadata": {},
   "outputs": [],
   "source": [
    "exp_handler.cumulative_cell_production"
   ]
  },
  {
   "cell_type": "code",
   "execution_count": null,
   "metadata": {},
   "outputs": [],
   "source": [
    "exp_handler.polynomial()"
   ]
  },
  {
   "cell_type": "code",
   "execution_count": null,
   "metadata": {},
   "outputs": [],
   "source": [
    "exp_handler.integral_viable_cell_conc"
   ]
  },
  {
   "cell_type": "code",
   "execution_count": null,
   "metadata": {},
   "outputs": [],
   "source": [
    "exp_handler.growth_rate"
   ]
  },
  {
   "cell_type": "code",
   "execution_count": null,
   "metadata": {},
   "outputs": [],
   "source": [
    "exp_handler.cumulative_conc"
   ]
  },
  {
   "cell_type": "code",
   "execution_count": null,
   "metadata": {},
   "outputs": [],
   "source": [
    "spc = exp_handler.get_species('glutamine')\n",
    "spc.sp_rate"
   ]
  },
  {
   "cell_type": "code",
   "execution_count": null,
   "metadata": {},
   "outputs": [],
   "source": [
    "exp_handler.conc"
   ]
  },
  {
   "cell_type": "code",
   "execution_count": null,
   "metadata": {},
   "outputs": [],
   "source": [
    "exp_handler.cumulative_conc"
   ]
  },
  {
   "cell_type": "code",
   "execution_count": null,
   "metadata": {},
   "outputs": [],
   "source": [
    "exp_handler.sp_rate"
   ]
  },
  {
   "cell_type": "code",
   "execution_count": null,
   "metadata": {},
   "outputs": [],
   "source": [
    "spc.polynomial(deg=3)"
   ]
  },
  {
   "cell_type": "code",
   "execution_count": null,
   "metadata": {},
   "outputs": [],
   "source": [
    "data1 = spc.cumulative_conc_poly\n",
    "data2 = spc.cumulative_conc\n",
    "sns.lineplot(data=data1, x='Run Time (day)', y='value')\n",
    "sns.scatterplot(data=data2, x='Run Time (day)', y='value')\n",
    "plt.show()"
   ]
  },
  {
   "cell_type": "code",
   "execution_count": null,
   "metadata": {},
   "outputs": [],
   "source": [
    "spc.sp_rate_poly['value']"
   ]
  },
  {
   "cell_type": "code",
   "execution_count": null,
   "metadata": {},
   "outputs": [],
   "source": [
    "idx = spc.measurement_index\n",
    "t = spc.run_time_hour[idx]\n",
    "s = spc.cumulative_conc['value'].values[idx]\n",
    "deg = 4\n",
    "poly_func = np.poly1d(np.polyfit(x=t, y=s, deg=deg))\n",
    "poly_func"
   ]
  },
  {
   "cell_type": "code",
   "execution_count": null,
   "metadata": {},
   "outputs": [],
   "source": [
    "poly_deriv = poly_func.deriv()\n",
    "y = poly_deriv(spc.run_time_hour)\n",
    "xv = spc.viable_cell_conc['value'].values\n",
    "v = spc.volume_before_sampling\n",
    "y / (xv * v) * 1000"
   ]
  },
  {
   "cell_type": "code",
   "execution_count": null,
   "metadata": {},
   "outputs": [],
   "source": [
    "\n",
    "0.044170892\n",
    "0.033420916\n",
    "0.024387564\n",
    "0.018535344\n",
    "0.012786592\n",
    "0.007218002\n",
    "0.005092897\n",
    "0.002941554\n",
    "0.001030772\n",
    "-0.000441458\n",
    "-0.00074635\n",
    "0.000949806\n",
    "0.004161749\n",
    "0.012702173"
   ]
  },
  {
   "cell_type": "code",
   "execution_count": null,
   "metadata": {},
   "outputs": [],
   "source": [
    "poly_func(spc.run_time_hour)"
   ]
  },
  {
   "cell_type": "code",
   "execution_count": null,
   "metadata": {},
   "outputs": [],
   "source": [
    "spc.cumulative_conc_poly['value']"
   ]
  },
  {
   "cell_type": "code",
   "execution_count": null,
   "metadata": {},
   "outputs": [],
   "source": [
    "spc.sp_rate_poly['value']"
   ]
  },
  {
   "cell_type": "code",
   "execution_count": null,
   "metadata": {},
   "outputs": [],
   "source": [
    "\n",
    "0.044170892\n",
    "0.033420916\n",
    "0.024387564\n",
    "0.018535344\n",
    "0.012786592\n",
    "0.007218002\n",
    "0.005092897\n",
    "0.002941554\n",
    "0.001030772\n",
    "-0.000441458\n",
    "-0.00074635\n",
    "0.000949806\n",
    "0.004161749\n",
    "0.012702173"
   ]
  },
  {
   "cell_type": "code",
   "execution_count": null,
   "metadata": {},
   "outputs": [],
   "source": [
    "exp_handler.get_measured_data().head()"
   ]
  },
  {
   "cell_type": "code",
   "execution_count": null,
   "metadata": {},
   "outputs": [],
   "source": [
    "cell = exp_handler.get_species(species='cell')\n",
    "cell.in_process()"
   ]
  },
  {
   "cell_type": "code",
   "execution_count": null,
   "metadata": {},
   "outputs": [],
   "source": [
    "cell.sp_rate"
   ]
  },
  {
   "cell_type": "code",
   "execution_count": null,
   "metadata": {},
   "outputs": [],
   "source": [
    "igg = exp_handler.get_species(species='product')\n",
    "igg.in_process()\n",
    "igg.sp_rate"
   ]
  },
  {
   "cell_type": "code",
   "execution_count": null,
   "metadata": {},
   "outputs": [],
   "source": [
    "glt = exp_handler.get_species(species='glucose')\n",
    "glt.in_process(True, False)"
   ]
  },
  {
   "cell_type": "code",
   "execution_count": null,
   "metadata": {},
   "outputs": [],
   "source": [
    "glt.sp_rate"
   ]
  },
  {
   "attachments": {},
   "cell_type": "markdown",
   "metadata": {},
   "source": [
    "# MeasuredData Class Test"
   ]
  },
  {
   "attachments": {},
   "cell_type": "markdown",
   "metadata": {},
   "source": [
    "## Cell Line 1"
   ]
  },
  {
   "cell_type": "code",
   "execution_count": null,
   "metadata": {},
   "outputs": [],
   "source": [
    "from CCDPApy.MeasuredData.Fed_batch.MeasuredData import MeasuredData\n",
    "from CCDPApy.helper.helper import input_path\n",
    "\n",
    "# Read all sheets into a dictionary\n",
    "file_path = input_path('CL1.xlsx')\n",
    "sheets_dict = pd.read_excel(file_path, sheet_name=None)\n",
    "\n",
    "for sheet_name, df in sheets_dict.items():\n",
    "    md = MeasuredData(data=df)"
   ]
  },
  {
   "cell_type": "code",
   "execution_count": null,
   "metadata": {},
   "outputs": [],
   "source": [
    "from CCDPApy.helper import create_col_indices\n",
    "create_col_indices(md.separate_feed_df)"
   ]
  },
  {
   "cell_type": "code",
   "execution_count": null,
   "metadata": {},
   "outputs": [],
   "source": [
    "md.separate_feed_df.iloc[:, 0]"
   ]
  },
  {
   "cell_type": "code",
   "execution_count": null,
   "metadata": {},
   "outputs": [],
   "source": [
    "\n",
    "\n",
    "a = create_col_indices(md.conc_before_feed_df)\n",
    "b = create_col_indices(md.conc_after_feed_df)\n",
    "c = create_col_indices(md.feed_conc_df)\n",
    "d = create_col_indices(md.measured_cumulative_conc_df)"
   ]
  },
  {
   "cell_type": "code",
   "execution_count": null,
   "metadata": {},
   "outputs": [],
   "source": [
    "a.keys() == b.keys() and a.keys() == c.keys() and a.keys() == d.keys()\n"
   ]
  },
  {
   "cell_type": "code",
   "execution_count": null,
   "metadata": {},
   "outputs": [],
   "source": [
    "from CCDPApy.MeasuredData.MeasuredData import MeasuredData\n",
    "\n",
    "f1 = ['CL1_1.xlsx', 'CL1_2.xlsx', 'CL1_3.xlsx']\n",
    "for file in f1:\n",
    "    print(f'Tesinting MeasuredData Class for {file}.')\n",
    "    md = MeasuredData(file_name=file, \n",
    "                      measurement_sheet='Measured Data',\n",
    "                      feed_sheet='Separate Feed Info')\n",
    "    md.run_time()\n",
    "    print(\"Complete run_time() method.\")\n",
    "    md.culture_volume()\n",
    "    print(\"Complete culture_volume() method.\")\n",
    "    md.get_pre_data()"
   ]
  },
  {
   "cell_type": "code",
   "execution_count": null,
   "metadata": {},
   "outputs": [],
   "source": [
    "md.get_pre_data().head()"
   ]
  },
  {
   "attachments": {},
   "cell_type": "markdown",
   "metadata": {},
   "source": [
    "## Cell Line 2"
   ]
  },
  {
   "cell_type": "code",
   "execution_count": null,
   "metadata": {},
   "outputs": [],
   "source": [
    "from CCDPApy.MeasuredData.MeasuredData import MeasuredData\n",
    "f2 = ['CL2_1.xlsx', 'CL2_2.xlsx', 'CL2_3.xlsx']\n",
    "for file in f2:\n",
    "    print(f'Tesinting MeasuredData Class for {file}.')\n",
    "    md = MeasuredData(file_name=file, \n",
    "                      measurement_sheet='Measured Data',\n",
    "                      feed_sheet='Separate Feed Info')\n",
    "    md.run_time()\n",
    "    print(\"Complete run_time() method.\")\n",
    "    md.culture_volume()\n",
    "    print(\"Complete culture_volume() method.\")\n",
    "    md.get_pre_data()"
   ]
  },
  {
   "cell_type": "code",
   "execution_count": null,
   "metadata": {},
   "outputs": [],
   "source": [
    "md.get_pre_data()"
   ]
  },
  {
   "attachments": {},
   "cell_type": "markdown",
   "metadata": {},
   "source": [
    "## Cell Line 3"
   ]
  },
  {
   "cell_type": "code",
   "execution_count": null,
   "metadata": {},
   "outputs": [],
   "source": [
    "f3 = ['CL3_1.xlsx', 'CL3_2.xlsx', 'CL3_3.xlsx']\n",
    "\n",
    "for file in f3:\n",
    "    print(f'Tesinting MeasuredData Class for {file}.')\n",
    "    md = MeasuredData(file_name=file, \n",
    "                      measurement_sheet='Measured Data',\n",
    "                      feed_sheet='Separate Feed Info')\n",
    "    md.run_time()\n",
    "    print(\"Complete run_time() method.\")\n",
    "    md.culture_volume()\n",
    "    print(\"Complete culture_volume() method.\")\n",
    "    md.get_pre_data()"
   ]
  },
  {
   "cell_type": "code",
   "execution_count": null,
   "metadata": {},
   "outputs": [],
   "source": [
    "md.get_pre_data()"
   ]
  },
  {
   "attachments": {},
   "cell_type": "markdown",
   "metadata": {},
   "source": [
    "# BioProcess Class Test"
   ]
  },
  {
   "attachments": {},
   "cell_type": "markdown",
   "metadata": {},
   "source": [
    "## In-Process"
   ]
  },
  {
   "attachments": {},
   "cell_type": "markdown",
   "metadata": {},
   "source": [
    "In in-process, the cumulative concentration will be calculated, <br>\n",
    "and then specific rate will be calculated using the two-point calculation."
   ]
  },
  {
   "attachments": {},
   "cell_type": "markdown",
   "metadata": {},
   "source": [
    "### Cell Line 1"
   ]
  },
  {
   "attachments": {},
   "cell_type": "markdown",
   "metadata": {},
   "source": [
    "There are the measurements of the feed concentration <br>\n",
    "There are NOT measuremeents of the concentraion after feeding"
   ]
  },
  {
   "cell_type": "code",
   "execution_count": null,
   "metadata": {},
   "outputs": [],
   "source": [
    "from CCDPApy.cell_line.Fed_batch import BioProcess"
   ]
  },
  {
   "cell_type": "code",
   "execution_count": null,
   "metadata": {},
   "outputs": [],
   "source": [
    "from CCDPApy.cell_line.Fed_batch import BioProcess\n",
    "\n",
    "files = ['CL1_1.xlsx', 'CL1_2.xlsx', 'CL1_3.xlsx']\n",
    "#spc = ['Glucose','Lactate','Glutamine','Asparagine','Aspartate']\n",
    "\n",
    "feed_concentration = True\n",
    "concentration_after_feed = False\n",
    "\n",
    "cell_line_1 = {}\n",
    "for input_file in files:\n",
    "    print(f'Tesinting BioProcess Class for {input_file}.')\n",
    "    bio_process = BioProcess(file_name=input_file,\n",
    "                             #spc_list=spc,\n",
    "                             #new_spc_list=['new'],\n",
    "                             )\n",
    "    bio_process.in_process(feed_concentration=feed_concentration, \n",
    "                           concentration_after_feed=concentration_after_feed)\n",
    "    print(f'Complete In-Process.')\n",
    "    cell_line_1[input_file.split('.')[0]] = bio_process\n",
    "    \n",
    "cell_line_1.keys()\n",
    "exp_list = ['CL1_1', 'CL1_2', 'CL1_3']\n",
    "exp = exp_list[0]"
   ]
  },
  {
   "attachments": {},
   "cell_type": "markdown",
   "metadata": {},
   "source": [
    "Display Experiment Information"
   ]
  },
  {
   "cell_type": "code",
   "execution_count": null,
   "metadata": {},
   "outputs": [],
   "source": [
    "cell_line_1[exp].disp_data(exp_info=True)"
   ]
  },
  {
   "attachments": {},
   "cell_type": "markdown",
   "metadata": {},
   "source": [
    "Data about Cell"
   ]
  },
  {
   "cell_type": "code",
   "execution_count": null,
   "metadata": {},
   "outputs": [],
   "source": [
    "cell = cell_line_1[exp].get_species('cell')\n",
    "# DataFrame\n",
    "cell.get_in_process.head()\n",
    "# Display\n",
    "# cell.disp_in_process"
   ]
  },
  {
   "cell_type": "code",
   "execution_count": null,
   "metadata": {},
   "outputs": [],
   "source": [
    "cell."
   ]
  },
  {
   "attachments": {},
   "cell_type": "markdown",
   "metadata": {},
   "source": [
    "Data about Oxygen"
   ]
  },
  {
   "cell_type": "code",
   "execution_count": null,
   "metadata": {},
   "outputs": [],
   "source": [
    "oxy = cell_line_1[exp].get_species('oxygen')\n",
    "# DataFrame\n",
    "oxy.get_in_process\n",
    "# Display\n",
    "# oxy.disp_in_process"
   ]
  },
  {
   "attachments": {},
   "cell_type": "markdown",
   "metadata": {},
   "source": [
    "Data about Product(IgG)"
   ]
  },
  {
   "cell_type": "code",
   "execution_count": null,
   "metadata": {},
   "outputs": [],
   "source": [
    "product = cell_line_1[exp].get_species('product')\n",
    "# DataFrame\n",
    "product.get_in_process\n",
    "# Display\n",
    "# product.disp_in_process"
   ]
  },
  {
   "attachments": {},
   "cell_type": "markdown",
   "metadata": {},
   "source": [
    "Data about other metabolite"
   ]
  },
  {
   "cell_type": "code",
   "execution_count": null,
   "metadata": {},
   "outputs": [],
   "source": [
    "glc = cell_line_1[exp].get_species('glucose')\n",
    "glc.get_in_process"
   ]
  },
  {
   "attachments": {},
   "cell_type": "markdown",
   "metadata": {},
   "source": [
    "In-process data"
   ]
  },
  {
   "cell_type": "code",
   "execution_count": null,
   "metadata": {},
   "outputs": [],
   "source": [
    "bio_process.get_pre_process()"
   ]
  },
  {
   "attachments": {},
   "cell_type": "markdown",
   "metadata": {},
   "source": [
    "### Cell Line 2"
   ]
  },
  {
   "cell_type": "code",
   "execution_count": null,
   "metadata": {},
   "outputs": [],
   "source": [
    "from CCDPApy import BioProcess\n",
    "\n",
    "files = ['CL2_1.xlsx', 'CL2_2.xlsx', 'CL2_3.xlsx']\n",
    "\n",
    "feed_concentration = False\n",
    "concentration_after_feed = True\n",
    "\n",
    "cell_line_2 = {}\n",
    "for input_file in files:\n",
    "    print(f'Tesinting BioProcess Class for {input_file}.')\n",
    "    bio_process = BioProcess(file_name=input_file)\n",
    "    bio_process.in_process(feed_concentration=feed_concentration, \n",
    "                           concentration_after_feed=concentration_after_feed)\n",
    "    print(f'Complete In-Process.')\n",
    "    cell_line_2[input_file.split('.')[0]] = bio_process"
   ]
  },
  {
   "cell_type": "code",
   "execution_count": null,
   "metadata": {},
   "outputs": [],
   "source": [
    "cell = bio_process.get_species('cell')\n",
    "cell.get_in_process"
   ]
  },
  {
   "cell_type": "code",
   "execution_count": null,
   "metadata": {},
   "outputs": [],
   "source": [
    "igg = bio_process.get_species('product')\n",
    "igg.get_in_process"
   ]
  },
  {
   "cell_type": "code",
   "execution_count": null,
   "metadata": {},
   "outputs": [],
   "source": [
    "ala = bio_process.get_species('alanine')\n",
    "ala.get_in_process"
   ]
  },
  {
   "attachments": {},
   "cell_type": "markdown",
   "metadata": {},
   "source": [
    "### Cell Line 3"
   ]
  },
  {
   "cell_type": "code",
   "execution_count": null,
   "metadata": {},
   "outputs": [],
   "source": [
    "from CCDPApy import BioProcess\n",
    "\n",
    "files = ['CL3_1.xlsx', 'CL3_2.xlsx', 'CL3_3.xlsx']\n",
    "\n",
    "feed_concentration = False\n",
    "concentration_after_feed = False\n",
    "\n",
    "cell_line_3 = {}\n",
    "for input_file in files:\n",
    "    print(f'Tesinting BioProcess Class for {input_file}.')\n",
    "    bio_process = BioProcess(file_name=input_file)\n",
    "    bio_process.in_process(feed_concentration=feed_concentration, \n",
    "                           concentration_after_feed=concentration_after_feed)\n",
    "    print(f'Complete In-Process.')\n",
    "    cell_line_3[input_file.split('.')[0]] = bio_process"
   ]
  },
  {
   "cell_type": "code",
   "execution_count": null,
   "metadata": {},
   "outputs": [],
   "source": []
  },
  {
   "attachments": {},
   "cell_type": "markdown",
   "metadata": {},
   "source": [
    "## Display Pre-Process Data"
   ]
  },
  {
   "cell_type": "code",
   "execution_count": null,
   "metadata": {},
   "outputs": [],
   "source": [
    "#bio_process.disp_data(exp_info=False, process='prepro')"
   ]
  },
  {
   "attachments": {},
   "cell_type": "markdown",
   "metadata": {},
   "source": [
    "## Post-Process"
   ]
  },
  {
   "attachments": {},
   "cell_type": "markdown",
   "metadata": {},
   "source": [
    "### Polynomial Regression"
   ]
  },
  {
   "attachments": {},
   "cell_type": "markdown",
   "metadata": {},
   "source": [
    "Cell Line 1"
   ]
  },
  {
   "cell_type": "code",
   "execution_count": null,
   "metadata": {},
   "outputs": [],
   "source": [
    "cell_line_1"
   ]
  },
  {
   "cell_type": "code",
   "execution_count": null,
   "metadata": {},
   "outputs": [],
   "source": [
    "poly_file = 'polynomial_order_1.xlsx'\n",
    "\n",
    "for name, cl in cell_line_1.items():\n",
    "    print(f'polynomial regression method. {name}.')\n",
    "    cl.poly_regression(polyorder_file=poly_file)\n",
    "    print(f'Completed.')"
   ]
  },
  {
   "cell_type": "code",
   "execution_count": null,
   "metadata": {},
   "outputs": [],
   "source": [
    "cell = cell_line_1['CL1_1'].get_species('cell')\n",
    "cell.get_post_process"
   ]
  },
  {
   "attachments": {},
   "cell_type": "markdown",
   "metadata": {},
   "source": [
    "Cell Line 2"
   ]
  },
  {
   "cell_type": "code",
   "execution_count": null,
   "metadata": {},
   "outputs": [],
   "source": [
    "cell_line_2"
   ]
  },
  {
   "cell_type": "code",
   "execution_count": null,
   "metadata": {},
   "outputs": [],
   "source": [
    "poly_file = 'polynomial_order_2.xlsx'\n",
    "\n",
    "for name, cl in cell_line_2.items():\n",
    "    print(f'polynomial regression method. {name}.')\n",
    "    cl.poly_regression(polyorder_file=poly_file)\n",
    "    print(f'Completed.')"
   ]
  },
  {
   "cell_type": "code",
   "execution_count": null,
   "metadata": {},
   "outputs": [],
   "source": [
    "ala = cell_line_2['CL2_1'].get_species('alanine')\n",
    "ala.get_in_process_data"
   ]
  },
  {
   "attachments": {},
   "cell_type": "markdown",
   "metadata": {},
   "source": [
    "Cell Line 3"
   ]
  },
  {
   "cell_type": "code",
   "execution_count": null,
   "metadata": {},
   "outputs": [],
   "source": [
    "cell_line_3"
   ]
  },
  {
   "cell_type": "code",
   "execution_count": null,
   "metadata": {},
   "outputs": [],
   "source": [
    "poly_file = 'polynomial_order_3.xlsx'\n",
    "\n",
    "for name, cl in cell_line_3.items():\n",
    "    print(f'polynomial regression method. {name}.')\n",
    "    cl.poly_regression(polyorder_file=poly_file)\n",
    "    print(f'Completed.')"
   ]
  },
  {
   "attachments": {},
   "cell_type": "markdown",
   "metadata": {},
   "source": [
    "### Rolling Window Polynomial Regression"
   ]
  },
  {
   "attachments": {},
   "cell_type": "markdown",
   "metadata": {},
   "source": [
    "Cell Line 1"
   ]
  },
  {
   "cell_type": "code",
   "execution_count": null,
   "metadata": {},
   "outputs": [],
   "source": [
    "for name, cl in cell_line_1.items():\n",
    "    print(f'rolling polynomial regression method. {name}.')\n",
    "    cl.roll_regression(degree=3, windows=6)\n",
    "    print(f'Completed.')"
   ]
  },
  {
   "cell_type": "code",
   "execution_count": null,
   "metadata": {},
   "outputs": [],
   "source": [
    "cl1_1 = cell_line_1['CL1_1']\n",
    "cl1_1"
   ]
  },
  {
   "cell_type": "code",
   "execution_count": null,
   "metadata": {},
   "outputs": [],
   "source": [
    "cl1_1.get_post_process_data()"
   ]
  },
  {
   "cell_type": "code",
   "execution_count": null,
   "metadata": {},
   "outputs": [],
   "source": [
    "cell = cl1_1.get_species('cell')\n",
    "cell.get_post_process_logistic"
   ]
  },
  {
   "cell_type": "code",
   "execution_count": null,
   "metadata": {},
   "outputs": [],
   "source": [
    "bio_process.get_post_process_data()"
   ]
  },
  {
   "cell_type": "code",
   "execution_count": null,
   "metadata": {},
   "outputs": [],
   "source": [
    "cl1_1 = cell_line_1['CL1_1']\n",
    "ala = cl1_1.get_species('alanine')\n",
    "ala._sp_rate_rollpoly, ala._t_mid"
   ]
  },
  {
   "attachments": {},
   "cell_type": "markdown",
   "metadata": {},
   "source": [
    "Cell Line 2"
   ]
  },
  {
   "cell_type": "code",
   "execution_count": null,
   "metadata": {},
   "outputs": [],
   "source": [
    "for name, cl in cell_line_2.items():\n",
    "    print(f'rolling polynomial regression method. {name}.')\n",
    "    cl.roll_regression(degree=3, windows=6)\n",
    "    print(f'Completed.')"
   ]
  },
  {
   "attachments": {},
   "cell_type": "markdown",
   "metadata": {},
   "source": [
    "Cell Line 3"
   ]
  },
  {
   "cell_type": "code",
   "execution_count": null,
   "metadata": {},
   "outputs": [],
   "source": [
    "for name, cl in cell_line_3.items():\n",
    "    print(f'rolling polynomial regression method. {name}.')\n",
    "    cl.roll_regression(degree=3, windows=6)\n",
    "    print(f'Completed.')"
   ]
  },
  {
   "attachments": {},
   "cell_type": "markdown",
   "metadata": {},
   "source": [
    "# Interactive Plot"
   ]
  },
  {
   "cell_type": "code",
   "execution_count": null,
   "metadata": {},
   "outputs": [],
   "source": [
    "from CCDPApy import bioprocess_pipeline\n",
    "\n",
    "key_cl1 = {'use_feed_conc': False,\n",
    "           'use_conc_after_feed': False,}\n",
    "cell_line = bioprocess_pipeline(cell_culture_type='fed-batch',\n",
    "                                input_file_name='CL1.xlsx',\n",
    "                                **key_cl1)\n",
    "cell_line.interactive_plot()"
   ]
  },
  {
   "cell_type": "code",
   "execution_count": null,
   "metadata": {},
   "outputs": [],
   "source": [
    "from CCDPApy import CellLine    # used to aggregate all cell lines and experiments data\n",
    "from CCDPApy import bioprocess_pipeline\n",
    "from CCDPApy.BioProcess.BioProcess import BioProcess\n",
    "\n",
    "input_files_1 = ['CL1_1.xlsx', 'CL1_2.xlsx', 'CL1_3.xlsx']\n",
    "input_files_2 = ['CL2_1.xlsx', 'CL2_2.xlsx', 'CL2_3.xlsx']\n",
    "input_files_3 = ['CL3_1.xlsx', 'CL3_2.xlsx', 'CL3_3.xlsx']\n",
    "measurement_sheet = 'Measured Data'\n",
    "feed_sheet = 'Separate Feed Info'\n",
    "poly_file = 'polynomial_order_1.xlsx'\n",
    "\n",
    "cell_line = CellLine()\n",
    "\n",
    "# Cell Line 1\n",
    "for input in input_files_1:\n",
    "    bp = BioProcess(file_name=input,)\n",
    "    bp.in_process(feed_concentration=True, concentration_after_feed=False)\n",
    "    bp.polynomial(polyorder_file=poly_file)\n",
    "    bp.roll_regression(degree=3, windows=6)\n",
    "    cell_line.add_bio_process(bio_process=bp)\n",
    "# Cell Line 2\n",
    "for input in input_files_2:\n",
    "    bp = BioProcess(file_name=input,)\n",
    "    bp.in_process(feed_concentration=False, concentration_after_feed=True)\n",
    "    bp.polynomial(polyorder_file=poly_file)\n",
    "    bp.roll_regression(degree=3, windows=6)\n",
    "    cell_line.add_bio_process(bio_process=bp)\n",
    "# Cell Line 3\n",
    "for input in input_files_3:\n",
    "    bp = BioProcess(file_name=input,)\n",
    "    bp.in_process(feed_concentration=False, concentration_after_feed=False)\n",
    "    bp.polynomial(polyorder_file=poly_file)\n",
    "    bp.roll_regression(degree=3, windows=6)\n",
    "    cell_line.add_bio_process(bio_process=bp)\n",
    "\n",
    "cell_line.disp_cell_lines()\n",
    "\n",
    "cell_line.interactive_plot(mode='inline')"
   ]
  },
  {
   "attachments": {},
   "cell_type": "markdown",
   "metadata": {},
   "source": [
    "## Growth rate"
   ]
  },
  {
   "cell_type": "code",
   "execution_count": null,
   "metadata": {},
   "outputs": [],
   "source": [
    "import plotly.express as px\n",
    "df = cell_line.get_plot_data()\n",
    "cell_df = df[(df['species']=='cell')]\n",
    "df1 = cell_df[(cell_df['profile']=='concentration') & (cell_df['kind']!='viability')]\n",
    "df2 = cell_df[cell_df['kind']=='viability']\n",
    "\n",
    "fig1 = px.line(df1, x='runTime', y='value', title='Cell concentration', markers=True,\n",
    "              color='kind', line_dash='cellLine', symbol='runID')\n",
    "fig1.update_layout(yaxis_title='(10^6 cells/mL)')\n",
    "\n",
    "df2 = df2.rename(columns={'value': 'viability'})\n",
    "fig2 = px.line(df2, x='runTime', y='viability', markers=True,\n",
    "               color='cellLine', line_dash='cellLine', symbol='runID',\n",
    "               color_discrete_sequence=px.colors.qualitative.Pastel1,)\n",
    "\n",
    "fig2.update_traces(yaxis='y2')\n",
    "for fig_data in fig2.data:\n",
    "    fig1.add_trace(fig_data)\n",
    "\n",
    "fig1.update_layout(legend_x=1.1, legend_y=1)\n",
    "fig1.update_layout(yaxis2={'side': 'right', 'title': 'viability (%)', 'overlaying': \"y\",})\n",
    "fig1"
   ]
  },
  {
   "cell_type": "code",
   "execution_count": null,
   "metadata": {},
   "outputs": [],
   "source": [
    "df = cell_df[cell_df['profile']=='cumulative']\n",
    "df1 = df[df['method']=='twoPoint']\n",
    "df2 = df[df['method']=='polynomial']\n",
    "fig1 = px.line(df1[df1['kind']=='integral'], x='runTime', y='value', \n",
    "                  title='Cell Cumulative concentration',\n",
    "                  color='cellLine', line_dash='runID', symbol='cellLine')\n",
    "\n",
    "fig2 = px.line(df1[df1['kind']=='cumulative'], x='runTime', y='value',\n",
    "               color='cellLine', line_dash='runID', symbol='cellLine',\n",
    "               color_discrete_sequence=px.colors.qualitative.Pastel1,)\n",
    "fig2.update_traces(yaxis='y2')\n",
    "\n",
    "for fig_data in fig2.data:\n",
    "    fig1.add_trace(fig_data)\n",
    "fig1.update_layout(legend_x=1.1, legend_y=1)\n",
    "fig1.update_layout(yaxis2={'side': 'right', 'title': 'cumulative', 'overlaying': \"y\",})\n",
    "fig1"
   ]
  },
  {
   "cell_type": "code",
   "execution_count": null,
   "metadata": {},
   "outputs": [],
   "source": [
    "df = cell_df[(cell_df['profile']=='spRate') & (cell_df['kind']=='growthRate')]\n",
    "fig = px.line(df, x='runTime', y='value', \n",
    "              title='Specific Growth Rate',\n",
    "              color='cellLine', line_dash='runID', symbol='method')\n",
    "fig"
   ]
  },
  {
   "cell_type": "code",
   "execution_count": null,
   "metadata": {},
   "outputs": [],
   "source": []
  }
 ],
 "metadata": {
  "kernelspec": {
   "display_name": "Python 3.9.12 ('base')",
   "language": "python",
   "name": "python3"
  },
  "language_info": {
   "codemirror_mode": {
    "name": "ipython",
    "version": 3
   },
   "file_extension": ".py",
   "mimetype": "text/x-python",
   "name": "python",
   "nbconvert_exporter": "python",
   "pygments_lexer": "ipython3",
   "version": "3.10.6"
  },
  "orig_nbformat": 4,
  "vscode": {
   "interpreter": {
    "hash": "81f548b77aeac8eb9d6ae57a752d1aa41cabb5b7f0be227db123ac70bb127d77"
   }
  }
 },
 "nbformat": 4,
 "nbformat_minor": 2
}
