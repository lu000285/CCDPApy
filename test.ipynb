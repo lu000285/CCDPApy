{
 "cells": [
  {
   "cell_type": "code",
   "execution_count": 2,
   "metadata": {},
   "outputs": [
    {
     "ename": "ModuleNotFoundError",
     "evalue": "No module named 'pandas'",
     "output_type": "error",
     "traceback": [
      "\u001b[0;31m---------------------------------------------------------------------------\u001b[0m",
      "\u001b[0;31mModuleNotFoundError\u001b[0m                       Traceback (most recent call last)",
      "\u001b[1;32m/Users/galileo/development/Reserch/UMN_Research/CCDPA_git/CCDPApy/test.ipynb Cell 1\u001b[0m in \u001b[0;36m<cell line: 1>\u001b[0;34m()\u001b[0m\n\u001b[0;32m----> <a href='vscode-notebook-cell:/Users/galileo/development/Reserch/UMN_Research/CCDPA_git/CCDPApy/test.ipynb#W1sZmlsZQ%3D%3D?line=0'>1</a>\u001b[0m \u001b[39mfrom\u001b[39;00m \u001b[39mCCDPApy\u001b[39;00m \u001b[39mimport\u001b[39;00m bio_process\n",
      "File \u001b[0;32m~/development/Reserch/UMN_Research/CCDPA_git/CCDPApy/CCDPApy/__init__.py:1\u001b[0m, in \u001b[0;36m<module>\u001b[0;34m\u001b[0m\n\u001b[0;32m----> 1\u001b[0m \u001b[39mfrom\u001b[39;00m \u001b[39mCCDPApy\u001b[39;00m\u001b[39m.\u001b[39;00m\u001b[39mBioProcess\u001b[39;00m\u001b[39m.\u001b[39;00m\u001b[39mbio_process\u001b[39;00m \u001b[39mimport\u001b[39;00m bio_process\n\u001b[1;32m      2\u001b[0m \u001b[39mfrom\u001b[39;00m \u001b[39mCCDPApy\u001b[39;00m\u001b[39m.\u001b[39;00m\u001b[39mBioProcess\u001b[39;00m\u001b[39m.\u001b[39;00m\u001b[39mCellLine\u001b[39;00m \u001b[39mimport\u001b[39;00m CellLine\n",
      "File \u001b[0;32m~/development/Reserch/UMN_Research/CCDPA_git/CCDPApy/CCDPApy/BioProcess/bio_process.py:1\u001b[0m, in \u001b[0;36m<module>\u001b[0;34m\u001b[0m\n\u001b[0;32m----> 1\u001b[0m \u001b[39mimport\u001b[39;00m \u001b[39mpandas\u001b[39;00m \u001b[39mas\u001b[39;00m \u001b[39mpd\u001b[39;00m\n\u001b[1;32m      3\u001b[0m \u001b[39mfrom\u001b[39;00m \u001b[39m.\u001b[39;00m\u001b[39mBioProcess\u001b[39;00m \u001b[39mimport\u001b[39;00m BioProcess\n\u001b[1;32m      4\u001b[0m \u001b[39mfrom\u001b[39;00m \u001b[39m.\u001b[39;00m\u001b[39m.\u001b[39;00m\u001b[39mpre_process\u001b[39;00m\u001b[39m.\u001b[39;00m\u001b[39mpre_process\u001b[39;00m \u001b[39mimport\u001b[39;00m pre_process\n",
      "\u001b[0;31mModuleNotFoundError\u001b[0m: No module named 'pandas'"
     ]
    }
   ],
   "source": [
    "from CCDPApy import bio_process"
   ]
  },
  {
   "cell_type": "code",
   "execution_count": null,
   "metadata": {},
   "outputs": [],
   "source": [
    "key_cl1 = {'use_feed_conc': True,\n",
    "           'use_conc_after_feed': False,\n",
    "           'spc_list': ['Glucose','Lactate','Glutamine','Asparagine','Aspartate'],\n",
    "           #'polyreg': True, 'polyorder_file': 'polynomial_order.xlsx',\n",
    "           #'rollreg': True, 'rollreg_order': 3, 'rollreg_window': 6,\n",
    "           }\n",
    "\n",
    "cl1_1 = bio_process(input_file='VS_NIIMBL VS-001.xlsx', **key_cl1)"
   ]
  }
 ],
 "metadata": {
  "kernelspec": {
   "display_name": "Python 3.8.9 64-bit",
   "language": "python",
   "name": "python3"
  },
  "language_info": {
   "codemirror_mode": {
    "name": "ipython",
    "version": 3
   },
   "file_extension": ".py",
   "mimetype": "text/x-python",
   "name": "python",
   "nbconvert_exporter": "python",
   "pygments_lexer": "ipython3",
   "version": "3.8.9"
  },
  "orig_nbformat": 4,
  "vscode": {
   "interpreter": {
    "hash": "31f2aee4e71d21fbe5cf8b01ff0e069b9275f58929596ceb00d14d90e3e16cd6"
   }
  }
 },
 "nbformat": 4,
 "nbformat_minor": 2
}
