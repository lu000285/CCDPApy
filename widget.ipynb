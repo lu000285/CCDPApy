{
 "cells": [
  {
   "cell_type": "code",
   "execution_count": 1,
   "metadata": {},
   "outputs": [
    {
     "name": "stdout",
     "output_type": "stream",
     "text": [
      "CL1_1.xlsx imported.\n",
      "In-Process Done.\n",
      "Two-Point Calculations. Done.\n",
      "Polynomial Regression. Done\n",
      "Rolling Regression. Done.\n",
      "CL1_2.xlsx imported.\n",
      "In-Process Done.\n",
      "Two-Point Calculations. Done.\n",
      "Polynomial Regression. Done\n",
      "Rolling Regression. Done.\n",
      "CL1_3.xlsx imported.\n",
      "In-Process Done.\n",
      "Two-Point Calculations. Done.\n",
      "Polynomial Regression. Done\n",
      "Rolling Regression. Done.\n"
     ]
    }
   ],
   "source": [
    "from CCDPApy import CellLine    # used to aggregate all cell lines and experiments data\n",
    "from CCDPApy import bioprocess_pipeline # used for data process of one experiment\n",
    "\n",
    "data_file_1 = ['CL1_1.xlsx', 'CL1_2.xlsx', 'CL1_3.xlsx']\n",
    "key_cl1 = {'use_feed_conc': True,\n",
    "           'use_conc_after_feed': False,\n",
    "           'spc_list': ['Glucose','Lactate','Glutamine','Asparagine','Aspartate'],\n",
    "           'polyreg': True, 'polyorder_file': 'polynomial_order_1.xlsx',\n",
    "           'rollreg': True, 'rollreg_order': 3, 'rollreg_window': 6,\n",
    "           }\n",
    "\n",
    "cell_line = CellLine()\n",
    "\n",
    "for input in data_file_1:\n",
    "    cl_1 = bioprocess_pipeline(input_file_name=input, **key_cl1)\n",
    "    cell_line.add_bio_process(bio_process=cl_1)"
   ]
  },
  {
   "cell_type": "code",
   "execution_count": 2,
   "metadata": {},
   "outputs": [
    {
     "name": "stdout",
     "output_type": "stream",
     "text": [
      "Cell Line: Sample CL1\n",
      "Experiment 1: Sample CL1_1\n",
      "Experiment 2: Sample CL1_2\n",
      "Experiment 3: Sample CL1_3\n"
     ]
    }
   ],
   "source": [
    "cell_line.disp_cell_lines()"
   ]
  },
  {
   "cell_type": "code",
   "execution_count": 3,
   "metadata": {},
   "outputs": [],
   "source": [
    "cl_1 = cell_line.get_cell_line(cl_name='Sample CL1')"
   ]
  },
  {
   "cell_type": "code",
   "execution_count": 4,
   "metadata": {},
   "outputs": [
    {
     "name": "stdout",
     "output_type": "stream",
     "text": [
      "dict_keys(['GLUCOSE', 'LACTATE', 'GLUTAMINE', 'ASPARAGINE', 'ASPARTATE'])\n"
     ]
    }
   ],
   "source": [
    "import numpy as np\n",
    "import pandas as pd\n",
    "\n",
    "spc_dict  = cl_1['Sample CL1_1'].get_spc_dict()\n",
    "print(spc_dict.keys())\n",
    "\n",
    "conc = pd.concat([spc.get_conc_df() for spc in spc_dict.values()], axis=0)"
   ]
  },
  {
   "cell_type": "code",
   "execution_count": 20,
   "metadata": {},
   "outputs": [
    {
     "data": {
      "text/html": [
       "<div>\n",
       "<style scoped>\n",
       "    .dataframe tbody tr th:only-of-type {\n",
       "        vertical-align: middle;\n",
       "    }\n",
       "\n",
       "    .dataframe tbody tr th {\n",
       "        vertical-align: top;\n",
       "    }\n",
       "\n",
       "    .dataframe thead th {\n",
       "        text-align: right;\n",
       "    }\n",
       "</style>\n",
       "<table border=\"1\" class=\"dataframe\">\n",
       "  <thead>\n",
       "    <tr style=\"text-align: right;\">\n",
       "      <th></th>\n",
       "      <th>Cell Line</th>\n",
       "      <th>Experiment ID</th>\n",
       "      <th>RUN TIME (HOURS)</th>\n",
       "      <th>Cumulative Prod./Cons.</th>\n",
       "      <th>Method</th>\n",
       "      <th>Species</th>\n",
       "    </tr>\n",
       "  </thead>\n",
       "  <tbody>\n",
       "    <tr>\n",
       "      <th>0</th>\n",
       "      <td>Sample CL1</td>\n",
       "      <td>Sample CL1_1</td>\n",
       "      <td>0.000000</td>\n",
       "      <td>-0.015809</td>\n",
       "      <td>Poly. Reg. Order: 4</td>\n",
       "      <td>Glucose</td>\n",
       "    </tr>\n",
       "    <tr>\n",
       "      <th>1</th>\n",
       "      <td>Sample CL1</td>\n",
       "      <td>Sample CL1_1</td>\n",
       "      <td>2.358249</td>\n",
       "      <td>0.001280</td>\n",
       "      <td>Poly. Reg. Order: 4</td>\n",
       "      <td>Glucose</td>\n",
       "    </tr>\n",
       "    <tr>\n",
       "      <th>2</th>\n",
       "      <td>Sample CL1</td>\n",
       "      <td>Sample CL1_1</td>\n",
       "      <td>4.716498</td>\n",
       "      <td>0.018330</td>\n",
       "      <td>Poly. Reg. Order: 4</td>\n",
       "      <td>Glucose</td>\n",
       "    </tr>\n",
       "    <tr>\n",
       "      <th>3</th>\n",
       "      <td>Sample CL1</td>\n",
       "      <td>Sample CL1_1</td>\n",
       "      <td>7.074747</td>\n",
       "      <td>0.035440</td>\n",
       "      <td>Poly. Reg. Order: 4</td>\n",
       "      <td>Glucose</td>\n",
       "    </tr>\n",
       "    <tr>\n",
       "      <th>4</th>\n",
       "      <td>Sample CL1</td>\n",
       "      <td>Sample CL1_1</td>\n",
       "      <td>9.432997</td>\n",
       "      <td>0.052710</td>\n",
       "      <td>Poly. Reg. Order: 4</td>\n",
       "      <td>Glucose</td>\n",
       "    </tr>\n",
       "    <tr>\n",
       "      <th>...</th>\n",
       "      <td>...</td>\n",
       "      <td>...</td>\n",
       "      <td>...</td>\n",
       "      <td>...</td>\n",
       "      <td>...</td>\n",
       "      <td>...</td>\n",
       "    </tr>\n",
       "    <tr>\n",
       "      <th>95</th>\n",
       "      <td>Sample CL1</td>\n",
       "      <td>Sample CL1_1</td>\n",
       "      <td>224.033670</td>\n",
       "      <td>0.124831</td>\n",
       "      <td>Poly. Reg. Order: 4</td>\n",
       "      <td>Aspartate</td>\n",
       "    </tr>\n",
       "    <tr>\n",
       "      <th>96</th>\n",
       "      <td>Sample CL1</td>\n",
       "      <td>Sample CL1_1</td>\n",
       "      <td>226.391919</td>\n",
       "      <td>0.123348</td>\n",
       "      <td>Poly. Reg. Order: 4</td>\n",
       "      <td>Aspartate</td>\n",
       "    </tr>\n",
       "    <tr>\n",
       "      <th>97</th>\n",
       "      <td>Sample CL1</td>\n",
       "      <td>Sample CL1_1</td>\n",
       "      <td>228.750168</td>\n",
       "      <td>0.121627</td>\n",
       "      <td>Poly. Reg. Order: 4</td>\n",
       "      <td>Aspartate</td>\n",
       "    </tr>\n",
       "    <tr>\n",
       "      <th>98</th>\n",
       "      <td>Sample CL1</td>\n",
       "      <td>Sample CL1_1</td>\n",
       "      <td>231.108418</td>\n",
       "      <td>0.119662</td>\n",
       "      <td>Poly. Reg. Order: 4</td>\n",
       "      <td>Aspartate</td>\n",
       "    </tr>\n",
       "    <tr>\n",
       "      <th>99</th>\n",
       "      <td>Sample CL1</td>\n",
       "      <td>Sample CL1_1</td>\n",
       "      <td>233.466667</td>\n",
       "      <td>0.117446</td>\n",
       "      <td>Poly. Reg. Order: 4</td>\n",
       "      <td>Aspartate</td>\n",
       "    </tr>\n",
       "  </tbody>\n",
       "</table>\n",
       "<p>500 rows × 6 columns</p>\n",
       "</div>"
      ],
      "text/plain": [
       "     Cell Line Experiment ID  RUN TIME (HOURS)  Cumulative Prod./Cons.  \\\n",
       "0   Sample CL1  Sample CL1_1          0.000000               -0.015809   \n",
       "1   Sample CL1  Sample CL1_1          2.358249                0.001280   \n",
       "2   Sample CL1  Sample CL1_1          4.716498                0.018330   \n",
       "3   Sample CL1  Sample CL1_1          7.074747                0.035440   \n",
       "4   Sample CL1  Sample CL1_1          9.432997                0.052710   \n",
       "..         ...           ...               ...                     ...   \n",
       "95  Sample CL1  Sample CL1_1        224.033670                0.124831   \n",
       "96  Sample CL1  Sample CL1_1        226.391919                0.123348   \n",
       "97  Sample CL1  Sample CL1_1        228.750168                0.121627   \n",
       "98  Sample CL1  Sample CL1_1        231.108418                0.119662   \n",
       "99  Sample CL1  Sample CL1_1        233.466667                0.117446   \n",
       "\n",
       "                 Method    Species  \n",
       "0   Poly. Reg. Order: 4    Glucose  \n",
       "1   Poly. Reg. Order: 4    Glucose  \n",
       "2   Poly. Reg. Order: 4    Glucose  \n",
       "3   Poly. Reg. Order: 4    Glucose  \n",
       "4   Poly. Reg. Order: 4    Glucose  \n",
       "..                  ...        ...  \n",
       "95  Poly. Reg. Order: 4  Aspartate  \n",
       "96  Poly. Reg. Order: 4  Aspartate  \n",
       "97  Poly. Reg. Order: 4  Aspartate  \n",
       "98  Poly. Reg. Order: 4  Aspartate  \n",
       "99  Poly. Reg. Order: 4  Aspartate  \n",
       "\n",
       "[500 rows x 6 columns]"
      ]
     },
     "execution_count": 20,
     "metadata": {},
     "output_type": "execute_result"
    }
   ],
   "source": [
    "cum = pd.concat([spc.get_cumulative_df() for spc in spc_dict.values()], axis=0)\n",
    "cum"
   ]
  },
  {
   "cell_type": "code",
   "execution_count": 6,
   "metadata": {},
   "outputs": [],
   "source": [
    "import plotly.graph_objects as go\n",
    "from plotly.subplots import make_subplots\n",
    "from ipywidgets import widgets"
   ]
  },
  {
   "cell_type": "code",
   "execution_count": 7,
   "metadata": {},
   "outputs": [
    {
     "data": {
      "text/plain": [
       "['GLUCOSE', 'LACTATE', 'GLUTAMINE', 'ASPARAGINE', 'ASPARTATE']"
      ]
     },
     "execution_count": 7,
     "metadata": {},
     "output_type": "execute_result"
    }
   ],
   "source": [
    "spc_list = cl_1['Sample CL1_1'].get_spc_list()\n",
    "spc_list"
   ]
  },
  {
   "cell_type": "code",
   "execution_count": 8,
   "metadata": {},
   "outputs": [
    {
     "data": {
      "text/html": [
       "<div>\n",
       "<style scoped>\n",
       "    .dataframe tbody tr th:only-of-type {\n",
       "        vertical-align: middle;\n",
       "    }\n",
       "\n",
       "    .dataframe tbody tr th {\n",
       "        vertical-align: top;\n",
       "    }\n",
       "\n",
       "    .dataframe thead th {\n",
       "        text-align: right;\n",
       "    }\n",
       "</style>\n",
       "<table border=\"1\" class=\"dataframe\">\n",
       "  <thead>\n",
       "    <tr style=\"text-align: right;\">\n",
       "      <th></th>\n",
       "      <th>Cell Line</th>\n",
       "      <th>Experiment ID</th>\n",
       "      <th>RUN TIME (HOURS)</th>\n",
       "      <th>Sp. rate</th>\n",
       "      <th>Species</th>\n",
       "      <th>Method</th>\n",
       "      <th>Order</th>\n",
       "      <th>Window</th>\n",
       "    </tr>\n",
       "  </thead>\n",
       "  <tbody>\n",
       "    <tr>\n",
       "      <th>0</th>\n",
       "      <td>Sample CL1</td>\n",
       "      <td>Sample CL1_1</td>\n",
       "      <td>0.000000</td>\n",
       "      <td>NaN</td>\n",
       "      <td>GLUCOSE</td>\n",
       "      <td>Two-Pt. Calc.</td>\n",
       "      <td>NaN</td>\n",
       "      <td>NaN</td>\n",
       "    </tr>\n",
       "    <tr>\n",
       "      <th>1</th>\n",
       "      <td>Sample CL1</td>\n",
       "      <td>Sample CL1_1</td>\n",
       "      <td>23.883333</td>\n",
       "      <td>0.220599</td>\n",
       "      <td>GLUCOSE</td>\n",
       "      <td>Two-Pt. Calc.</td>\n",
       "      <td>NaN</td>\n",
       "      <td>NaN</td>\n",
       "    </tr>\n",
       "    <tr>\n",
       "      <th>2</th>\n",
       "      <td>Sample CL1</td>\n",
       "      <td>Sample CL1_1</td>\n",
       "      <td>38.550000</td>\n",
       "      <td>0.133573</td>\n",
       "      <td>GLUCOSE</td>\n",
       "      <td>Two-Pt. Calc.</td>\n",
       "      <td>NaN</td>\n",
       "      <td>NaN</td>\n",
       "    </tr>\n",
       "    <tr>\n",
       "      <th>3</th>\n",
       "      <td>Sample CL1</td>\n",
       "      <td>Sample CL1_1</td>\n",
       "      <td>47.583333</td>\n",
       "      <td>0.234375</td>\n",
       "      <td>GLUCOSE</td>\n",
       "      <td>Two-Pt. Calc.</td>\n",
       "      <td>NaN</td>\n",
       "      <td>NaN</td>\n",
       "    </tr>\n",
       "    <tr>\n",
       "      <th>4</th>\n",
       "      <td>Sample CL1</td>\n",
       "      <td>Sample CL1_1</td>\n",
       "      <td>62.650000</td>\n",
       "      <td>0.119559</td>\n",
       "      <td>GLUCOSE</td>\n",
       "      <td>Two-Pt. Calc.</td>\n",
       "      <td>NaN</td>\n",
       "      <td>NaN</td>\n",
       "    </tr>\n",
       "    <tr>\n",
       "      <th>5</th>\n",
       "      <td>Sample CL1</td>\n",
       "      <td>Sample CL1_1</td>\n",
       "      <td>71.750000</td>\n",
       "      <td>0.069365</td>\n",
       "      <td>GLUCOSE</td>\n",
       "      <td>Two-Pt. Calc.</td>\n",
       "      <td>NaN</td>\n",
       "      <td>NaN</td>\n",
       "    </tr>\n",
       "    <tr>\n",
       "      <th>6</th>\n",
       "      <td>Sample CL1</td>\n",
       "      <td>Sample CL1_1</td>\n",
       "      <td>95.533333</td>\n",
       "      <td>0.042014</td>\n",
       "      <td>GLUCOSE</td>\n",
       "      <td>Two-Pt. Calc.</td>\n",
       "      <td>NaN</td>\n",
       "      <td>NaN</td>\n",
       "    </tr>\n",
       "    <tr>\n",
       "      <th>7</th>\n",
       "      <td>Sample CL1</td>\n",
       "      <td>Sample CL1_1</td>\n",
       "      <td>121.100000</td>\n",
       "      <td>0.039929</td>\n",
       "      <td>GLUCOSE</td>\n",
       "      <td>Two-Pt. Calc.</td>\n",
       "      <td>NaN</td>\n",
       "      <td>NaN</td>\n",
       "    </tr>\n",
       "    <tr>\n",
       "      <th>8</th>\n",
       "      <td>Sample CL1</td>\n",
       "      <td>Sample CL1_1</td>\n",
       "      <td>143.833333</td>\n",
       "      <td>0.034025</td>\n",
       "      <td>GLUCOSE</td>\n",
       "      <td>Two-Pt. Calc.</td>\n",
       "      <td>NaN</td>\n",
       "      <td>NaN</td>\n",
       "    </tr>\n",
       "    <tr>\n",
       "      <th>9</th>\n",
       "      <td>Sample CL1</td>\n",
       "      <td>Sample CL1_1</td>\n",
       "      <td>167.400000</td>\n",
       "      <td>0.034183</td>\n",
       "      <td>GLUCOSE</td>\n",
       "      <td>Two-Pt. Calc.</td>\n",
       "      <td>NaN</td>\n",
       "      <td>NaN</td>\n",
       "    </tr>\n",
       "    <tr>\n",
       "      <th>10</th>\n",
       "      <td>Sample CL1</td>\n",
       "      <td>Sample CL1_1</td>\n",
       "      <td>192.000000</td>\n",
       "      <td>0.035758</td>\n",
       "      <td>GLUCOSE</td>\n",
       "      <td>Two-Pt. Calc.</td>\n",
       "      <td>NaN</td>\n",
       "      <td>NaN</td>\n",
       "    </tr>\n",
       "    <tr>\n",
       "      <th>11</th>\n",
       "      <td>Sample CL1</td>\n",
       "      <td>Sample CL1_1</td>\n",
       "      <td>215.650000</td>\n",
       "      <td>0.029197</td>\n",
       "      <td>GLUCOSE</td>\n",
       "      <td>Two-Pt. Calc.</td>\n",
       "      <td>NaN</td>\n",
       "      <td>NaN</td>\n",
       "    </tr>\n",
       "    <tr>\n",
       "      <th>12</th>\n",
       "      <td>Sample CL1</td>\n",
       "      <td>Sample CL1_1</td>\n",
       "      <td>233.466667</td>\n",
       "      <td>0.023465</td>\n",
       "      <td>GLUCOSE</td>\n",
       "      <td>Two-Pt. Calc.</td>\n",
       "      <td>NaN</td>\n",
       "      <td>NaN</td>\n",
       "    </tr>\n",
       "    <tr>\n",
       "      <th>13</th>\n",
       "      <td>Sample CL1</td>\n",
       "      <td>Sample CL1_1</td>\n",
       "      <td>0.000000</td>\n",
       "      <td>NaN</td>\n",
       "      <td>GLUCOSE</td>\n",
       "      <td>Poly. Reg.</td>\n",
       "      <td>4.0</td>\n",
       "      <td>NaN</td>\n",
       "    </tr>\n",
       "    <tr>\n",
       "      <th>14</th>\n",
       "      <td>Sample CL1</td>\n",
       "      <td>Sample CL1_1</td>\n",
       "      <td>23.883333</td>\n",
       "      <td>0.220353</td>\n",
       "      <td>GLUCOSE</td>\n",
       "      <td>Poly. Reg.</td>\n",
       "      <td>4.0</td>\n",
       "      <td>NaN</td>\n",
       "    </tr>\n",
       "    <tr>\n",
       "      <th>15</th>\n",
       "      <td>Sample CL1</td>\n",
       "      <td>Sample CL1_1</td>\n",
       "      <td>38.550000</td>\n",
       "      <td>0.168203</td>\n",
       "      <td>GLUCOSE</td>\n",
       "      <td>Poly. Reg.</td>\n",
       "      <td>4.0</td>\n",
       "      <td>NaN</td>\n",
       "    </tr>\n",
       "    <tr>\n",
       "      <th>16</th>\n",
       "      <td>Sample CL1</td>\n",
       "      <td>Sample CL1_1</td>\n",
       "      <td>47.583333</td>\n",
       "      <td>0.13366</td>\n",
       "      <td>GLUCOSE</td>\n",
       "      <td>Poly. Reg.</td>\n",
       "      <td>4.0</td>\n",
       "      <td>NaN</td>\n",
       "    </tr>\n",
       "    <tr>\n",
       "      <th>17</th>\n",
       "      <td>Sample CL1</td>\n",
       "      <td>Sample CL1_1</td>\n",
       "      <td>62.650000</td>\n",
       "      <td>0.081834</td>\n",
       "      <td>GLUCOSE</td>\n",
       "      <td>Poly. Reg.</td>\n",
       "      <td>4.0</td>\n",
       "      <td>NaN</td>\n",
       "    </tr>\n",
       "    <tr>\n",
       "      <th>18</th>\n",
       "      <td>Sample CL1</td>\n",
       "      <td>Sample CL1_1</td>\n",
       "      <td>71.750000</td>\n",
       "      <td>0.068506</td>\n",
       "      <td>GLUCOSE</td>\n",
       "      <td>Poly. Reg.</td>\n",
       "      <td>4.0</td>\n",
       "      <td>NaN</td>\n",
       "    </tr>\n",
       "    <tr>\n",
       "      <th>19</th>\n",
       "      <td>Sample CL1</td>\n",
       "      <td>Sample CL1_1</td>\n",
       "      <td>95.533333</td>\n",
       "      <td>0.042846</td>\n",
       "      <td>GLUCOSE</td>\n",
       "      <td>Poly. Reg.</td>\n",
       "      <td>4.0</td>\n",
       "      <td>NaN</td>\n",
       "    </tr>\n",
       "    <tr>\n",
       "      <th>20</th>\n",
       "      <td>Sample CL1</td>\n",
       "      <td>Sample CL1_1</td>\n",
       "      <td>121.100000</td>\n",
       "      <td>0.031429</td>\n",
       "      <td>GLUCOSE</td>\n",
       "      <td>Poly. Reg.</td>\n",
       "      <td>4.0</td>\n",
       "      <td>NaN</td>\n",
       "    </tr>\n",
       "    <tr>\n",
       "      <th>21</th>\n",
       "      <td>Sample CL1</td>\n",
       "      <td>Sample CL1_1</td>\n",
       "      <td>143.833333</td>\n",
       "      <td>0.034656</td>\n",
       "      <td>GLUCOSE</td>\n",
       "      <td>Poly. Reg.</td>\n",
       "      <td>4.0</td>\n",
       "      <td>NaN</td>\n",
       "    </tr>\n",
       "    <tr>\n",
       "      <th>22</th>\n",
       "      <td>Sample CL1</td>\n",
       "      <td>Sample CL1_1</td>\n",
       "      <td>167.400000</td>\n",
       "      <td>0.03306</td>\n",
       "      <td>GLUCOSE</td>\n",
       "      <td>Poly. Reg.</td>\n",
       "      <td>4.0</td>\n",
       "      <td>NaN</td>\n",
       "    </tr>\n",
       "    <tr>\n",
       "      <th>23</th>\n",
       "      <td>Sample CL1</td>\n",
       "      <td>Sample CL1_1</td>\n",
       "      <td>192.000000</td>\n",
       "      <td>0.032854</td>\n",
       "      <td>GLUCOSE</td>\n",
       "      <td>Poly. Reg.</td>\n",
       "      <td>4.0</td>\n",
       "      <td>NaN</td>\n",
       "    </tr>\n",
       "    <tr>\n",
       "      <th>24</th>\n",
       "      <td>Sample CL1</td>\n",
       "      <td>Sample CL1_1</td>\n",
       "      <td>215.650000</td>\n",
       "      <td>0.026037</td>\n",
       "      <td>GLUCOSE</td>\n",
       "      <td>Poly. Reg.</td>\n",
       "      <td>4.0</td>\n",
       "      <td>NaN</td>\n",
       "    </tr>\n",
       "    <tr>\n",
       "      <th>25</th>\n",
       "      <td>Sample CL1</td>\n",
       "      <td>Sample CL1_1</td>\n",
       "      <td>233.466667</td>\n",
       "      <td>0.019885</td>\n",
       "      <td>GLUCOSE</td>\n",
       "      <td>Poly. Reg.</td>\n",
       "      <td>4.0</td>\n",
       "      <td>NaN</td>\n",
       "    </tr>\n",
       "    <tr>\n",
       "      <th>26</th>\n",
       "      <td>Sample CL1</td>\n",
       "      <td>Sample CL1_1</td>\n",
       "      <td>11.941667</td>\n",
       "      <td>0.183481</td>\n",
       "      <td>GLUCOSE</td>\n",
       "      <td>Roll. Reg.</td>\n",
       "      <td>3.0</td>\n",
       "      <td>6.0</td>\n",
       "    </tr>\n",
       "    <tr>\n",
       "      <th>27</th>\n",
       "      <td>Sample CL1</td>\n",
       "      <td>Sample CL1_1</td>\n",
       "      <td>31.216667</td>\n",
       "      <td>0.207717</td>\n",
       "      <td>GLUCOSE</td>\n",
       "      <td>Roll. Reg.</td>\n",
       "      <td>3.0</td>\n",
       "      <td>6.0</td>\n",
       "    </tr>\n",
       "    <tr>\n",
       "      <th>28</th>\n",
       "      <td>Sample CL1</td>\n",
       "      <td>Sample CL1_1</td>\n",
       "      <td>43.066667</td>\n",
       "      <td>0.173014</td>\n",
       "      <td>GLUCOSE</td>\n",
       "      <td>Roll. Reg.</td>\n",
       "      <td>3.0</td>\n",
       "      <td>6.0</td>\n",
       "    </tr>\n",
       "    <tr>\n",
       "      <th>29</th>\n",
       "      <td>Sample CL1</td>\n",
       "      <td>Sample CL1_1</td>\n",
       "      <td>55.116667</td>\n",
       "      <td>0.121334</td>\n",
       "      <td>GLUCOSE</td>\n",
       "      <td>Roll. Reg.</td>\n",
       "      <td>3.0</td>\n",
       "      <td>6.0</td>\n",
       "    </tr>\n",
       "    <tr>\n",
       "      <th>30</th>\n",
       "      <td>Sample CL1</td>\n",
       "      <td>Sample CL1_1</td>\n",
       "      <td>67.200000</td>\n",
       "      <td>0.065351</td>\n",
       "      <td>GLUCOSE</td>\n",
       "      <td>Roll. Reg.</td>\n",
       "      <td>3.0</td>\n",
       "      <td>6.0</td>\n",
       "    </tr>\n",
       "    <tr>\n",
       "      <th>31</th>\n",
       "      <td>Sample CL1</td>\n",
       "      <td>Sample CL1_1</td>\n",
       "      <td>83.641667</td>\n",
       "      <td>0.049146</td>\n",
       "      <td>GLUCOSE</td>\n",
       "      <td>Roll. Reg.</td>\n",
       "      <td>3.0</td>\n",
       "      <td>6.0</td>\n",
       "    </tr>\n",
       "    <tr>\n",
       "      <th>32</th>\n",
       "      <td>Sample CL1</td>\n",
       "      <td>Sample CL1_1</td>\n",
       "      <td>108.316667</td>\n",
       "      <td>0.03686</td>\n",
       "      <td>GLUCOSE</td>\n",
       "      <td>Roll. Reg.</td>\n",
       "      <td>3.0</td>\n",
       "      <td>6.0</td>\n",
       "    </tr>\n",
       "    <tr>\n",
       "      <th>33</th>\n",
       "      <td>Sample CL1</td>\n",
       "      <td>Sample CL1_1</td>\n",
       "      <td>132.466667</td>\n",
       "      <td>0.033581</td>\n",
       "      <td>GLUCOSE</td>\n",
       "      <td>Roll. Reg.</td>\n",
       "      <td>3.0</td>\n",
       "      <td>6.0</td>\n",
       "    </tr>\n",
       "    <tr>\n",
       "      <th>34</th>\n",
       "      <td>Sample CL1</td>\n",
       "      <td>Sample CL1_1</td>\n",
       "      <td>155.616667</td>\n",
       "      <td>0.034065</td>\n",
       "      <td>GLUCOSE</td>\n",
       "      <td>Roll. Reg.</td>\n",
       "      <td>3.0</td>\n",
       "      <td>6.0</td>\n",
       "    </tr>\n",
       "    <tr>\n",
       "      <th>35</th>\n",
       "      <td>Sample CL1</td>\n",
       "      <td>Sample CL1_1</td>\n",
       "      <td>179.700000</td>\n",
       "      <td>0.03442</td>\n",
       "      <td>GLUCOSE</td>\n",
       "      <td>Roll. Reg.</td>\n",
       "      <td>3.0</td>\n",
       "      <td>6.0</td>\n",
       "    </tr>\n",
       "    <tr>\n",
       "      <th>36</th>\n",
       "      <td>Sample CL1</td>\n",
       "      <td>Sample CL1_1</td>\n",
       "      <td>203.825000</td>\n",
       "      <td>0.03028</td>\n",
       "      <td>GLUCOSE</td>\n",
       "      <td>Roll. Reg.</td>\n",
       "      <td>3.0</td>\n",
       "      <td>6.0</td>\n",
       "    </tr>\n",
       "    <tr>\n",
       "      <th>37</th>\n",
       "      <td>Sample CL1</td>\n",
       "      <td>Sample CL1_1</td>\n",
       "      <td>224.558333</td>\n",
       "      <td>0.023184</td>\n",
       "      <td>GLUCOSE</td>\n",
       "      <td>Roll. Reg.</td>\n",
       "      <td>3.0</td>\n",
       "      <td>6.0</td>\n",
       "    </tr>\n",
       "  </tbody>\n",
       "</table>\n",
       "</div>"
      ],
      "text/plain": [
       "     Cell Line Experiment ID  RUN TIME (HOURS)  Sp. rate  Species  \\\n",
       "0   Sample CL1  Sample CL1_1          0.000000       NaN  GLUCOSE   \n",
       "1   Sample CL1  Sample CL1_1         23.883333  0.220599  GLUCOSE   \n",
       "2   Sample CL1  Sample CL1_1         38.550000  0.133573  GLUCOSE   \n",
       "3   Sample CL1  Sample CL1_1         47.583333  0.234375  GLUCOSE   \n",
       "4   Sample CL1  Sample CL1_1         62.650000  0.119559  GLUCOSE   \n",
       "5   Sample CL1  Sample CL1_1         71.750000  0.069365  GLUCOSE   \n",
       "6   Sample CL1  Sample CL1_1         95.533333  0.042014  GLUCOSE   \n",
       "7   Sample CL1  Sample CL1_1        121.100000  0.039929  GLUCOSE   \n",
       "8   Sample CL1  Sample CL1_1        143.833333  0.034025  GLUCOSE   \n",
       "9   Sample CL1  Sample CL1_1        167.400000  0.034183  GLUCOSE   \n",
       "10  Sample CL1  Sample CL1_1        192.000000  0.035758  GLUCOSE   \n",
       "11  Sample CL1  Sample CL1_1        215.650000  0.029197  GLUCOSE   \n",
       "12  Sample CL1  Sample CL1_1        233.466667  0.023465  GLUCOSE   \n",
       "13  Sample CL1  Sample CL1_1          0.000000       NaN  GLUCOSE   \n",
       "14  Sample CL1  Sample CL1_1         23.883333  0.220353  GLUCOSE   \n",
       "15  Sample CL1  Sample CL1_1         38.550000  0.168203  GLUCOSE   \n",
       "16  Sample CL1  Sample CL1_1         47.583333   0.13366  GLUCOSE   \n",
       "17  Sample CL1  Sample CL1_1         62.650000  0.081834  GLUCOSE   \n",
       "18  Sample CL1  Sample CL1_1         71.750000  0.068506  GLUCOSE   \n",
       "19  Sample CL1  Sample CL1_1         95.533333  0.042846  GLUCOSE   \n",
       "20  Sample CL1  Sample CL1_1        121.100000  0.031429  GLUCOSE   \n",
       "21  Sample CL1  Sample CL1_1        143.833333  0.034656  GLUCOSE   \n",
       "22  Sample CL1  Sample CL1_1        167.400000   0.03306  GLUCOSE   \n",
       "23  Sample CL1  Sample CL1_1        192.000000  0.032854  GLUCOSE   \n",
       "24  Sample CL1  Sample CL1_1        215.650000  0.026037  GLUCOSE   \n",
       "25  Sample CL1  Sample CL1_1        233.466667  0.019885  GLUCOSE   \n",
       "26  Sample CL1  Sample CL1_1         11.941667  0.183481  GLUCOSE   \n",
       "27  Sample CL1  Sample CL1_1         31.216667  0.207717  GLUCOSE   \n",
       "28  Sample CL1  Sample CL1_1         43.066667  0.173014  GLUCOSE   \n",
       "29  Sample CL1  Sample CL1_1         55.116667  0.121334  GLUCOSE   \n",
       "30  Sample CL1  Sample CL1_1         67.200000  0.065351  GLUCOSE   \n",
       "31  Sample CL1  Sample CL1_1         83.641667  0.049146  GLUCOSE   \n",
       "32  Sample CL1  Sample CL1_1        108.316667   0.03686  GLUCOSE   \n",
       "33  Sample CL1  Sample CL1_1        132.466667  0.033581  GLUCOSE   \n",
       "34  Sample CL1  Sample CL1_1        155.616667  0.034065  GLUCOSE   \n",
       "35  Sample CL1  Sample CL1_1        179.700000   0.03442  GLUCOSE   \n",
       "36  Sample CL1  Sample CL1_1        203.825000   0.03028  GLUCOSE   \n",
       "37  Sample CL1  Sample CL1_1        224.558333  0.023184  GLUCOSE   \n",
       "\n",
       "           Method  Order  Window  \n",
       "0   Two-Pt. Calc.    NaN     NaN  \n",
       "1   Two-Pt. Calc.    NaN     NaN  \n",
       "2   Two-Pt. Calc.    NaN     NaN  \n",
       "3   Two-Pt. Calc.    NaN     NaN  \n",
       "4   Two-Pt. Calc.    NaN     NaN  \n",
       "5   Two-Pt. Calc.    NaN     NaN  \n",
       "6   Two-Pt. Calc.    NaN     NaN  \n",
       "7   Two-Pt. Calc.    NaN     NaN  \n",
       "8   Two-Pt. Calc.    NaN     NaN  \n",
       "9   Two-Pt. Calc.    NaN     NaN  \n",
       "10  Two-Pt. Calc.    NaN     NaN  \n",
       "11  Two-Pt. Calc.    NaN     NaN  \n",
       "12  Two-Pt. Calc.    NaN     NaN  \n",
       "13     Poly. Reg.    4.0     NaN  \n",
       "14     Poly. Reg.    4.0     NaN  \n",
       "15     Poly. Reg.    4.0     NaN  \n",
       "16     Poly. Reg.    4.0     NaN  \n",
       "17     Poly. Reg.    4.0     NaN  \n",
       "18     Poly. Reg.    4.0     NaN  \n",
       "19     Poly. Reg.    4.0     NaN  \n",
       "20     Poly. Reg.    4.0     NaN  \n",
       "21     Poly. Reg.    4.0     NaN  \n",
       "22     Poly. Reg.    4.0     NaN  \n",
       "23     Poly. Reg.    4.0     NaN  \n",
       "24     Poly. Reg.    4.0     NaN  \n",
       "25     Poly. Reg.    4.0     NaN  \n",
       "26     Roll. Reg.    3.0     6.0  \n",
       "27     Roll. Reg.    3.0     6.0  \n",
       "28     Roll. Reg.    3.0     6.0  \n",
       "29     Roll. Reg.    3.0     6.0  \n",
       "30     Roll. Reg.    3.0     6.0  \n",
       "31     Roll. Reg.    3.0     6.0  \n",
       "32     Roll. Reg.    3.0     6.0  \n",
       "33     Roll. Reg.    3.0     6.0  \n",
       "34     Roll. Reg.    3.0     6.0  \n",
       "35     Roll. Reg.    3.0     6.0  \n",
       "36     Roll. Reg.    3.0     6.0  \n",
       "37     Roll. Reg.    3.0     6.0  "
      ]
     },
     "execution_count": 8,
     "metadata": {},
     "output_type": "execute_result"
    }
   ],
   "source": [
    "spc_dict[spc_list[0]].get_sp_rate_df(rollreg=True, polyreg=True, twopt=True)"
   ]
  },
  {
   "cell_type": "code",
   "execution_count": 17,
   "metadata": {},
   "outputs": [
    {
     "data": {
      "text/plain": [
       "[True, True, True]"
      ]
     },
     "execution_count": 17,
     "metadata": {},
     "output_type": "execute_result"
    }
   ],
   "source": [
    "methods_dict = cl_1['Sample CL1_1']._process_flag_dict.copy()\n",
    "methods_dict.pop('inpro')\n",
    "methods_list = list(methods_dict.values())\n",
    "methods_list"
   ]
  },
  {
   "cell_type": "code",
   "execution_count": 69,
   "metadata": {},
   "outputs": [
    {
     "data": {
      "text/plain": [
       "layout.YAxis({\n",
       "    'anchor': 'x3', 'domain': [0.0, 1.0], 'title': {'text': 'Sp. rate'}\n",
       "})"
      ]
     },
     "execution_count": 69,
     "metadata": {},
     "output_type": "execute_result"
    }
   ],
   "source": [
    "fig = go.FigureWidget(make_subplots(rows=1, cols=3))\n",
    "fig.layout.title = {'text': spc_list[0] + ' Profiles'}\n",
    "\n",
    "conc_df = spc_dict[spc_list[0]].get_conc_df()\n",
    "cumu_df = spc_dict[spc_list[0]].get_cumulative_df()\n",
    "rate_df = spc_dict[spc_list[0]].get_sp_rate_df(twopt=methods_list[0],\n",
    "                                               polyreg=methods_list[1], \n",
    "                                               rollreg=methods_list[2])\n",
    "\n",
    "# Concentration\n",
    "fig.add_trace(\n",
    "    go.Scatter(x=conc_df['RUN TIME (HOURS)'],\n",
    "               y=conc_df['CONC.'],\n",
    "               xaxis='x1', yaxis='y1',\n",
    "               name='Concentration',\n",
    "               mode='lines+markers'),\n",
    "    row=1, col=1\n",
    ")\n",
    "\n",
    "# Cumulative\n",
    "fig.add_trace(\n",
    "    go.Scatter(x=spc_dict[spc_list[0]].get_time_hour(),\n",
    "               y=spc_dict[spc_list[0]].get_cumulative(),\n",
    "               xaxis='x2', yaxis='y2',\n",
    "               name='Cumulative Cons./Prod.',\n",
    "               mode='markers',\n",
    "               ),\n",
    "    row=1, col=2\n",
    ")\n",
    "\n",
    "# Cumulative, Poly. Reg.\n",
    "fig.add_trace(\n",
    "    go.Scatter(x=cumu_df['RUN TIME (HOURS)'],\n",
    "               y=cumu_df['Cumulative Prod./Cons.'],\n",
    "               name=f'Poly. Reg.\\nOrder: {spc_dict[spc_list[0]].get_polyorder()}',\n",
    "               #mode='lines+markers',\n",
    "               ),\n",
    "    row=1, col=2\n",
    ")\n",
    "\n",
    "# Sp. rate\n",
    "filter = rate_df['Method'] == 'Two-Pt. Calc.'\n",
    "fig.add_trace(\n",
    "    go.Scatter(x=rate_df[filter]['RUN TIME (HOURS)'],\n",
    "                y=rate_df[filter]['Sp. rate'].replace(np.nan, None),\n",
    "                xaxis='x3', yaxis='y3',\n",
    "                name='Two-Pt. Calc.',\n",
    "                ),\n",
    "    row=1, col=3\n",
    ")\n",
    "\n",
    "fig.layout.xaxis1.update({'title': 'Run time'})\n",
    "fig.layout.xaxis2.update({'title': 'Run time'})\n",
    "fig.layout.xaxis3.update({'title': 'Run time'})\n",
    "fig.layout.yaxis1.update({'title': 'Concentration'})\n",
    "fig.layout.yaxis2.update({'title': 'Cumulative'})\n",
    "fig.layout.yaxis3.update({'title': 'Sp. rate'})"
   ]
  },
  {
   "cell_type": "code",
   "execution_count": 70,
   "metadata": {},
   "outputs": [],
   "source": [
    "spc_list = cl_1['Sample CL1_1'].get_spc_list()\n",
    "\n",
    "species_btn = widgets.Dropdown(\n",
    "    description='Species: ',\n",
    "    value=spc_list[0],\n",
    "    options=spc_list\n",
    ")\n",
    "\n",
    "method_dict = cl_1['Sample CL1_1']._process_flag_dict.copy()\n",
    "method_dict.pop('inpro')\n",
    "method_list = ['Two-Pont Calc.', 'Polynomial Regression', 'Rolling Regression']\n",
    "methods = dict([(methods_list[i], key) for i, (key, value) in enumerate(methods_dict.items()) if value])\n",
    "\n",
    "method_btn = widgets.Dropdown(\n",
    "    description='Methods: ',\n",
    "    value=list(rate_df['Method'].unique())[0],\n",
    "    options=list(rate_df['Method'].unique())\n",
    ")\n",
    "\n",
    "def update(change):\n",
    "    spc_dict  = cl_1['Sample CL1_1'].get_spc_dict()\n",
    "    spc = spc_dict[species_btn.value]\n",
    "\n",
    "    conc_df = spc.get_conc_df()\n",
    "    cumu_df = spc.get_cumulative_df()\n",
    "\n",
    "    with fig.batch_update():\n",
    "        # Concentration\n",
    "        fig.data[0].x = conc_df['RUN TIME (HOURS)']\n",
    "        fig.data[0].y = conc_df['CONC.']\n",
    "\n",
    "        # Cumulative\n",
    "        fig.data[1].x = spc.get_time_hour()\n",
    "        fig.data[1].y = spc.get_cumulative()\n",
    "\n",
    "        # Cumulative Polyreg\n",
    "        fig.data[2].x = cumu_df['RUN TIME (HOURS)']\n",
    "        fig.data[2].y = cumu_df['Cumulative Prod./Cons.']\n",
    "        fig.data[2].name = f'Poly. Reg.\\nOrder: {spc.get_polyorder()}'\n",
    "\n",
    "        # Sp. rate\n",
    "        filter = rate_df['Method'] == method_btn.value\n",
    "        fig.data[3].x = rate_df[filter]['RUN TIME (HOURS)']\n",
    "        fig.data[3].y = rate_df[filter]['Sp. rate'].replace(np.nan, None)\n",
    "        order = rate_df[filter][\"Order\"].unique()[0]\n",
    "        window = rate_df[filter][\"Window\"].unique()[0]\n",
    "        fig.data[3].name = f'{method_btn.value} Order: {order} Window: {window}'\n",
    "\n",
    "        # Layout\n",
    "        fig.layout.title = species_btn.value + ' Profiles'\n",
    "\n",
    "species_btn.observe(update, names='value')\n",
    "method_btn.observe(update, names='value')"
   ]
  },
  {
   "cell_type": "code",
   "execution_count": 71,
   "metadata": {},
   "outputs": [
    {
     "data": {
      "application/vnd.jupyter.widget-view+json": {
       "model_id": "fa0ba0840984418187285928d51f62c4",
       "version_major": 2,
       "version_minor": 0
      },
      "text/plain": [
       "VBox(children=(HBox(children=(Dropdown(description='Species: ', options=('GLUCOSE', 'LACTATE', 'GLUTAMINE', 'A…"
      ]
     },
     "execution_count": 71,
     "metadata": {},
     "output_type": "execute_result"
    }
   ],
   "source": [
    "container = widgets.HBox([species_btn, method_btn])\n",
    "widgets.VBox([container, fig])"
   ]
  },
  {
   "cell_type": "code",
   "execution_count": 73,
   "metadata": {},
   "outputs": [
    {
     "data": {
      "application/vnd.plotly.v1+json": {
       "config": {
        "plotlyServerURL": "https://plot.ly"
       },
       "data": [
        {
         "mode": "lines+markers",
         "name": "Concentration",
         "type": "scatter",
         "uid": "d891589a-2626-48fa-bb5a-7e657b728f81",
         "x": [
          0,
          0,
          23.883333333333333,
          23.883333333333333,
          38.55,
          38.55,
          47.583333333333336,
          47.583333333333336,
          62.65,
          62.65,
          71.75,
          71.75,
          95.53333333333333,
          95.53333333333333,
          121.1,
          121.1,
          143.83333333333334,
          143.83333333333334,
          167.4,
          167.4,
          192,
          192,
          215.65,
          215.65,
          233.46666666666667,
          233.46666666666667
         ],
         "xaxis": "x",
         "y": [
          27.502388888888888,
          27.502388888888888,
          25.42654724293911,
          25.42654724293911,
          23.974880573733945,
          23.974880573733945,
          21.466012738492722,
          21.466012738492722,
          17.376941753843557,
          17.376941753843557,
          15.011434866720444,
          22.450180357776045,
          15.546373291355277,
          26.6148534215993,
          13.641016990339555,
          24.77392945926527,
          11.449430994015446,
          22.65645506668159,
          7.163265709739723,
          18.515232569796833,
          1.6640646024665666,
          13.201994784991852,
          0.7838736906531334,
          12.351568783239742,
          5.7681166823105,
          5.7681166823105
         ],
         "yaxis": "y"
        },
        {
         "mode": "markers",
         "name": "Cumulative Cons./Prod.",
         "type": "scatter",
         "uid": "58e1825e-1ab1-4805-ba54-3cd4f394f142",
         "x": [
          0,
          23.883333333333333,
          38.55,
          47.583333333333336,
          62.65,
          71.75,
          95.53333333333333,
          121.1,
          143.83333333333334,
          167.4,
          192,
          215.65,
          233.46666666666667
         ],
         "xaxis": "x2",
         "y": [
          0,
          0.1515364401543336,
          0.25533060700250304,
          0.43095135546938856,
          0.7110527179178564,
          0.8695416793551048,
          1.333046026276929,
          2.214421171640229,
          3.0133918230894428,
          3.950864872363729,
          4.980033521083681,
          5.745723884778753,
          6.155640453508115
         ],
         "yaxis": "y2"
        },
        {
         "name": "Poly. Reg.\nOrder: 4",
         "type": "scatter",
         "uid": "548460b3-3873-4e00-9d66-4bd02527c994",
         "x": [
          0,
          2.3582491582491585,
          4.716498316498317,
          7.0747474747474755,
          9.432996632996634,
          11.791245791245792,
          14.149494949494951,
          16.50774410774411,
          18.865993265993268,
          21.224242424242426,
          23.582491582491585,
          25.940740740740743,
          28.298989898989902,
          30.65723905723906,
          33.01548821548822,
          35.37373737373738,
          37.731986531986536,
          40.090235690235694,
          42.44848484848485,
          44.80673400673401,
          47.16498316498317,
          49.52323232323233,
          51.88148148148149,
          54.239730639730645,
          56.597979797979804,
          58.95622895622896,
          61.31447811447812,
          63.67272727272728,
          66.03097643097644,
          68.38922558922559,
          70.74747474747475,
          73.10572390572392,
          75.46397306397307,
          77.82222222222222,
          80.18047138047139,
          82.53872053872055,
          84.8969696969697,
          87.25521885521886,
          89.61346801346802,
          91.97171717171719,
          94.32996632996634,
          96.68821548821549,
          99.04646464646466,
          101.40471380471382,
          103.76296296296297,
          106.12121212121212,
          108.47946127946129,
          110.83771043771046,
          113.19595959595961,
          115.55420875420876,
          117.91245791245792,
          120.27070707070709,
          122.62895622895624,
          124.98720538720539,
          127.34545454545456,
          129.70370370370372,
          132.06195286195288,
          134.42020202020203,
          136.77845117845118,
          139.13670033670036,
          141.4949494949495,
          143.85319865319866,
          146.21144781144784,
          148.569696969697,
          150.92794612794614,
          153.2861952861953,
          155.64444444444445,
          158.00269360269363,
          160.36094276094278,
          162.71919191919193,
          165.0774410774411,
          167.43569023569026,
          169.7939393939394,
          172.15218855218856,
          174.5104377104377,
          176.8686868686869,
          179.22693602693604,
          181.5851851851852,
          183.94343434343438,
          186.30168350168353,
          188.65993265993268,
          191.01818181818183,
          193.37643097643098,
          195.73468013468016,
          198.0929292929293,
          200.45117845117846,
          202.80942760942764,
          205.1676767676768,
          207.52592592592595,
          209.8841750841751,
          212.24242424242425,
          214.60067340067343,
          216.95892255892258,
          219.31717171717173,
          221.6754208754209,
          224.03367003367006,
          226.39191919191921,
          228.75016835016837,
          231.10841750841752,
          233.46666666666667
         ],
         "xaxis": "x2",
         "y": [
          -0.015808933537761676,
          0.0012798731227592862,
          0.018329611860379517,
          0.03544045669047054,
          0.05270965006444672,
          0.0702315028697653,
          0.0880973944299263,
          0.1063957725044726,
          0.12521215328899,
          0.14462912141510695,
          0.16472632995049494,
          0.18558050039886814,
          0.20726542269998371,
          0.2298519552296415,
          0.2534080247996843,
          0.27799862665799774,
          0.3036858244885101,
          0.33052875041119295,
          0.3585836049820601,
          0.3879036571931687,
          0.4185392444726184,
          0.4505377726845519,
          0.4839437161291547,
          0.518798617542655,
          0.555141088097324,
          0.5930068074014757,
          0.632428523499467,
          0.6734360528716974,
          0.7160562804346093,
          0.7603131595406882,
          0.8062277119784625,
          0.8538180279725032,
          0.9030992661834234,
          0.9540836537078804,
          1.0067804860785743,
          1.0611961272642463,
          1.1173340096696818,
          1.1751946341357096,
          1.2347755699392,
          1.2960714547930672,
          1.359073994846267,
          1.4237719646837992,
          1.4901512073267063,
          1.5581946342320736,
          1.6278822252930278,
          1.6991910288387404,
          1.7720951616344256,
          1.846565808881339,
          1.92257122421678,
          2.0000767297140905,
          2.079044715882656,
          2.1594346416679047,
          2.2412030344513054,
          2.324303490050373,
          2.4086866727186647,
          2.4943003151457774,
          2.581089218457354,
          2.6689952522150797,
          2.7579573544166816,
          2.847911531495932,
          2.938790858322641,
          3.0305254782026667,
          3.1230426028779092,
          3.2162665125263086,
          3.3101185557618487,
          3.4045171496345588,
          3.499377779630509,
          3.5946129996718135,
          3.690132432116626,
          3.785842767759146,
          3.8816477658296176,
          3.977448253994322,
          4.073142128355589,
          4.168624353451787,
          4.26378696225733,
          4.358519056182676,
          4.452706805074318,
          4.546233447214805,
          4.638979289322716,
          4.730821706552679,
          4.821635142495366,
          4.91129110917749,
          4.999658187061804,
          5.08660202504711,
          5.171985340468247,
          5.2556679190960995,
          5.337506615137596,
          5.417355351235706,
          5.495065118469442,
          5.5704839763538585,
          5.643457052840055,
          5.713826544315176,
          5.781431715602401,
          5.846108899960957,
          5.907691499086118,
          5.966009983109193,
          6.020891890597539,
          6.072161828554554,
          6.119641472419678,
          6.163149566068397
         ],
         "yaxis": "y2"
        },
        {
         "name": "Poly. Reg.\nOrder: 4.0\nWindow: nan",
         "type": "scatter",
         "uid": "c9a88b27-e805-42fa-9001-532d9ca68e90",
         "x": [
          0,
          23.883333333333333,
          38.55,
          47.583333333333336,
          62.65,
          71.75,
          95.53333333333333,
          121.1,
          143.83333333333334,
          167.4,
          192,
          215.65,
          233.46666666666667
         ],
         "xaxis": "x3",
         "y": [
          null,
          0.22035290172115174,
          0.16820330845623307,
          0.1336602956652379,
          0.0818340373986714,
          0.06850571389869199,
          0.04284576579380953,
          0.031428695758706354,
          0.0346562337225518,
          0.03306038026866043,
          0.03285374058248614,
          0.026036762136002613,
          0.019884821473111852
         ],
         "yaxis": "y3"
        }
       ],
       "layout": {
        "template": {
         "data": {
          "bar": [
           {
            "error_x": {
             "color": "#2a3f5f"
            },
            "error_y": {
             "color": "#2a3f5f"
            },
            "marker": {
             "line": {
              "color": "#E5ECF6",
              "width": 0.5
             },
             "pattern": {
              "fillmode": "overlay",
              "size": 10,
              "solidity": 0.2
             }
            },
            "type": "bar"
           }
          ],
          "barpolar": [
           {
            "marker": {
             "line": {
              "color": "#E5ECF6",
              "width": 0.5
             },
             "pattern": {
              "fillmode": "overlay",
              "size": 10,
              "solidity": 0.2
             }
            },
            "type": "barpolar"
           }
          ],
          "carpet": [
           {
            "aaxis": {
             "endlinecolor": "#2a3f5f",
             "gridcolor": "white",
             "linecolor": "white",
             "minorgridcolor": "white",
             "startlinecolor": "#2a3f5f"
            },
            "baxis": {
             "endlinecolor": "#2a3f5f",
             "gridcolor": "white",
             "linecolor": "white",
             "minorgridcolor": "white",
             "startlinecolor": "#2a3f5f"
            },
            "type": "carpet"
           }
          ],
          "choropleth": [
           {
            "colorbar": {
             "outlinewidth": 0,
             "ticks": ""
            },
            "type": "choropleth"
           }
          ],
          "contour": [
           {
            "colorbar": {
             "outlinewidth": 0,
             "ticks": ""
            },
            "colorscale": [
             [
              0,
              "#0d0887"
             ],
             [
              0.1111111111111111,
              "#46039f"
             ],
             [
              0.2222222222222222,
              "#7201a8"
             ],
             [
              0.3333333333333333,
              "#9c179e"
             ],
             [
              0.4444444444444444,
              "#bd3786"
             ],
             [
              0.5555555555555556,
              "#d8576b"
             ],
             [
              0.6666666666666666,
              "#ed7953"
             ],
             [
              0.7777777777777778,
              "#fb9f3a"
             ],
             [
              0.8888888888888888,
              "#fdca26"
             ],
             [
              1,
              "#f0f921"
             ]
            ],
            "type": "contour"
           }
          ],
          "contourcarpet": [
           {
            "colorbar": {
             "outlinewidth": 0,
             "ticks": ""
            },
            "type": "contourcarpet"
           }
          ],
          "heatmap": [
           {
            "colorbar": {
             "outlinewidth": 0,
             "ticks": ""
            },
            "colorscale": [
             [
              0,
              "#0d0887"
             ],
             [
              0.1111111111111111,
              "#46039f"
             ],
             [
              0.2222222222222222,
              "#7201a8"
             ],
             [
              0.3333333333333333,
              "#9c179e"
             ],
             [
              0.4444444444444444,
              "#bd3786"
             ],
             [
              0.5555555555555556,
              "#d8576b"
             ],
             [
              0.6666666666666666,
              "#ed7953"
             ],
             [
              0.7777777777777778,
              "#fb9f3a"
             ],
             [
              0.8888888888888888,
              "#fdca26"
             ],
             [
              1,
              "#f0f921"
             ]
            ],
            "type": "heatmap"
           }
          ],
          "heatmapgl": [
           {
            "colorbar": {
             "outlinewidth": 0,
             "ticks": ""
            },
            "colorscale": [
             [
              0,
              "#0d0887"
             ],
             [
              0.1111111111111111,
              "#46039f"
             ],
             [
              0.2222222222222222,
              "#7201a8"
             ],
             [
              0.3333333333333333,
              "#9c179e"
             ],
             [
              0.4444444444444444,
              "#bd3786"
             ],
             [
              0.5555555555555556,
              "#d8576b"
             ],
             [
              0.6666666666666666,
              "#ed7953"
             ],
             [
              0.7777777777777778,
              "#fb9f3a"
             ],
             [
              0.8888888888888888,
              "#fdca26"
             ],
             [
              1,
              "#f0f921"
             ]
            ],
            "type": "heatmapgl"
           }
          ],
          "histogram": [
           {
            "marker": {
             "pattern": {
              "fillmode": "overlay",
              "size": 10,
              "solidity": 0.2
             }
            },
            "type": "histogram"
           }
          ],
          "histogram2d": [
           {
            "colorbar": {
             "outlinewidth": 0,
             "ticks": ""
            },
            "colorscale": [
             [
              0,
              "#0d0887"
             ],
             [
              0.1111111111111111,
              "#46039f"
             ],
             [
              0.2222222222222222,
              "#7201a8"
             ],
             [
              0.3333333333333333,
              "#9c179e"
             ],
             [
              0.4444444444444444,
              "#bd3786"
             ],
             [
              0.5555555555555556,
              "#d8576b"
             ],
             [
              0.6666666666666666,
              "#ed7953"
             ],
             [
              0.7777777777777778,
              "#fb9f3a"
             ],
             [
              0.8888888888888888,
              "#fdca26"
             ],
             [
              1,
              "#f0f921"
             ]
            ],
            "type": "histogram2d"
           }
          ],
          "histogram2dcontour": [
           {
            "colorbar": {
             "outlinewidth": 0,
             "ticks": ""
            },
            "colorscale": [
             [
              0,
              "#0d0887"
             ],
             [
              0.1111111111111111,
              "#46039f"
             ],
             [
              0.2222222222222222,
              "#7201a8"
             ],
             [
              0.3333333333333333,
              "#9c179e"
             ],
             [
              0.4444444444444444,
              "#bd3786"
             ],
             [
              0.5555555555555556,
              "#d8576b"
             ],
             [
              0.6666666666666666,
              "#ed7953"
             ],
             [
              0.7777777777777778,
              "#fb9f3a"
             ],
             [
              0.8888888888888888,
              "#fdca26"
             ],
             [
              1,
              "#f0f921"
             ]
            ],
            "type": "histogram2dcontour"
           }
          ],
          "mesh3d": [
           {
            "colorbar": {
             "outlinewidth": 0,
             "ticks": ""
            },
            "type": "mesh3d"
           }
          ],
          "parcoords": [
           {
            "line": {
             "colorbar": {
              "outlinewidth": 0,
              "ticks": ""
             }
            },
            "type": "parcoords"
           }
          ],
          "pie": [
           {
            "automargin": true,
            "type": "pie"
           }
          ],
          "scatter": [
           {
            "fillpattern": {
             "fillmode": "overlay",
             "size": 10,
             "solidity": 0.2
            },
            "type": "scatter"
           }
          ],
          "scatter3d": [
           {
            "line": {
             "colorbar": {
              "outlinewidth": 0,
              "ticks": ""
             }
            },
            "marker": {
             "colorbar": {
              "outlinewidth": 0,
              "ticks": ""
             }
            },
            "type": "scatter3d"
           }
          ],
          "scattercarpet": [
           {
            "marker": {
             "colorbar": {
              "outlinewidth": 0,
              "ticks": ""
             }
            },
            "type": "scattercarpet"
           }
          ],
          "scattergeo": [
           {
            "marker": {
             "colorbar": {
              "outlinewidth": 0,
              "ticks": ""
             }
            },
            "type": "scattergeo"
           }
          ],
          "scattergl": [
           {
            "marker": {
             "colorbar": {
              "outlinewidth": 0,
              "ticks": ""
             }
            },
            "type": "scattergl"
           }
          ],
          "scattermapbox": [
           {
            "marker": {
             "colorbar": {
              "outlinewidth": 0,
              "ticks": ""
             }
            },
            "type": "scattermapbox"
           }
          ],
          "scatterpolar": [
           {
            "marker": {
             "colorbar": {
              "outlinewidth": 0,
              "ticks": ""
             }
            },
            "type": "scatterpolar"
           }
          ],
          "scatterpolargl": [
           {
            "marker": {
             "colorbar": {
              "outlinewidth": 0,
              "ticks": ""
             }
            },
            "type": "scatterpolargl"
           }
          ],
          "scatterternary": [
           {
            "marker": {
             "colorbar": {
              "outlinewidth": 0,
              "ticks": ""
             }
            },
            "type": "scatterternary"
           }
          ],
          "surface": [
           {
            "colorbar": {
             "outlinewidth": 0,
             "ticks": ""
            },
            "colorscale": [
             [
              0,
              "#0d0887"
             ],
             [
              0.1111111111111111,
              "#46039f"
             ],
             [
              0.2222222222222222,
              "#7201a8"
             ],
             [
              0.3333333333333333,
              "#9c179e"
             ],
             [
              0.4444444444444444,
              "#bd3786"
             ],
             [
              0.5555555555555556,
              "#d8576b"
             ],
             [
              0.6666666666666666,
              "#ed7953"
             ],
             [
              0.7777777777777778,
              "#fb9f3a"
             ],
             [
              0.8888888888888888,
              "#fdca26"
             ],
             [
              1,
              "#f0f921"
             ]
            ],
            "type": "surface"
           }
          ],
          "table": [
           {
            "cells": {
             "fill": {
              "color": "#EBF0F8"
             },
             "line": {
              "color": "white"
             }
            },
            "header": {
             "fill": {
              "color": "#C8D4E3"
             },
             "line": {
              "color": "white"
             }
            },
            "type": "table"
           }
          ]
         },
         "layout": {
          "annotationdefaults": {
           "arrowcolor": "#2a3f5f",
           "arrowhead": 0,
           "arrowwidth": 1
          },
          "autotypenumbers": "strict",
          "coloraxis": {
           "colorbar": {
            "outlinewidth": 0,
            "ticks": ""
           }
          },
          "colorscale": {
           "diverging": [
            [
             0,
             "#8e0152"
            ],
            [
             0.1,
             "#c51b7d"
            ],
            [
             0.2,
             "#de77ae"
            ],
            [
             0.3,
             "#f1b6da"
            ],
            [
             0.4,
             "#fde0ef"
            ],
            [
             0.5,
             "#f7f7f7"
            ],
            [
             0.6,
             "#e6f5d0"
            ],
            [
             0.7,
             "#b8e186"
            ],
            [
             0.8,
             "#7fbc41"
            ],
            [
             0.9,
             "#4d9221"
            ],
            [
             1,
             "#276419"
            ]
           ],
           "sequential": [
            [
             0,
             "#0d0887"
            ],
            [
             0.1111111111111111,
             "#46039f"
            ],
            [
             0.2222222222222222,
             "#7201a8"
            ],
            [
             0.3333333333333333,
             "#9c179e"
            ],
            [
             0.4444444444444444,
             "#bd3786"
            ],
            [
             0.5555555555555556,
             "#d8576b"
            ],
            [
             0.6666666666666666,
             "#ed7953"
            ],
            [
             0.7777777777777778,
             "#fb9f3a"
            ],
            [
             0.8888888888888888,
             "#fdca26"
            ],
            [
             1,
             "#f0f921"
            ]
           ],
           "sequentialminus": [
            [
             0,
             "#0d0887"
            ],
            [
             0.1111111111111111,
             "#46039f"
            ],
            [
             0.2222222222222222,
             "#7201a8"
            ],
            [
             0.3333333333333333,
             "#9c179e"
            ],
            [
             0.4444444444444444,
             "#bd3786"
            ],
            [
             0.5555555555555556,
             "#d8576b"
            ],
            [
             0.6666666666666666,
             "#ed7953"
            ],
            [
             0.7777777777777778,
             "#fb9f3a"
            ],
            [
             0.8888888888888888,
             "#fdca26"
            ],
            [
             1,
             "#f0f921"
            ]
           ]
          },
          "colorway": [
           "#636efa",
           "#EF553B",
           "#00cc96",
           "#ab63fa",
           "#FFA15A",
           "#19d3f3",
           "#FF6692",
           "#B6E880",
           "#FF97FF",
           "#FECB52"
          ],
          "font": {
           "color": "#2a3f5f"
          },
          "geo": {
           "bgcolor": "white",
           "lakecolor": "white",
           "landcolor": "#E5ECF6",
           "showlakes": true,
           "showland": true,
           "subunitcolor": "white"
          },
          "hoverlabel": {
           "align": "left"
          },
          "hovermode": "closest",
          "mapbox": {
           "style": "light"
          },
          "paper_bgcolor": "white",
          "plot_bgcolor": "#E5ECF6",
          "polar": {
           "angularaxis": {
            "gridcolor": "white",
            "linecolor": "white",
            "ticks": ""
           },
           "bgcolor": "#E5ECF6",
           "radialaxis": {
            "gridcolor": "white",
            "linecolor": "white",
            "ticks": ""
           }
          },
          "scene": {
           "xaxis": {
            "backgroundcolor": "#E5ECF6",
            "gridcolor": "white",
            "gridwidth": 2,
            "linecolor": "white",
            "showbackground": true,
            "ticks": "",
            "zerolinecolor": "white"
           },
           "yaxis": {
            "backgroundcolor": "#E5ECF6",
            "gridcolor": "white",
            "gridwidth": 2,
            "linecolor": "white",
            "showbackground": true,
            "ticks": "",
            "zerolinecolor": "white"
           },
           "zaxis": {
            "backgroundcolor": "#E5ECF6",
            "gridcolor": "white",
            "gridwidth": 2,
            "linecolor": "white",
            "showbackground": true,
            "ticks": "",
            "zerolinecolor": "white"
           }
          },
          "shapedefaults": {
           "line": {
            "color": "#2a3f5f"
           }
          },
          "ternary": {
           "aaxis": {
            "gridcolor": "white",
            "linecolor": "white",
            "ticks": ""
           },
           "baxis": {
            "gridcolor": "white",
            "linecolor": "white",
            "ticks": ""
           },
           "bgcolor": "#E5ECF6",
           "caxis": {
            "gridcolor": "white",
            "linecolor": "white",
            "ticks": ""
           }
          },
          "title": {
           "x": 0.05
          },
          "xaxis": {
           "automargin": true,
           "gridcolor": "white",
           "linecolor": "white",
           "ticks": "",
           "title": {
            "standoff": 15
           },
           "zerolinecolor": "white",
           "zerolinewidth": 2
          },
          "yaxis": {
           "automargin": true,
           "gridcolor": "white",
           "linecolor": "white",
           "ticks": "",
           "title": {
            "standoff": 15
           },
           "zerolinecolor": "white",
           "zerolinewidth": 2
          }
         }
        },
        "title": {
         "text": "GLUCOSE Profiles"
        },
        "xaxis": {
         "anchor": "y",
         "domain": [
          0,
          0.2888888888888889
         ],
         "title": {
          "text": "Run time"
         }
        },
        "xaxis2": {
         "anchor": "y2",
         "domain": [
          0.35555555555555557,
          0.6444444444444445
         ],
         "title": {
          "text": "Run time"
         }
        },
        "xaxis3": {
         "anchor": "y3",
         "domain": [
          0.7111111111111111,
          1
         ],
         "title": {
          "text": "Run time"
         }
        },
        "yaxis": {
         "anchor": "x",
         "domain": [
          0,
          1
         ],
         "title": {
          "text": "Concentration"
         }
        },
        "yaxis2": {
         "anchor": "x2",
         "domain": [
          0,
          1
         ],
         "title": {
          "text": "Cumulative"
         }
        },
        "yaxis3": {
         "anchor": "x3",
         "domain": [
          0,
          1
         ],
         "title": {
          "text": "Sp. rate"
         }
        }
       }
      }
     },
     "metadata": {},
     "output_type": "display_data"
    }
   ],
   "source": [
    "fig.show()"
   ]
  },
  {
   "cell_type": "code",
   "execution_count": null,
   "metadata": {},
   "outputs": [],
   "source": []
  },
  {
   "cell_type": "code",
   "execution_count": null,
   "metadata": {},
   "outputs": [],
   "source": []
  }
 ],
 "metadata": {
  "kernelspec": {
   "display_name": "ccdpa",
   "language": "python",
   "name": "python3"
  },
  "language_info": {
   "codemirror_mode": {
    "name": "ipython",
    "version": 3
   },
   "file_extension": ".py",
   "mimetype": "text/x-python",
   "name": "python",
   "nbconvert_exporter": "python",
   "pygments_lexer": "ipython3",
   "version": "3.10.6"
  },
  "orig_nbformat": 4
 },
 "nbformat": 4,
 "nbformat_minor": 2
}
