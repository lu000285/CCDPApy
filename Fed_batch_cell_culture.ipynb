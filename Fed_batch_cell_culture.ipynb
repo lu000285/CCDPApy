{
 "cells": [
  {
   "cell_type": "markdown",
   "metadata": {},
   "source": [
    "# Import Packages"
   ]
  },
  {
   "cell_type": "code",
   "execution_count": null,
   "metadata": {},
   "outputs": [],
   "source": [
    "from CCDPApy.helper import input_path\n",
    "from CCDPApy import FedBatchParameters, FedBatchCellLine, FedBatchExpriment, FedBatchCellCulture\n",
    "\n",
    "import pandas as pd\n",
    "pd.set_option('display.max_columns', 200)"
   ]
  },
  {
   "cell_type": "markdown",
   "metadata": {},
   "source": [
    "# 1. Analyze One Experiment in a Cell line"
   ]
  },
  {
   "cell_type": "markdown",
   "metadata": {},
   "source": [
    "## 1.1. Cell Culture Data Handler"
   ]
  },
  {
   "cell_type": "markdown",
   "metadata": {},
   "source": [
    "### ___FedBatchCellCulture()___ Class <br>\n",
    "Loading, formatting, and pre-procesing a row measured data file. <br>\n",
    "Analyzing the all cell lines and experiments or paticular cell lines."
   ]
  },
  {
   "cell_type": "code",
   "execution_count": null,
   "metadata": {},
   "outputs": [],
   "source": [
    "from CCDPApy.helper import input_path\n",
    "from CCDPApy import FedBatchCellCulture\n",
    "\n",
    "fed_batch_culture = FedBatchCellCulture()"
   ]
  },
  {
   "cell_type": "markdown",
   "metadata": {},
   "source": [
    "#### ___load_data()___ <br>\n",
    "Loading a measured data file.\n",
    "##### Parameters\n",
    "----------------\n",
    "    file : str\n",
    "        file path of a measured data file.\n"
   ]
  },
  {
   "cell_type": "code",
   "execution_count": null,
   "metadata": {},
   "outputs": [],
   "source": [
    "path = input_path('fed_batch_data.xlsx')\n",
    "fed_batch_culture.load_data(file=path)"
   ]
  },
  {
   "cell_type": "markdown",
   "metadata": {},
   "source": [
    "#### ___get_pre_process_data()___ <br>\n",
    "Get dictionary of pre-processed data to be used in cell line data handler"
   ]
  },
  {
   "cell_type": "code",
   "execution_count": null,
   "metadata": {},
   "outputs": [],
   "source": [
    "cell_culture_data = fed_batch_culture.get_pre_process_data()\n",
    "cell_culture_data.keys()"
   ]
  },
  {
   "cell_type": "markdown",
   "metadata": {},
   "source": [
    "## 1.2 Cell Line Data Handler Class"
   ]
  },
  {
   "cell_type": "markdown",
   "metadata": {},
   "source": [
    "### ___FedBatchCellLine()___ Class <br>\n",
    "Formatting the pre-processed data from cell culture handler for a particular cell line, and <br>\n",
    "analyzing the cell line data.\n",
    "\n",
    "#### Parameters\n",
    "---------------\n",
    "    cell_line_name : str\n",
    "        Cell Line name to be analyzed.\n",
    "    data : dictionary\n",
    "        Pre-processed data from a cell culture data handler"
   ]
  },
  {
   "cell_type": "code",
   "execution_count": null,
   "metadata": {},
   "outputs": [],
   "source": [
    "from CCDPApy import FedBatchCellLine\n",
    "\n",
    "fed_batch_cl = FedBatchCellLine(cell_line_name='CL1', \n",
    "                                data=cell_culture_data)"
   ]
  },
  {
   "cell_type": "markdown",
   "metadata": {},
   "source": [
    "#### ___get_pre_process_data()___ <br>\n",
    "Get dictionary pre-processed data for a particular cell line."
   ]
  },
  {
   "cell_type": "code",
   "execution_count": null,
   "metadata": {},
   "outputs": [],
   "source": [
    "cell_line_data = fed_batch_cl.get_pre_process_data()\n",
    "cell_line_data.keys()"
   ]
  },
  {
   "cell_type": "markdown",
   "metadata": {},
   "source": [
    "## 1.3 Experiment Data Handler"
   ]
  },
  {
   "cell_type": "markdown",
   "metadata": {},
   "source": [
    "### ___FedBatchExpriment()___ Class <br>\n",
    "Formatting the pre-processed data from cell line handler for a particular experiment, and <br>\n",
    "analyzing the data. <br>\n",
    "#### Parameters\n",
    "--------------\n",
    "    cell_line_name : str.\n",
    "        Cell line name of the experiment to be analyzed.\n",
    "    cell_line_id : str.\n",
    "        Cell line ID to process the all dataset of the cell line.\n",
    "    data: dictionary.\n",
    "        dictionary of the measured data from FedBatchCellLine class.\n",
    "    use_feed_conc : bool.\n",
    "        True if feed concentration is needed to calculate cumulative concentration. If this is True, use_conc_after_feed has to be False.\n",
    "    use_conc_after_feed : bool\n",
    "        True if concentration after feeding is needed to calculate cumulative concentration. If this is True, use_feed_conc has to be False."
   ]
  },
  {
   "cell_type": "code",
   "execution_count": null,
   "metadata": {},
   "outputs": [],
   "source": [
    "from CCDPApy import FedBatchExpriment\n",
    "\n",
    "fed_batch_exp = FedBatchExpriment(cell_line_name='CL1',\n",
    "                                  cell_line_id='11',\n",
    "                                  data=cell_line_data,\n",
    "                                  use_feed_conc=True,\n",
    "                                  use_conc_after_feed=False)"
   ]
  },
  {
   "cell_type": "markdown",
   "metadata": {},
   "source": [
    "## 1.4. In-Processing"
   ]
  },
  {
   "cell_type": "markdown",
   "metadata": {},
   "source": [
    "### ___in_process()___ <br>\n",
    "Calculate cumulative concentrations and specific rates of the cell, IgG and metabolites, using two-point calculation. <br>"
   ]
  },
  {
   "cell_type": "code",
   "execution_count": null,
   "metadata": {},
   "outputs": [],
   "source": [
    "fed_batch_exp.in_process()"
   ]
  },
  {
   "cell_type": "markdown",
   "metadata": {},
   "source": [
    "## 1.5 Post-Processing"
   ]
  },
  {
   "cell_type": "markdown",
   "metadata": {},
   "source": [
    "### 1.5.1 Polynomial Regression"
   ]
  },
  {
   "cell_type": "markdown",
   "metadata": {},
   "source": [
    "#### ___polynomial()___ method <br>\n",
    "Calculate cumulative concentrations and specific rates of the cell, IgG and metabolites,using polynomial regression."
   ]
  },
  {
   "cell_type": "code",
   "execution_count": null,
   "metadata": {},
   "outputs": [],
   "source": [
    "fed_batch_exp.polynomial()"
   ]
  },
  {
   "cell_type": "markdown",
   "metadata": {},
   "source": [
    "### 1.5.2. Rolling Window Polynomial Regression"
   ]
  },
  {
   "cell_type": "markdown",
   "metadata": {},
   "source": [
    "#### ___rolling_window_polynomial()___ <br>\n",
    "Calculate cumulative concentrations and specific rates of the cell, IgG and metabolites,using polynomial regression. <br>\n",
    "##### Parameters\n",
    "--------------\n",
    "    degree : int, default=3\n",
    "        Polynomial degree for a regression.\n",
    "    window : int, default=6\n",
    "        Window size of a regression."
   ]
  },
  {
   "cell_type": "code",
   "execution_count": null,
   "metadata": {},
   "outputs": [],
   "source": [
    "fed_batch_exp.rolling_window_polynomial(degree=3, window=6)"
   ]
  },
  {
   "cell_type": "markdown",
   "metadata": {},
   "source": [
    "## 1.6. Get Processed Data"
   ]
  },
  {
   "cell_type": "markdown",
   "metadata": {},
   "source": [
    "### 1.6.1 Processed data for Cell"
   ]
  },
  {
   "cell_type": "markdown",
   "metadata": {},
   "source": [
    "Cell Concentration (VCD, TCD, DCD, Viability)"
   ]
  },
  {
   "cell_type": "code",
   "execution_count": null,
   "metadata": {},
   "outputs": [],
   "source": [
    "fed_batch_exp.cell_conc.head()"
   ]
  },
  {
   "cell_type": "markdown",
   "metadata": {},
   "source": [
    "Cumulative Cell Production"
   ]
  },
  {
   "cell_type": "code",
   "execution_count": null,
   "metadata": {},
   "outputs": [],
   "source": [
    "fed_batch_exp.cumulative_cell_production"
   ]
  },
  {
   "cell_type": "markdown",
   "metadata": {},
   "source": [
    "Integral of Viable Cell Concenration (IVCC)"
   ]
  },
  {
   "cell_type": "code",
   "execution_count": null,
   "metadata": {},
   "outputs": [],
   "source": [
    "fed_batch_exp.integral_viable_cell_conc"
   ]
  },
  {
   "cell_type": "markdown",
   "metadata": {},
   "source": [
    "Cell Growth Rate"
   ]
  },
  {
   "cell_type": "code",
   "execution_count": null,
   "metadata": {},
   "outputs": [],
   "source": [
    "fed_batch_exp.growth_rate"
   ]
  },
  {
   "cell_type": "markdown",
   "metadata": {},
   "source": [
    "### 1.6.2 Processed data for IgG(Product) and Metabolite"
   ]
  },
  {
   "cell_type": "markdown",
   "metadata": {},
   "source": [
    "Concentration"
   ]
  },
  {
   "cell_type": "code",
   "execution_count": null,
   "metadata": {},
   "outputs": [],
   "source": [
    "fed_batch_exp.conc"
   ]
  },
  {
   "cell_type": "markdown",
   "metadata": {},
   "source": [
    "Cumulative Consumption/Production"
   ]
  },
  {
   "cell_type": "code",
   "execution_count": null,
   "metadata": {},
   "outputs": [],
   "source": [
    "fed_batch_exp.cumulative_conc"
   ]
  },
  {
   "cell_type": "markdown",
   "metadata": {},
   "source": [
    "SP. Rate"
   ]
  },
  {
   "cell_type": "code",
   "execution_count": null,
   "metadata": {},
   "outputs": [],
   "source": [
    "fed_batch_exp.sp_rate"
   ]
  },
  {
   "cell_type": "markdown",
   "metadata": {},
   "source": [
    "### 1.6.3 Processed data for Each Species"
   ]
  },
  {
   "cell_type": "markdown",
   "metadata": {},
   "source": [
    "#### ___get_species()___ <br>\n",
    "##### Paramters\n",
    "---------------\n",
    "    species : str, optional, default='all'.\n",
    "        Species name. \n",
    "        If 'all' is passed, the dictionary of all speces data it to be returned."
   ]
  },
  {
   "cell_type": "markdown",
   "metadata": {},
   "source": [
    "##### Cell"
   ]
  },
  {
   "cell_type": "code",
   "execution_count": null,
   "metadata": {},
   "outputs": [],
   "source": [
    "cell = fed_batch_exp.get_species('cell')"
   ]
  },
  {
   "cell_type": "code",
   "execution_count": null,
   "metadata": {},
   "outputs": [],
   "source": [
    "cell.growth_rate.head()"
   ]
  },
  {
   "cell_type": "code",
   "execution_count": null,
   "metadata": {},
   "outputs": [],
   "source": [
    "product = fed_batch_exp.get_species('product')"
   ]
  },
  {
   "cell_type": "code",
   "execution_count": null,
   "metadata": {},
   "outputs": [],
   "source": [
    "fed_batch_exp.get_species()"
   ]
  },
  {
   "cell_type": "markdown",
   "metadata": {},
   "source": [
    "##### Glucose"
   ]
  },
  {
   "cell_type": "code",
   "execution_count": null,
   "metadata": {},
   "outputs": [],
   "source": [
    "glc = fed_batch_exp.get_species('glucose')\n",
    "glc.sp_rate_rolling"
   ]
  },
  {
   "cell_type": "markdown",
   "metadata": {},
   "source": [
    "### 1.6.4 Processed data of Each Profile"
   ]
  },
  {
   "cell_type": "markdown",
   "metadata": {},
   "source": [
    "#### ___get_measured_data()___"
   ]
  },
  {
   "cell_type": "code",
   "execution_count": null,
   "metadata": {},
   "outputs": [],
   "source": [
    "fed_batch_exp.get_measured_data().head()"
   ]
  },
  {
   "cell_type": "markdown",
   "metadata": {},
   "source": [
    "#### ___get_conc_before_feed()___"
   ]
  },
  {
   "cell_type": "code",
   "execution_count": null,
   "metadata": {},
   "outputs": [],
   "source": [
    "fed_batch_exp.get_conc_before_feed().head()"
   ]
  },
  {
   "cell_type": "markdown",
   "metadata": {},
   "source": [
    "#### ___get_conc_after_feed()___"
   ]
  },
  {
   "cell_type": "code",
   "execution_count": null,
   "metadata": {},
   "outputs": [],
   "source": [
    "fed_batch_exp.get_conc_after_feed().head()"
   ]
  },
  {
   "cell_type": "markdown",
   "metadata": {},
   "source": [
    "#### ___get_cumulative_conc()___"
   ]
  },
  {
   "cell_type": "code",
   "execution_count": null,
   "metadata": {},
   "outputs": [],
   "source": [
    "fed_batch_exp.get_cumulative_conc().head()"
   ]
  },
  {
   "cell_type": "markdown",
   "metadata": {},
   "source": [
    "#### ___get_sp_rate()___"
   ]
  },
  {
   "cell_type": "code",
   "execution_count": null,
   "metadata": {},
   "outputs": [],
   "source": [
    "fed_batch_exp.get_sp_rate().head()"
   ]
  },
  {
   "cell_type": "markdown",
   "metadata": {},
   "source": [
    "#### ___get_sp_rate_poly()___"
   ]
  },
  {
   "cell_type": "code",
   "execution_count": null,
   "metadata": {},
   "outputs": [],
   "source": [
    "fed_batch_exp.get_sp_rate_poly().head()"
   ]
  },
  {
   "cell_type": "markdown",
   "metadata": {},
   "source": [
    "#### ___get_sp_rate_rolling()___"
   ]
  },
  {
   "cell_type": "code",
   "execution_count": null,
   "metadata": {},
   "outputs": [],
   "source": [
    "fed_batch_exp.get_sp_rate_rolling().head()"
   ]
  },
  {
   "cell_type": "markdown",
   "metadata": {},
   "source": [
    "#### ___get_processed_data()___"
   ]
  },
  {
   "cell_type": "code",
   "execution_count": null,
   "metadata": {},
   "outputs": [],
   "source": [
    "fed_batch_exp.get_processed_data().head()"
   ]
  },
  {
   "cell_type": "markdown",
   "metadata": {},
   "source": [
    "## 1.7. Code"
   ]
  },
  {
   "cell_type": "code",
   "execution_count": null,
   "metadata": {},
   "outputs": [],
   "source": [
    "from CCDPApy.helper import input_path\n",
    "from CCDPApy import FedBatchCellCulture\n",
    "\n",
    "# Parameters\n",
    "cl_name, cl_id = 'CL2', '21'\n",
    "use_feed_conc, use_conc_after_feed = False, True\n",
    "\n",
    "# Cell culture data handler\n",
    "fed_batch_culture = FedBatchCellCulture()\n",
    "fed_batch_culture.load_data(file=input_path('fed_batch_data.xlsx'))\n",
    "cell_culture_data = fed_batch_culture.get_pre_process_data()\n",
    "\n",
    "# Cell line data handler\n",
    "cell_line_handler = FedBatchCellLine(\n",
    "    cell_line_name=cl_name, \n",
    "    data=cell_culture_data)\n",
    "cell_line_data = cell_line_handler.get_pre_process_data()\n",
    "\n",
    "# Eexperiment data handler\n",
    "exp_handler = FedBatchExpriment(\n",
    "    cell_line_name=cl_name, \n",
    "    cell_line_id=cl_id, \n",
    "    data=cell_line_data,\n",
    "    use_feed_conc=use_feed_conc,\n",
    "    use_conc_after_feed=use_conc_after_feed)\n",
    "\n",
    "# Data processing\n",
    "exp_handler.in_process()\n",
    "exp_handler.polynomial()\n",
    "exp_handler.rolling_window_polynomial(degree=3, window=6)\n",
    "\n",
    "# Species\n",
    "spc = exp_handler.get_species('alanine')\n",
    "a = spc.sp_rate_rolling.copy()\n",
    "\n",
    "spc = exp_handler.get_species('glucose')\n",
    "b = spc.sp_rate_rolling.copy()"
   ]
  },
  {
   "cell_type": "markdown",
   "metadata": {},
   "source": [
    "# 2. Analyze All Experiments in a Cell Line"
   ]
  },
  {
   "cell_type": "markdown",
   "metadata": {},
   "source": [
    "## 2.1 Cell Culture Data Handler"
   ]
  },
  {
   "cell_type": "code",
   "execution_count": null,
   "metadata": {},
   "outputs": [],
   "source": [
    "from CCDPApy.helper import input_path\n",
    "from CCDPApy import FedBatchCellCulture\n",
    "\n",
    "fed_batch_culture = FedBatchCellCulture()\n",
    "\n",
    "# Load a data file\n",
    "path = input_path('fed_batch_data.xlsx')\n",
    "fed_batch_culture.load_data(file=path)\n",
    "\n",
    "# Get pre-processed data\n",
    "cell_culture_data = fed_batch_culture.get_pre_process_data()"
   ]
  },
  {
   "cell_type": "markdown",
   "metadata": {},
   "source": [
    "Cell line names"
   ]
  },
  {
   "cell_type": "code",
   "execution_count": null,
   "metadata": {},
   "outputs": [],
   "source": [
    "fed_batch_culture.get_cell_line_names()"
   ]
  },
  {
   "cell_type": "markdown",
   "metadata": {},
   "source": [
    "## 2.2 Cell Line Data Handler"
   ]
  },
  {
   "cell_type": "code",
   "execution_count": null,
   "metadata": {},
   "outputs": [],
   "source": [
    "from CCDPApy import FedBatchCellLine\n",
    "\n",
    "cell_line = FedBatchCellLine(cell_line_name='CL1', \n",
    "                                data=cell_culture_data)"
   ]
  },
  {
   "cell_type": "markdown",
   "metadata": {},
   "source": [
    "Expriment names/IDs"
   ]
  },
  {
   "cell_type": "code",
   "execution_count": null,
   "metadata": {},
   "outputs": [],
   "source": [
    "cell_line.get_experiment_names()"
   ]
  },
  {
   "cell_type": "markdown",
   "metadata": {},
   "source": [
    "## 2.1 In-Processing"
   ]
  },
  {
   "cell_type": "markdown",
   "metadata": {},
   "source": [
    "### ___in_process()___ <br>\n",
    "Calculate cumulative concentrations and specific rates of the cell, IgG and metabolites, using two-point calculation. <br>\n",
    "#### Parameters\n",
    "----------\n",
    "    use_feed_conc : bool.\n",
    "        True if feed concentration is needed to calculate cumulative concentration. If this is True, use_conc_after_feed has to be False.\n",
    "    use_conc_after_feed : bool\n",
    "        True if concentration after feeding is needed to calculate cumulative concentration. If this is True, use_feed_conc has to be False."
   ]
  },
  {
   "cell_type": "code",
   "execution_count": null,
   "metadata": {},
   "outputs": [],
   "source": [
    "cell_line.in_process(use_feed_conc=True, use_conc_after_feed=False)"
   ]
  },
  {
   "cell_type": "markdown",
   "metadata": {},
   "source": [
    "## 2.2 Post-Processing"
   ]
  },
  {
   "cell_type": "markdown",
   "metadata": {},
   "source": [
    "### 2.2.1 Polynomial Regression"
   ]
  },
  {
   "cell_type": "markdown",
   "metadata": {},
   "source": [
    "#### ___polynomial()___ <br>\n",
    "Calculate cumulative concentrations and specific rates of the cell, IgG and metabolites,using polynomial regression."
   ]
  },
  {
   "cell_type": "code",
   "execution_count": null,
   "metadata": {},
   "outputs": [],
   "source": [
    "cell_line.polynomial()"
   ]
  },
  {
   "cell_type": "markdown",
   "metadata": {},
   "source": [
    "### 2.2.2 Rolling Polynomial Regression"
   ]
  },
  {
   "cell_type": "markdown",
   "metadata": {},
   "source": [
    "#### ___rolling_window_polynomial()___ <br>\n",
    "Calculate cumulative concentrations and specific rates of the cell, IgG and metabolites,using polynomial regression. <br>\n",
    "##### Parameters\n",
    "--------------\n",
    "    degree : int\n",
    "        Polynomial degree for a regression.\n",
    "    window : int\n",
    "        Window size of a regression."
   ]
  },
  {
   "cell_type": "code",
   "execution_count": null,
   "metadata": {},
   "outputs": [],
   "source": [
    "cell_line.rolling_window_polynomial(deg=3, window=6)"
   ]
  },
  {
   "cell_type": "markdown",
   "metadata": {},
   "source": [
    "## 2.3 Get Processed Data"
   ]
  },
  {
   "cell_type": "markdown",
   "metadata": {},
   "source": [
    "### ___get_processed_data()___"
   ]
  },
  {
   "cell_type": "code",
   "execution_count": null,
   "metadata": {},
   "outputs": [],
   "source": [
    "cell_line.get_processed_data().head()"
   ]
  },
  {
   "cell_type": "markdown",
   "metadata": {},
   "source": [
    "# 3. Analyze All Cell Lines and Experiments in Cell Culture"
   ]
  },
  {
   "cell_type": "markdown",
   "metadata": {},
   "source": [
    "## 3.1 Cell Culture Data Handler"
   ]
  },
  {
   "cell_type": "code",
   "execution_count": null,
   "metadata": {},
   "outputs": [],
   "source": [
    "from CCDPApy.helper import input_path\n",
    "from CCDPApy import FedBatchCellCulture\n",
    "\n",
    "fed_batch_culture = FedBatchCellCulture()\n",
    "\n",
    "# Load a data file\n",
    "path = input_path('fed_batch_data.xlsx')\n",
    "fed_batch_culture.load_data(file=path)\n",
    "\n",
    "# Get pre-processed data\n",
    "cell_culture_data = fed_batch_culture.get_pre_process_data()"
   ]
  },
  {
   "cell_type": "markdown",
   "metadata": {},
   "source": [
    "## 3.2 Define Parameters for Data Analysis"
   ]
  },
  {
   "cell_type": "markdown",
   "metadata": {},
   "source": [
    "### ___FedBatchParameters()___ <br>\n",
    "Define the parameteres for fed-batch cell culture data processing for each cell line.\n",
    "#### Parameters\n",
    "---------------\n",
    "    cell_line_name : str\n",
    "        Cell line name\n",
    "    use_feed_concentration : bool\n",
    "        True if feed concentration is used for the calculation of cumulative concentraion.\n",
    "    use_concentration_after_feed : bool\n",
    "        True if concentration after feeding is used for the calculation of cumulative concentraion.\n",
    "    regression_method : list of str, default=[], optional\n",
    "        Regression method. Choose 'polynomial', 'rolling_window_polynomial'.\n",
    "    rolling_polynomial_degree : int, default=3, optional\n",
    "        polynomial degree for rolling window regression.\n",
    "    rolling_polynomial_window : int, default=6, optional\n",
    "        window size for rolling window regression."
   ]
  },
  {
   "cell_type": "code",
   "execution_count": null,
   "metadata": {},
   "outputs": [],
   "source": [
    "from CCDPApy import FedBatchParameters\n",
    "\n",
    "param = FedBatchParameters(cell_line_name='CL1',\n",
    "                             use_concentration_after_feed=False, use_feed_concentration=True,\n",
    "                             regression_method=['polynomial', 'rolling_window_polynomial'],\n",
    "                             rolling_polynomial_degree=3, rolling_polynomial_window=6\n",
    "                             )\n",
    "param"
   ]
  },
  {
   "cell_type": "markdown",
   "metadata": {},
   "source": [
    "## 3.3 Perform Data Processing"
   ]
  },
  {
   "cell_type": "markdown",
   "metadata": {},
   "source": [
    "### ___perform_data_process()___ <br>\n",
    "Perform data processing using parameters defined in FedBatchParameters class. <br>\n",
    "#### Parameters\n",
    "---------------\n",
    "    parameters : class or list of class\n",
    "        FedBatchParameters class."
   ]
  },
  {
   "cell_type": "code",
   "execution_count": null,
   "metadata": {},
   "outputs": [],
   "source": [
    "fed_batch_culture.perform_data_process(parameters=param)"
   ]
  },
  {
   "cell_type": "markdown",
   "metadata": {},
   "source": [
    "## 3.4 Get Processed Data"
   ]
  },
  {
   "cell_type": "markdown",
   "metadata": {},
   "source": [
    "### ___get_processed_data()___"
   ]
  },
  {
   "cell_type": "code",
   "execution_count": null,
   "metadata": {},
   "outputs": [],
   "source": [
    "fed_batch_culture.get_processed_data().head()"
   ]
  },
  {
   "cell_type": "markdown",
   "metadata": {},
   "source": [
    "## 3.5 Interactive Plot"
   ]
  },
  {
   "cell_type": "markdown",
   "metadata": {},
   "source": [
    "### ___interactive_plot()___"
   ]
  },
  {
   "cell_type": "code",
   "execution_count": null,
   "metadata": {},
   "outputs": [],
   "source": [
    "fed_batch_culture.interactive_plot()"
   ]
  },
  {
   "cell_type": "markdown",
   "metadata": {},
   "source": [
    "## 3.6 Save the Processed Data as an Excel"
   ]
  },
  {
   "cell_type": "markdown",
   "metadata": {},
   "source": [
    "### ___save_excel()___ <br>\n",
    "Save the processed data as an excel file. <br>\n",
    "#### Parameters\n",
    "---------------\n",
    "    file_name : str\n",
    "        a output file name. Extention must be \".xlsx\"."
   ]
  },
  {
   "cell_type": "code",
   "execution_count": null,
   "metadata": {},
   "outputs": [],
   "source": [
    "fed_batch_culture.save_excel(file_name='output_CL1.xlsx')"
   ]
  },
  {
   "cell_type": "markdown",
   "metadata": {},
   "source": [
    "## 3.7 Import Processed Data"
   ]
  },
  {
   "cell_type": "code",
   "execution_count": null,
   "metadata": {},
   "outputs": [],
   "source": [
    "from CCDPApy.helper import input_path\n",
    "from CCDPApy import FedBatchCellCulture\n",
    "\n",
    "fed_batch_culture_2 = FedBatchCellCulture()\n",
    "\n",
    "path = input_path('fed_batch_data.xlsx')\n",
    "fed_batch_culture_2.load_data(file=path)\n",
    "\n",
    "fed_batch_culture_2.import_data(file_name='output_CL1.xlsx')"
   ]
  },
  {
   "cell_type": "code",
   "execution_count": null,
   "metadata": {},
   "outputs": [],
   "source": [
    "from CCDPApy import FedBatchParameters\n",
    "\n",
    "param_2 = FedBatchParameters(cell_line_name='CL2',\n",
    "                             use_concentration_after_feed=True, use_feed_concentration=False,\n",
    "                             regression_method=['polynomial', 'rolling_window_polynomial'],\n",
    "                             rolling_polynomial_degree=3, rolling_polynomial_window=6\n",
    "                             )\n",
    "param_2"
   ]
  },
  {
   "cell_type": "code",
   "execution_count": null,
   "metadata": {},
   "outputs": [],
   "source": [
    "fed_batch_culture_2.perform_data_process(parameters=param_2)"
   ]
  },
  {
   "cell_type": "code",
   "execution_count": null,
   "metadata": {},
   "outputs": [],
   "source": [
    "fed_batch_culture_2.get_processed_data()"
   ]
  },
  {
   "cell_type": "markdown",
   "metadata": {},
   "source": [
    "# 4. Case Study: Three Industrial Cell Lines"
   ]
  },
  {
   "cell_type": "markdown",
   "metadata": {},
   "source": [
    "## 4.1 Parameter Setting"
   ]
  },
  {
   "cell_type": "markdown",
   "metadata": {},
   "source": [
    "### 4.1.1 Cell line 1 <br>\n",
    "Cell Line Name is \"CL1\". <br>\n",
    "Cell Line 1 has __3 differnet experiments__.<br>\n",
    "Cell Line 1 has __feed concentrations__ but no measurements of __concentrations after feeding__. <br>"
   ]
  },
  {
   "cell_type": "code",
   "execution_count": null,
   "metadata": {},
   "outputs": [],
   "source": [
    "from CCDPApy import FedBatchParameters\n",
    "\n",
    "param_1 = FedBatchParameters(cell_line_name='CL1',\n",
    "                             use_concentration_after_feed=False,\n",
    "                             use_feed_concentration=True,\n",
    "                             regression_method=['polynomial', 'rolling_window_polynomial'],\n",
    "                             rolling_polynomial_degree=3,\n",
    "                             rolling_polynomial_window=6)\n",
    "param_1"
   ]
  },
  {
   "cell_type": "markdown",
   "metadata": {},
   "source": [
    "### 4.1.2 Cell line 2 <br>\n",
    "Cell Line Name is \"CL2\". <br>\n",
    "Cell Line 2 has __3 experiments__.<br>\n",
    "Cell Line 2 has measurements of __concentrations after feeding__ but does't have __feed concentraions__.<br>"
   ]
  },
  {
   "cell_type": "code",
   "execution_count": null,
   "metadata": {},
   "outputs": [],
   "source": [
    "from CCDPApy import FedBatchParameters\n",
    "\n",
    "param_2 = FedBatchParameters(cell_line_name='CL2',\n",
    "                             use_concentration_after_feed=True,\n",
    "                             use_feed_concentration=False,\n",
    "                             regression_method=['polynomial', 'rolling_window_polynomial'],\n",
    "                             rolling_polynomial_degree=3,\n",
    "                             rolling_polynomial_window=6)\n",
    "param_2"
   ]
  },
  {
   "cell_type": "markdown",
   "metadata": {},
   "source": [
    "### 4.1.3 Cell line 3 <br>\n",
    "Cell Line Name is \"CL3\". <br>\n",
    "Cell Line 3 has __3 experiments__.<br>\n",
    "Cell Line 3 doesn't have both measurements of __concentrations after feeding__ and __feed concentraions__.<br>\n",
    "For __glucose__, Cell Line 3 has the __calculated cumulative profile__ in Measured Data.<br>"
   ]
  },
  {
   "cell_type": "code",
   "execution_count": null,
   "metadata": {},
   "outputs": [],
   "source": [
    "from CCDPApy import FedBatchParameters\n",
    "\n",
    "param_3 = FedBatchParameters(cell_line_name='CL3',\n",
    "                             use_concentration_after_feed=False,\n",
    "                             use_feed_concentration=False,\n",
    "                             regression_method=['polynomial', 'rolling_window_polynomial'],\n",
    "                             rolling_polynomial_degree=3,\n",
    "                             rolling_polynomial_window=6)\n",
    "param_3"
   ]
  },
  {
   "cell_type": "markdown",
   "metadata": {},
   "source": [
    "## 4.2. Data Processing"
   ]
  },
  {
   "cell_type": "code",
   "execution_count": null,
   "metadata": {},
   "outputs": [],
   "source": [
    "from CCDPApy.helper import input_path\n",
    "from CCDPApy import FedBatchCellCulture\n",
    "\n",
    "fed_batch_culture = FedBatchCellCulture()\n",
    "\n",
    "path = input_path('fed_batch_data.xlsx')\n",
    "fed_batch_culture.load_data(file=path)\n",
    "fed_batch_culture.perform_data_process(parameters=[param_1, param_2, param_3])"
   ]
  },
  {
   "cell_type": "markdown",
   "metadata": {},
   "source": [
    "## 4.3. Interactive Plot"
   ]
  },
  {
   "cell_type": "code",
   "execution_count": null,
   "metadata": {},
   "outputs": [],
   "source": [
    "fed_batch_culture.interactive_plot()"
   ]
  },
  {
   "cell_type": "code",
   "execution_count": null,
   "metadata": {},
   "outputs": [],
   "source": []
  }
 ],
 "metadata": {
  "kernelspec": {
   "display_name": "ccdpa",
   "language": "python",
   "name": "python3"
  },
  "language_info": {
   "codemirror_mode": {
    "name": "ipython",
    "version": 3
   },
   "file_extension": ".py",
   "mimetype": "text/x-python",
   "name": "python",
   "nbconvert_exporter": "python",
   "pygments_lexer": "ipython3",
   "version": "3.10.6"
  },
  "orig_nbformat": 4
 },
 "nbformat": 4,
 "nbformat_minor": 2
}
