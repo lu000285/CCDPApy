{
 "cells": [
  {
   "cell_type": "code",
   "execution_count": 1,
   "metadata": {},
   "outputs": [],
   "source": [
    "import pandas as pd\n",
    "import numpy as np\n",
    "import matplotlib.pyplot as plt\n",
    "import seaborn as sns\n",
    "\n",
    "from CCDPApy.cell_line.Fed_batch import BioProcess\n",
    "\n",
    "pd.set_option('display.max_columns', 200)"
   ]
  },
  {
   "cell_type": "code",
   "execution_count": 2,
   "metadata": {},
   "outputs": [],
   "source": [
    "from CCDPApy.file_handle import FileHandler\n",
    "\n",
    "file = '/Users/galileo/development/Reserch/UMN_Research/CCDPA_git/CCDPApy/input_files/New_template.xlsx'\n",
    "file_handler = FileHandler(file)"
   ]
  },
  {
   "cell_type": "code",
   "execution_count": 3,
   "metadata": {},
   "outputs": [
    {
     "data": {
      "text/plain": [
       "dict_keys(['Measured Data', 'Feed Data', 'Separate Feed Data', 'Polynomial Degree'])"
      ]
     },
     "execution_count": 3,
     "metadata": {},
     "output_type": "execute_result"
    }
   ],
   "source": [
    "file_handler.read().keys()"
   ]
  },
  {
   "cell_type": "code",
   "execution_count": 4,
   "metadata": {},
   "outputs": [
    {
     "ename": "KeyError",
     "evalue": "\"None of [Int64Index([0, 1, 2, 3, 4, 5, 6, 7, 8, 9, 10, 11, 12, 13], dtype='int64', name='IgG (mg/L)')] are in the [columns]\"",
     "output_type": "error",
     "traceback": [
      "\u001b[0;31m---------------------------------------------------------------------------\u001b[0m",
      "\u001b[0;31mKeyError\u001b[0m                                  Traceback (most recent call last)",
      "\u001b[1;32m/Users/galileo/development/Reserch/UMN_Research/CCDPA_git/CCDPApy/Fed_batch_cell_culture.ipynb Cell 4\u001b[0m in \u001b[0;36m<cell line: 9>\u001b[0;34m()\u001b[0m\n\u001b[1;32m      <a href='vscode-notebook-cell:/Users/galileo/development/Reserch/UMN_Research/CCDPA_git/CCDPApy/Fed_batch_cell_culture.ipynb#W1sZmlsZQ%3D%3D?line=2'>3</a>\u001b[0m key_cl1 \u001b[39m=\u001b[39m {\u001b[39m'\u001b[39m\u001b[39muse_feed_conc\u001b[39m\u001b[39m'\u001b[39m: \u001b[39mTrue\u001b[39;00m,\n\u001b[1;32m      <a href='vscode-notebook-cell:/Users/galileo/development/Reserch/UMN_Research/CCDPA_git/CCDPApy/Fed_batch_cell_culture.ipynb#W1sZmlsZQ%3D%3D?line=3'>4</a>\u001b[0m            \u001b[39m'\u001b[39m\u001b[39muse_conc_after_feed\u001b[39m\u001b[39m'\u001b[39m: \u001b[39mFalse\u001b[39;00m,}\n\u001b[1;32m      <a href='vscode-notebook-cell:/Users/galileo/development/Reserch/UMN_Research/CCDPA_git/CCDPApy/Fed_batch_cell_culture.ipynb#W1sZmlsZQ%3D%3D?line=5'>6</a>\u001b[0m key_cl2 \u001b[39m=\u001b[39m {\u001b[39m'\u001b[39m\u001b[39muse_feed_conc\u001b[39m\u001b[39m'\u001b[39m: \u001b[39mFalse\u001b[39;00m,\n\u001b[1;32m      <a href='vscode-notebook-cell:/Users/galileo/development/Reserch/UMN_Research/CCDPA_git/CCDPApy/Fed_batch_cell_culture.ipynb#W1sZmlsZQ%3D%3D?line=6'>7</a>\u001b[0m            \u001b[39m'\u001b[39m\u001b[39muse_conc_after_feed\u001b[39m\u001b[39m'\u001b[39m: \u001b[39mTrue\u001b[39;00m,}\n\u001b[0;32m----> <a href='vscode-notebook-cell:/Users/galileo/development/Reserch/UMN_Research/CCDPA_git/CCDPApy/Fed_batch_cell_culture.ipynb#W1sZmlsZQ%3D%3D?line=8'>9</a>\u001b[0m cell_line \u001b[39m=\u001b[39m bioprocess_pipeline(cell_culture_type\u001b[39m=\u001b[39;49m\u001b[39m'\u001b[39;49m\u001b[39mfed-batch\u001b[39;49m\u001b[39m'\u001b[39;49m,\n\u001b[1;32m     <a href='vscode-notebook-cell:/Users/galileo/development/Reserch/UMN_Research/CCDPA_git/CCDPApy/Fed_batch_cell_culture.ipynb#W1sZmlsZQ%3D%3D?line=9'>10</a>\u001b[0m                                 input_file_name\u001b[39m=\u001b[39;49m\u001b[39m'\u001b[39;49m\u001b[39mCL1.xlsx\u001b[39;49m\u001b[39m'\u001b[39;49m,\n\u001b[1;32m     <a href='vscode-notebook-cell:/Users/galileo/development/Reserch/UMN_Research/CCDPA_git/CCDPApy/Fed_batch_cell_culture.ipynb#W1sZmlsZQ%3D%3D?line=10'>11</a>\u001b[0m                                 \u001b[39m*\u001b[39;49m\u001b[39m*\u001b[39;49mkey_cl1)\n\u001b[1;32m     <a href='vscode-notebook-cell:/Users/galileo/development/Reserch/UMN_Research/CCDPA_git/CCDPApy/Fed_batch_cell_culture.ipynb#W1sZmlsZQ%3D%3D?line=12'>13</a>\u001b[0m cell_line_2 \u001b[39m=\u001b[39m bioprocess_pipeline(cell_culture_type\u001b[39m=\u001b[39m\u001b[39m'\u001b[39m\u001b[39mfed-batch\u001b[39m\u001b[39m'\u001b[39m,\n\u001b[1;32m     <a href='vscode-notebook-cell:/Users/galileo/development/Reserch/UMN_Research/CCDPA_git/CCDPApy/Fed_batch_cell_culture.ipynb#W1sZmlsZQ%3D%3D?line=13'>14</a>\u001b[0m                                   input_file_name\u001b[39m=\u001b[39m\u001b[39m'\u001b[39m\u001b[39mCL2.xlsx\u001b[39m\u001b[39m'\u001b[39m,\n\u001b[1;32m     <a href='vscode-notebook-cell:/Users/galileo/development/Reserch/UMN_Research/CCDPA_git/CCDPApy/Fed_batch_cell_culture.ipynb#W1sZmlsZQ%3D%3D?line=14'>15</a>\u001b[0m                                   \u001b[39m*\u001b[39m\u001b[39m*\u001b[39mkey_cl2)\n\u001b[1;32m     <a href='vscode-notebook-cell:/Users/galileo/development/Reserch/UMN_Research/CCDPA_git/CCDPApy/Fed_batch_cell_culture.ipynb#W1sZmlsZQ%3D%3D?line=16'>17</a>\u001b[0m cell_line\u001b[39m.\u001b[39madd_cell_line(cell_line_2)\n",
      "File \u001b[0;32m~/development/Reserch/UMN_Research/CCDPA_git/CCDPApy/CCDPApy/cell_line/bioprocess_pipeline.py:91\u001b[0m, in \u001b[0;36mbioprocess_pipeline\u001b[0;34m(cell_culture_type, input_file_name, **kwargs)\u001b[0m\n\u001b[1;32m     88\u001b[0m     \u001b[39mprint\u001b[39m(\u001b[39m'\u001b[39m\u001b[39mInproper cell culture type. Please choose \u001b[39m\u001b[39m\"\u001b[39m\u001b[39mfed-batch\u001b[39m\u001b[39m\"\u001b[39m\u001b[39m or \u001b[39m\u001b[39m\"\u001b[39m\u001b[39mperfuson\u001b[39m\u001b[39m\"\u001b[39m\u001b[39m.\u001b[39m\u001b[39m'\u001b[39m)\n\u001b[1;32m     89\u001b[0m     \u001b[39mreturn\u001b[39;00m\n\u001b[0;32m---> 91\u001b[0m bio_process\u001b[39m.\u001b[39;49min_process()\n\u001b[1;32m     93\u001b[0m \u001b[39m#***** Post Process Polynomial Regression *****\u001b[39;00m\n\u001b[1;32m     94\u001b[0m \u001b[39mif\u001b[39;00m (kwargs\u001b[39m.\u001b[39mget(\u001b[39m'\u001b[39m\u001b[39mpolyreg\u001b[39m\u001b[39m'\u001b[39m) \u001b[39mor\u001b[39;00m kwargs\u001b[39m.\u001b[39mget(\u001b[39m'\u001b[39m\u001b[39mall_method\u001b[39m\u001b[39m'\u001b[39m)):\n",
      "File \u001b[0;32m~/development/Reserch/UMN_Research/CCDPA_git/CCDPApy/CCDPApy/in_process/Fed_batch/InProcessMixin.py:38\u001b[0m, in \u001b[0;36mInProcessMixin.in_process\u001b[0;34m(self)\u001b[0m\n\u001b[1;32m     36\u001b[0m species_list\u001b[39m.\u001b[39mremove(\u001b[39m'\u001b[39m\u001b[39mproduct\u001b[39m\u001b[39m'\u001b[39m)\n\u001b[1;32m     37\u001b[0m prod \u001b[39m=\u001b[39m species[\u001b[39m'\u001b[39m\u001b[39mproduct\u001b[39m\u001b[39m'\u001b[39m]\n\u001b[0;32m---> 38\u001b[0m prod\u001b[39m.\u001b[39;49min_process()\n\u001b[1;32m     40\u001b[0m conc_data \u001b[39m=\u001b[39m prod\u001b[39m.\u001b[39mconc\n\u001b[1;32m     41\u001b[0m conc_data[\u001b[39m'\u001b[39m\u001b[39mspecies\u001b[39m\u001b[39m'\u001b[39m] \u001b[39m=\u001b[39m prod\u001b[39m.\u001b[39mname\n",
      "File \u001b[0;32m~/development/Reserch/UMN_Research/CCDPA_git/CCDPApy/CCDPApy/in_process/Fed_batch/ProductMixin.py:17\u001b[0m, in \u001b[0;36mProductMixin.in_process\u001b[0;34m(self)\u001b[0m\n\u001b[1;32m     15\u001b[0m s \u001b[39m=\u001b[39m \u001b[39mself\u001b[39m\u001b[39m.\u001b[39mcumulative_calc()\n\u001b[1;32m     16\u001b[0m \u001b[39mself\u001b[39m\u001b[39m.\u001b[39m_cumulative_conc \u001b[39m=\u001b[39m pd\u001b[39m.\u001b[39mconcat([run_time, s], axis\u001b[39m=\u001b[39m\u001b[39m1\u001b[39m)\n\u001b[0;32m---> 17\u001b[0m r \u001b[39m=\u001b[39m \u001b[39mself\u001b[39;49m\u001b[39m.\u001b[39;49msp_rate_calc()\n\u001b[1;32m     18\u001b[0m \u001b[39mself\u001b[39m\u001b[39m.\u001b[39m_sp_rate \u001b[39m=\u001b[39m pd\u001b[39m.\u001b[39mconcat([run_time, r], axis\u001b[39m=\u001b[39m\u001b[39m1\u001b[39m)\n",
      "File \u001b[0;32m~/development/Reserch/UMN_Research/CCDPA_git/CCDPApy/CCDPApy/in_process/Fed_batch/ProductMixin.py:50\u001b[0m, in \u001b[0;36mProductMixin.sp_rate_calc\u001b[0;34m(self)\u001b[0m\n\u001b[1;32m     48\u001b[0m idx \u001b[39m=\u001b[39m \u001b[39mself\u001b[39m\u001b[39m.\u001b[39mmeasurement_index\n\u001b[1;32m     49\u001b[0m s \u001b[39m=\u001b[39m \u001b[39mself\u001b[39m\u001b[39m.\u001b[39mcumulative_conc[\u001b[39m'\u001b[39m\u001b[39mvalue\u001b[39m\u001b[39m'\u001b[39m]\u001b[39m.\u001b[39mvalues[idx]           \u001b[39m# Substrate Concentration (mM)\u001b[39;00m\n\u001b[0;32m---> 50\u001b[0m t \u001b[39m=\u001b[39m \u001b[39mself\u001b[39;49m\u001b[39m.\u001b[39;49mrun_time_hour[idx]        \u001b[39m# Run Time (hrs)\u001b[39;00m\n\u001b[1;32m     51\u001b[0m v1 \u001b[39m=\u001b[39m \u001b[39mself\u001b[39m\u001b[39m.\u001b[39mvolume_before_sampling[idx]   \u001b[39m# Culture Volume Before Sampling (mL)\u001b[39;00m\n\u001b[1;32m     52\u001b[0m v2 \u001b[39m=\u001b[39m \u001b[39mself\u001b[39m\u001b[39m.\u001b[39mvolume_after_sampling[idx]    \u001b[39m# Culture Volume Before sampling (mL)\u001b[39;00m\n",
      "File \u001b[0;32m~/opt/anaconda3/envs/ccdpa/lib/python3.10/site-packages/pandas/core/frame.py:3511\u001b[0m, in \u001b[0;36mDataFrame.__getitem__\u001b[0;34m(self, key)\u001b[0m\n\u001b[1;32m   3509\u001b[0m     \u001b[39mif\u001b[39;00m is_iterator(key):\n\u001b[1;32m   3510\u001b[0m         key \u001b[39m=\u001b[39m \u001b[39mlist\u001b[39m(key)\n\u001b[0;32m-> 3511\u001b[0m     indexer \u001b[39m=\u001b[39m \u001b[39mself\u001b[39;49m\u001b[39m.\u001b[39;49mcolumns\u001b[39m.\u001b[39;49m_get_indexer_strict(key, \u001b[39m\"\u001b[39;49m\u001b[39mcolumns\u001b[39;49m\u001b[39m\"\u001b[39;49m)[\u001b[39m1\u001b[39m]\n\u001b[1;32m   3513\u001b[0m \u001b[39m# take() does not accept boolean indexers\u001b[39;00m\n\u001b[1;32m   3514\u001b[0m \u001b[39mif\u001b[39;00m \u001b[39mgetattr\u001b[39m(indexer, \u001b[39m\"\u001b[39m\u001b[39mdtype\u001b[39m\u001b[39m\"\u001b[39m, \u001b[39mNone\u001b[39;00m) \u001b[39m==\u001b[39m \u001b[39mbool\u001b[39m:\n",
      "File \u001b[0;32m~/opt/anaconda3/envs/ccdpa/lib/python3.10/site-packages/pandas/core/indexes/base.py:5782\u001b[0m, in \u001b[0;36mIndex._get_indexer_strict\u001b[0;34m(self, key, axis_name)\u001b[0m\n\u001b[1;32m   5779\u001b[0m \u001b[39melse\u001b[39;00m:\n\u001b[1;32m   5780\u001b[0m     keyarr, indexer, new_indexer \u001b[39m=\u001b[39m \u001b[39mself\u001b[39m\u001b[39m.\u001b[39m_reindex_non_unique(keyarr)\n\u001b[0;32m-> 5782\u001b[0m \u001b[39mself\u001b[39;49m\u001b[39m.\u001b[39;49m_raise_if_missing(keyarr, indexer, axis_name)\n\u001b[1;32m   5784\u001b[0m keyarr \u001b[39m=\u001b[39m \u001b[39mself\u001b[39m\u001b[39m.\u001b[39mtake(indexer)\n\u001b[1;32m   5785\u001b[0m \u001b[39mif\u001b[39;00m \u001b[39misinstance\u001b[39m(key, Index):\n\u001b[1;32m   5786\u001b[0m     \u001b[39m# GH 42790 - Preserve name from an Index\u001b[39;00m\n",
      "File \u001b[0;32m~/opt/anaconda3/envs/ccdpa/lib/python3.10/site-packages/pandas/core/indexes/base.py:5842\u001b[0m, in \u001b[0;36mIndex._raise_if_missing\u001b[0;34m(self, key, indexer, axis_name)\u001b[0m\n\u001b[1;32m   5840\u001b[0m     \u001b[39mif\u001b[39;00m use_interval_msg:\n\u001b[1;32m   5841\u001b[0m         key \u001b[39m=\u001b[39m \u001b[39mlist\u001b[39m(key)\n\u001b[0;32m-> 5842\u001b[0m     \u001b[39mraise\u001b[39;00m \u001b[39mKeyError\u001b[39;00m(\u001b[39mf\u001b[39m\u001b[39m\"\u001b[39m\u001b[39mNone of [\u001b[39m\u001b[39m{\u001b[39;00mkey\u001b[39m}\u001b[39;00m\u001b[39m] are in the [\u001b[39m\u001b[39m{\u001b[39;00maxis_name\u001b[39m}\u001b[39;00m\u001b[39m]\u001b[39m\u001b[39m\"\u001b[39m)\n\u001b[1;32m   5844\u001b[0m not_found \u001b[39m=\u001b[39m \u001b[39mlist\u001b[39m(ensure_index(key)[missing_mask\u001b[39m.\u001b[39mnonzero()[\u001b[39m0\u001b[39m]]\u001b[39m.\u001b[39munique())\n\u001b[1;32m   5845\u001b[0m \u001b[39mraise\u001b[39;00m \u001b[39mKeyError\u001b[39;00m(\u001b[39mf\u001b[39m\u001b[39m\"\u001b[39m\u001b[39m{\u001b[39;00mnot_found\u001b[39m}\u001b[39;00m\u001b[39m not in index\u001b[39m\u001b[39m\"\u001b[39m)\n",
      "\u001b[0;31mKeyError\u001b[0m: \"None of [Int64Index([0, 1, 2, 3, 4, 5, 6, 7, 8, 9, 10, 11, 12, 13], dtype='int64', name='IgG (mg/L)')] are in the [columns]\""
     ]
    }
   ],
   "source": [
    "from CCDPApy.cell_line import bioprocess_pipeline\n",
    "\n",
    "key_cl1 = {'use_feed_conc': True,\n",
    "           'use_conc_after_feed': False,}\n",
    "\n",
    "key_cl2 = {'use_feed_conc': False,\n",
    "           'use_conc_after_feed': True,}\n",
    "\n",
    "cell_line = bioprocess_pipeline(cell_culture_type='fed-batch',\n",
    "                                input_file_name='CL1.xlsx',\n",
    "                                **key_cl1)\n",
    "\n",
    "cell_line_2 = bioprocess_pipeline(cell_culture_type='fed-batch',\n",
    "                                  input_file_name='CL2.xlsx',\n",
    "                                  **key_cl2)\n",
    "\n",
    "cell_line.add_cell_line(cell_line_2)\n",
    "\n",
    "cell_line.interactive_plot()"
   ]
  },
  {
   "cell_type": "code",
   "execution_count": null,
   "metadata": {},
   "outputs": [],
   "source": [
    "'''key_cl3 = {'use_feed_conc': False,\n",
    "           'use_conc_after_feed': False,}\n",
    "\n",
    "cell_line_3 = bioprocess_pipeline(cell_culture_type='fed-batch',\n",
    "                                  input_file_name='CL3.xlsx',\n",
    "                                  **key_cl3)\n",
    "cell_line_3.disp_cell_lines()'''"
   ]
  },
  {
   "cell_type": "code",
   "execution_count": null,
   "metadata": {},
   "outputs": [],
   "source": [
    "import pandas as pd\n",
    "from CCDPApy.helper.helper import input_path, split_df\n",
    "\n",
    "# Read all sheets into a dictionary\n",
    "file_path = input_path('CL2.xlsx')\n",
    "sheets_dict = pd.read_excel(file_path, sheet_name=None)\n",
    "\n",
    "# Access each sheet's DataFrame\n",
    "for sheet_name, df in sheets_dict.items():\n",
    "    print(\"Sheet:\", sheet_name)\n",
    "    print(df[['Experiment Information']].head(2))  # Print the first few rows of each sheet's DataFrame"
   ]
  },
  {
   "cell_type": "code",
   "execution_count": null,
   "metadata": {},
   "outputs": [],
   "source": [
    "data = sheets_dict['Sheet1']\n",
    "bp = BioProcess(data=data, use_feed_conc=False, use_conc_after_feed=True)\n",
    "bp.in_process()"
   ]
  },
  {
   "cell_type": "code",
   "execution_count": null,
   "metadata": {},
   "outputs": [],
   "source": [
    "a = bp.get_conc_df()\n",
    "a.head()"
   ]
  },
  {
   "cell_type": "code",
   "execution_count": null,
   "metadata": {},
   "outputs": [],
   "source": [
    "b = bp.get_cumulative_conc_df()\n",
    "b.head()"
   ]
  },
  {
   "cell_type": "code",
   "execution_count": null,
   "metadata": {},
   "outputs": [],
   "source": [
    "c = bp.get_sp_rate_df()\n",
    "c"
   ]
  },
  {
   "cell_type": "code",
   "execution_count": null,
   "metadata": {},
   "outputs": [],
   "source": [
    "bp.sp_rate"
   ]
  },
  {
   "cell_type": "code",
   "execution_count": null,
   "metadata": {},
   "outputs": [],
   "source": [
    "spc = bp.get_species('nh3')\n",
    "spc.cumulative_conc"
   ]
  },
  {
   "cell_type": "code",
   "execution_count": null,
   "metadata": {},
   "outputs": [],
   "source": [
    "spc.sp_rate"
   ]
  },
  {
   "cell_type": "code",
   "execution_count": null,
   "metadata": {},
   "outputs": [],
   "source": [
    "cell = bp.get_species('cell')\n",
    "cell.growth_rate"
   ]
  },
  {
   "cell_type": "code",
   "execution_count": null,
   "metadata": {},
   "outputs": [],
   "source": [
    "igg = bp.get_species('product')\n",
    "igg.sp_rate"
   ]
  },
  {
   "cell_type": "code",
   "execution_count": null,
   "metadata": {},
   "outputs": [],
   "source": [
    "glt = bp.get_species('glutamine')\n",
    "glt.cumulative_conc"
   ]
  },
  {
   "cell_type": "code",
   "execution_count": null,
   "metadata": {},
   "outputs": [],
   "source": [
    "from CCDPApy.helper.helper import split_df\n",
    "TARGET_COLUMNS = [\n",
    "    'Experiment Information', \n",
    "    'Experimental Data', \n",
    "    'Cell',\n",
    "    'Oxygen',\n",
    "    'Product',\n",
    "    'Separate Feed Added', \n",
    "    'Concentration Before Feeding',\n",
    "    'Concentration After Feeding', \n",
    "    'Feed Concentration', \n",
    "    'Calculated Cumulative Concentration',\n",
    "    ]\n",
    "df_list = split_df(sheets_dict['3'], TARGET_COLUMNS)"
   ]
  },
  {
   "cell_type": "code",
   "execution_count": null,
   "metadata": {},
   "outputs": [],
   "source": [
    "exp_info_df = df_list[0]\n",
    "exp_data_df = df_list[1]\n",
    "cell_df = df_list[2]\n",
    "oxygen_df = df_list[3]\n",
    "product_df = df_list[4]\n",
    "separate_feed_df = df_list[5]\n",
    "conc_before_feed_df = df_list[6]\n",
    "conc_after_feed_df = df_list[7]\n",
    "feed_conc_df = df_list[8]\n",
    "measured_cumulative_conc_df = df_list[9]"
   ]
  },
  {
   "cell_type": "code",
   "execution_count": null,
   "metadata": {},
   "outputs": [],
   "source": [
    "DATE_KEY = 'Date (MM/DD/YY)'\n",
    "TIME_KEY = 'Time (HH:MM:SS AM/PM)'\n",
    "RUN_TIME_D_KEY = 'Run Time (day)'\n",
    "RUN_TIME_H_KEY = 'Run Time (hr)'\n",
    "\n",
    "df = exp_data_df\n",
    "date = df[DATE_KEY]\n",
    "time = df[TIME_KEY]\n",
    "run_time_day = df[RUN_TIME_D_KEY]\n",
    "run_time_hour = df[RUN_TIME_H_KEY]"
   ]
  },
  {
   "cell_type": "code",
   "execution_count": null,
   "metadata": {},
   "outputs": [],
   "source": [
    "if run_time_day.isnull().all() and run_time_hour.isnull().all():\n",
    "    if pd.api.types.is_datetime64_any_dtype(date):\n",
    "        date = date.apply(lambda x: x.date())\n",
    "    \n",
    "    if pd.api.types.is_datetime64_any_dtype(time):\n",
    "        time = time.apply(lambda x: x.time())\n",
    "\n",
    "    if (date==time).all():\n",
    "        date_time = pd.to_datetime(date.astype(str))\n",
    "    else:\n",
    "        date_time = pd.to_datetime(date.astype(str) + ' ' + time.astype(str))\n",
    "    time_diff = date_time - date_time.iat[0]\n",
    "    run_time_hour = time_diff.dt.total_seconds() / 3600.0\n",
    "    run_time_day = time_diff.dt.days\n",
    "\n",
    "    df[RUN_TIME_D_KEY] = run_time_day\n",
    "    df[RUN_TIME_H_KEY] = run_time_hour"
   ]
  },
  {
   "cell_type": "code",
   "execution_count": null,
   "metadata": {},
   "outputs": [],
   "source": [
    "from CCDPApy.helper import create_col_indices\n",
    "\n",
    "create_col_indices(exp_data_df)"
   ]
  },
  {
   "cell_type": "code",
   "execution_count": null,
   "metadata": {},
   "outputs": [],
   "source": [
    "product_df.columns"
   ]
  },
  {
   "cell_type": "code",
   "execution_count": null,
   "metadata": {},
   "outputs": [],
   "source": [
    "exp_data_df"
   ]
  },
  {
   "cell_type": "code",
   "execution_count": null,
   "metadata": {},
   "outputs": [],
   "source": []
  }
 ],
 "metadata": {
  "kernelspec": {
   "display_name": "ccdpa",
   "language": "python",
   "name": "python3"
  },
  "language_info": {
   "codemirror_mode": {
    "name": "ipython",
    "version": 3
   },
   "file_extension": ".py",
   "mimetype": "text/x-python",
   "name": "python",
   "nbconvert_exporter": "python",
   "pygments_lexer": "ipython3",
   "version": "3.10.6"
  },
  "orig_nbformat": 4
 },
 "nbformat": 4,
 "nbformat_minor": 2
}
