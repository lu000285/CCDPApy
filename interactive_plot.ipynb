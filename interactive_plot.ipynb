{
 "cells": [
  {
   "cell_type": "code",
   "execution_count": 1,
   "metadata": {},
   "outputs": [],
   "source": [
    "# Import packages and modules\n",
    "from CCDPApy import cell_culture_pipeline\n",
    "from CCDPApy import FedBatchParameters"
   ]
  },
  {
   "cell_type": "markdown",
   "metadata": {},
   "source": [
    "# Parameter setting"
   ]
  },
  {
   "cell_type": "code",
   "execution_count": 2,
   "metadata": {},
   "outputs": [],
   "source": [
    "# Fed batch cell culture parameters\n",
    "param_1 = FedBatchParameters(cell_line_name='CL1',\n",
    "                             use_concentration_after_feed=False,\n",
    "                             use_feed_concentration=True,\n",
    "                             regression_method=['polynomial', 'rolling_window_polynomial'],\n",
    "                             rolling_polynomial_degree=3,\n",
    "                             rolling_polynomial_window=6)\n",
    "\n",
    "param_2 = FedBatchParameters(cell_line_name='CL2',\n",
    "                             use_concentration_after_feed=True,\n",
    "                             use_feed_concentration=False,\n",
    "                             regression_method=['polynomial', 'rolling_window_polynomial'],\n",
    "                             rolling_polynomial_degree=3,\n",
    "                             rolling_polynomial_window=6)\n",
    "\n",
    "param_3 = FedBatchParameters(cell_line_name='CL3',\n",
    "                             use_concentration_after_feed=False,\n",
    "                             use_feed_concentration=False,\n",
    "                             regression_method=['polynomial', 'rolling_window_polynomial'],\n",
    "                             rolling_polynomial_degree=3,\n",
    "                             rolling_polynomial_window=6)"
   ]
  },
  {
   "cell_type": "markdown",
   "metadata": {},
   "source": [
    "# *cell_culture_pipeline* Module"
   ]
  },
  {
   "cell_type": "code",
   "execution_count": 3,
   "metadata": {},
   "outputs": [],
   "source": [
    "# call Cell Culture Pipeline\n",
    "file = 'fed_batch_data.xlsx'\n",
    "fed_batch = cell_culture_pipeline(cell_culture_type='fed-batch',\n",
    "                                  file=file,\n",
    "                                  parameters=[param_1, param_2, param_3])"
   ]
  },
  {
   "cell_type": "markdown",
   "metadata": {},
   "source": [
    "# *cell_culture_pipeline.interactive_plot* method"
   ]
  },
  {
   "cell_type": "code",
   "execution_count": 4,
   "metadata": {},
   "outputs": [
    {
     "name": "stdout",
     "output_type": "stream",
     "text": [
      "Dash is running on http://127.0.0.1:8050/\n",
      "\n"
     ]
    },
    {
     "data": {
      "text/html": [
       "\n",
       "        <iframe\n",
       "            width=\"100%\"\n",
       "            height=\"650\"\n",
       "            src=\"http://127.0.0.1:8050/\"\n",
       "            frameborder=\"0\"\n",
       "            allowfullscreen\n",
       "            \n",
       "        ></iframe>\n",
       "        "
      ],
      "text/plain": [
       "<IPython.lib.display.IFrame at 0x7fe9b0039d80>"
      ]
     },
     "metadata": {},
     "output_type": "display_data"
    }
   ],
   "source": [
    "fed_batch.interactive_plot()"
   ]
  }
 ],
 "metadata": {
  "kernelspec": {
   "display_name": "ccdpa",
   "language": "python",
   "name": "python3"
  },
  "language_info": {
   "codemirror_mode": {
    "name": "ipython",
    "version": 3
   },
   "file_extension": ".py",
   "mimetype": "text/x-python",
   "name": "python",
   "nbconvert_exporter": "python",
   "pygments_lexer": "ipython3",
   "version": "3.10.6"
  },
  "orig_nbformat": 4
 },
 "nbformat": 4,
 "nbformat_minor": 2
}
