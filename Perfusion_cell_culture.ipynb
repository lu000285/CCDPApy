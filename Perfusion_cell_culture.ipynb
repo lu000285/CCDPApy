{
 "cells": [
  {
   "cell_type": "code",
   "execution_count": 1,
   "metadata": {},
   "outputs": [],
   "source": [
    "import pandas as pd\n",
    "import numpy as np\n",
    "import matplotlib.pyplot as plt\n",
    "import seaborn as sns\n",
    "\n",
    "from CCDPApy.helper import input_path\n",
    "\n",
    "from CCDPApy import PerfusionCellCulture, PerfusionCellLine, PerfusionExperiment, PerfusionParameters\n",
    "\n",
    "pd.set_option('display.max_columns', 200)"
   ]
  },
  {
   "cell_type": "code",
   "execution_count": 2,
   "metadata": {},
   "outputs": [
    {
     "data": {
      "text/plain": [
       "Cell Line: CL20\n",
       "Recycling factor: 0.25\n",
       "Concentration factor: 3\n",
       "Regression Methods\n",
       "     Polynomial: True"
      ]
     },
     "execution_count": 2,
     "metadata": {},
     "output_type": "execute_result"
    }
   ],
   "source": [
    "param = PerfusionParameters(cell_line_name='CL20',\n",
    "                            recycling_factor=0.25,\n",
    "                            concentration_factor=3,\n",
    "                            regression_method=['polynomial'])\n",
    "param"
   ]
  },
  {
   "cell_type": "code",
   "execution_count": 3,
   "metadata": {},
   "outputs": [
    {
     "data": {
      "text/plain": [
       "dict_keys(['measured_data', 'conc', 'feed_conc', 'polynomial_degree_data'])"
      ]
     },
     "execution_count": 3,
     "metadata": {},
     "output_type": "execute_result"
    }
   ],
   "source": [
    "path = input_path('perfusion_data.xlsx')\n",
    "perfusion = PerfusionCellCulture(parameters=param)\n",
    "perfusion.load_data(file=path)\n",
    "cell_culture_data = perfusion.get_all_data()\n",
    "cell_culture_data.keys()"
   ]
  },
  {
   "cell_type": "code",
   "execution_count": 10,
   "metadata": {},
   "outputs": [],
   "source": [
    "perfusion.perform_data_process()"
   ]
  },
  {
   "cell_type": "code",
   "execution_count": 18,
   "metadata": {},
   "outputs": [
    {
     "data": {
      "text/html": [
       "<div>\n",
       "<style scoped>\n",
       "    .dataframe tbody tr th:only-of-type {\n",
       "        vertical-align: middle;\n",
       "    }\n",
       "\n",
       "    .dataframe tbody tr th {\n",
       "        vertical-align: top;\n",
       "    }\n",
       "\n",
       "    .dataframe thead th {\n",
       "        text-align: right;\n",
       "    }\n",
       "</style>\n",
       "<table border=\"1\" class=\"dataframe\">\n",
       "  <thead>\n",
       "    <tr style=\"text-align: right;\">\n",
       "      <th></th>\n",
       "      <th>Run Time (day)</th>\n",
       "      <th>Run Time (hr)</th>\n",
       "      <th>value</th>\n",
       "      <th>unit</th>\n",
       "      <th>method</th>\n",
       "      <th>degree</th>\n",
       "      <th>species</th>\n",
       "      <th>Cell Line</th>\n",
       "    </tr>\n",
       "  </thead>\n",
       "  <tbody>\n",
       "    <tr>\n",
       "      <th>0</th>\n",
       "      <td>0</td>\n",
       "      <td>0.0</td>\n",
       "      <td>0.496803</td>\n",
       "      <td>(mmol/10^9_cells/hr)</td>\n",
       "      <td>polynomial</td>\n",
       "      <td>4</td>\n",
       "      <td>Glucose</td>\n",
       "      <td>CL20</td>\n",
       "    </tr>\n",
       "    <tr>\n",
       "      <th>1</th>\n",
       "      <td>0</td>\n",
       "      <td>10.0</td>\n",
       "      <td>0.355526</td>\n",
       "      <td>(mmol/10^9_cells/hr)</td>\n",
       "      <td>polynomial</td>\n",
       "      <td>4</td>\n",
       "      <td>Glucose</td>\n",
       "      <td>CL20</td>\n",
       "    </tr>\n",
       "    <tr>\n",
       "      <th>2</th>\n",
       "      <td>0</td>\n",
       "      <td>20.0</td>\n",
       "      <td>0.244385</td>\n",
       "      <td>(mmol/10^9_cells/hr)</td>\n",
       "      <td>polynomial</td>\n",
       "      <td>4</td>\n",
       "      <td>Glucose</td>\n",
       "      <td>CL20</td>\n",
       "    </tr>\n",
       "    <tr>\n",
       "      <th>3</th>\n",
       "      <td>1</td>\n",
       "      <td>25.0</td>\n",
       "      <td>0.243507</td>\n",
       "      <td>(mmol/10^9_cells/hr)</td>\n",
       "      <td>polynomial</td>\n",
       "      <td>4</td>\n",
       "      <td>Glucose</td>\n",
       "      <td>CL20</td>\n",
       "    </tr>\n",
       "    <tr>\n",
       "      <th>4</th>\n",
       "      <td>1</td>\n",
       "      <td>30.0</td>\n",
       "      <td>0.198842</td>\n",
       "      <td>(mmol/10^9_cells/hr)</td>\n",
       "      <td>polynomial</td>\n",
       "      <td>4</td>\n",
       "      <td>Glucose</td>\n",
       "      <td>CL20</td>\n",
       "    </tr>\n",
       "    <tr>\n",
       "      <th>...</th>\n",
       "      <td>...</td>\n",
       "      <td>...</td>\n",
       "      <td>...</td>\n",
       "      <td>...</td>\n",
       "      <td>...</td>\n",
       "      <td>...</td>\n",
       "      <td>...</td>\n",
       "      <td>...</td>\n",
       "    </tr>\n",
       "    <tr>\n",
       "      <th>91</th>\n",
       "      <td>7</td>\n",
       "      <td>190.0</td>\n",
       "      <td>0.007292</td>\n",
       "      <td>(mmol/10^9_cells/hr)</td>\n",
       "      <td>polynomial</td>\n",
       "      <td>4</td>\n",
       "      <td>Ammonia</td>\n",
       "      <td>CL20</td>\n",
       "    </tr>\n",
       "    <tr>\n",
       "      <th>92</th>\n",
       "      <td>8</td>\n",
       "      <td>200.0</td>\n",
       "      <td>0.008044</td>\n",
       "      <td>(mmol/10^9_cells/hr)</td>\n",
       "      <td>polynomial</td>\n",
       "      <td>4</td>\n",
       "      <td>Ammonia</td>\n",
       "      <td>CL20</td>\n",
       "    </tr>\n",
       "    <tr>\n",
       "      <th>93</th>\n",
       "      <td>8</td>\n",
       "      <td>210.0</td>\n",
       "      <td>0.00788</td>\n",
       "      <td>(mmol/10^9_cells/hr)</td>\n",
       "      <td>polynomial</td>\n",
       "      <td>4</td>\n",
       "      <td>Ammonia</td>\n",
       "      <td>CL20</td>\n",
       "    </tr>\n",
       "    <tr>\n",
       "      <th>94</th>\n",
       "      <td>9</td>\n",
       "      <td>220.0</td>\n",
       "      <td>0.007332</td>\n",
       "      <td>(mmol/10^9_cells/hr)</td>\n",
       "      <td>polynomial</td>\n",
       "      <td>4</td>\n",
       "      <td>Ammonia</td>\n",
       "      <td>CL20</td>\n",
       "    </tr>\n",
       "    <tr>\n",
       "      <th>95</th>\n",
       "      <td>9</td>\n",
       "      <td>230.0</td>\n",
       "      <td>0.00717</td>\n",
       "      <td>(mmol/10^9_cells/hr)</td>\n",
       "      <td>polynomial</td>\n",
       "      <td>4</td>\n",
       "      <td>Ammonia</td>\n",
       "      <td>CL20</td>\n",
       "    </tr>\n",
       "  </tbody>\n",
       "</table>\n",
       "<p>96 rows × 8 columns</p>\n",
       "</div>"
      ],
      "text/plain": [
       "    Run Time (day)  Run Time (hr)     value                  unit      method  \\\n",
       "0                0            0.0  0.496803  (mmol/10^9_cells/hr)  polynomial   \n",
       "1                0           10.0  0.355526  (mmol/10^9_cells/hr)  polynomial   \n",
       "2                0           20.0  0.244385  (mmol/10^9_cells/hr)  polynomial   \n",
       "3                1           25.0  0.243507  (mmol/10^9_cells/hr)  polynomial   \n",
       "4                1           30.0  0.198842  (mmol/10^9_cells/hr)  polynomial   \n",
       "..             ...            ...       ...                   ...         ...   \n",
       "91               7          190.0  0.007292  (mmol/10^9_cells/hr)  polynomial   \n",
       "92               8          200.0  0.008044  (mmol/10^9_cells/hr)  polynomial   \n",
       "93               8          210.0   0.00788  (mmol/10^9_cells/hr)  polynomial   \n",
       "94               9          220.0  0.007332  (mmol/10^9_cells/hr)  polynomial   \n",
       "95               9          230.0   0.00717  (mmol/10^9_cells/hr)  polynomial   \n",
       "\n",
       "    degree  species Cell Line  \n",
       "0        4  Glucose      CL20  \n",
       "1        4  Glucose      CL20  \n",
       "2        4  Glucose      CL20  \n",
       "3        4  Glucose      CL20  \n",
       "4        4  Glucose      CL20  \n",
       "..     ...      ...       ...  \n",
       "91       4  Ammonia      CL20  \n",
       "92       4  Ammonia      CL20  \n",
       "93       4  Ammonia      CL20  \n",
       "94       4  Ammonia      CL20  \n",
       "95       4  Ammonia      CL20  \n",
       "\n",
       "[96 rows x 8 columns]"
      ]
     },
     "execution_count": 18,
     "metadata": {},
     "output_type": "execute_result"
    }
   ],
   "source": [
    "perfusion.get_metabolite_data()['sp_rate']"
   ]
  },
  {
   "cell_type": "code",
   "execution_count": 4,
   "metadata": {},
   "outputs": [
    {
     "data": {
      "text/plain": [
       "dict_keys(['measured_data', 'conc', 'feed_conc', 'polynomial_degree_data'])"
      ]
     },
     "execution_count": 4,
     "metadata": {},
     "output_type": "execute_result"
    }
   ],
   "source": [
    "cell_line = PerfusionCellLine(cell_line_name='CL20',\n",
    "                              data=cell_culture_data,\n",
    "                              parameter=param)\n",
    "cell_line_data = cell_line.get_all_data()\n",
    "cell_line_data.keys()"
   ]
  },
  {
   "cell_type": "code",
   "execution_count": 8,
   "metadata": {},
   "outputs": [],
   "source": [
    "cell_line.in_process()\n",
    "cell_line.polynomial()"
   ]
  },
  {
   "cell_type": "code",
   "execution_count": 9,
   "metadata": {},
   "outputs": [
    {
     "data": {
      "text/html": [
       "<div>\n",
       "<style scoped>\n",
       "    .dataframe tbody tr th:only-of-type {\n",
       "        vertical-align: middle;\n",
       "    }\n",
       "\n",
       "    .dataframe tbody tr th {\n",
       "        vertical-align: top;\n",
       "    }\n",
       "\n",
       "    .dataframe thead th {\n",
       "        text-align: right;\n",
       "    }\n",
       "</style>\n",
       "<table border=\"1\" class=\"dataframe\">\n",
       "  <thead>\n",
       "    <tr style=\"text-align: right;\">\n",
       "      <th></th>\n",
       "      <th>Run Time (day)</th>\n",
       "      <th>Run Time (hr)</th>\n",
       "      <th>value</th>\n",
       "      <th>unit</th>\n",
       "      <th>method</th>\n",
       "      <th>degree</th>\n",
       "      <th>species</th>\n",
       "      <th>Cell Line</th>\n",
       "    </tr>\n",
       "  </thead>\n",
       "  <tbody>\n",
       "    <tr>\n",
       "      <th>0</th>\n",
       "      <td>0</td>\n",
       "      <td>0.0</td>\n",
       "      <td>0.496803</td>\n",
       "      <td>(mmol/10^9_cells/hr)</td>\n",
       "      <td>polynomial</td>\n",
       "      <td>4</td>\n",
       "      <td>Glucose</td>\n",
       "      <td>CL20</td>\n",
       "    </tr>\n",
       "    <tr>\n",
       "      <th>1</th>\n",
       "      <td>0</td>\n",
       "      <td>10.0</td>\n",
       "      <td>0.355526</td>\n",
       "      <td>(mmol/10^9_cells/hr)</td>\n",
       "      <td>polynomial</td>\n",
       "      <td>4</td>\n",
       "      <td>Glucose</td>\n",
       "      <td>CL20</td>\n",
       "    </tr>\n",
       "    <tr>\n",
       "      <th>2</th>\n",
       "      <td>0</td>\n",
       "      <td>20.0</td>\n",
       "      <td>0.244385</td>\n",
       "      <td>(mmol/10^9_cells/hr)</td>\n",
       "      <td>polynomial</td>\n",
       "      <td>4</td>\n",
       "      <td>Glucose</td>\n",
       "      <td>CL20</td>\n",
       "    </tr>\n",
       "    <tr>\n",
       "      <th>3</th>\n",
       "      <td>1</td>\n",
       "      <td>25.0</td>\n",
       "      <td>0.243507</td>\n",
       "      <td>(mmol/10^9_cells/hr)</td>\n",
       "      <td>polynomial</td>\n",
       "      <td>4</td>\n",
       "      <td>Glucose</td>\n",
       "      <td>CL20</td>\n",
       "    </tr>\n",
       "    <tr>\n",
       "      <th>4</th>\n",
       "      <td>1</td>\n",
       "      <td>30.0</td>\n",
       "      <td>0.198842</td>\n",
       "      <td>(mmol/10^9_cells/hr)</td>\n",
       "      <td>polynomial</td>\n",
       "      <td>4</td>\n",
       "      <td>Glucose</td>\n",
       "      <td>CL20</td>\n",
       "    </tr>\n",
       "    <tr>\n",
       "      <th>...</th>\n",
       "      <td>...</td>\n",
       "      <td>...</td>\n",
       "      <td>...</td>\n",
       "      <td>...</td>\n",
       "      <td>...</td>\n",
       "      <td>...</td>\n",
       "      <td>...</td>\n",
       "      <td>...</td>\n",
       "    </tr>\n",
       "    <tr>\n",
       "      <th>91</th>\n",
       "      <td>7</td>\n",
       "      <td>190.0</td>\n",
       "      <td>0.007292</td>\n",
       "      <td>(mmol/10^9_cells/hr)</td>\n",
       "      <td>polynomial</td>\n",
       "      <td>4</td>\n",
       "      <td>Ammonia</td>\n",
       "      <td>CL20</td>\n",
       "    </tr>\n",
       "    <tr>\n",
       "      <th>92</th>\n",
       "      <td>8</td>\n",
       "      <td>200.0</td>\n",
       "      <td>0.008044</td>\n",
       "      <td>(mmol/10^9_cells/hr)</td>\n",
       "      <td>polynomial</td>\n",
       "      <td>4</td>\n",
       "      <td>Ammonia</td>\n",
       "      <td>CL20</td>\n",
       "    </tr>\n",
       "    <tr>\n",
       "      <th>93</th>\n",
       "      <td>8</td>\n",
       "      <td>210.0</td>\n",
       "      <td>0.00788</td>\n",
       "      <td>(mmol/10^9_cells/hr)</td>\n",
       "      <td>polynomial</td>\n",
       "      <td>4</td>\n",
       "      <td>Ammonia</td>\n",
       "      <td>CL20</td>\n",
       "    </tr>\n",
       "    <tr>\n",
       "      <th>94</th>\n",
       "      <td>9</td>\n",
       "      <td>220.0</td>\n",
       "      <td>0.007332</td>\n",
       "      <td>(mmol/10^9_cells/hr)</td>\n",
       "      <td>polynomial</td>\n",
       "      <td>4</td>\n",
       "      <td>Ammonia</td>\n",
       "      <td>CL20</td>\n",
       "    </tr>\n",
       "    <tr>\n",
       "      <th>95</th>\n",
       "      <td>9</td>\n",
       "      <td>230.0</td>\n",
       "      <td>0.00717</td>\n",
       "      <td>(mmol/10^9_cells/hr)</td>\n",
       "      <td>polynomial</td>\n",
       "      <td>4</td>\n",
       "      <td>Ammonia</td>\n",
       "      <td>CL20</td>\n",
       "    </tr>\n",
       "  </tbody>\n",
       "</table>\n",
       "<p>96 rows × 8 columns</p>\n",
       "</div>"
      ],
      "text/plain": [
       "    Run Time (day)  Run Time (hr)     value                  unit      method  \\\n",
       "0                0            0.0  0.496803  (mmol/10^9_cells/hr)  polynomial   \n",
       "1                0           10.0  0.355526  (mmol/10^9_cells/hr)  polynomial   \n",
       "2                0           20.0  0.244385  (mmol/10^9_cells/hr)  polynomial   \n",
       "3                1           25.0  0.243507  (mmol/10^9_cells/hr)  polynomial   \n",
       "4                1           30.0  0.198842  (mmol/10^9_cells/hr)  polynomial   \n",
       "..             ...            ...       ...                   ...         ...   \n",
       "91               7          190.0  0.007292  (mmol/10^9_cells/hr)  polynomial   \n",
       "92               8          200.0  0.008044  (mmol/10^9_cells/hr)  polynomial   \n",
       "93               8          210.0   0.00788  (mmol/10^9_cells/hr)  polynomial   \n",
       "94               9          220.0  0.007332  (mmol/10^9_cells/hr)  polynomial   \n",
       "95               9          230.0   0.00717  (mmol/10^9_cells/hr)  polynomial   \n",
       "\n",
       "    degree  species Cell Line  \n",
       "0        4  Glucose      CL20  \n",
       "1        4  Glucose      CL20  \n",
       "2        4  Glucose      CL20  \n",
       "3        4  Glucose      CL20  \n",
       "4        4  Glucose      CL20  \n",
       "..     ...      ...       ...  \n",
       "91       4  Ammonia      CL20  \n",
       "92       4  Ammonia      CL20  \n",
       "93       4  Ammonia      CL20  \n",
       "94       4  Ammonia      CL20  \n",
       "95       4  Ammonia      CL20  \n",
       "\n",
       "[96 rows x 8 columns]"
      ]
     },
     "execution_count": 9,
     "metadata": {},
     "output_type": "execute_result"
    }
   ],
   "source": [
    "cell_line.get_metabolite_data()['sp_rate']"
   ]
  },
  {
   "cell_type": "code",
   "execution_count": 7,
   "metadata": {},
   "outputs": [],
   "source": [
    "experiment = PerfusionExperiment(cell_line_name='CL20',\n",
    "                                 cell_line_id='P1',\n",
    "                                 data=cell_line_data)"
   ]
  },
  {
   "cell_type": "code",
   "execution_count": null,
   "metadata": {},
   "outputs": [],
   "source": [
    "experiment.in_process(a=0.25, c=3)\n",
    "#experiment.polynomial()"
   ]
  },
  {
   "cell_type": "code",
   "execution_count": null,
   "metadata": {},
   "outputs": [],
   "source": [
    "experiment.sp_rate"
   ]
  },
  {
   "cell_type": "code",
   "execution_count": null,
   "metadata": {},
   "outputs": [],
   "source": [
    "experiment.cumulative_conc"
   ]
  },
  {
   "cell_type": "code",
   "execution_count": null,
   "metadata": {},
   "outputs": [],
   "source": [
    "experiment.sp_rate"
   ]
  },
  {
   "cell_type": "code",
   "execution_count": null,
   "metadata": {},
   "outputs": [],
   "source": [
    "s = experiment.get_species('ammonia')\n",
    "s.sp_rate_poly"
   ]
  },
  {
   "cell_type": "code",
   "execution_count": null,
   "metadata": {},
   "outputs": [],
   "source": [
    "cell_culture_method = 'perfusion' # 'fed-batch'\n",
    "polyorder_file='perfusion_polynomial_order.xlsx'\n",
    "in_file = 'perfusion_temp.xlsx'\n",
    "kwargs = {'recycling_factor': 0.25, 'concentration_factor': 3,\n",
    "          'polyreg': True, 'polyorder_file': polyorder_file}\n",
    "\n",
    "bio_process = bioprocess_pipeline(cell_culture=cell_culture_method,\n",
    "                                  input_file_name=in_file,\n",
    "                                  )\n",
    "bio_process"
   ]
  },
  {
   "cell_type": "code",
   "execution_count": null,
   "metadata": {},
   "outputs": [],
   "source": [
    "cell = bio_process.get_species('cell')\n",
    "glc = bio_process.get_species('glucose')\n",
    "glc.get_cumulative"
   ]
  },
  {
   "cell_type": "code",
   "execution_count": null,
   "metadata": {},
   "outputs": [],
   "source": [
    "in_file = 'perfusion_temp.xlsx'\n",
    "bp = BioProcess(file_name=in_file)\n",
    "bp.in_process()\n",
    "bp.polynomial(polyorder_file='perfusion_polynomial_order.xlsx')\n",
    "bp"
   ]
  },
  {
   "cell_type": "code",
   "execution_count": null,
   "metadata": {},
   "outputs": [],
   "source": [
    "g = bio_process.get_species('cell')\n",
    "df1 = g.concentration\n",
    "df2 = g.viability\n",
    "t = g.get_run_time\n",
    "\n",
    "# Create scatter plot with Seaborn\n",
    "fig, ax1 = plt.subplots()\n",
    "sns.scatterplot(data=df1, x='time', y='value', hue='state', ax=ax1)\n",
    "\n",
    "# Create a second y-axis\n",
    "ax2 = ax1.twinx()\n",
    "sns.lineplot(data=df2, x='time', y='value', ax=ax2, color='r', label='viability')\n",
    "\n",
    "# Customize the plot\n",
    "ax1.set_ylabel(f\"Concentration {df1['unit'].iat[0]}\")\n",
    "ax2.set_ylabel(f\"Viability {df2['unit'].iat[0]}\", color='r')\n",
    "ax1.set_xlabel(f\"Time {t['unit'].iat[0]}\")\n",
    "ax1.legend(loc='upper right', bbox_to_anchor=(1.4, 0.9))\n",
    "ax2.legend(loc='upper right', bbox_to_anchor=(1.4, 1))\n",
    "plt.show()"
   ]
  },
  {
   "cell_type": "code",
   "execution_count": null,
   "metadata": {},
   "outputs": [],
   "source": [
    "df = bio_process.concentration\n",
    "df.head()"
   ]
  },
  {
   "cell_type": "code",
   "execution_count": null,
   "metadata": {},
   "outputs": [],
   "source": [
    "df['species'].unique()"
   ]
  },
  {
   "cell_type": "code",
   "execution_count": null,
   "metadata": {},
   "outputs": [],
   "source": [
    "sns.relplot(data=df, x='time', y='value', kind='scatter',\n",
    "            hue='cellLine', style='runID', \n",
    "            col='species',\n",
    "            )\n",
    "plt.show()"
   ]
  },
  {
   "cell_type": "code",
   "execution_count": null,
   "metadata": {},
   "outputs": [],
   "source": []
  }
 ],
 "metadata": {
  "kernelspec": {
   "display_name": "ccdpa",
   "language": "python",
   "name": "python3"
  },
  "language_info": {
   "codemirror_mode": {
    "name": "ipython",
    "version": 3
   },
   "file_extension": ".py",
   "mimetype": "text/x-python",
   "name": "python",
   "nbconvert_exporter": "python",
   "pygments_lexer": "ipython3",
   "version": "3.10.6"
  },
  "orig_nbformat": 4
 },
 "nbformat": 4,
 "nbformat_minor": 2
}
