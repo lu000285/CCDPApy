{
 "cells": [
  {
   "cell_type": "code",
   "execution_count": 1,
   "metadata": {},
   "outputs": [],
   "source": [
    "import pandas as pd\n",
    "import numpy as np\n",
    "import matplotlib.pyplot as plt\n",
    "import seaborn as sns\n",
    "\n",
    "from CCDPApy.helper import input_path\n",
    "\n",
    "from CCDPApy import PerfusionCellCulture, PerfusionCellLine, PerfusionExperiment, PerfusionParameters\n",
    "from CCDPApy import cell_culture_pipeline\n",
    "\n",
    "pd.set_option('display.max_columns', 200)"
   ]
  },
  {
   "cell_type": "code",
   "execution_count": 2,
   "metadata": {},
   "outputs": [
    {
     "data": {
      "text/plain": [
       "Cell Line: CL20\n",
       "Recycling factor: 0.25\n",
       "Concentration factor: 3\n",
       "Regression Methods\n",
       "     Polynomial: True"
      ]
     },
     "execution_count": 2,
     "metadata": {},
     "output_type": "execute_result"
    }
   ],
   "source": [
    "param = PerfusionParameters(cell_line_name='CL20',\n",
    "                            recycling_factor=0.25,\n",
    "                            concentration_factor=3,\n",
    "                            regression_method=['polynomial'])\n",
    "param"
   ]
  },
  {
   "cell_type": "code",
   "execution_count": 3,
   "metadata": {},
   "outputs": [],
   "source": [
    "file = 'perfusion_data.xlsx'\n",
    "perfusion = cell_culture_pipeline(cell_culture_type='perfusion',\n",
    "                                  file=file,\n",
    "                                  parameters=param)"
   ]
  },
  {
   "cell_type": "code",
   "execution_count": 4,
   "metadata": {},
   "outputs": [
    {
     "name": "stdout",
     "output_type": "stream",
     "text": [
      "perfusion_output.xlsx  saved.\n"
     ]
    }
   ],
   "source": [
    "perfusion.save_excel(file_name='perfusion_output.xlsx')"
   ]
  },
  {
   "cell_type": "code",
   "execution_count": null,
   "metadata": {},
   "outputs": [],
   "source": [
    "cell_data = perfusion.get_cell_data().copy()\n",
    "data = perfusion.get_metabolite_data().copy()\n",
    "\n",
    "cell_data.keys(), data.keys()"
   ]
  },
  {
   "cell_type": "code",
   "execution_count": null,
   "metadata": {},
   "outputs": [],
   "source": [
    "path = input_path('perfusion_data.xlsx')\n",
    "perfusion = PerfusionCellCulture(parameters=param)\n",
    "perfusion.load_data(file=path)\n",
    "cell_culture_data = perfusion.get_all_data()\n",
    "cell_culture_data.keys()"
   ]
  },
  {
   "cell_type": "code",
   "execution_count": null,
   "metadata": {},
   "outputs": [],
   "source": [
    "perfusion.perform_data_process()"
   ]
  },
  {
   "cell_type": "code",
   "execution_count": null,
   "metadata": {},
   "outputs": [],
   "source": [
    "perfusion.get_metabolite_data()['sp_rate']"
   ]
  },
  {
   "cell_type": "code",
   "execution_count": null,
   "metadata": {},
   "outputs": [],
   "source": [
    "cell_line = PerfusionCellLine(cell_line_name='CL20',\n",
    "                              data=cell_culture_data,\n",
    "                              parameter=param)\n",
    "cell_line_data = cell_line.get_all_data()\n",
    "cell_line_data.keys()"
   ]
  },
  {
   "cell_type": "code",
   "execution_count": null,
   "metadata": {},
   "outputs": [],
   "source": [
    "cell_line.in_process()\n",
    "cell_line.polynomial()"
   ]
  },
  {
   "cell_type": "code",
   "execution_count": null,
   "metadata": {},
   "outputs": [],
   "source": [
    "cell_line.get_metabolite_data()['sp_rate']"
   ]
  },
  {
   "cell_type": "code",
   "execution_count": null,
   "metadata": {},
   "outputs": [],
   "source": [
    "experiment = PerfusionExperiment(cell_line_name='CL20',\n",
    "                                 cell_line_id='P1',\n",
    "                                 data=cell_line_data)"
   ]
  },
  {
   "cell_type": "code",
   "execution_count": null,
   "metadata": {},
   "outputs": [],
   "source": [
    "experiment.in_process(a=0.25, c=3)\n",
    "#experiment.polynomial()"
   ]
  },
  {
   "cell_type": "code",
   "execution_count": null,
   "metadata": {},
   "outputs": [],
   "source": [
    "experiment.sp_rate"
   ]
  },
  {
   "cell_type": "code",
   "execution_count": null,
   "metadata": {},
   "outputs": [],
   "source": [
    "experiment.cumulative_conc"
   ]
  },
  {
   "cell_type": "code",
   "execution_count": null,
   "metadata": {},
   "outputs": [],
   "source": [
    "experiment.sp_rate"
   ]
  },
  {
   "cell_type": "code",
   "execution_count": null,
   "metadata": {},
   "outputs": [],
   "source": [
    "s = experiment.get_species('ammonia')\n",
    "s.sp_rate_poly"
   ]
  },
  {
   "cell_type": "code",
   "execution_count": null,
   "metadata": {},
   "outputs": [],
   "source": [
    "cell_culture_method = 'perfusion' # 'fed-batch'\n",
    "polyorder_file='perfusion_polynomial_order.xlsx'\n",
    "in_file = 'perfusion_temp.xlsx'\n",
    "kwargs = {'recycling_factor': 0.25, 'concentration_factor': 3,\n",
    "          'polyreg': True, 'polyorder_file': polyorder_file}\n",
    "\n",
    "bio_process = bioprocess_pipeline(cell_culture=cell_culture_method,\n",
    "                                  input_file_name=in_file,\n",
    "                                  )\n",
    "bio_process"
   ]
  },
  {
   "cell_type": "code",
   "execution_count": null,
   "metadata": {},
   "outputs": [],
   "source": [
    "cell = bio_process.get_species('cell')\n",
    "glc = bio_process.get_species('glucose')\n",
    "glc.get_cumulative"
   ]
  },
  {
   "cell_type": "code",
   "execution_count": null,
   "metadata": {},
   "outputs": [],
   "source": [
    "in_file = 'perfusion_temp.xlsx'\n",
    "bp = BioProcess(file_name=in_file)\n",
    "bp.in_process()\n",
    "bp.polynomial(polyorder_file='perfusion_polynomial_order.xlsx')\n",
    "bp"
   ]
  },
  {
   "cell_type": "code",
   "execution_count": null,
   "metadata": {},
   "outputs": [],
   "source": [
    "g = bio_process.get_species('cell')\n",
    "df1 = g.concentration\n",
    "df2 = g.viability\n",
    "t = g.get_run_time\n",
    "\n",
    "# Create scatter plot with Seaborn\n",
    "fig, ax1 = plt.subplots()\n",
    "sns.scatterplot(data=df1, x='time', y='value', hue='state', ax=ax1)\n",
    "\n",
    "# Create a second y-axis\n",
    "ax2 = ax1.twinx()\n",
    "sns.lineplot(data=df2, x='time', y='value', ax=ax2, color='r', label='viability')\n",
    "\n",
    "# Customize the plot\n",
    "ax1.set_ylabel(f\"Concentration {df1['unit'].iat[0]}\")\n",
    "ax2.set_ylabel(f\"Viability {df2['unit'].iat[0]}\", color='r')\n",
    "ax1.set_xlabel(f\"Time {t['unit'].iat[0]}\")\n",
    "ax1.legend(loc='upper right', bbox_to_anchor=(1.4, 0.9))\n",
    "ax2.legend(loc='upper right', bbox_to_anchor=(1.4, 1))\n",
    "plt.show()"
   ]
  },
  {
   "cell_type": "code",
   "execution_count": null,
   "metadata": {},
   "outputs": [],
   "source": [
    "df = bio_process.concentration\n",
    "df.head()"
   ]
  },
  {
   "cell_type": "code",
   "execution_count": null,
   "metadata": {},
   "outputs": [],
   "source": [
    "df['species'].unique()"
   ]
  },
  {
   "cell_type": "code",
   "execution_count": null,
   "metadata": {},
   "outputs": [],
   "source": [
    "sns.relplot(data=df, x='time', y='value', kind='scatter',\n",
    "            hue='cellLine', style='runID', \n",
    "            col='species',\n",
    "            )\n",
    "plt.show()"
   ]
  },
  {
   "cell_type": "code",
   "execution_count": null,
   "metadata": {},
   "outputs": [],
   "source": []
  }
 ],
 "metadata": {
  "kernelspec": {
   "display_name": "ccdpa",
   "language": "python",
   "name": "python3"
  },
  "language_info": {
   "codemirror_mode": {
    "name": "ipython",
    "version": 3
   },
   "file_extension": ".py",
   "mimetype": "text/x-python",
   "name": "python",
   "nbconvert_exporter": "python",
   "pygments_lexer": "ipython3",
   "version": "3.10.6"
  },
  "orig_nbformat": 4
 },
 "nbformat": 4,
 "nbformat_minor": 2
}
