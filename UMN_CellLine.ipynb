{
 "cells": [
  {
   "cell_type": "code",
   "execution_count": 1,
   "metadata": {},
   "outputs": [],
   "source": [
    "from CCDPApy import FedBatchParameters\n",
    "from CCDPApy import cell_culture_pipeline\n",
    "\n",
    "param_1 = FedBatchParameters(cell_line_name='VS Labeling',\n",
    "                             use_concentration_after_feed=False,\n",
    "                             use_feed_concentration=True,\n",
    "                             regression_method=['polynomial', 'rolling_window_polynomial'],\n",
    "                             rolling_polynomial_degree=3,\n",
    "                             rolling_polynomial_window=6)\n",
    "\n",
    "measured_data_file = 'UMN_Cell_Line.xlsx'\n",
    "umn_cell_line = cell_culture_pipeline(cell_culture_type='fed-batch', file=measured_data_file)"
   ]
  },
  {
   "cell_type": "code",
   "execution_count": 2,
   "metadata": {},
   "outputs": [],
   "source": [
    "umn_cell_line.perform_data_process(param_1)"
   ]
  },
  {
   "cell_type": "code",
   "execution_count": 13,
   "metadata": {},
   "outputs": [
    {
     "name": "stdout",
     "output_type": "stream",
     "text": [
      "UMN_Cell_Line_Output.xlsx  saved.\n"
     ]
    }
   ],
   "source": [
    "umn_cell_line.save_excel(file_name='UMN_Cell_Line_Output.xlsx')"
   ]
  },
  {
   "cell_type": "code",
   "execution_count": null,
   "metadata": {},
   "outputs": [],
   "source": []
  }
 ],
 "metadata": {
  "kernelspec": {
   "display_name": "ccdpa",
   "language": "python",
   "name": "python3"
  },
  "language_info": {
   "codemirror_mode": {
    "name": "ipython",
    "version": 3
   },
   "file_extension": ".py",
   "mimetype": "text/x-python",
   "name": "python",
   "nbconvert_exporter": "python",
   "pygments_lexer": "ipython3",
   "version": "3.10.6"
  }
 },
 "nbformat": 4,
 "nbformat_minor": 2
}
