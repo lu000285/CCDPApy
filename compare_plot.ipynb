{
 "cells": [
  {
   "cell_type": "code",
   "execution_count": 1,
   "metadata": {},
   "outputs": [],
   "source": [
    "from CCDPApy.helper import input_path\n",
    "from CCDPApy import FedBatchParameters, FedBatchCellCulture, FedBatchCellLine, FedBatchExpriment\n",
    "from CCDPApy import cell_culture_pipeline, CellCulturePipeline\n",
    "\n",
    "import pandas as pd\n",
    "pd.set_option('display.max_columns', 200)\n",
    "import seaborn as sns\n",
    "import matplotlib.pyplot as plt\n",
    "from ipywidgets import interactive, widgets\n",
    "import seaborn as sns"
   ]
  },
  {
   "cell_type": "markdown",
   "metadata": {},
   "source": [
    "# Plotly"
   ]
  },
  {
   "cell_type": "markdown",
   "metadata": {},
   "source": [
    "## code"
   ]
  },
  {
   "cell_type": "code",
   "execution_count": 2,
   "metadata": {},
   "outputs": [],
   "source": [
    "param_1 = FedBatchParameters(cell_line_name='CL1',\n",
    "                             use_concentration_after_feed=False,\n",
    "                             use_feed_concentration=True,\n",
    "                             regression_method=['polynomial', 'rolling_window_polynomial'],\n",
    "                             rolling_polynomial_degree=3,\n",
    "                             rolling_polynomial_window=6)\n",
    "\n",
    "file = 'fed_batch_data.xlsx'\n",
    "fed_batch = cell_culture_pipeline(cell_culture_type='fed-batch', file=file)\n",
    "\n",
    "fed_batch.perform_data_process([param_1])"
   ]
  },
  {
   "cell_type": "markdown",
   "metadata": {},
   "source": [
    "## plot"
   ]
  },
  {
   "cell_type": "code",
   "execution_count": 3,
   "metadata": {},
   "outputs": [
    {
     "name": "stdout",
     "output_type": "stream",
     "text": [
      "Dash is running on http://127.0.0.1:8888/\n",
      "\n"
     ]
    },
    {
     "data": {
      "text/html": [
       "\n",
       "        <iframe\n",
       "            width=\"100%\"\n",
       "            height=\"650\"\n",
       "            src=\"http://127.0.0.1:8888/\"\n",
       "            frameborder=\"0\"\n",
       "            allowfullscreen\n",
       "            \n",
       "        ></iframe>\n",
       "        "
      ],
      "text/plain": [
       "<IPython.lib.display.IFrame at 0x7fd2044bbac0>"
      ]
     },
     "metadata": {},
     "output_type": "display_data"
    }
   ],
   "source": [
    "fed_batch.interactive_plot(port=8888)"
   ]
  },
  {
   "cell_type": "markdown",
   "metadata": {},
   "source": [
    "# Ipywidjets"
   ]
  },
  {
   "cell_type": "markdown",
   "metadata": {},
   "source": [
    "## code"
   ]
  },
  {
   "cell_type": "code",
   "execution_count": 4,
   "metadata": {},
   "outputs": [],
   "source": [
    "culture_handler = FedBatchCellCulture()\n",
    "culture_handler.load_data(file=input_path('fed_batch_data.xlsx'))\n",
    "culture_data = culture_handler.get_pre_process_data()\n",
    "\n",
    "cl_name, cl_id = 'CL1', '11'\n",
    "use_feed_conc, use_conc_after_feed = True, False\n",
    "\n",
    "cell_line_handler = FedBatchCellLine(cell_line_name=cl_name, data=culture_data)\n",
    "cell_line_data = cell_line_handler.get_pre_process_data()\n",
    "\n",
    "exp_handler = FedBatchExpriment(cell_line_name=cl_name, cell_line_id=cl_id, data=cell_line_data,\n",
    "                                use_feed_conc=use_feed_conc, use_conc_after_feed=use_conc_after_feed)\n",
    "\n",
    "exp_handler.in_process()\n",
    "exp_handler.polynomial()\n",
    "exp_handler.rolling_window_polynomial(degree=3, window=6)"
   ]
  },
  {
   "cell_type": "code",
   "execution_count": 5,
   "metadata": {},
   "outputs": [],
   "source": [
    "# Get data\n",
    "df1 = exp_handler.conc\n",
    "df2 = exp_handler.cumulative_conc\n",
    "df3 = exp_handler.sp_rate\n",
    "\n",
    "# Options\n",
    "spc_list = list(exp_handler.get_species().keys())\n",
    "spc_list.remove('cell')\n",
    "spc_list.remove('product')\n",
    "spc_list = [(s.upper(), s.capitalize()) for s in spc_list]\n",
    "date_list = ['Run Time (hr)', 'Run Time (day)']\n",
    "profile_list = [\n",
    "    ('Concentration', 1), \n",
    "    ('Cumulative Production/Consumption', 2), \n",
    "    ('SP. Rate', 3), \n",
    "    ('All Profiles', 4)]\n",
    "method_list = df3['method'].unique()\n",
    "\n",
    "df = {1: df1, 2: df2, 3: df3}\n",
    "titles = {1: 'Concentration Profile', 2: 'Cumulative Profile', 3: 'SP. Rate Profile'}\n",
    "\n",
    "sns.set_style(\"whitegrid\", {'grid.linestyle': ':'})\n",
    "\n",
    "spc_btn = widgets.Dropdown(\n",
    "    options=spc_list, \n",
    "    description=\"Species\")\n",
    "\n",
    "spc_btn = widgets.SelectMultiple(\n",
    "    options=spc_list,\n",
    "    # value=[spc_list[0][1]],\n",
    "    rows=3,\n",
    "    description='Species',\n",
    "    disabled=False\n",
    ")\n",
    "\n",
    "profile_btn = widgets.ToggleButtons(\n",
    "    options=profile_list,\n",
    "    description='Profiles:',\n",
    "    disabled=False,\n",
    "    button_style=''\n",
    ")\n",
    "\n",
    "date_btn = widgets.ToggleButtons(\n",
    "    options=date_list, \n",
    "    description=\"Run Time:\")\n",
    "\n",
    "height_bar = widgets.IntSlider(\n",
    "    value=3,\n",
    "    min=1,\n",
    "    max=20,\n",
    "    step=1,\n",
    "    description='Height:',\n",
    "    disabled=False,\n",
    "    continuous_update=False,\n",
    "    orientation='horizontal',\n",
    "    readout=True,\n",
    "    readout_format='d'\n",
    ")\n",
    "\n",
    "width_bar = widgets.IntSlider(\n",
    "    value=5,\n",
    "    min=1,\n",
    "    max=20,\n",
    "    step=1,\n",
    "    description='Width:',\n",
    "    disabled=False,\n",
    "    continuous_update=False,\n",
    "    orientation='horizontal',\n",
    "    readout=True,\n",
    "    readout_format='d'\n",
    ")\n",
    "\n",
    "def plot_profile(spc, profiles, date, height, width):\n",
    "    n_spc = len(spc)\n",
    "    fig_size = (width*3, height*n_spc)\n",
    "\n",
    "    if n_spc!=0:\n",
    "        if profiles==4:\n",
    "            # Create multiple subplots\n",
    "            fig, axes = plt.subplots(n_spc, 3, figsize=fig_size, tight_layout=True, squeeze=False)\n",
    "            for i, s in enumerate(spc):\n",
    "                # Concentration\n",
    "                ax = axes[i, 0]\n",
    "                mask = df[1]['species']==s\n",
    "                sns.lineplot(ax=ax, data=df1[mask], x=date, y='value', estimator=None, marker='o')\n",
    "                ax.set_title(f\"{s} {titles[1]}\")\n",
    "                ax.set_ylabel(f\"{s} {df1[mask]['unit'].values[0]}\")\n",
    "\n",
    "                # Cumulative\n",
    "                ax = axes[i, 1]\n",
    "                mask = df[2]['species']==s\n",
    "                data = df2[mask]\n",
    "                # two-point\n",
    "                data1 = data[data['method']=='twoPoint']\n",
    "                sns.scatterplot(ax=ax, data=data1, x=date, y='value', estimator=None)\n",
    "                # polynomial\n",
    "                if 'polynomial' in data['method'].unique():\n",
    "                    data2 = data[data['method']=='polynomial']\n",
    "                    sns.lineplot(ax=ax, data=data2, x=date, y='value', estimator=None)\n",
    "\n",
    "                ax.set_title(f\"{s} {titles[2]}\")\n",
    "                ax.set_ylabel(f\"{s} {df2[mask]['state'].values[0]} {df2[mask]['unit'].values[0]}\")\n",
    "                ax.legend(data['method'].unique())\n",
    "\n",
    "                # SP. rate\n",
    "                ax = axes[i, 2]\n",
    "                mask = df[3]['species']==s\n",
    "                sns.lineplot(ax=ax, data=df3[mask], x=date, y='value', estimator=None, hue='method', style='method', marker='o')\n",
    "                ax.set_title(f\"{s} {titles[3]}\")\n",
    "                ax.set_ylabel(f\"{s} {df3[mask]['unit'].values[0]}\")\n",
    "            \n",
    "        else:\n",
    "            # Create plots\n",
    "            fig, axes = plt.subplots(n_spc, 1, figsize=(width, height*n_spc), tight_layout=True, squeeze=False)\n",
    "            axes = axes.flatten()\n",
    "            df_profile = df[profiles]\n",
    "            for i, s in enumerate(spc):\n",
    "                ax = axes[i]\n",
    "                data = df_profile[df_profile['species']==s]\n",
    "                ylabel = f\"{s} {data['unit'].values[0]}\"\n",
    "                if profiles==1: # Concentration\n",
    "                    sns.lineplot(ax=ax, data=data, x=date, y='value', estimator=None, marker='o')\n",
    "                elif profiles==2:\n",
    "                    # two-point\n",
    "                    data1 = data[data['method']=='twoPoint']\n",
    "                    sns.scatterplot(ax=ax, data=data1, x=date, y='value', estimator=None)\n",
    "                    # polynomial\n",
    "                    if 'polynomial' in data['method'].unique():\n",
    "                        data2 = data[data['method']=='polynomial']\n",
    "                        sns.lineplot(ax=ax, data=data2, x=date, y='value', estimator=None)\n",
    "                    ax.legend(data['method'].unique())\n",
    "                    ylabel = f\"{s} {data['state'].values[0]} {data['unit'].values[0]}\"\n",
    "\n",
    "                elif profiles==3:\n",
    "                    sns.lineplot(ax=ax, data=data, x=date, y='value', estimator=None, hue='method', style='method', marker='o')\n",
    "            \n",
    "                # layout\n",
    "                ax.set_ylabel(ylabel)\n",
    "                ax.set_title(f\"{s} {titles[profiles]}\")\n",
    "        #plt.savefig('/Users/galileo/Desktop/test.png')\n",
    "        plt.show()\n",
    "\n",
    "interactive_plot = interactive(\n",
    "    plot_profile, \n",
    "    spc=spc_btn, \n",
    "    profiles=profile_btn,\n",
    "    date=date_btn, \n",
    "    height=height_bar, \n",
    "    width=width_bar)"
   ]
  },
  {
   "cell_type": "markdown",
   "metadata": {},
   "source": [
    "## plot"
   ]
  },
  {
   "cell_type": "code",
   "execution_count": 6,
   "metadata": {},
   "outputs": [
    {
     "data": {
      "application/vnd.jupyter.widget-view+json": {
       "model_id": "7e5a375a8a3f4e2594f40602a2d11941",
       "version_major": 2,
       "version_minor": 0
      },
      "text/plain": [
       "interactive(children=(SelectMultiple(description='Species', options=(('ALANINE', 'Alanine'), ('ARGININE', 'Arg…"
      ]
     },
     "execution_count": 6,
     "metadata": {},
     "output_type": "execute_result"
    }
   ],
   "source": [
    "interactive_plot"
   ]
  }
 ],
 "metadata": {
  "kernelspec": {
   "display_name": "ccdpa",
   "language": "python",
   "name": "python3"
  },
  "language_info": {
   "codemirror_mode": {
    "name": "ipython",
    "version": 3
   },
   "file_extension": ".py",
   "mimetype": "text/x-python",
   "name": "python",
   "nbconvert_exporter": "python",
   "pygments_lexer": "ipython3",
   "version": "3.10.6"
  },
  "orig_nbformat": 4
 },
 "nbformat": 4,
 "nbformat_minor": 2
}
